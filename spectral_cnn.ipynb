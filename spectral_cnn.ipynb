{
 "cells": [
  {
   "cell_type": "code",
   "execution_count": 85,
   "metadata": {
    "colab": {
     "base_uri": "https://localhost:8080/"
    },
    "id": "wt8IJ83-2hGg",
    "outputId": "e770f36b-a1b0-45e1-ef7e-022307f9c06f"
   },
   "outputs": [],
   "source": [
    "# from google.colab import drive\n",
    "# drive.mount('/content/drive')"
   ]
  },
  {
   "cell_type": "markdown",
   "metadata": {
    "id": "fwEhClKG2eC8"
   },
   "source": [
    "# 1. Thêm các thư viện cần thiết"
   ]
  },
  {
   "cell_type": "code",
   "execution_count": 86,
   "metadata": {
    "id": "m7KF_Gov2eC_"
   },
   "outputs": [],
   "source": [
    "import numpy as np\n",
    "from sklearn.model_selection import train_test_split\n",
    "from scipy.signal import spectrogram\n",
    "from scipy.interpolate import griddata\n",
    "\n",
    "from skimage.transform import resize\n",
    "\n",
    "import torch\n",
    "import torch.nn as nn\n",
    "from torch.utils.data import Dataset, DataLoader\n",
    "\n",
    "from tqdm import tqdm\n",
    "import matplotlib.pyplot as plt\n",
    "import seaborn as sns\n",
    "from sklearn.metrics import accuracy_score, classification_report"
   ]
  },
  {
   "cell_type": "code",
   "execution_count": 87,
   "metadata": {
    "colab": {
     "base_uri": "https://localhost:8080/"
    },
    "id": "RRnCLGc7aQHI",
    "outputId": "4988cf2f-1a7c-4c00-8449-268aa81cde17"
   },
   "outputs": [
    {
     "data": {
      "text/plain": [
       "device(type='cuda')"
      ]
     },
     "execution_count": 87,
     "metadata": {},
     "output_type": "execute_result"
    }
   ],
   "source": [
    "device = torch.device('cuda' if torch.cuda.is_available() else 'cpu')\n",
    "device"
   ]
  },
  {
   "cell_type": "markdown",
   "metadata": {
    "id": "9iIdaazD2eDB"
   },
   "source": [
    "# 2. Chuẩn bị dữ liệu"
   ]
  },
  {
   "cell_type": "code",
   "execution_count": 88,
   "metadata": {
    "id": "dkog8AKh2eDC"
   },
   "outputs": [],
   "source": [
    "# Nhập dữ liệu từ file\n",
    "def load_data(data_path):\n",
    "    X_train = np.load(f'{data_path}/A01T_X.npy')\n",
    "    y_train = np.load(f'{data_path}/A01T_Y.npy')\n",
    "    X_test = np.load(f'{data_path}/A01E_X.npy')\n",
    "    y_test = np.load(f'{data_path}/A01E_Y.npy')\n",
    "\n",
    "    for i in range(2, 10, 1):\n",
    "        xt = np.load(f'{data_path}/A0{i}T_X.npy')\n",
    "        yt = np.load(f'{data_path}/A0{i}T_Y.npy')\n",
    "        xv = np.load(f'{data_path}/A0{i}E_X.npy')\n",
    "        yv = np.load(f'{data_path}/A0{i}E_Y.npy')\n",
    "\n",
    "        X_train = np.concatenate([X_train, xt])\n",
    "        y_train = np.concatenate([y_train, yt])\n",
    "        X_test = np.concatenate([X_test, xv])\n",
    "        y_test = np.concatenate([y_test, yv])\n",
    "\n",
    "    # X_train = torch.from_numpy(X_train)\n",
    "    # X_test = torch.from_numpy(X_test)\n",
    "    # y_train = torch.from_numpy(y_train)\n",
    "    # y_test = torch.from_numpy(y_test)\n",
    "    \n",
    "    X = np.concatenate([X_train, X_test])\n",
    "    y = np.concatenate([y_train, y_test])\n",
    "\n",
    "    return X, y"
   ]
  },
  {
   "cell_type": "code",
   "execution_count": 89,
   "metadata": {
    "id": "mb0U7LMsP-Uj"
   },
   "outputs": [],
   "source": [
    "data_path = 'data/bci-iv-2a'\n",
    "\n",
    "X, y = load_data(data_path)"
   ]
  },
  {
   "cell_type": "code",
   "execution_count": 90,
   "metadata": {
    "id": "-yamq5ei2eDF"
   },
   "outputs": [],
   "source": [
    "# Hàm tính năng lượng phổ\n",
    "def compute_band_energy(signal, fs, band):\n",
    "    freqs, _, Sxx = spectrogram(signal, fs=fs, nperseg=256)\n",
    "    band_energy = Sxx[(freqs >= band[0]) & (freqs <= band[1]), :].sum(axis=0)\n",
    "    return band_energy.mean()\n",
    "    # return Sxx\n",
    "\n",
    "# Chuyển đổi tín hiệu thành ảnh\n",
    "def create_spatial_map(trial_data, fs, bands, output_size=(32, 32)):\n",
    "    spatial_maps = []\n",
    "    for band_name, band_range in bands.items():\n",
    "        # Tính năng lượng phổ cho mỗi kênh\n",
    "        band_energies = [compute_band_energy(trial_data[channel], fs, band_range) for channel in range(trial_data.shape[0])]\n",
    "\n",
    "        # Nội suy để tạo bản đồ không gian 32x32\n",
    "        spatial_map = np.stack(band_energies, axis=-1)\n",
    "        spatial_map = resize(spatial_map, (output_size[0], output_size[1]), mode='reflect')\n",
    "        \n",
    "        # Chuẩn hóa\n",
    "        min_val = np.min(spatial_map)\n",
    "        max_val = np.max(spatial_map)\n",
    "        spatial_map = (spatial_map - min_val) / (max_val - min_val)  \n",
    "        spatial_map = (spatial_map * 255).astype(np.uint8)  # Chuyển đổi sang uint8\n",
    "\n",
    "        spatial_maps.append(spatial_map)\n",
    "\n",
    "    # Ghép thành 3 kênh RGB-like\n",
    "    return np.stack(spatial_maps[:3], axis=0)  # Chỉ lấy 3 băng tần (Theta, Alpha, Beta)\n",
    "\n",
    "# Áp dụng cho toàn bộ dữ liệu\n",
    "def process_all_trials(X, fs, bands, output_size=(32, 32)):\n",
    "    processed_data = []\n",
    "    \n",
    "    for trial in tqdm(X):\n",
    "        processed_data.append(create_spatial_map(trial, fs, bands, output_size))\n",
    "    \n",
    "    return np.array(processed_data)"
   ]
  },
  {
   "cell_type": "code",
   "execution_count": 91,
   "metadata": {
    "id": "klBkyiYYPJeI"
   },
   "outputs": [],
   "source": [
    "# # Các tham số\n",
    "# fs = 256  # Tần số lấy mẫu\n",
    "# bands = {\"Theta\": (4, 8), \"Alpha\": (8, 12), \"Beta\": (12, 30)}\n",
    "\n",
    "# # Apply on X\n",
    "# X_train = process_all_trials(X_train, fs, bands, output_size=(32, 32))\n",
    "# X_test = process_all_trials(X_test, fs, bands, output_size=(32, 32))"
   ]
  },
  {
   "cell_type": "code",
   "execution_count": 92,
   "metadata": {},
   "outputs": [],
   "source": [
    "def convert_to_feature_img_tensor(eeg_signal_tensor, img_size):\n",
    "    imgg = []\n",
    "    for i in range(eeg_signal_tensor.shape[1]):\n",
    "        f, t, Sxx = spectrogram(eeg_signal_tensor[:, i], fs= 256, nperseg=3) # fs là tần số lấy mẫu\n",
    "        imgg.append(Sxx)\n",
    "        \n",
    "    feature_map = np.stack(imgg, axis=-1)\n",
    "    \n",
    "    feature_map_resized = np.zeros((img_size, img_size, 3))  # Tạo tensor rỗng\n",
    "    for i in range(3):  # Resize từng kênh\n",
    "        feature_map_resized[:, :, i] = resize(\n",
    "            feature_map[:, :, i], (img_size, img_size), mode='reflect'\n",
    "        )\n",
    "    min_val = np.min(feature_map_resized)\n",
    "    max_val = np.max(feature_map_resized)\n",
    "    feature_map_resized = (feature_map_resized - min_val)/(max_val - min_val)\n",
    "    feature_map_resized = feature_map_resized*255\n",
    "    return feature_map_resized # img_size x img_size x channel"
   ]
  },
  {
   "cell_type": "code",
   "execution_count": 93,
   "metadata": {},
   "outputs": [
    {
     "name": "stderr",
     "output_type": "stream",
     "text": [
      "100%|██████████| 5184/5184 [35:18<00:00,  2.45it/s]\n"
     ]
    }
   ],
   "source": [
    "X_processed = []\n",
    "for trial in tqdm(X):\n",
    "    X_processed.append(convert_to_feature_img_tensor(torch.Tensor(trial), 128))\n",
    "X = np.array(X_processed)"
   ]
  },
  {
   "cell_type": "code",
   "execution_count": 94,
   "metadata": {},
   "outputs": [
    {
     "data": {
      "text/plain": [
       "(5184, 128, 128, 3)"
      ]
     },
     "execution_count": 94,
     "metadata": {},
     "output_type": "execute_result"
    }
   ],
   "source": [
    "X.shape"
   ]
  },
  {
   "cell_type": "code",
   "execution_count": 95,
   "metadata": {},
   "outputs": [],
   "source": [
    "X_train, X_test, y_train, y_test = train_test_split(X, y, test_size=0.2, random_state=42, shuffle=True)"
   ]
  },
  {
   "cell_type": "code",
   "execution_count": 96,
   "metadata": {},
   "outputs": [
    {
     "name": "stdout",
     "output_type": "stream",
     "text": [
      "[0 1 2 3] [1014 1052 1039 1042]\n"
     ]
    }
   ],
   "source": [
    "unique, counts = np.unique(y_train, return_counts=True)\n",
    "print(unique, counts)"
   ]
  },
  {
   "cell_type": "code",
   "execution_count": 97,
   "metadata": {
    "id": "LxnHzBXbRWHK"
   },
   "outputs": [],
   "source": [
    "class EEGSpectralDataset(Dataset):\n",
    "    def __init__(self, X, y, transform=None):\n",
    "        self.X = X\n",
    "        self.y = y\n",
    "        self.transform = transform\n",
    "\n",
    "    def __len__(self):\n",
    "        return len(self.X)\n",
    "\n",
    "    def __getitem__(self, idx):\n",
    "        # Lấy ảnh và nhãn\n",
    "        image = self.X[idx]\n",
    "        label = self.y[idx]\n",
    "\n",
    "        # Áp dụng biến đổi\n",
    "        if self.transform:\n",
    "            image = self.transform(image)\n",
    "\n",
    "        return torch.tensor(image, dtype=torch.float32).permute(2, 0, 1), torch.tensor(label, dtype=torch.long)"
   ]
  },
  {
   "cell_type": "code",
   "execution_count": 98,
   "metadata": {
    "id": "sRT9nF8ORznS"
   },
   "outputs": [],
   "source": [
    "# Train and test dataset\n",
    "train_dataset = EEGSpectralDataset(X_train, y_train)\n",
    "test_dataset = EEGSpectralDataset(X_test, y_test)"
   ]
  },
  {
   "cell_type": "code",
   "execution_count": 99,
   "metadata": {
    "id": "vOsirSd0R4z5"
   },
   "outputs": [],
   "source": [
    "# Train and test loader\n",
    "batch_size = 16\n",
    "\n",
    "train_loader = DataLoader(train_dataset, batch_size=batch_size, shuffle=True)\n",
    "test_loader = DataLoader(test_dataset, batch_size=batch_size, shuffle=False)"
   ]
  },
  {
   "cell_type": "code",
   "execution_count": 100,
   "metadata": {},
   "outputs": [],
   "source": [
    "i, l = next(iter(train_loader))"
   ]
  },
  {
   "cell_type": "code",
   "execution_count": 101,
   "metadata": {},
   "outputs": [
    {
     "data": {
      "text/plain": [
       "(torch.Size([16, 3, 128, 128]), torch.Size([16]))"
      ]
     },
     "execution_count": 101,
     "metadata": {},
     "output_type": "execute_result"
    }
   ],
   "source": [
    "i.shape, l.shape"
   ]
  },
  {
   "cell_type": "code",
   "execution_count": 102,
   "metadata": {
    "colab": {
     "base_uri": "https://localhost:8080/"
    },
    "id": "ivc2ViyFi_wq",
    "outputId": "d5ef26a7-7ac8-44ae-8ed7-785b60d5dc0a"
   },
   "outputs": [
    {
     "data": {
      "text/plain": [
       "torch.Size([3, 128, 128])"
      ]
     },
     "execution_count": 102,
     "metadata": {},
     "output_type": "execute_result"
    }
   ],
   "source": [
    "train_dataset[0][0].shape"
   ]
  },
  {
   "cell_type": "code",
   "execution_count": 103,
   "metadata": {
    "colab": {
     "base_uri": "https://localhost:8080/"
    },
    "id": "hCAJR3bSjYhr",
    "outputId": "831cb834-f89b-4ebe-ffc2-6a2617d52f45"
   },
   "outputs": [
    {
     "data": {
      "text/plain": [
       "torch.float32"
      ]
     },
     "execution_count": 103,
     "metadata": {},
     "output_type": "execute_result"
    }
   ],
   "source": [
    "((train_dataset[0][0].permute(1, 2, 0) / 255)).dtype"
   ]
  },
  {
   "cell_type": "code",
   "execution_count": 104,
   "metadata": {
    "colab": {
     "base_uri": "https://localhost:8080/",
     "height": 448
    },
    "id": "pDOPJ73bi7Kh",
    "outputId": "850b3314-3e3a-4a1c-afad-ae2dcf13765c"
   },
   "outputs": [
    {
     "name": "stderr",
     "output_type": "stream",
     "text": [
      "Clipping input data to the valid range for imshow with RGB data ([0..1] for floats or [0..255] for integers). Got range [0.0..255.0].\n"
     ]
    },
    {
     "data": {
      "image/png": "[encoded data removed]",
      "text/plain": [
       "<Figure size 640x480 with 1 Axes>"
      ]
     },
     "metadata": {},
     "output_type": "display_data"
    }
   ],
   "source": [
    "# Get the image data as a numpy array\n",
    "img_array = (train_dataset[10][0].permute(1, 2, 0)).numpy()\n",
    "\n",
    "# Display using matplotlib's imshow\n",
    "plt.imshow(img_array)\n",
    "plt.show()\n"
   ]
  },
  {
   "cell_type": "markdown",
   "metadata": {
    "id": "0ndZ0meLSMzE"
   },
   "source": [
    "# 3. Xây dựng mô hình"
   ]
  },
  {
   "cell_type": "code",
   "execution_count": 112,
   "metadata": {
    "id": "mLrsf0Q_SJw1"
   },
   "outputs": [],
   "source": [
    "class Block(nn.Module):\n",
    "    def __init__(self, input_channels, output_channels, kernel_size):\n",
    "        super(Block, self).__init__()\n",
    "        self.conv1 = nn.Conv2d(input_channels, output_channels, kernel_size, stride=1, padding=1)\n",
    "        self.conv2 = nn.Conv2d(output_channels, output_channels, kernel_size, stride=1, padding=1)\n",
    "        self.elu = nn.ELU()\n",
    "        self.maxpool = nn.MaxPool2d(kernel_size=2, stride=2)\n",
    "\n",
    "    def forward(self, x):\n",
    "        x = self.conv1(x)\n",
    "        x = self.elu(x)\n",
    "        x = self.conv2(x)\n",
    "        x = self.elu(x)\n",
    "        x = self.maxpool(x)\n",
    "        return x\n",
    "\n",
    "class EEGCNN(nn.Module):\n",
    "    def __init__(self, input_channels, num_classes):\n",
    "        super(EEGCNN, self).__init__()\n",
    "        self.blockcv1 = Block(input_channels, 32, 3)\n",
    "        self.blockcv2 = Block(32, 64, 3)\n",
    "        self.conv3 = nn.Conv2d(64, 128, kernel_size=3, stride=1, padding=1)\n",
    "        self.maxpool = nn.MaxPool2d(kernel_size=2, stride=2)\n",
    "        self.flatten = nn.Flatten()\n",
    "        self.fc1 = nn.Linear(128 * 16 * 16, 128)\n",
    "        self.elu = nn.ELU()\n",
    "        self.fc2 = nn.Linear(128, num_classes)\n",
    "\n",
    "    def forward(self, x):\n",
    "        x = self.blockcv1(x)\n",
    "        x = self.blockcv2(x)\n",
    "        x = self.conv3(x)\n",
    "        x = self.maxpool(x)\n",
    "        x = self.flatten(x)\n",
    "        x = self.fc1(x)\n",
    "        x = self.elu(x)\n",
    "        x = self.fc2(x)\n",
    "        return x"
   ]
  },
  {
   "cell_type": "code",
   "execution_count": 113,
   "metadata": {
    "id": "q04PnETxSUzF"
   },
   "outputs": [],
   "source": [
    "model = EEGCNN(input_channels=3, num_classes=4)"
   ]
  },
  {
   "cell_type": "markdown",
   "metadata": {
    "id": "KSJSmZvtZxgG"
   },
   "source": [
    "# 4. Huấn luyện và đánh giá mô hình"
   ]
  },
  {
   "cell_type": "markdown",
   "metadata": {
    "id": "Y_OPVME1Z3HR"
   },
   "source": [
    "## 4.1. Định nghĩa các hàm chức năng"
   ]
  },
  {
   "cell_type": "code",
   "execution_count": 114,
   "metadata": {
    "id": "5hpcmOlkdqPu"
   },
   "outputs": [],
   "source": [
    "def evaluate_model(model, test_loader, criterion, device=None):\n",
    "    if device is not None:\n",
    "        model.to(device)\n",
    "\n",
    "    model.eval()\n",
    "    running_loss = 0.0\n",
    "\n",
    "    true_labels = []\n",
    "    predicted_labels = []\n",
    "\n",
    "    for images, labels in tqdm(test_loader, unit='batch', desc='Evaluating'):\n",
    "        if device is not None:\n",
    "            images, labels = images.to(device), labels.to(device)\n",
    "        outputs = model(images)\n",
    "        loss = criterion(outputs, labels)\n",
    "        running_loss += loss.item()\n",
    "\n",
    "        predicted = torch.argmax(outputs, dim=-1)\n",
    "        true_labels.extend(labels.cpu().numpy())\n",
    "        predicted_labels.extend(predicted.cpu().numpy())\n",
    "\n",
    "    epoch_loss = running_loss / len(test_loader)\n",
    "    accuracy = accuracy_score(true_labels, predicted_labels)\n",
    "\n",
    "    labels = list(range(4))\n",
    "    names = ['Left Hand', 'Right Hand', 'Foot', 'Tongue']\n",
    "    classification_rep = classification_report(true_labels, predicted_labels, labels=labels, target_names=names, zero_division=0)\n",
    "\n",
    "    print(f'\\t---> Loss: {epoch_loss:.4f}\\n\\t---> Accuracy: {accuracy:.4f}\\n\\tClassification Report:\\n{classification_rep}')\n",
    "\n",
    "    return epoch_loss, accuracy"
   ]
  },
  {
   "cell_type": "code",
   "execution_count": 115,
   "metadata": {
    "id": "sTKjph3XZiXT"
   },
   "outputs": [],
   "source": [
    "def train_model(model, train_loader, test_loader, criterion, optimizer, device=None, epochs=10):\n",
    "    if device is not None:\n",
    "        model.to(device)\n",
    "    model.train()\n",
    "\n",
    "    train_losses = []\n",
    "    train_acc = []\n",
    "    test_losses = []\n",
    "    test_acc = []\n",
    "\n",
    "    for epoch in range(epochs):\n",
    "        running_loss = 0.0\n",
    "\n",
    "        true_labels = []\n",
    "        predicted_labels = []\n",
    "\n",
    "        for images, labels in tqdm(train_loader, unit='batch', desc=f'Training epoch [{epoch+1}/{epochs}]'):\n",
    "            if device is not None:\n",
    "                images, labels = images.to(device), labels.to(device)\n",
    "            optimizer.zero_grad()\n",
    "            outputs = model(images)\n",
    "            loss = criterion(outputs, labels)\n",
    "            loss.backward()\n",
    "            optimizer.step()\n",
    "            running_loss += loss.item()\n",
    "\n",
    "            predicted = torch.argmax(outputs, dim=-1)\n",
    "            true_labels.extend(labels.cpu().numpy())\n",
    "            predicted_labels.extend(predicted.cpu().numpy())\n",
    "\n",
    "        epoch_loss = running_loss / len(train_loader)\n",
    "        train_losses.append(epoch_loss)\n",
    "\n",
    "        accuracy = accuracy_score(true_labels, predicted_labels)\n",
    "        train_acc.append(accuracy)\n",
    "        print(f'\\t---> Loss: {epoch_loss:.4f}\\n\\t---> Accuracy: {accuracy:.4f}')\n",
    "\n",
    "        test_loss, test_ac = evaluate_model(model, test_loader, criterion, device)\n",
    "        test_losses.append(test_loss)\n",
    "        test_acc.append(test_ac)\n",
    "    print(\"==========================================================================\")\n",
    "    \n",
    "    return train_losses, train_acc, test_losses, test_acc"
   ]
  },
  {
   "cell_type": "markdown",
   "metadata": {
    "id": "aBNi_Dycf4yW"
   },
   "source": [
    "## 4.2. Huấn luyện và đánh giá"
   ]
  },
  {
   "cell_type": "code",
   "execution_count": 116,
   "metadata": {
    "id": "k79TY7rTfyuW"
   },
   "outputs": [],
   "source": [
    "lr = 0.003\n",
    "criterion = nn.CrossEntropyLoss()\n",
    "optimizer = torch.optim.Adam(model.parameters(), lr=lr)"
   ]
  },
  {
   "cell_type": "code",
   "execution_count": 117,
   "metadata": {
    "colab": {
     "base_uri": "https://localhost:8080/"
    },
    "id": "Wjd3FBVjgBCv",
    "outputId": "90f40cc1-26bb-4a26-d687-3c4558cebae8"
   },
   "outputs": [
    {
     "name": "stderr",
     "output_type": "stream",
     "text": [
      "Training epoch [1/10]: 100%|██████████| 260/260 [00:54<00:00,  4.76batch/s]\n"
     ]
    },
    {
     "name": "stdout",
     "output_type": "stream",
     "text": [
      "\t---> Loss: 6.0843\n",
      "\t---> Accuracy: 0.2431\n"
     ]
    },
    {
     "name": "stderr",
     "output_type": "stream",
     "text": [
      "Evaluating: 100%|██████████| 65/65 [00:15<00:00,  4.15batch/s]\n"
     ]
    },
    {
     "name": "stdout",
     "output_type": "stream",
     "text": [
      "\t---> Loss: 1.3910\n",
      "\t---> Accuracy: 0.2353\n",
      "\tClassification Report:\n",
      "              precision    recall  f1-score   support\n",
      "\n",
      "   Left Hand       0.00      0.00      0.00       282\n",
      "  Right Hand       0.24      1.00      0.38       244\n",
      "        Foot       0.00      0.00      0.00       257\n",
      "      Tongue       0.00      0.00      0.00       254\n",
      "\n",
      "    accuracy                           0.24      1037\n",
      "   macro avg       0.06      0.25      0.10      1037\n",
      "weighted avg       0.06      0.24      0.09      1037\n",
      "\n"
     ]
    },
    {
     "name": "stderr",
     "output_type": "stream",
     "text": [
      "Training epoch [2/10]: 100%|██████████| 260/260 [01:00<00:00,  4.28batch/s]\n"
     ]
    },
    {
     "name": "stdout",
     "output_type": "stream",
     "text": [
      "\t---> Loss: 1.3892\n",
      "\t---> Accuracy: 0.2472\n"
     ]
    },
    {
     "name": "stderr",
     "output_type": "stream",
     "text": [
      "Evaluating: 100%|██████████| 65/65 [00:15<00:00,  4.08batch/s]\n"
     ]
    },
    {
     "name": "stdout",
     "output_type": "stream",
     "text": [
      "\t---> Loss: 1.3919\n",
      "\t---> Accuracy: 0.2353\n",
      "\tClassification Report:\n",
      "              precision    recall  f1-score   support\n",
      "\n",
      "   Left Hand       0.00      0.00      0.00       282\n",
      "  Right Hand       0.24      1.00      0.38       244\n",
      "        Foot       0.00      0.00      0.00       257\n",
      "      Tongue       0.00      0.00      0.00       254\n",
      "\n",
      "    accuracy                           0.24      1037\n",
      "   macro avg       0.06      0.25      0.10      1037\n",
      "weighted avg       0.06      0.24      0.09      1037\n",
      "\n"
     ]
    },
    {
     "name": "stderr",
     "output_type": "stream",
     "text": [
      "Training epoch [3/10]: 100%|██████████| 260/260 [01:01<00:00,  4.21batch/s]\n"
     ]
    },
    {
     "name": "stdout",
     "output_type": "stream",
     "text": [
      "\t---> Loss: 1.3909\n",
      "\t---> Accuracy: 0.2503\n"
     ]
    },
    {
     "name": "stderr",
     "output_type": "stream",
     "text": [
      "Evaluating: 100%|██████████| 65/65 [00:14<00:00,  4.43batch/s]\n"
     ]
    },
    {
     "name": "stdout",
     "output_type": "stream",
     "text": [
      "\t---> Loss: 1.3953\n",
      "\t---> Accuracy: 0.2478\n",
      "\tClassification Report:\n",
      "              precision    recall  f1-score   support\n",
      "\n",
      "   Left Hand       0.00      0.00      0.00       282\n",
      "  Right Hand       0.00      0.00      0.00       244\n",
      "        Foot       0.25      1.00      0.40       257\n",
      "      Tongue       0.00      0.00      0.00       254\n",
      "\n",
      "    accuracy                           0.25      1037\n",
      "   macro avg       0.06      0.25      0.10      1037\n",
      "weighted avg       0.06      0.25      0.10      1037\n",
      "\n"
     ]
    },
    {
     "name": "stderr",
     "output_type": "stream",
     "text": [
      "Training epoch [4/10]: 100%|██████████| 260/260 [00:57<00:00,  4.53batch/s]\n"
     ]
    },
    {
     "name": "stdout",
     "output_type": "stream",
     "text": [
      "\t---> Loss: 1.3912\n",
      "\t---> Accuracy: 0.2462\n"
     ]
    },
    {
     "name": "stderr",
     "output_type": "stream",
     "text": [
      "Evaluating: 100%|██████████| 65/65 [00:14<00:00,  4.41batch/s]\n"
     ]
    },
    {
     "name": "stdout",
     "output_type": "stream",
     "text": [
      "\t---> Loss: 1.3920\n",
      "\t---> Accuracy: 0.2478\n",
      "\tClassification Report:\n",
      "              precision    recall  f1-score   support\n",
      "\n",
      "   Left Hand       0.00      0.00      0.00       282\n",
      "  Right Hand       0.00      0.00      0.00       244\n",
      "        Foot       0.25      1.00      0.40       257\n",
      "      Tongue       0.00      0.00      0.00       254\n",
      "\n",
      "    accuracy                           0.25      1037\n",
      "   macro avg       0.06      0.25      0.10      1037\n",
      "weighted avg       0.06      0.25      0.10      1037\n",
      "\n"
     ]
    },
    {
     "name": "stderr",
     "output_type": "stream",
     "text": [
      "Training epoch [5/10]: 100%|██████████| 260/260 [01:08<00:00,  3.80batch/s]\n"
     ]
    },
    {
     "name": "stdout",
     "output_type": "stream",
     "text": [
      "\t---> Loss: 1.3906\n",
      "\t---> Accuracy: 0.2450\n"
     ]
    },
    {
     "name": "stderr",
     "output_type": "stream",
     "text": [
      "Evaluating: 100%|██████████| 65/65 [00:14<00:00,  4.61batch/s]\n"
     ]
    },
    {
     "name": "stdout",
     "output_type": "stream",
     "text": [
      "\t---> Loss: 1.3872\n",
      "\t---> Accuracy: 0.2478\n",
      "\tClassification Report:\n",
      "              precision    recall  f1-score   support\n",
      "\n",
      "   Left Hand       0.00      0.00      0.00       282\n",
      "  Right Hand       0.00      0.00      0.00       244\n",
      "        Foot       0.25      1.00      0.40       257\n",
      "      Tongue       0.00      0.00      0.00       254\n",
      "\n",
      "    accuracy                           0.25      1037\n",
      "   macro avg       0.06      0.25      0.10      1037\n",
      "weighted avg       0.06      0.25      0.10      1037\n",
      "\n"
     ]
    },
    {
     "name": "stderr",
     "output_type": "stream",
     "text": [
      "Training epoch [6/10]: 100%|██████████| 260/260 [01:01<00:00,  4.22batch/s]\n"
     ]
    },
    {
     "name": "stdout",
     "output_type": "stream",
     "text": [
      "\t---> Loss: 1.3922\n",
      "\t---> Accuracy: 0.2607\n"
     ]
    },
    {
     "name": "stderr",
     "output_type": "stream",
     "text": [
      "Evaluating: 100%|██████████| 65/65 [00:18<00:00,  3.58batch/s]\n"
     ]
    },
    {
     "name": "stdout",
     "output_type": "stream",
     "text": [
      "\t---> Loss: 1.3962\n",
      "\t---> Accuracy: 0.2449\n",
      "\tClassification Report:\n",
      "              precision    recall  f1-score   support\n",
      "\n",
      "   Left Hand       0.00      0.00      0.00       282\n",
      "  Right Hand       0.00      0.00      0.00       244\n",
      "        Foot       0.00      0.00      0.00       257\n",
      "      Tongue       0.24      1.00      0.39       254\n",
      "\n",
      "    accuracy                           0.24      1037\n",
      "   macro avg       0.06      0.25      0.10      1037\n",
      "weighted avg       0.06      0.24      0.10      1037\n",
      "\n"
     ]
    },
    {
     "name": "stderr",
     "output_type": "stream",
     "text": [
      "Training epoch [7/10]: 100%|██████████| 260/260 [00:53<00:00,  4.91batch/s]\n"
     ]
    },
    {
     "name": "stdout",
     "output_type": "stream",
     "text": [
      "\t---> Loss: 1.3911\n",
      "\t---> Accuracy: 0.2440\n"
     ]
    },
    {
     "name": "stderr",
     "output_type": "stream",
     "text": [
      "Evaluating: 100%|██████████| 65/65 [00:09<00:00,  7.13batch/s]\n"
     ]
    },
    {
     "name": "stdout",
     "output_type": "stream",
     "text": [
      "\t---> Loss: 1.3877\n",
      "\t---> Accuracy: 0.2719\n",
      "\tClassification Report:\n",
      "              precision    recall  f1-score   support\n",
      "\n",
      "   Left Hand       0.27      1.00      0.43       282\n",
      "  Right Hand       0.00      0.00      0.00       244\n",
      "        Foot       0.00      0.00      0.00       257\n",
      "      Tongue       0.00      0.00      0.00       254\n",
      "\n",
      "    accuracy                           0.27      1037\n",
      "   macro avg       0.07      0.25      0.11      1037\n",
      "weighted avg       0.07      0.27      0.12      1037\n",
      "\n"
     ]
    },
    {
     "name": "stderr",
     "output_type": "stream",
     "text": [
      "Training epoch [8/10]: 100%|██████████| 260/260 [00:45<00:00,  5.70batch/s]\n"
     ]
    },
    {
     "name": "stdout",
     "output_type": "stream",
     "text": [
      "\t---> Loss: 1.3950\n",
      "\t---> Accuracy: 0.2558\n"
     ]
    },
    {
     "name": "stderr",
     "output_type": "stream",
     "text": [
      "Evaluating: 100%|██████████| 65/65 [00:10<00:00,  6.35batch/s]\n"
     ]
    },
    {
     "name": "stdout",
     "output_type": "stream",
     "text": [
      "\t---> Loss: 1.3997\n",
      "\t---> Accuracy: 0.2478\n",
      "\tClassification Report:\n",
      "              precision    recall  f1-score   support\n",
      "\n",
      "   Left Hand       0.00      0.00      0.00       282\n",
      "  Right Hand       0.00      0.00      0.00       244\n",
      "        Foot       0.25      1.00      0.40       257\n",
      "      Tongue       0.00      0.00      0.00       254\n",
      "\n",
      "    accuracy                           0.25      1037\n",
      "   macro avg       0.06      0.25      0.10      1037\n",
      "weighted avg       0.06      0.25      0.10      1037\n",
      "\n"
     ]
    },
    {
     "name": "stderr",
     "output_type": "stream",
     "text": [
      "Training epoch [9/10]: 100%|██████████| 260/260 [00:48<00:00,  5.35batch/s]\n"
     ]
    },
    {
     "name": "stdout",
     "output_type": "stream",
     "text": [
      "\t---> Loss: 1.3956\n",
      "\t---> Accuracy: 0.2633\n"
     ]
    },
    {
     "name": "stderr",
     "output_type": "stream",
     "text": [
      "Evaluating: 100%|██████████| 65/65 [00:09<00:00,  6.74batch/s]\n"
     ]
    },
    {
     "name": "stdout",
     "output_type": "stream",
     "text": [
      "\t---> Loss: 1.3939\n",
      "\t---> Accuracy: 0.2353\n",
      "\tClassification Report:\n",
      "              precision    recall  f1-score   support\n",
      "\n",
      "   Left Hand       0.00      0.00      0.00       282\n",
      "  Right Hand       0.24      1.00      0.38       244\n",
      "        Foot       0.00      0.00      0.00       257\n",
      "      Tongue       0.00      0.00      0.00       254\n",
      "\n",
      "    accuracy                           0.24      1037\n",
      "   macro avg       0.06      0.25      0.10      1037\n",
      "weighted avg       0.06      0.24      0.09      1037\n",
      "\n"
     ]
    },
    {
     "name": "stderr",
     "output_type": "stream",
     "text": [
      "Training epoch [10/10]: 100%|██████████| 260/260 [00:58<00:00,  4.45batch/s]\n"
     ]
    },
    {
     "name": "stdout",
     "output_type": "stream",
     "text": [
      "\t---> Loss: 1.3945\n",
      "\t---> Accuracy: 0.2660\n"
     ]
    },
    {
     "name": "stderr",
     "output_type": "stream",
     "text": [
      "Evaluating: 100%|██████████| 65/65 [00:12<00:00,  5.00batch/s]"
     ]
    },
    {
     "name": "stdout",
     "output_type": "stream",
     "text": [
      "\t---> Loss: 1.3935\n",
      "\t---> Accuracy: 0.2449\n",
      "\tClassification Report:\n",
      "              precision    recall  f1-score   support\n",
      "\n",
      "   Left Hand       0.00      0.00      0.00       282\n",
      "  Right Hand       0.00      0.00      0.00       244\n",
      "        Foot       0.00      0.00      0.00       257\n",
      "      Tongue       0.24      1.00      0.39       254\n",
      "\n",
      "    accuracy                           0.24      1037\n",
      "   macro avg       0.06      0.25      0.10      1037\n",
      "weighted avg       0.06      0.24      0.10      1037\n",
      "\n",
      "==========================================================================\n"
     ]
    },
    {
     "name": "stderr",
     "output_type": "stream",
     "text": [
      "\n"
     ]
    }
   ],
   "source": [
    "train_losses, train_acc, test_losses, test_acc = train_model(model, train_loader, test_loader, criterion, optimizer, device=device, epochs=10)"
   ]
  },
  {
   "cell_type": "markdown",
   "metadata": {
    "id": "oROBB2MWg4_I"
   },
   "source": [
    "## 4.3. Visualize results"
   ]
  },
  {
   "cell_type": "code",
   "execution_count": 118,
   "metadata": {
    "colab": {
     "base_uri": "https://localhost:8080/",
     "height": 498
    },
    "id": "MdyNYm5Eg3zy",
    "outputId": "d8d48b86-2e22-4907-d622-0c4e610aeaf8"
   },
   "outputs": [
    {
     "data": {
      "text/plain": [
       "<matplotlib.legend.Legend at 0x28b54ee6060>"
      ]
     },
     "execution_count": 118,
     "metadata": {},
     "output_type": "execute_result"
    },
    {
     "data": {
      "image/png": "[encoded data removed]",
      "text/plain": [
       "<Figure size 1600x500 with 4 Axes>"
      ]
     },
     "metadata": {},
     "output_type": "display_data"
    }
   ],
   "source": [
    "plt.figure(figsize=(16, 5))\n",
    "plt.subplot(2, 2, 1)\n",
    "plt.plot(train_losses, label='Train')\n",
    "plt.xlabel('Epoch')\n",
    "plt.ylabel('Loss')\n",
    "plt.legend()\n",
    "\n",
    "plt.subplot(2, 2, 2)\n",
    "plt.plot(test_losses, label='Test')\n",
    "plt.xlabel('Epoch')\n",
    "plt.ylabel('Loss')\n",
    "plt.legend()\n",
    "\n",
    "plt.subplot(2, 2, 3)\n",
    "plt.plot(test_acc, label='Test')\n",
    "plt.xlabel('Epoch')\n",
    "plt.ylabel('Accuracy')\n",
    "plt.legend()\n",
    "\n",
    "plt.subplot(2, 2, 4)\n",
    "plt.plot(train_acc, label='Train')\n",
    "plt.xlabel('Epoch')\n",
    "plt.ylabel('Accuracy')\n",
    "plt.legend()"
   ]
  },
  {
   "cell_type": "code",
   "execution_count": null,
   "metadata": {
    "id": "ZiEV8z7VhNKp"
   },
   "outputs": [],
   "source": []
  }
 ],
 "metadata": {
  "accelerator": "GPU",
  "colab": {
   "gpuType": "T4",
   "provenance": []
  },
  "kernelspec": {
   "display_name": "Python 3",
   "name": "python3"
  },
  "language_info": {
   "codemirror_mode": {
    "name": "ipython",
    "version": 3
   },
   "file_extension": ".py",
   "mimetype": "text/x-python",
   "name": "python",
   "nbconvert_exporter": "python",
   "pygments_lexer": "ipython3",
   "version": "3.12.4"
  }
 },
 "nbformat": 4,
 "nbformat_minor": 0
}
