{
 "cells": [
  {
   "cell_type": "code",
   "execution_count": 1,
   "metadata": {
    "colab": {
     "base_uri": "https://localhost:8080/"
    },
    "id": "wt8IJ83-2hGg",
    "outputId": "e770f36b-a1b0-45e1-ef7e-022307f9c06f"
   },
   "outputs": [],
   "source": [
    "# from google.colab import drive\n",
    "# drive.mount('/content/drive')"
   ]
  },
  {
   "cell_type": "markdown",
   "metadata": {
    "id": "fwEhClKG2eC8"
   },
   "source": [
    "# 1. Thêm các thư viện cần thiết"
   ]
  },
  {
   "cell_type": "code",
   "execution_count": 2,
   "metadata": {
    "id": "m7KF_Gov2eC_"
   },
   "outputs": [],
   "source": [
    "import numpy as np\n",
    "from sklearn.model_selection import train_test_split\n",
    "from scipy.signal import spectrogram\n",
    "from scipy.interpolate import griddata\n",
    "\n",
    "from skimage.transform import resize\n",
    "\n",
    "import torch\n",
    "import torch.nn as nn\n",
    "from torch.utils.data import Dataset, DataLoader\n",
    "\n",
    "from tqdm import tqdm\n",
    "import matplotlib.pyplot as plt\n",
    "import seaborn as sns\n",
    "from sklearn.metrics import accuracy_score, classification_report"
   ]
  },
  {
   "cell_type": "code",
   "execution_count": 3,
   "metadata": {
    "colab": {
     "base_uri": "https://localhost:8080/"
    },
    "id": "RRnCLGc7aQHI",
    "outputId": "4988cf2f-1a7c-4c00-8449-268aa81cde17"
   },
   "outputs": [
    {
     "data": {
      "text/plain": [
       "device(type='cuda')"
      ]
     },
     "execution_count": 3,
     "metadata": {},
     "output_type": "execute_result"
    }
   ],
   "source": [
    "device = torch.device('cuda' if torch.cuda.is_available() else 'cpu')\n",
    "device"
   ]
  },
  {
   "cell_type": "markdown",
   "metadata": {
    "id": "9iIdaazD2eDB"
   },
   "source": [
    "# 2. Chuẩn bị dữ liệu"
   ]
  },
  {
   "cell_type": "code",
   "execution_count": 4,
   "metadata": {
    "id": "dkog8AKh2eDC"
   },
   "outputs": [],
   "source": [
    "# Nhập dữ liệu từ file\n",
    "def load_data_and_mix(data_path):\n",
    "    X_train = np.load(f'{data_path}/A01T_X.npy')\n",
    "    y_train = np.load(f'{data_path}/A01T_Y.npy')\n",
    "    X_test = np.load(f'{data_path}/A01E_X.npy')\n",
    "    y_test = np.load(f'{data_path}/A01E_Y.npy')\n",
    "\n",
    "    for i in range(2, 10, 1):\n",
    "        xt = np.load(f'{data_path}/A0{i}T_X.npy')\n",
    "        yt = np.load(f'{data_path}/A0{i}T_Y.npy')\n",
    "        xv = np.load(f'{data_path}/A0{i}E_X.npy')\n",
    "        yv = np.load(f'{data_path}/A0{i}E_Y.npy')\n",
    "\n",
    "        X_train = np.concatenate([X_train, xt])\n",
    "        y_train = np.concatenate([y_train, yt])\n",
    "        X_test = np.concatenate([X_test, xv])\n",
    "        y_test = np.concatenate([y_test, yv])\n",
    "    \n",
    "    X = np.concatenate([X_train, X_test])\n",
    "    y = np.concatenate([y_train, y_test])\n",
    "\n",
    "    return X, y"
   ]
  },
  {
   "cell_type": "code",
   "execution_count": 5,
   "metadata": {
    "id": "mb0U7LMsP-Uj"
   },
   "outputs": [],
   "source": [
    "data_path = 'data/bci-iv-2a'\n",
    "X, y = load_data_and_mix(data_path)"
   ]
  },
  {
   "cell_type": "code",
   "execution_count": 6,
   "metadata": {
    "id": "-yamq5ei2eDF"
   },
   "outputs": [],
   "source": [
    "# Hàm tính năng lượng phổ\n",
    "def compute_band_energy(signal, fs, band):\n",
    "    freqs, _, Sxx = spectrogram(signal, fs=fs, nperseg=256)\n",
    "    band_energy = Sxx[(freqs >= band[0]) & (freqs <= band[1]), :].sum(axis=0)\n",
    "    return band_energy.mean()\n",
    "    # return Sxx\n",
    "\n",
    "# Chuyển đổi tín hiệu thành ảnh\n",
    "def create_spatial_map(trial_data, fs, bands, output_size=(32, 32)):\n",
    "    spatial_maps = []\n",
    "    for band_name, band_range in bands.items():\n",
    "        # Tính năng lượng phổ cho mỗi kênh\n",
    "        band_energies = [compute_band_energy(trial_data[channel], fs, band_range) for channel in range(trial_data.shape[0])]\n",
    "\n",
    "        # Nội suy để tạo bản đồ không gian 32x32\n",
    "        spatial_map = np.stack(band_energies, axis=-1)\n",
    "        spatial_map = resize(spatial_map, (output_size[0], output_size[1]), mode='reflect')\n",
    "        \n",
    "        # Chuẩn hóa\n",
    "        min_val = np.min(spatial_map)\n",
    "        max_val = np.max(spatial_map)\n",
    "        spatial_map = (spatial_map - min_val) / (max_val - min_val)  \n",
    "        spatial_map = (spatial_map * 255).astype(np.uint8)  # Chuyển đổi sang uint8\n",
    "\n",
    "        spatial_maps.append(spatial_map)\n",
    "\n",
    "    # Ghép thành 3 kênh RGB-like\n",
    "    return np.stack(spatial_maps[:3], axis=0)  # Chỉ lấy 3 băng tần (Theta, Alpha, Beta)\n",
    "\n",
    "# Áp dụng cho toàn bộ dữ liệu\n",
    "def process_all_trials(X, fs, bands, output_size=(32, 32)):\n",
    "    processed_data = []\n",
    "    \n",
    "    for trial in tqdm(X):\n",
    "        processed_data.append(create_spatial_map(trial, fs, bands, output_size))\n",
    "    \n",
    "    return np.array(processed_data)"
   ]
  },
  {
   "cell_type": "code",
   "execution_count": 7,
   "metadata": {
    "id": "klBkyiYYPJeI"
   },
   "outputs": [
    {
     "name": "stderr",
     "output_type": "stream",
     "text": [
      "100%|██████████| 5184/5184 [00:54<00:00, 94.78it/s]\n"
     ]
    }
   ],
   "source": [
    "# Các tham số\n",
    "fs = 256  # Tần số lấy mẫu\n",
    "bands = {\"Theta\": (4, 8), \"Alpha\": (8, 12), \"Beta\": (12, 30)}\n",
    "\n",
    "# Apply on X\n",
    "X = process_all_trials(X, fs, bands, output_size=(32, 32))"
   ]
  },
  {
   "cell_type": "code",
   "execution_count": 10,
   "metadata": {},
   "outputs": [
    {
     "data": {
      "text/plain": [
       "(5184, 3, 32, 32)"
      ]
     },
     "execution_count": 10,
     "metadata": {},
     "output_type": "execute_result"
    }
   ],
   "source": [
    "X.shape"
   ]
  },
  {
   "cell_type": "code",
   "execution_count": 11,
   "metadata": {},
   "outputs": [],
   "source": [
    "X_train, X_test, y_train, y_test = train_test_split(X, y, test_size=0.2, random_state=42, shuffle=True)"
   ]
  },
  {
   "cell_type": "code",
   "execution_count": 12,
   "metadata": {},
   "outputs": [
    {
     "name": "stdout",
     "output_type": "stream",
     "text": [
      "[0 1 2 3] [1014 1052 1039 1042]\n"
     ]
    }
   ],
   "source": [
    "unique, counts = np.unique(y_train, return_counts=True)\n",
    "print(unique, counts)"
   ]
  },
  {
   "cell_type": "code",
   "execution_count": 37,
   "metadata": {
    "id": "LxnHzBXbRWHK"
   },
   "outputs": [],
   "source": [
    "class EEGSpectralDataset(Dataset):\n",
    "    def __init__(self, X, y, transform=None):\n",
    "        self.X = X\n",
    "        self.y = y\n",
    "        self.transform = transform\n",
    "\n",
    "    def __len__(self):\n",
    "        return len(self.X)\n",
    "\n",
    "    def __getitem__(self, idx):\n",
    "        # Lấy ảnh và nhãn\n",
    "        image = self.X[idx]\n",
    "        label = self.y[idx]\n",
    "\n",
    "        # Áp dụng biến đổi\n",
    "        if self.transform:\n",
    "            image = self.transform(image)\n",
    "\n",
    "        return torch.tensor(image, dtype=torch.float32), torch.tensor(label, dtype=torch.long)"
   ]
  },
  {
   "cell_type": "code",
   "execution_count": 38,
   "metadata": {
    "id": "sRT9nF8ORznS"
   },
   "outputs": [],
   "source": [
    "# Train and test dataset\n",
    "train_dataset = EEGSpectralDataset(X_train, y_train)\n",
    "test_dataset = EEGSpectralDataset(X_test, y_test)\n",
    "\n",
    "# Train and test loader\n",
    "batch_size = 8\n",
    "\n",
    "train_loader = DataLoader(train_dataset, batch_size=batch_size, shuffle=True)\n",
    "test_loader = DataLoader(test_dataset, batch_size=batch_size, shuffle=False)"
   ]
  },
  {
   "cell_type": "code",
   "execution_count": 68,
   "metadata": {},
   "outputs": [],
   "source": [
    "i, l = next(iter(train_loader))"
   ]
  },
  {
   "cell_type": "code",
   "execution_count": 69,
   "metadata": {},
   "outputs": [
    {
     "data": {
      "text/plain": [
       "(torch.Size([8, 3, 32, 32]), torch.Size([8]))"
      ]
     },
     "execution_count": 69,
     "metadata": {},
     "output_type": "execute_result"
    }
   ],
   "source": [
    "i.shape, l.shape"
   ]
  },
  {
   "cell_type": "code",
   "execution_count": 72,
   "metadata": {
    "colab": {
     "base_uri": "https://localhost:8080/",
     "height": 448
    },
    "id": "pDOPJ73bi7Kh",
    "outputId": "850b3314-3e3a-4a1c-afad-ae2dcf13765c"
   },
   "outputs": [
    {
     "name": "stderr",
     "output_type": "stream",
     "text": [
      "Clipping input data to the valid range for imshow with RGB data ([0..1] for floats or [0..255] for integers). Got range [0.0..255.0].\n"
     ]
    },
    {
     "data": {
      "image/png": "[encoded data removed]",
      "text/plain": [
       "<Figure size 640x480 with 1 Axes>"
      ]
     },
     "metadata": {},
     "output_type": "display_data"
    }
   ],
   "source": [
    "# Get the image data as a numpy array\n",
    "img_array = (train_dataset[0][0].permute(1, 2, 0)).numpy()\n",
    "\n",
    "# Display using matplotlib's imshow\n",
    "plt.imshow(img_array)\n",
    "plt.show()\n"
   ]
  },
  {
   "cell_type": "markdown",
   "metadata": {
    "id": "0ndZ0meLSMzE"
   },
   "source": [
    "# 3. Xây dựng mô hình"
   ]
  },
  {
   "cell_type": "code",
   "execution_count": 73,
   "metadata": {
    "id": "mLrsf0Q_SJw1"
   },
   "outputs": [],
   "source": [
    "class Block(nn.Module):\n",
    "    def __init__(self, input_channels, output_channels, kernel_size):\n",
    "        super(Block, self).__init__()\n",
    "        self.conv1 = nn.Conv2d(input_channels, output_channels, kernel_size, stride=1, padding=1)\n",
    "        self.conv2 = nn.Conv2d(output_channels, output_channels, kernel_size, stride=1, padding=1)\n",
    "        self.elu = nn.ELU()\n",
    "        self.maxpool = nn.MaxPool2d(kernel_size=2, stride=2)\n",
    "\n",
    "    def forward(self, x):\n",
    "        x = self.conv1(x)\n",
    "        x = self.elu(x)\n",
    "        x = self.conv2(x)\n",
    "        x = self.elu(x)\n",
    "        x = self.maxpool(x)\n",
    "        return x\n",
    "\n",
    "class EEGCNN(nn.Module):\n",
    "    def __init__(self, input_channels, num_classes):\n",
    "        super(EEGCNN, self).__init__()\n",
    "        self.blockcv1 = Block(input_channels, 32, 3)\n",
    "        self.blockcv2 = Block(32, 64, 3)\n",
    "        self.conv3 = nn.Conv2d(64, 128, kernel_size=3, stride=1, padding=1)\n",
    "        self.maxpool = nn.MaxPool2d(kernel_size=2, stride=2)\n",
    "        self.flatten = nn.Flatten()\n",
    "        self.fc1 = nn.Linear(128 * 4 * 4, 128)\n",
    "        self.elu = nn.ELU()\n",
    "        self.fc2 = nn.Linear(128, num_classes)\n",
    "\n",
    "    def forward(self, x):\n",
    "        x = self.blockcv1(x)\n",
    "        x = self.blockcv2(x)\n",
    "        x = self.conv3(x)\n",
    "        x = self.maxpool(x)\n",
    "        x = self.flatten(x)\n",
    "        x = self.fc1(x)\n",
    "        x = self.elu(x)\n",
    "        x = self.fc2(x)\n",
    "        return x"
   ]
  },
  {
   "cell_type": "code",
   "execution_count": 74,
   "metadata": {
    "id": "q04PnETxSUzF"
   },
   "outputs": [],
   "source": [
    "model = EEGCNN(input_channels=3, num_classes=4)"
   ]
  },
  {
   "cell_type": "markdown",
   "metadata": {
    "id": "KSJSmZvtZxgG"
   },
   "source": [
    "# 4. Huấn luyện và đánh giá mô hình"
   ]
  },
  {
   "cell_type": "markdown",
   "metadata": {
    "id": "Y_OPVME1Z3HR"
   },
   "source": [
    "## 4.1. Định nghĩa các hàm chức năng"
   ]
  },
  {
   "cell_type": "code",
   "execution_count": 75,
   "metadata": {
    "id": "5hpcmOlkdqPu"
   },
   "outputs": [],
   "source": [
    "def evaluate_model(model, test_loader, criterion, device=None):\n",
    "    if device is not None:\n",
    "        model.to(device)\n",
    "\n",
    "    model.eval()\n",
    "    running_loss = 0.0\n",
    "\n",
    "    true_labels = []\n",
    "    predicted_labels = []\n",
    "\n",
    "    for images, labels in tqdm(test_loader, unit='batch', desc='Evaluating'):\n",
    "        if device is not None:\n",
    "            images, labels = images.to(device), labels.to(device)\n",
    "        outputs = model(images)\n",
    "        loss = criterion(outputs, labels)\n",
    "        running_loss += loss.item()\n",
    "\n",
    "        predicted = torch.argmax(outputs, dim=-1)\n",
    "        true_labels.extend(labels.cpu().numpy())\n",
    "        predicted_labels.extend(predicted.cpu().numpy())\n",
    "\n",
    "    epoch_loss = running_loss / len(test_loader)\n",
    "    accuracy = accuracy_score(true_labels, predicted_labels)\n",
    "\n",
    "    labels = list(range(4))\n",
    "    names = ['Left Hand', 'Right Hand', 'Foot', 'Tongue']\n",
    "    classification_rep = classification_report(true_labels, predicted_labels, labels=labels, target_names=names, zero_division=0)\n",
    "\n",
    "    print(f'\\t---> Loss: {epoch_loss:.4f}\\n\\t---> Accuracy: {accuracy:.4f}\\n\\tClassification Report:\\n{classification_rep}')\n",
    "\n",
    "    return epoch_loss, accuracy"
   ]
  },
  {
   "cell_type": "code",
   "execution_count": 80,
   "metadata": {
    "id": "sTKjph3XZiXT"
   },
   "outputs": [],
   "source": [
    "def train_model(model, train_loader, test_loader, criterion, optimizer, device=None, epochs=10):\n",
    "    if device is not None:\n",
    "        model.to(device)\n",
    "    model.train()\n",
    "\n",
    "    train_losses = []\n",
    "    train_acc = []\n",
    "    test_losses = []\n",
    "    test_acc = []\n",
    "\n",
    "    for epoch in range(epochs):\n",
    "        running_loss = 0.0\n",
    "\n",
    "        true_labels = []\n",
    "        predicted_labels = []\n",
    "\n",
    "        for images, labels in tqdm(train_loader, unit='batch', desc=f'Training epoch [{epoch+1}/{epochs}]'):\n",
    "            if device is not None:\n",
    "                images, labels = images.to(device), labels.to(device)\n",
    "            optimizer.zero_grad()\n",
    "            outputs = model(images)\n",
    "            loss = criterion(outputs, labels)\n",
    "            loss.backward()\n",
    "            optimizer.step()\n",
    "            running_loss += loss.item()\n",
    "\n",
    "            predicted = torch.argmax(outputs, dim=-1)\n",
    "            true_labels.extend(labels.cpu().numpy())\n",
    "            predicted_labels.extend(predicted.cpu().numpy())\n",
    "\n",
    "        epoch_loss = running_loss / len(train_loader)\n",
    "        train_losses.append(epoch_loss)\n",
    "\n",
    "        accuracy = accuracy_score(true_labels, predicted_labels)\n",
    "        train_acc.append(accuracy)\n",
    "        print(f'\\t---> Loss: {epoch_loss:.4f}\\n\\t---> Accuracy: {accuracy:.4f}')\n",
    "\n",
    "        test_loss, test_ac = evaluate_model(model, test_loader, criterion, device)\n",
    "        test_losses.append(test_loss)\n",
    "        test_acc.append(test_ac)\n",
    "        print(\"==========================================================================\")\n",
    "    \n",
    "    return train_losses, train_acc, test_losses, test_acc"
   ]
  },
  {
   "cell_type": "markdown",
   "metadata": {
    "id": "aBNi_Dycf4yW"
   },
   "source": [
    "## 4.2. Huấn luyện và đánh giá"
   ]
  },
  {
   "cell_type": "code",
   "execution_count": 81,
   "metadata": {
    "id": "k79TY7rTfyuW"
   },
   "outputs": [],
   "source": [
    "lr = 0.003\n",
    "criterion = nn.CrossEntropyLoss()\n",
    "optimizer = torch.optim.Adam(model.parameters(), lr=lr)"
   ]
  },
  {
   "cell_type": "code",
   "execution_count": 82,
   "metadata": {
    "colab": {
     "base_uri": "https://localhost:8080/"
    },
    "id": "Wjd3FBVjgBCv",
    "outputId": "90f40cc1-26bb-4a26-d687-3c4558cebae8"
   },
   "outputs": [
    {
     "name": "stderr",
     "output_type": "stream",
     "text": [
      "Training epoch [1/10]: 100%|██████████| 519/519 [00:02<00:00, 245.05batch/s]\n"
     ]
    },
    {
     "name": "stdout",
     "output_type": "stream",
     "text": [
      "\t---> Loss: 1.4444\n",
      "\t---> Accuracy: 0.2445\n"
     ]
    },
    {
     "name": "stderr",
     "output_type": "stream",
     "text": [
      "Evaluating: 100%|██████████| 130/130 [00:00<00:00, 736.48batch/s]\n"
     ]
    },
    {
     "name": "stdout",
     "output_type": "stream",
     "text": [
      "\t---> Loss: 1.6239\n",
      "\t---> Accuracy: 0.2478\n",
      "\tClassification Report:\n",
      "              precision    recall  f1-score   support\n",
      "\n",
      "   Left Hand       0.00      0.00      0.00       282\n",
      "  Right Hand       0.00      0.00      0.00       244\n",
      "        Foot       0.25      1.00      0.40       257\n",
      "      Tongue       0.00      0.00      0.00       254\n",
      "\n",
      "    accuracy                           0.25      1037\n",
      "   macro avg       0.06      0.25      0.10      1037\n",
      "weighted avg       0.06      0.25      0.10      1037\n",
      "\n",
      "==========================================================================\n"
     ]
    },
    {
     "name": "stderr",
     "output_type": "stream",
     "text": [
      "Training epoch [2/10]: 100%|██████████| 519/519 [00:02<00:00, 258.91batch/s]\n"
     ]
    },
    {
     "name": "stdout",
     "output_type": "stream",
     "text": [
      "\t---> Loss: 1.4364\n",
      "\t---> Accuracy: 0.2575\n"
     ]
    },
    {
     "name": "stderr",
     "output_type": "stream",
     "text": [
      "Evaluating: 100%|██████████| 130/130 [00:00<00:00, 792.28batch/s]\n"
     ]
    },
    {
     "name": "stdout",
     "output_type": "stream",
     "text": [
      "\t---> Loss: 1.3886\n",
      "\t---> Accuracy: 0.2719\n",
      "\tClassification Report:\n",
      "              precision    recall  f1-score   support\n",
      "\n",
      "   Left Hand       0.27      1.00      0.43       282\n",
      "  Right Hand       0.00      0.00      0.00       244\n",
      "        Foot       0.00      0.00      0.00       257\n",
      "      Tongue       0.00      0.00      0.00       254\n",
      "\n",
      "    accuracy                           0.27      1037\n",
      "   macro avg       0.07      0.25      0.11      1037\n",
      "weighted avg       0.07      0.27      0.12      1037\n",
      "\n",
      "==========================================================================\n"
     ]
    },
    {
     "name": "stderr",
     "output_type": "stream",
     "text": [
      "Training epoch [3/10]: 100%|██████████| 519/519 [00:01<00:00, 270.89batch/s]\n"
     ]
    },
    {
     "name": "stdout",
     "output_type": "stream",
     "text": [
      "\t---> Loss: 1.4437\n",
      "\t---> Accuracy: 0.2443\n"
     ]
    },
    {
     "name": "stderr",
     "output_type": "stream",
     "text": [
      "Evaluating: 100%|██████████| 130/130 [00:00<00:00, 666.92batch/s]\n"
     ]
    },
    {
     "name": "stdout",
     "output_type": "stream",
     "text": [
      "\t---> Loss: 1.4490\n",
      "\t---> Accuracy: 0.2353\n",
      "\tClassification Report:\n",
      "              precision    recall  f1-score   support\n",
      "\n",
      "   Left Hand       0.00      0.00      0.00       282\n",
      "  Right Hand       0.24      1.00      0.38       244\n",
      "        Foot       0.00      0.00      0.00       257\n",
      "      Tongue       0.00      0.00      0.00       254\n",
      "\n",
      "    accuracy                           0.24      1037\n",
      "   macro avg       0.06      0.25      0.10      1037\n",
      "weighted avg       0.06      0.24      0.09      1037\n",
      "\n",
      "==========================================================================\n"
     ]
    },
    {
     "name": "stderr",
     "output_type": "stream",
     "text": [
      "Training epoch [4/10]: 100%|██████████| 519/519 [00:02<00:00, 259.01batch/s]\n"
     ]
    },
    {
     "name": "stdout",
     "output_type": "stream",
     "text": [
      "\t---> Loss: 1.4420\n",
      "\t---> Accuracy: 0.2493\n"
     ]
    },
    {
     "name": "stderr",
     "output_type": "stream",
     "text": [
      "Evaluating: 100%|██████████| 130/130 [00:00<00:00, 726.62batch/s]\n"
     ]
    },
    {
     "name": "stdout",
     "output_type": "stream",
     "text": [
      "\t---> Loss: 1.3965\n",
      "\t---> Accuracy: 0.2719\n",
      "\tClassification Report:\n",
      "              precision    recall  f1-score   support\n",
      "\n",
      "   Left Hand       0.27      1.00      0.43       282\n",
      "  Right Hand       0.00      0.00      0.00       244\n",
      "        Foot       0.00      0.00      0.00       257\n",
      "      Tongue       0.00      0.00      0.00       254\n",
      "\n",
      "    accuracy                           0.27      1037\n",
      "   macro avg       0.07      0.25      0.11      1037\n",
      "weighted avg       0.07      0.27      0.12      1037\n",
      "\n",
      "==========================================================================\n"
     ]
    },
    {
     "name": "stderr",
     "output_type": "stream",
     "text": [
      "Training epoch [5/10]: 100%|██████████| 519/519 [00:02<00:00, 257.84batch/s]\n"
     ]
    },
    {
     "name": "stdout",
     "output_type": "stream",
     "text": [
      "\t---> Loss: 1.4532\n",
      "\t---> Accuracy: 0.2489\n"
     ]
    },
    {
     "name": "stderr",
     "output_type": "stream",
     "text": [
      "Evaluating: 100%|██████████| 130/130 [00:00<00:00, 682.56batch/s]\n"
     ]
    },
    {
     "name": "stdout",
     "output_type": "stream",
     "text": [
      "\t---> Loss: 1.4257\n",
      "\t---> Accuracy: 0.2449\n",
      "\tClassification Report:\n",
      "              precision    recall  f1-score   support\n",
      "\n",
      "   Left Hand       0.00      0.00      0.00       282\n",
      "  Right Hand       0.00      0.00      0.00       244\n",
      "        Foot       0.00      0.00      0.00       257\n",
      "      Tongue       0.24      1.00      0.39       254\n",
      "\n",
      "    accuracy                           0.24      1037\n",
      "   macro avg       0.06      0.25      0.10      1037\n",
      "weighted avg       0.06      0.24      0.10      1037\n",
      "\n",
      "==========================================================================\n"
     ]
    },
    {
     "name": "stderr",
     "output_type": "stream",
     "text": [
      "Training epoch [6/10]: 100%|██████████| 519/519 [00:02<00:00, 249.62batch/s]\n"
     ]
    },
    {
     "name": "stdout",
     "output_type": "stream",
     "text": [
      "\t---> Loss: 1.4489\n",
      "\t---> Accuracy: 0.2395\n"
     ]
    },
    {
     "name": "stderr",
     "output_type": "stream",
     "text": [
      "Evaluating: 100%|██████████| 130/130 [00:00<00:00, 624.14batch/s]\n"
     ]
    },
    {
     "name": "stdout",
     "output_type": "stream",
     "text": [
      "\t---> Loss: 1.4115\n",
      "\t---> Accuracy: 0.2449\n",
      "\tClassification Report:\n",
      "              precision    recall  f1-score   support\n",
      "\n",
      "   Left Hand       0.00      0.00      0.00       282\n",
      "  Right Hand       0.00      0.00      0.00       244\n",
      "        Foot       0.00      0.00      0.00       257\n",
      "      Tongue       0.24      1.00      0.39       254\n",
      "\n",
      "    accuracy                           0.24      1037\n",
      "   macro avg       0.06      0.25      0.10      1037\n",
      "weighted avg       0.06      0.24      0.10      1037\n",
      "\n",
      "==========================================================================\n"
     ]
    },
    {
     "name": "stderr",
     "output_type": "stream",
     "text": [
      "Training epoch [7/10]: 100%|██████████| 519/519 [00:02<00:00, 247.37batch/s]\n"
     ]
    },
    {
     "name": "stdout",
     "output_type": "stream",
     "text": [
      "\t---> Loss: 1.4350\n",
      "\t---> Accuracy: 0.2443\n"
     ]
    },
    {
     "name": "stderr",
     "output_type": "stream",
     "text": [
      "Evaluating: 100%|██████████| 130/130 [00:00<00:00, 772.64batch/s]\n"
     ]
    },
    {
     "name": "stdout",
     "output_type": "stream",
     "text": [
      "\t---> Loss: 1.4179\n",
      "\t---> Accuracy: 0.2353\n",
      "\tClassification Report:\n",
      "              precision    recall  f1-score   support\n",
      "\n",
      "   Left Hand       0.00      0.00      0.00       282\n",
      "  Right Hand       0.24      1.00      0.38       244\n",
      "        Foot       0.00      0.00      0.00       257\n",
      "      Tongue       0.00      0.00      0.00       254\n",
      "\n",
      "    accuracy                           0.24      1037\n",
      "   macro avg       0.06      0.25      0.10      1037\n",
      "weighted avg       0.06      0.24      0.09      1037\n",
      "\n",
      "==========================================================================\n"
     ]
    },
    {
     "name": "stderr",
     "output_type": "stream",
     "text": [
      "Training epoch [8/10]: 100%|██████████| 519/519 [00:01<00:00, 273.24batch/s]\n"
     ]
    },
    {
     "name": "stdout",
     "output_type": "stream",
     "text": [
      "\t---> Loss: 1.4345\n",
      "\t---> Accuracy: 0.2534\n"
     ]
    },
    {
     "name": "stderr",
     "output_type": "stream",
     "text": [
      "Evaluating: 100%|██████████| 130/130 [00:00<00:00, 629.37batch/s]\n"
     ]
    },
    {
     "name": "stdout",
     "output_type": "stream",
     "text": [
      "\t---> Loss: 1.4711\n",
      "\t---> Accuracy: 0.2449\n",
      "\tClassification Report:\n",
      "              precision    recall  f1-score   support\n",
      "\n",
      "   Left Hand       0.00      0.00      0.00       282\n",
      "  Right Hand       0.00      0.00      0.00       244\n",
      "        Foot       0.00      0.00      0.00       257\n",
      "      Tongue       0.24      1.00      0.39       254\n",
      "\n",
      "    accuracy                           0.24      1037\n",
      "   macro avg       0.06      0.25      0.10      1037\n",
      "weighted avg       0.06      0.24      0.10      1037\n",
      "\n",
      "==========================================================================\n"
     ]
    },
    {
     "name": "stderr",
     "output_type": "stream",
     "text": [
      "Training epoch [9/10]: 100%|██████████| 519/519 [00:02<00:00, 250.66batch/s]\n"
     ]
    },
    {
     "name": "stdout",
     "output_type": "stream",
     "text": [
      "\t---> Loss: 1.4483\n",
      "\t---> Accuracy: 0.2520\n"
     ]
    },
    {
     "name": "stderr",
     "output_type": "stream",
     "text": [
      "Evaluating: 100%|██████████| 130/130 [00:00<00:00, 779.62batch/s]\n"
     ]
    },
    {
     "name": "stdout",
     "output_type": "stream",
     "text": [
      "\t---> Loss: 1.3928\n",
      "\t---> Accuracy: 0.2719\n",
      "\tClassification Report:\n",
      "              precision    recall  f1-score   support\n",
      "\n",
      "   Left Hand       0.27      1.00      0.43       282\n",
      "  Right Hand       0.00      0.00      0.00       244\n",
      "        Foot       0.00      0.00      0.00       257\n",
      "      Tongue       0.00      0.00      0.00       254\n",
      "\n",
      "    accuracy                           0.27      1037\n",
      "   macro avg       0.07      0.25      0.11      1037\n",
      "weighted avg       0.07      0.27      0.12      1037\n",
      "\n",
      "==========================================================================\n"
     ]
    },
    {
     "name": "stderr",
     "output_type": "stream",
     "text": [
      "Training epoch [10/10]: 100%|██████████| 519/519 [00:02<00:00, 249.33batch/s]\n"
     ]
    },
    {
     "name": "stdout",
     "output_type": "stream",
     "text": [
      "\t---> Loss: 1.4530\n",
      "\t---> Accuracy: 0.2462\n"
     ]
    },
    {
     "name": "stderr",
     "output_type": "stream",
     "text": [
      "Evaluating: 100%|██████████| 130/130 [00:00<00:00, 830.23batch/s]"
     ]
    },
    {
     "name": "stdout",
     "output_type": "stream",
     "text": [
      "\t---> Loss: 1.3904\n",
      "\t---> Accuracy: 0.2353\n",
      "\tClassification Report:\n",
      "              precision    recall  f1-score   support\n",
      "\n",
      "   Left Hand       0.00      0.00      0.00       282\n",
      "  Right Hand       0.24      1.00      0.38       244\n",
      "        Foot       0.00      0.00      0.00       257\n",
      "      Tongue       0.00      0.00      0.00       254\n",
      "\n",
      "    accuracy                           0.24      1037\n",
      "   macro avg       0.06      0.25      0.10      1037\n",
      "weighted avg       0.06      0.24      0.09      1037\n",
      "\n",
      "==========================================================================\n"
     ]
    },
    {
     "name": "stderr",
     "output_type": "stream",
     "text": [
      "\n"
     ]
    }
   ],
   "source": [
    "train_losses, train_acc, test_losses, test_acc = train_model(model, train_loader, test_loader, criterion, optimizer, device=device, epochs=10)"
   ]
  },
  {
   "cell_type": "markdown",
   "metadata": {
    "id": "oROBB2MWg4_I"
   },
   "source": [
    "## 4.3. Visualize results"
   ]
  },
  {
   "cell_type": "code",
   "execution_count": 83,
   "metadata": {
    "colab": {
     "base_uri": "https://localhost:8080/",
     "height": 498
    },
    "id": "MdyNYm5Eg3zy",
    "outputId": "d8d48b86-2e22-4907-d622-0c4e610aeaf8"
   },
   "outputs": [
    {
     "data": {
      "text/plain": [
       "<matplotlib.legend.Legend at 0x1f664aa27e0>"
      ]
     },
     "execution_count": 83,
     "metadata": {},
     "output_type": "execute_result"
    },
    {
     "data": {
      "image/png": "[encoded data removed]",
      "text/plain": [
       "<Figure size 1600x500 with 4 Axes>"
      ]
     },
     "metadata": {},
     "output_type": "display_data"
    }
   ],
   "source": [
    "plt.figure(figsize=(16, 5))\n",
    "plt.subplot(2, 2, 1)\n",
    "plt.plot(train_losses, label='Train')\n",
    "plt.xlabel('Epoch')\n",
    "plt.ylabel('Loss')\n",
    "plt.legend()\n",
    "\n",
    "plt.subplot(2, 2, 2)\n",
    "plt.plot(test_losses, label='Test')\n",
    "plt.xlabel('Epoch')\n",
    "plt.ylabel('Loss')\n",
    "plt.legend()\n",
    "\n",
    "plt.subplot(2, 2, 3)\n",
    "plt.plot(test_acc, label='Test')\n",
    "plt.xlabel('Epoch')\n",
    "plt.ylabel('Accuracy')\n",
    "plt.legend()\n",
    "\n",
    "plt.subplot(2, 2, 4)\n",
    "plt.plot(train_acc, label='Train')\n",
    "plt.xlabel('Epoch')\n",
    "plt.ylabel('Accuracy')\n",
    "plt.legend()"
   ]
  },
  {
   "cell_type": "code",
   "execution_count": null,
   "metadata": {
    "id": "ZiEV8z7VhNKp"
   },
   "outputs": [],
   "source": []
  },
  {
   "cell_type": "code",
   "execution_count": null,
   "metadata": {},
   "outputs": [],
   "source": []
  }
 ],
 "metadata": {
  "accelerator": "GPU",
  "colab": {
   "gpuType": "T4",
   "provenance": []
  },
  "kernelspec": {
   "display_name": "Python 3",
   "name": "python3"
  },
  "language_info": {
   "codemirror_mode": {
    "name": "ipython",
    "version": 3
   },
   "file_extension": ".py",
   "mimetype": "text/x-python",
   "name": "python",
   "nbconvert_exporter": "python",
   "pygments_lexer": "ipython3",
   "version": "3.12.4"
  }
 },
 "nbformat": 4,
 "nbformat_minor": 0
}
