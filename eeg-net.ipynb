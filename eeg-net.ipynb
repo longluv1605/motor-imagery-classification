{
 "cells": [
  {
   "cell_type": "markdown",
   "metadata": {},
   "source": [
    "# 1. Thêm các thư viện cần thiết"
   ]
  },
  {
   "cell_type": "code",
   "execution_count": 1,
   "metadata": {
    "execution": {
     "iopub.execute_input": "2024-12-10T19:22:32.911135Z",
     "iopub.status.busy": "2024-12-10T19:22:32.910763Z",
     "iopub.status.idle": "2024-12-10T19:22:37.474298Z",
     "shell.execute_reply": "2024-12-10T19:22:37.473494Z",
     "shell.execute_reply.started": "2024-12-10T19:22:32.911097Z"
    },
    "trusted": true
   },
   "outputs": [],
   "source": [
    "import numpy as np\n",
    "from sklearn.model_selection import train_test_split\n",
    "from scipy.signal import spectrogram\n",
    "from scipy.interpolate import griddata\n",
    "\n",
    "import torch\n",
    "import torch.nn as nn\n",
    "from torch.utils.data import Dataset, DataLoader\n",
    "import torch.nn.functional as F\n",
    "\n",
    "from tqdm import tqdm\n",
    "import matplotlib.pyplot as plt\n",
    "import seaborn as sns\n",
    "from sklearn.metrics import accuracy_score, classification_report"
   ]
  },
  {
   "cell_type": "code",
   "execution_count": 2,
   "metadata": {
    "execution": {
     "iopub.execute_input": "2024-12-10T19:22:37.475976Z",
     "iopub.status.busy": "2024-12-10T19:22:37.475596Z",
     "iopub.status.idle": "2024-12-10T19:22:37.559437Z",
     "shell.execute_reply": "2024-12-10T19:22:37.558468Z",
     "shell.execute_reply.started": "2024-12-10T19:22:37.475948Z"
    },
    "trusted": true
   },
   "outputs": [
    {
     "data": {
      "text/plain": [
       "device(type='cuda')"
      ]
     },
     "execution_count": 2,
     "metadata": {},
     "output_type": "execute_result"
    }
   ],
   "source": [
    "device = torch.device('cuda' if torch.cuda.is_available() else 'cpu')\n",
    "device"
   ]
  },
  {
   "cell_type": "markdown",
   "metadata": {},
   "source": [
    "# 2. Chuẩn bị dữ liệu"
   ]
  },
  {
   "cell_type": "code",
   "execution_count": 3,
   "metadata": {
    "execution": {
     "iopub.execute_input": "2024-12-10T19:22:37.560707Z",
     "iopub.status.busy": "2024-12-10T19:22:37.560460Z",
     "iopub.status.idle": "2024-12-10T19:22:37.573803Z",
     "shell.execute_reply": "2024-12-10T19:22:37.572867Z",
     "shell.execute_reply.started": "2024-12-10T19:22:37.560683Z"
    },
    "trusted": true
   },
   "outputs": [],
   "source": [
    "# Nhập dữ liệu từ file\n",
    "def load_data(data_path):\n",
    "    X_train = np.load(f'{data_path}/A01T_X.npy')\n",
    "    y_train = np.load(f'{data_path}/A01T_Y.npy')\n",
    "    X_test = np.load(f'{data_path}/A01E_X.npy')\n",
    "    y_test = np.load(f'{data_path}/A01E_Y.npy')\n",
    "\n",
    "    for i in range(2, 10, 1):\n",
    "        xt = np.load(f'{data_path}/A0{i}T_X.npy')\n",
    "        yt = np.load(f'{data_path}/A0{i}T_Y.npy')\n",
    "        xv = np.load(f'{data_path}/A0{i}E_X.npy')\n",
    "        yv = np.load(f'{data_path}/A0{i}E_Y.npy')\n",
    "\n",
    "        X_train = np.concatenate([X_train, xt])\n",
    "        y_train = np.concatenate([y_train, yt])\n",
    "        X_test = np.concatenate([X_test, xv])\n",
    "        y_test = np.concatenate([y_test, yv])\n",
    "\n",
    "    # X_train = torch.from_numpy(X_train)\n",
    "    # X_test = torch.from_numpy(X_test)\n",
    "    # y_train = torch.from_numpy(y_train)\n",
    "    # y_test = torch.from_numpy(y_test)\n",
    "\n",
    "    return X_train, X_test, y_train, y_test"
   ]
  },
  {
   "cell_type": "code",
   "execution_count": 4,
   "metadata": {
    "execution": {
     "iopub.execute_input": "2024-12-10T19:22:37.576887Z",
     "iopub.status.busy": "2024-12-10T19:22:37.576140Z",
     "iopub.status.idle": "2024-12-10T19:22:50.972788Z",
     "shell.execute_reply": "2024-12-10T19:22:50.972032Z",
     "shell.execute_reply.started": "2024-12-10T19:22:37.576845Z"
    },
    "trusted": true
   },
   "outputs": [],
   "source": [
    "data_path = '/kaggle/input/eeg-preprocessed-data/IndividualData'\n",
    "\n",
    "X_train, X_test, y_train, y_test = load_data(data_path)"
   ]
  },
  {
   "cell_type": "code",
   "execution_count": 5,
   "metadata": {
    "execution": {
     "iopub.execute_input": "2024-12-10T19:22:50.974030Z",
     "iopub.status.busy": "2024-12-10T19:22:50.973776Z",
     "iopub.status.idle": "2024-12-10T19:22:50.978990Z",
     "shell.execute_reply": "2024-12-10T19:22:50.978128Z",
     "shell.execute_reply.started": "2024-12-10T19:22:50.974006Z"
    },
    "trusted": true
   },
   "outputs": [
    {
     "name": "stdout",
     "output_type": "stream",
     "text": [
      "X_train shape: (2592, 22, 1875)\n",
      "y_train shape: (2592,)\n",
      "X_test shape: (2592, 22, 1875)\n",
      "y_test shape: (2592,)\n"
     ]
    }
   ],
   "source": [
    "print(f'X_train shape: {X_train.shape}')\n",
    "print(f'y_train shape: {y_train.shape}')\n",
    "print(f'X_test shape: {X_test.shape}')\n",
    "print(f'y_test shape: {y_test.shape}')"
   ]
  },
  {
   "cell_type": "code",
   "execution_count": 6,
   "metadata": {
    "execution": {
     "iopub.execute_input": "2024-12-10T19:22:50.980264Z",
     "iopub.status.busy": "2024-12-10T19:22:50.980004Z",
     "iopub.status.idle": "2024-12-10T19:22:50.998778Z",
     "shell.execute_reply": "2024-12-10T19:22:50.998112Z",
     "shell.execute_reply.started": "2024-12-10T19:22:50.980241Z"
    },
    "trusted": true
   },
   "outputs": [],
   "source": [
    "class EEGSpectralDataset(Dataset):\n",
    "    def __init__(self, X, y, transform=None):\n",
    "        self.X = X\n",
    "        self.y = y\n",
    "        self.transform = transform\n",
    "\n",
    "    def __len__(self):\n",
    "        return len(self.X)\n",
    "\n",
    "    def __getitem__(self, idx):\n",
    "        # Lấy ảnh và nhãn\n",
    "        image = self.X[idx]\n",
    "        label = self.y[idx]\n",
    "\n",
    "        # Áp dụng biến đổi\n",
    "        if self.transform:\n",
    "            image = self.transform(image)\n",
    "\n",
    "        return torch.tensor(image, dtype=torch.float32).unsqueeze(0), torch.tensor(label, dtype=torch.long)"
   ]
  },
  {
   "cell_type": "code",
   "execution_count": 7,
   "metadata": {
    "execution": {
     "iopub.execute_input": "2024-12-10T19:22:51.000030Z",
     "iopub.status.busy": "2024-12-10T19:22:50.999796Z",
     "iopub.status.idle": "2024-12-10T19:22:51.013027Z",
     "shell.execute_reply": "2024-12-10T19:22:51.012274Z",
     "shell.execute_reply.started": "2024-12-10T19:22:51.000007Z"
    },
    "trusted": true
   },
   "outputs": [],
   "source": [
    "# Train and test dataset\n",
    "train_dataset = EEGSpectralDataset(X_train, y_train)\n",
    "test_dataset = EEGSpectralDataset(X_test, y_test)"
   ]
  },
  {
   "cell_type": "code",
   "execution_count": 8,
   "metadata": {
    "execution": {
     "iopub.execute_input": "2024-12-10T19:22:51.014339Z",
     "iopub.status.busy": "2024-12-10T19:22:51.014006Z",
     "iopub.status.idle": "2024-12-10T19:22:51.024212Z",
     "shell.execute_reply": "2024-12-10T19:22:51.023405Z",
     "shell.execute_reply.started": "2024-12-10T19:22:51.014302Z"
    },
    "trusted": true
   },
   "outputs": [],
   "source": [
    "# Train and test loader\n",
    "batch_size = 16\n",
    "\n",
    "train_loader = DataLoader(train_dataset, batch_size=batch_size, shuffle=True)\n",
    "test_loader = DataLoader(test_dataset, batch_size=batch_size, shuffle=False)"
   ]
  },
  {
   "cell_type": "code",
   "execution_count": 9,
   "metadata": {
    "execution": {
     "iopub.execute_input": "2024-12-10T19:22:51.026110Z",
     "iopub.status.busy": "2024-12-10T19:22:51.025315Z",
     "iopub.status.idle": "2024-12-10T19:22:51.073351Z",
     "shell.execute_reply": "2024-12-10T19:22:51.072497Z",
     "shell.execute_reply.started": "2024-12-10T19:22:51.026054Z"
    },
    "trusted": true
   },
   "outputs": [
    {
     "data": {
      "text/plain": [
       "torch.Size([1, 22, 1875])"
      ]
     },
     "execution_count": 9,
     "metadata": {},
     "output_type": "execute_result"
    }
   ],
   "source": [
    "train_dataset[0][0].shape"
   ]
  },
  {
   "cell_type": "markdown",
   "metadata": {},
   "source": [
    "# 3. Xây dựng mô hình"
   ]
  },
  {
   "cell_type": "code",
   "execution_count": 10,
   "metadata": {
    "execution": {
     "iopub.execute_input": "2024-12-10T19:22:51.076791Z",
     "iopub.status.busy": "2024-12-10T19:22:51.076462Z",
     "iopub.status.idle": "2024-12-10T19:22:51.145249Z",
     "shell.execute_reply": "2024-12-10T19:22:51.144394Z",
     "shell.execute_reply.started": "2024-12-10T19:22:51.076766Z"
    },
    "trusted": true
   },
   "outputs": [
    {
     "name": "stdout",
     "output_type": "stream",
     "text": [
      "DataParallel(\n",
      "  (module): EEGNet(\n",
      "    (conv1): Conv2d(1, 8, kernel_size=(1, 64), stride=(1, 1), padding=(0, 32), bias=False)\n",
      "    (batchnorm1): BatchNorm2d(8, eps=1e-05, momentum=0.1, affine=True, track_running_stats=True)\n",
      "    (depthwise_conv): Conv2d(8, 16, kernel_size=(22, 1), stride=(1, 1), groups=8, bias=False)\n",
      "    (batchnorm2): BatchNorm2d(16, eps=1e-05, momentum=0.1, affine=True, track_running_stats=True)\n",
      "    (elu1): ELU(alpha=1.0)\n",
      "    (pool1): AvgPool2d(kernel_size=(1, 4), stride=(1, 4), padding=0)\n",
      "    (dropout1): Dropout(p=0.5, inplace=False)\n",
      "    (separable_conv): Conv2d(16, 16, kernel_size=(1, 16), stride=(1, 1), padding=(0, 8), bias=False)\n",
      "    (batchnorm3): BatchNorm2d(16, eps=1e-05, momentum=0.1, affine=True, track_running_stats=True)\n",
      "    (elu2): ELU(alpha=1.0)\n",
      "    (pool2): AvgPool2d(kernel_size=(1, 8), stride=(1, 8), padding=0)\n",
      "    (dropout2): Dropout(p=0.5, inplace=False)\n",
      "    (fc): Linear(in_features=928, out_features=4, bias=True)\n",
      "  )\n",
      ")\n"
     ]
    }
   ],
   "source": [
    "class EEGNet(nn.Module):\n",
    "    def __init__(self, num_classes, C=22, T=1875, F1=8, D=2, F2=16):\n",
    "        super(EEGNet, self).__init__()\n",
    "        \n",
    "        # Block 1: Temporal Convolution\n",
    "        self.conv1 = nn.Conv2d(1, F1, kernel_size=(1, 64), padding=(0, 32), bias=False)\n",
    "        self.batchnorm1 = nn.BatchNorm2d(F1)\n",
    "        self.depthwise_conv = nn.Conv2d(F1, F1 * D, kernel_size=(C, 1), groups=F1, bias=False)\n",
    "        self.batchnorm2 = nn.BatchNorm2d(F1 * D)\n",
    "        self.elu1 = nn.ELU()\n",
    "        self.pool1 = nn.AvgPool2d(kernel_size=(1, 4))\n",
    "        self.dropout1 = nn.Dropout(0.5)\n",
    "\n",
    "        # Block 2: Separable Convolution\n",
    "        self.separable_conv = nn.Conv2d(F1 * D, F2, kernel_size=(1, 16), padding=(0, 8), bias=False)\n",
    "        self.batchnorm3 = nn.BatchNorm2d(F2)\n",
    "        self.elu2 = nn.ELU()\n",
    "        self.pool2 = nn.AvgPool2d(kernel_size=(1, 8))\n",
    "        self.dropout2 = nn.Dropout(0.5)\n",
    "\n",
    "        # Classification block\n",
    "        self.fc = nn.Linear(F2 * (T // 32), num_classes)\n",
    "\n",
    "    def forward(self, x):\n",
    "        # Block 1\n",
    "        x = self.conv1(x)\n",
    "        x = self.batchnorm1(x)\n",
    "        x = self.depthwise_conv(x)\n",
    "        x = self.batchnorm2(x)\n",
    "        x = self.elu1(x)\n",
    "        x = self.pool1(x)\n",
    "        x = self.dropout1(x)\n",
    "\n",
    "        # Block 2\n",
    "        x = self.separable_conv(x)\n",
    "        x = self.batchnorm3(x)\n",
    "        x = self.elu2(x)\n",
    "        x = self.pool2(x)\n",
    "        x = self.dropout2(x)\n",
    "\n",
    "        # Classification\n",
    "        x = x.flatten(start_dim=1)\n",
    "        x = self.fc(x)\n",
    "        return x\n",
    "\n",
    "# Khởi tạo mô hình\n",
    "num_classes = 4\n",
    "eeg_net = EEGNet(num_classes=num_classes)\n",
    "eeg_net = nn.DataParallel(eeg_net)\n",
    "print(eeg_net)"
   ]
  },
  {
   "cell_type": "markdown",
   "metadata": {},
   "source": [
    "# 4. Huấn luyện và đánh giá mô hình"
   ]
  },
  {
   "cell_type": "code",
   "execution_count": 11,
   "metadata": {
    "execution": {
     "iopub.execute_input": "2024-12-10T19:22:51.146628Z",
     "iopub.status.busy": "2024-12-10T19:22:51.146354Z",
     "iopub.status.idle": "2024-12-10T19:23:06.325773Z",
     "shell.execute_reply": "2024-12-10T19:23:06.324890Z",
     "shell.execute_reply.started": "2024-12-10T19:22:51.146603Z"
    },
    "trusted": true
   },
   "outputs": [
    {
     "name": "stdout",
     "output_type": "stream",
     "text": [
      "Requirement already satisfied: wandb in /opt/conda/lib/python3.10/site-packages (0.18.7)\n",
      "Requirement already satisfied: click!=8.0.0,>=7.1 in /opt/conda/lib/python3.10/site-packages (from wandb) (8.1.7)\n",
      "Requirement already satisfied: docker-pycreds>=0.4.0 in /opt/conda/lib/python3.10/site-packages (from wandb) (0.4.0)\n",
      "Requirement already satisfied: gitpython!=3.1.29,>=1.0.0 in /opt/conda/lib/python3.10/site-packages (from wandb) (3.1.43)\n",
      "Requirement already satisfied: platformdirs in /opt/conda/lib/python3.10/site-packages (from wandb) (3.11.0)\n",
      "Requirement already satisfied: protobuf!=4.21.0,!=5.28.0,<6,>=3.19.0 in /opt/conda/lib/python3.10/site-packages (from wandb) (3.20.3)\n",
      "Requirement already satisfied: psutil>=5.0.0 in /opt/conda/lib/python3.10/site-packages (from wandb) (5.9.3)\n",
      "Requirement already satisfied: pyyaml in /opt/conda/lib/python3.10/site-packages (from wandb) (6.0.2)\n",
      "Requirement already satisfied: requests<3,>=2.0.0 in /opt/conda/lib/python3.10/site-packages (from wandb) (2.32.3)\n",
      "Requirement already satisfied: sentry-sdk>=2.0.0 in /opt/conda/lib/python3.10/site-packages (from wandb) (2.19.0)\n",
      "Requirement already satisfied: setproctitle in /opt/conda/lib/python3.10/site-packages (from wandb) (1.3.4)\n",
      "Requirement already satisfied: setuptools in /opt/conda/lib/python3.10/site-packages (from wandb) (70.0.0)\n",
      "Requirement already satisfied: typing-extensions<5,>=4.4 in /opt/conda/lib/python3.10/site-packages (from wandb) (4.12.2)\n",
      "Requirement already satisfied: six>=1.4.0 in /opt/conda/lib/python3.10/site-packages (from docker-pycreds>=0.4.0->wandb) (1.16.0)\n",
      "Requirement already satisfied: gitdb<5,>=4.0.1 in /opt/conda/lib/python3.10/site-packages (from gitpython!=3.1.29,>=1.0.0->wandb) (4.0.11)\n",
      "Requirement already satisfied: charset-normalizer<4,>=2 in /opt/conda/lib/python3.10/site-packages (from requests<3,>=2.0.0->wandb) (3.3.2)\n",
      "Requirement already satisfied: idna<4,>=2.5 in /opt/conda/lib/python3.10/site-packages (from requests<3,>=2.0.0->wandb) (3.7)\n",
      "Requirement already satisfied: urllib3<3,>=1.21.1 in /opt/conda/lib/python3.10/site-packages (from requests<3,>=2.0.0->wandb) (1.26.18)\n",
      "Requirement already satisfied: certifi>=2017.4.17 in /opt/conda/lib/python3.10/site-packages (from requests<3,>=2.0.0->wandb) (2024.6.2)\n",
      "Requirement already satisfied: smmap<6,>=3.0.1 in /opt/conda/lib/python3.10/site-packages (from gitdb<5,>=4.0.1->gitpython!=3.1.29,>=1.0.0->wandb) (5.0.1)\n"
     ]
    },
    {
     "name": "stderr",
     "output_type": "stream",
     "text": [
      "\u001b[34m\u001b[1mwandb\u001b[0m: Using wandb-core as the SDK backend.  Please refer to https://wandb.me/wandb-core for more information.\n",
      "\u001b[34m\u001b[1mwandb\u001b[0m: Logging into wandb.ai. (Learn how to deploy a W&B server locally: https://wandb.me/wandb-server)\n",
      "\u001b[34m\u001b[1mwandb\u001b[0m: You can find your API key in your browser here: https://wandb.ai/authorize\n",
      "\u001b[34m\u001b[1mwandb\u001b[0m: Paste an API key from your profile and hit enter, or press ctrl+c to quit:"
     ]
    },
    {
     "name": "stdout",
     "output_type": "stream",
     "text": [
      "  ········\n"
     ]
    },
    {
     "name": "stderr",
     "output_type": "stream",
     "text": [
      "\u001b[34m\u001b[1mwandb\u001b[0m: Appending key for api.wandb.ai to your netrc file: /root/.netrc\n"
     ]
    },
    {
     "data": {
      "text/plain": [
       "True"
      ]
     },
     "execution_count": 11,
     "metadata": {},
     "output_type": "execute_result"
    }
   ],
   "source": [
    "!pip install wandb\n",
    "\n",
    "import wandb\n",
    "wandb.login()"
   ]
  },
  {
   "cell_type": "markdown",
   "metadata": {},
   "source": [
    "## 4.1 Định nghĩa các hàm chức năng"
   ]
  },
  {
   "cell_type": "code",
   "execution_count": 12,
   "metadata": {
    "execution": {
     "iopub.execute_input": "2024-12-10T19:23:06.327946Z",
     "iopub.status.busy": "2024-12-10T19:23:06.327034Z",
     "iopub.status.idle": "2024-12-10T19:23:06.335715Z",
     "shell.execute_reply": "2024-12-10T19:23:06.334883Z",
     "shell.execute_reply.started": "2024-12-10T19:23:06.327905Z"
    },
    "trusted": true
   },
   "outputs": [],
   "source": [
    "def evaluate_model(model, test_loader, criterion, device=None):\n",
    "    if device is not None:\n",
    "        model.to(device)\n",
    "\n",
    "    model.eval() # Set the model to evaluation mode\n",
    "    running_loss = 0.0\n",
    "\n",
    "    true_labels = []\n",
    "    predicted_labels = []\n",
    "\n",
    "    # Use torch.no_grad() to disable gradient calculation during evaluation\n",
    "    with torch.no_grad():\n",
    "        for images, labels in tqdm(test_loader, unit='batch', desc='Evaluating'):\n",
    "            if device is not None:\n",
    "                images, labels = images.to(device), labels.to(device)\n",
    "            outputs = model(images)\n",
    "            loss = criterion(outputs, labels)\n",
    "            running_loss += loss.item()\n",
    "\n",
    "            predicted = torch.argmax(outputs, dim=-1)\n",
    "            true_labels.extend(labels.cpu().numpy())\n",
    "            predicted_labels.extend(predicted.cpu().numpy())\n",
    "\n",
    "    epoch_loss = running_loss / len(test_loader)\n",
    "    accuracy = accuracy_score(true_labels, predicted_labels)\n",
    "\n",
    "    labels = list(range(4))\n",
    "    names = ['Left Hand', 'Right Hand', 'Foot', 'Tongue']\n",
    "    classification_rep = classification_report(true_labels, predicted_labels, labels=labels, target_names=names, zero_division=0)\n",
    "\n",
    "    print(f'\\t---> Loss: {epoch_loss:.4f}\\n\\t---> Accuracy: {accuracy:.4f}\\n\\tClassification Report:\\n{classification_rep}')\n",
    "\n",
    "    return epoch_loss, accuracy"
   ]
  },
  {
   "cell_type": "code",
   "execution_count": 124,
   "metadata": {
    "execution": {
     "iopub.execute_input": "2024-12-10T20:24:57.993198Z",
     "iopub.status.busy": "2024-12-10T20:24:57.992360Z",
     "iopub.status.idle": "2024-12-10T20:24:58.001927Z",
     "shell.execute_reply": "2024-12-10T20:24:58.001079Z",
     "shell.execute_reply.started": "2024-12-10T20:24:57.993163Z"
    },
    "trusted": true
   },
   "outputs": [],
   "source": [
    "def train_model(model, train_loader, test_loader, criterion, optimizer, save_path, device=None, epochs=10, wandb_writer=None):\n",
    "    if device is not None:\n",
    "        model.to(device)\n",
    "    model.train()\n",
    "\n",
    "    train_losses = []\n",
    "    train_acc = []\n",
    "    test_losses = []\n",
    "    test_acc = []\n",
    "\n",
    "    best_acc = 0\n",
    "    for epoch in range(epochs):\n",
    "        running_loss = 0.0\n",
    "\n",
    "        true_labels = []\n",
    "        predicted_labels = []\n",
    "\n",
    "        for images, labels in tqdm(train_loader, unit='batch', desc=f'Training epoch [{epoch+1}/{epochs}]'):\n",
    "            if device is not None:\n",
    "                images, labels = images.to(device), labels.to(device)\n",
    "            optimizer.zero_grad()\n",
    "            outputs = model(images)\n",
    "            loss = criterion(outputs, labels)\n",
    "            loss.backward()\n",
    "            optimizer.step()\n",
    "            running_loss += loss.item()\n",
    "\n",
    "            predicted = torch.argmax(outputs, dim=-1)\n",
    "            true_labels.extend(labels.cpu().numpy())\n",
    "            predicted_labels.extend(predicted.cpu().numpy())\n",
    "\n",
    "        epoch_loss = running_loss / len(train_loader)\n",
    "        train_losses.append(epoch_loss)\n",
    "\n",
    "        accuracy = accuracy_score(true_labels, predicted_labels)\n",
    "        train_acc.append(accuracy)\n",
    "        print(f'\\t---> Loss: {epoch_loss:.4f}\\n\\t---> Accuracy: {accuracy:.4f}')\n",
    "\n",
    "        test_loss, test_ac = evaluate_model(model, test_loader, criterion, device)\n",
    "        model.train()\n",
    "        test_losses.append(test_loss)\n",
    "        test_acc.append(test_ac)\n",
    "\n",
    "        if wandb_writer is not None:\n",
    "            wandb_writer.log({\n",
    "                \"Train loss\": epoch_loss,\n",
    "                \"Train accuracy\": accuracy,\n",
    "                \"Test loss\": test_loss,\n",
    "                \"Test accuracy\": test_ac\n",
    "            })\n",
    "\n",
    "        if test_ac > best_acc:\n",
    "            best_acc = test_ac\n",
    "            torch.save(model.state_dict(), save_path)\n",
    "            print('Model is saved to ', save_path)\n",
    "            if wandb_writer is not None:\n",
    "                wandb_writer.save(save_path)\n",
    "\n",
    "    return train_losses, train_acc, test_losses, test_acc"
   ]
  },
  {
   "cell_type": "markdown",
   "metadata": {},
   "source": [
    "## 4.2. Thực nghiệm trên mô hình"
   ]
  },
  {
   "cell_type": "code",
   "execution_count": 14,
   "metadata": {
    "execution": {
     "iopub.execute_input": "2024-12-10T19:23:06.352328Z",
     "iopub.status.busy": "2024-12-10T19:23:06.352052Z",
     "iopub.status.idle": "2024-12-10T19:23:07.212049Z",
     "shell.execute_reply": "2024-12-10T19:23:07.211377Z",
     "shell.execute_reply.started": "2024-12-10T19:23:06.352305Z"
    },
    "trusted": true
   },
   "outputs": [],
   "source": [
    "lr = 0.003\n",
    "criterion = nn.CrossEntropyLoss()\n",
    "optimizer = torch.optim.Adam(eeg_net.parameters(), lr=lr)"
   ]
  },
  {
   "cell_type": "code",
   "execution_count": 15,
   "metadata": {
    "execution": {
     "iopub.execute_input": "2024-12-10T19:23:07.213513Z",
     "iopub.status.busy": "2024-12-10T19:23:07.213041Z",
     "iopub.status.idle": "2024-12-10T19:23:08.471565Z",
     "shell.execute_reply": "2024-12-10T19:23:08.470625Z",
     "shell.execute_reply.started": "2024-12-10T19:23:07.213485Z"
    },
    "trusted": true
   },
   "outputs": [
    {
     "name": "stderr",
     "output_type": "stream",
     "text": [
      "\u001b[34m\u001b[1mwandb\u001b[0m: Currently logged in as: \u001b[33mlongluv1605\u001b[0m (\u001b[33mlongluv1605-institute-for-artificial-intelligence\u001b[0m). Use \u001b[1m`wandb login --relogin`\u001b[0m to force relogin\n"
     ]
    },
    {
     "data": {
      "text/html": [
       "Tracking run with wandb version 0.18.7"
      ],
      "text/plain": [
       "<IPython.core.display.HTML object>"
      ]
     },
     "metadata": {},
     "output_type": "display_data"
    },
    {
     "data": {
      "text/html": [
       "Run data is saved locally in <code>/kaggle/working/wandb/run-20241210_192307-65cuvln6</code>"
      ],
      "text/plain": [
       "<IPython.core.display.HTML object>"
      ]
     },
     "metadata": {},
     "output_type": "display_data"
    },
    {
     "data": {
      "text/html": [
       "Syncing run <strong><a href='https://wandb.ai/longluv1605-institute-for-artificial-intelligence/motor%20imagery/runs/65cuvln6' target=\"_blank\">EEG-Net</a></strong> to <a href='https://wandb.ai/longluv1605-institute-for-artificial-intelligence/motor%20imagery' target=\"_blank\">Weights & Biases</a> (<a href='https://wandb.me/developer-guide' target=\"_blank\">docs</a>)<br/>"
      ],
      "text/plain": [
       "<IPython.core.display.HTML object>"
      ]
     },
     "metadata": {},
     "output_type": "display_data"
    },
    {
     "data": {
      "text/html": [
       " View project at <a href='https://wandb.ai/longluv1605-institute-for-artificial-intelligence/motor%20imagery' target=\"_blank\">https://wandb.ai/longluv1605-institute-for-artificial-intelligence/motor%20imagery</a>"
      ],
      "text/plain": [
       "<IPython.core.display.HTML object>"
      ]
     },
     "metadata": {},
     "output_type": "display_data"
    },
    {
     "data": {
      "text/html": [
       " View run at <a href='https://wandb.ai/longluv1605-institute-for-artificial-intelligence/motor%20imagery/runs/65cuvln6' target=\"_blank\">https://wandb.ai/longluv1605-institute-for-artificial-intelligence/motor%20imagery/runs/65cuvln6</a>"
      ],
      "text/plain": [
       "<IPython.core.display.HTML object>"
      ]
     },
     "metadata": {},
     "output_type": "display_data"
    }
   ],
   "source": [
    "eeg_wan_writer = wandb.init(\n",
    "    project=\"motor imagery\",\n",
    "    name=\"EEG-Net\",\n",
    "    config={\n",
    "        \"learning_rate\": 0.003,\n",
    "        \"batch_size\": 16,\n",
    "        \"epochs\": 50,\n",
    "    }\n",
    ")"
   ]
  },
  {
   "cell_type": "code",
   "execution_count": 16,
   "metadata": {
    "execution": {
     "iopub.execute_input": "2024-12-10T19:23:08.472927Z",
     "iopub.status.busy": "2024-12-10T19:23:08.472665Z",
     "iopub.status.idle": "2024-12-10T19:25:53.378971Z",
     "shell.execute_reply": "2024-12-10T19:25:53.378087Z",
     "shell.execute_reply.started": "2024-12-10T19:23:08.472902Z"
    },
    "trusted": true
   },
   "outputs": [
    {
     "name": "stderr",
     "output_type": "stream",
     "text": [
      "Training epoch [1/50]:   0%|          | 0/162 [00:00<?, ?batch/s]/opt/conda/lib/python3.10/site-packages/torch/nn/parallel/parallel_apply.py:79: FutureWarning: `torch.cuda.amp.autocast(args...)` is deprecated. Please use `torch.amp.autocast('cuda', args...)` instead.\n",
      "  with torch.cuda.device(device), torch.cuda.stream(stream), autocast(enabled=autocast_enabled):\n",
      "Training epoch [1/50]: 100%|██████████| 162/162 [00:03<00:00, 41.62batch/s]\n"
     ]
    },
    {
     "name": "stdout",
     "output_type": "stream",
     "text": [
      "\t---> Loss: 1.3657\n",
      "\t---> Accuracy: 0.3519\n"
     ]
    },
    {
     "name": "stderr",
     "output_type": "stream",
     "text": [
      "Evaluating:   0%|          | 0/162 [00:00<?, ?batch/s]/opt/conda/lib/python3.10/site-packages/torch/nn/parallel/parallel_apply.py:79: FutureWarning: `torch.cuda.amp.autocast(args...)` is deprecated. Please use `torch.amp.autocast('cuda', args...)` instead.\n",
      "  with torch.cuda.device(device), torch.cuda.stream(stream), autocast(enabled=autocast_enabled):\n",
      "Evaluating: 100%|██████████| 162/162 [00:01<00:00, 131.93batch/s]\n",
      "\u001b[34m\u001b[1mwandb\u001b[0m: \u001b[33mWARNING\u001b[0m Saving files without folders. If you want to preserve subdirectories pass base_path to wandb.save, i.e. wandb.save(\"/mnt/folder/file.h5\", base_path=\"/mnt\")\n"
     ]
    },
    {
     "name": "stdout",
     "output_type": "stream",
     "text": [
      "\t---> Loss: 1.2637\n",
      "\t---> Accuracy: 0.4051\n",
      "\tClassification Report:\n",
      "              precision    recall  f1-score   support\n",
      "\n",
      "   Left Hand       0.37      0.35      0.36       648\n",
      "  Right Hand       0.32      0.29      0.30       648\n",
      "        Foot       0.41      0.55      0.47       648\n",
      "      Tongue       0.53      0.43      0.47       648\n",
      "\n",
      "    accuracy                           0.41      2592\n",
      "   macro avg       0.41      0.41      0.40      2592\n",
      "weighted avg       0.41      0.41      0.40      2592\n",
      "\n",
      "Model is saved to  /kaggle/working/eeg.pth\n"
     ]
    },
    {
     "name": "stderr",
     "output_type": "stream",
     "text": [
      "Training epoch [2/50]:   0%|          | 0/162 [00:00<?, ?batch/s]/opt/conda/lib/python3.10/site-packages/torch/nn/parallel/parallel_apply.py:79: FutureWarning: `torch.cuda.amp.autocast(args...)` is deprecated. Please use `torch.amp.autocast('cuda', args...)` instead.\n",
      "  with torch.cuda.device(device), torch.cuda.stream(stream), autocast(enabled=autocast_enabled):\n",
      "Training epoch [2/50]: 100%|██████████| 162/162 [00:02<00:00, 79.76batch/s]\n"
     ]
    },
    {
     "name": "stdout",
     "output_type": "stream",
     "text": [
      "\t---> Loss: 1.2459\n",
      "\t---> Accuracy: 0.4518\n"
     ]
    },
    {
     "name": "stderr",
     "output_type": "stream",
     "text": [
      "Evaluating:   0%|          | 0/162 [00:00<?, ?batch/s]/opt/conda/lib/python3.10/site-packages/torch/nn/parallel/parallel_apply.py:79: FutureWarning: `torch.cuda.amp.autocast(args...)` is deprecated. Please use `torch.amp.autocast('cuda', args...)` instead.\n",
      "  with torch.cuda.device(device), torch.cuda.stream(stream), autocast(enabled=autocast_enabled):\n",
      "Evaluating: 100%|██████████| 162/162 [00:01<00:00, 133.78batch/s]\n"
     ]
    },
    {
     "name": "stdout",
     "output_type": "stream",
     "text": [
      "\t---> Loss: 1.1893\n",
      "\t---> Accuracy: 0.4618\n",
      "\tClassification Report:\n",
      "              precision    recall  f1-score   support\n",
      "\n",
      "   Left Hand       0.40      0.29      0.34       648\n",
      "  Right Hand       0.43      0.35      0.39       648\n",
      "        Foot       0.45      0.56      0.50       648\n",
      "      Tongue       0.54      0.63      0.58       648\n",
      "\n",
      "    accuracy                           0.46      2592\n",
      "   macro avg       0.45      0.46      0.45      2592\n",
      "weighted avg       0.45      0.46      0.45      2592\n",
      "\n",
      "Model is saved to  /kaggle/working/eeg.pth\n"
     ]
    },
    {
     "name": "stderr",
     "output_type": "stream",
     "text": [
      "Training epoch [3/50]:   0%|          | 0/162 [00:00<?, ?batch/s]/opt/conda/lib/python3.10/site-packages/torch/nn/parallel/parallel_apply.py:79: FutureWarning: `torch.cuda.amp.autocast(args...)` is deprecated. Please use `torch.amp.autocast('cuda', args...)` instead.\n",
      "  with torch.cuda.device(device), torch.cuda.stream(stream), autocast(enabled=autocast_enabled):\n",
      "Training epoch [3/50]: 100%|██████████| 162/162 [00:02<00:00, 80.80batch/s]\n"
     ]
    },
    {
     "name": "stdout",
     "output_type": "stream",
     "text": [
      "\t---> Loss: 1.1643\n",
      "\t---> Accuracy: 0.5004\n"
     ]
    },
    {
     "name": "stderr",
     "output_type": "stream",
     "text": [
      "Evaluating:   0%|          | 0/162 [00:00<?, ?batch/s]/opt/conda/lib/python3.10/site-packages/torch/nn/parallel/parallel_apply.py:79: FutureWarning: `torch.cuda.amp.autocast(args...)` is deprecated. Please use `torch.amp.autocast('cuda', args...)` instead.\n",
      "  with torch.cuda.device(device), torch.cuda.stream(stream), autocast(enabled=autocast_enabled):\n",
      "Evaluating: 100%|██████████| 162/162 [00:01<00:00, 132.96batch/s]\n"
     ]
    },
    {
     "name": "stdout",
     "output_type": "stream",
     "text": [
      "\t---> Loss: 1.1316\n",
      "\t---> Accuracy: 0.5154\n",
      "\tClassification Report:\n",
      "              precision    recall  f1-score   support\n",
      "\n",
      "   Left Hand       0.49      0.45      0.47       648\n",
      "  Right Hand       0.46      0.40      0.43       648\n",
      "        Foot       0.52      0.59      0.55       648\n",
      "      Tongue       0.57      0.62      0.60       648\n",
      "\n",
      "    accuracy                           0.52      2592\n",
      "   macro avg       0.51      0.52      0.51      2592\n",
      "weighted avg       0.51      0.52      0.51      2592\n",
      "\n",
      "Model is saved to  /kaggle/working/eeg.pth\n"
     ]
    },
    {
     "name": "stderr",
     "output_type": "stream",
     "text": [
      "Training epoch [4/50]:   0%|          | 0/162 [00:00<?, ?batch/s]/opt/conda/lib/python3.10/site-packages/torch/nn/parallel/parallel_apply.py:79: FutureWarning: `torch.cuda.amp.autocast(args...)` is deprecated. Please use `torch.amp.autocast('cuda', args...)` instead.\n",
      "  with torch.cuda.device(device), torch.cuda.stream(stream), autocast(enabled=autocast_enabled):\n",
      "Training epoch [4/50]: 100%|██████████| 162/162 [00:02<00:00, 78.46batch/s]\n"
     ]
    },
    {
     "name": "stdout",
     "output_type": "stream",
     "text": [
      "\t---> Loss: 1.1042\n",
      "\t---> Accuracy: 0.5282\n"
     ]
    },
    {
     "name": "stderr",
     "output_type": "stream",
     "text": [
      "Evaluating:   0%|          | 0/162 [00:00<?, ?batch/s]/opt/conda/lib/python3.10/site-packages/torch/nn/parallel/parallel_apply.py:79: FutureWarning: `torch.cuda.amp.autocast(args...)` is deprecated. Please use `torch.amp.autocast('cuda', args...)` instead.\n",
      "  with torch.cuda.device(device), torch.cuda.stream(stream), autocast(enabled=autocast_enabled):\n",
      "Evaluating: 100%|██████████| 162/162 [00:01<00:00, 128.61batch/s]\n"
     ]
    },
    {
     "name": "stdout",
     "output_type": "stream",
     "text": [
      "\t---> Loss: 1.1189\n",
      "\t---> Accuracy: 0.5189\n",
      "\tClassification Report:\n",
      "              precision    recall  f1-score   support\n",
      "\n",
      "   Left Hand       0.54      0.40      0.46       648\n",
      "  Right Hand       0.43      0.51      0.47       648\n",
      "        Foot       0.53      0.55      0.54       648\n",
      "      Tongue       0.60      0.61      0.61       648\n",
      "\n",
      "    accuracy                           0.52      2592\n",
      "   macro avg       0.52      0.52      0.52      2592\n",
      "weighted avg       0.52      0.52      0.52      2592\n",
      "\n",
      "Model is saved to  /kaggle/working/eeg.pth\n"
     ]
    },
    {
     "name": "stderr",
     "output_type": "stream",
     "text": [
      "Training epoch [5/50]:   0%|          | 0/162 [00:00<?, ?batch/s]/opt/conda/lib/python3.10/site-packages/torch/nn/parallel/parallel_apply.py:79: FutureWarning: `torch.cuda.amp.autocast(args...)` is deprecated. Please use `torch.amp.autocast('cuda', args...)` instead.\n",
      "  with torch.cuda.device(device), torch.cuda.stream(stream), autocast(enabled=autocast_enabled):\n",
      "Training epoch [5/50]: 100%|██████████| 162/162 [00:02<00:00, 79.87batch/s]\n"
     ]
    },
    {
     "name": "stdout",
     "output_type": "stream",
     "text": [
      "\t---> Loss: 1.0777\n",
      "\t---> Accuracy: 0.5397\n"
     ]
    },
    {
     "name": "stderr",
     "output_type": "stream",
     "text": [
      "Evaluating:   0%|          | 0/162 [00:00<?, ?batch/s]/opt/conda/lib/python3.10/site-packages/torch/nn/parallel/parallel_apply.py:79: FutureWarning: `torch.cuda.amp.autocast(args...)` is deprecated. Please use `torch.amp.autocast('cuda', args...)` instead.\n",
      "  with torch.cuda.device(device), torch.cuda.stream(stream), autocast(enabled=autocast_enabled):\n",
      "Evaluating: 100%|██████████| 162/162 [00:01<00:00, 133.06batch/s]\n"
     ]
    },
    {
     "name": "stdout",
     "output_type": "stream",
     "text": [
      "\t---> Loss: 1.0667\n",
      "\t---> Accuracy: 0.5575\n",
      "\tClassification Report:\n",
      "              precision    recall  f1-score   support\n",
      "\n",
      "   Left Hand       0.57      0.50      0.54       648\n",
      "  Right Hand       0.49      0.44      0.46       648\n",
      "        Foot       0.58      0.56      0.57       648\n",
      "      Tongue       0.57      0.73      0.64       648\n",
      "\n",
      "    accuracy                           0.56      2592\n",
      "   macro avg       0.56      0.56      0.55      2592\n",
      "weighted avg       0.56      0.56      0.55      2592\n",
      "\n",
      "Model is saved to  /kaggle/working/eeg.pth\n"
     ]
    },
    {
     "name": "stderr",
     "output_type": "stream",
     "text": [
      "Training epoch [6/50]:   0%|          | 0/162 [00:00<?, ?batch/s]/opt/conda/lib/python3.10/site-packages/torch/nn/parallel/parallel_apply.py:79: FutureWarning: `torch.cuda.amp.autocast(args...)` is deprecated. Please use `torch.amp.autocast('cuda', args...)` instead.\n",
      "  with torch.cuda.device(device), torch.cuda.stream(stream), autocast(enabled=autocast_enabled):\n",
      "Training epoch [6/50]: 100%|██████████| 162/162 [00:02<00:00, 80.95batch/s]\n"
     ]
    },
    {
     "name": "stdout",
     "output_type": "stream",
     "text": [
      "\t---> Loss: 1.0034\n",
      "\t---> Accuracy: 0.5772\n"
     ]
    },
    {
     "name": "stderr",
     "output_type": "stream",
     "text": [
      "Evaluating:   0%|          | 0/162 [00:00<?, ?batch/s]/opt/conda/lib/python3.10/site-packages/torch/nn/parallel/parallel_apply.py:79: FutureWarning: `torch.cuda.amp.autocast(args...)` is deprecated. Please use `torch.amp.autocast('cuda', args...)` instead.\n",
      "  with torch.cuda.device(device), torch.cuda.stream(stream), autocast(enabled=autocast_enabled):\n",
      "Evaluating: 100%|██████████| 162/162 [00:01<00:00, 131.59batch/s]\n"
     ]
    },
    {
     "name": "stdout",
     "output_type": "stream",
     "text": [
      "\t---> Loss: 1.0288\n",
      "\t---> Accuracy: 0.5698\n",
      "\tClassification Report:\n",
      "              precision    recall  f1-score   support\n",
      "\n",
      "   Left Hand       0.56      0.59      0.58       648\n",
      "  Right Hand       0.50      0.45      0.47       648\n",
      "        Foot       0.59      0.60      0.60       648\n",
      "      Tongue       0.61      0.64      0.62       648\n",
      "\n",
      "    accuracy                           0.57      2592\n",
      "   macro avg       0.57      0.57      0.57      2592\n",
      "weighted avg       0.57      0.57      0.57      2592\n",
      "\n",
      "Model is saved to  /kaggle/working/eeg.pth\n"
     ]
    },
    {
     "name": "stderr",
     "output_type": "stream",
     "text": [
      "Training epoch [7/50]:   0%|          | 0/162 [00:00<?, ?batch/s]/opt/conda/lib/python3.10/site-packages/torch/nn/parallel/parallel_apply.py:79: FutureWarning: `torch.cuda.amp.autocast(args...)` is deprecated. Please use `torch.amp.autocast('cuda', args...)` instead.\n",
      "  with torch.cuda.device(device), torch.cuda.stream(stream), autocast(enabled=autocast_enabled):\n",
      "Training epoch [7/50]: 100%|██████████| 162/162 [00:02<00:00, 76.47batch/s]\n"
     ]
    },
    {
     "name": "stdout",
     "output_type": "stream",
     "text": [
      "\t---> Loss: 1.0085\n",
      "\t---> Accuracy: 0.5802\n"
     ]
    },
    {
     "name": "stderr",
     "output_type": "stream",
     "text": [
      "Evaluating:   0%|          | 0/162 [00:00<?, ?batch/s]/opt/conda/lib/python3.10/site-packages/torch/nn/parallel/parallel_apply.py:79: FutureWarning: `torch.cuda.amp.autocast(args...)` is deprecated. Please use `torch.amp.autocast('cuda', args...)` instead.\n",
      "  with torch.cuda.device(device), torch.cuda.stream(stream), autocast(enabled=autocast_enabled):\n",
      "Evaluating: 100%|██████████| 162/162 [00:01<00:00, 119.95batch/s]\n"
     ]
    },
    {
     "name": "stdout",
     "output_type": "stream",
     "text": [
      "\t---> Loss: 1.0018\n",
      "\t---> Accuracy: 0.5768\n",
      "\tClassification Report:\n",
      "              precision    recall  f1-score   support\n",
      "\n",
      "   Left Hand       0.61      0.52      0.56       648\n",
      "  Right Hand       0.49      0.55      0.52       648\n",
      "        Foot       0.55      0.65      0.60       648\n",
      "      Tongue       0.68      0.59      0.63       648\n",
      "\n",
      "    accuracy                           0.58      2592\n",
      "   macro avg       0.58      0.58      0.58      2592\n",
      "weighted avg       0.58      0.58      0.58      2592\n",
      "\n",
      "Model is saved to  /kaggle/working/eeg.pth\n"
     ]
    },
    {
     "name": "stderr",
     "output_type": "stream",
     "text": [
      "Training epoch [8/50]:   0%|          | 0/162 [00:00<?, ?batch/s]/opt/conda/lib/python3.10/site-packages/torch/nn/parallel/parallel_apply.py:79: FutureWarning: `torch.cuda.amp.autocast(args...)` is deprecated. Please use `torch.amp.autocast('cuda', args...)` instead.\n",
      "  with torch.cuda.device(device), torch.cuda.stream(stream), autocast(enabled=autocast_enabled):\n",
      "Training epoch [8/50]: 100%|██████████| 162/162 [00:02<00:00, 79.13batch/s]\n"
     ]
    },
    {
     "name": "stdout",
     "output_type": "stream",
     "text": [
      "\t---> Loss: 0.9856\n",
      "\t---> Accuracy: 0.5934\n"
     ]
    },
    {
     "name": "stderr",
     "output_type": "stream",
     "text": [
      "Evaluating:   0%|          | 0/162 [00:00<?, ?batch/s]/opt/conda/lib/python3.10/site-packages/torch/nn/parallel/parallel_apply.py:79: FutureWarning: `torch.cuda.amp.autocast(args...)` is deprecated. Please use `torch.amp.autocast('cuda', args...)` instead.\n",
      "  with torch.cuda.device(device), torch.cuda.stream(stream), autocast(enabled=autocast_enabled):\n",
      "Evaluating: 100%|██████████| 162/162 [00:01<00:00, 134.56batch/s]\n"
     ]
    },
    {
     "name": "stdout",
     "output_type": "stream",
     "text": [
      "\t---> Loss: 0.9888\n",
      "\t---> Accuracy: 0.5903\n",
      "\tClassification Report:\n",
      "              precision    recall  f1-score   support\n",
      "\n",
      "   Left Hand       0.56      0.71      0.63       648\n",
      "  Right Hand       0.54      0.45      0.49       648\n",
      "        Foot       0.57      0.64      0.60       648\n",
      "      Tongue       0.74      0.56      0.64       648\n",
      "\n",
      "    accuracy                           0.59      2592\n",
      "   macro avg       0.60      0.59      0.59      2592\n",
      "weighted avg       0.60      0.59      0.59      2592\n",
      "\n",
      "Model is saved to  /kaggle/working/eeg.pth\n"
     ]
    },
    {
     "name": "stderr",
     "output_type": "stream",
     "text": [
      "Training epoch [9/50]:   0%|          | 0/162 [00:00<?, ?batch/s]/opt/conda/lib/python3.10/site-packages/torch/nn/parallel/parallel_apply.py:79: FutureWarning: `torch.cuda.amp.autocast(args...)` is deprecated. Please use `torch.amp.autocast('cuda', args...)` instead.\n",
      "  with torch.cuda.device(device), torch.cuda.stream(stream), autocast(enabled=autocast_enabled):\n",
      "Training epoch [9/50]: 100%|██████████| 162/162 [00:02<00:00, 80.92batch/s]\n"
     ]
    },
    {
     "name": "stdout",
     "output_type": "stream",
     "text": [
      "\t---> Loss: 0.9065\n",
      "\t---> Accuracy: 0.6285\n"
     ]
    },
    {
     "name": "stderr",
     "output_type": "stream",
     "text": [
      "Evaluating:   0%|          | 0/162 [00:00<?, ?batch/s]/opt/conda/lib/python3.10/site-packages/torch/nn/parallel/parallel_apply.py:79: FutureWarning: `torch.cuda.amp.autocast(args...)` is deprecated. Please use `torch.amp.autocast('cuda', args...)` instead.\n",
      "  with torch.cuda.device(device), torch.cuda.stream(stream), autocast(enabled=autocast_enabled):\n",
      "Evaluating: 100%|██████████| 162/162 [00:01<00:00, 134.84batch/s]\n"
     ]
    },
    {
     "name": "stdout",
     "output_type": "stream",
     "text": [
      "\t---> Loss: 0.9200\n",
      "\t---> Accuracy: 0.6184\n",
      "\tClassification Report:\n",
      "              precision    recall  f1-score   support\n",
      "\n",
      "   Left Hand       0.68      0.63      0.66       648\n",
      "  Right Hand       0.62      0.47      0.54       648\n",
      "        Foot       0.52      0.75      0.62       648\n",
      "      Tongue       0.70      0.62      0.66       648\n",
      "\n",
      "    accuracy                           0.62      2592\n",
      "   macro avg       0.63      0.62      0.62      2592\n",
      "weighted avg       0.63      0.62      0.62      2592\n",
      "\n",
      "Model is saved to  /kaggle/working/eeg.pth\n"
     ]
    },
    {
     "name": "stderr",
     "output_type": "stream",
     "text": [
      "Training epoch [10/50]:   0%|          | 0/162 [00:00<?, ?batch/s]/opt/conda/lib/python3.10/site-packages/torch/nn/parallel/parallel_apply.py:79: FutureWarning: `torch.cuda.amp.autocast(args...)` is deprecated. Please use `torch.amp.autocast('cuda', args...)` instead.\n",
      "  with torch.cuda.device(device), torch.cuda.stream(stream), autocast(enabled=autocast_enabled):\n",
      "Training epoch [10/50]: 100%|██████████| 162/162 [00:01<00:00, 83.31batch/s]\n"
     ]
    },
    {
     "name": "stdout",
     "output_type": "stream",
     "text": [
      "\t---> Loss: 0.8831\n",
      "\t---> Accuracy: 0.6481\n"
     ]
    },
    {
     "name": "stderr",
     "output_type": "stream",
     "text": [
      "Evaluating:   0%|          | 0/162 [00:00<?, ?batch/s]/opt/conda/lib/python3.10/site-packages/torch/nn/parallel/parallel_apply.py:79: FutureWarning: `torch.cuda.amp.autocast(args...)` is deprecated. Please use `torch.amp.autocast('cuda', args...)` instead.\n",
      "  with torch.cuda.device(device), torch.cuda.stream(stream), autocast(enabled=autocast_enabled):\n",
      "Evaluating: 100%|██████████| 162/162 [00:01<00:00, 132.30batch/s]\n"
     ]
    },
    {
     "name": "stdout",
     "output_type": "stream",
     "text": [
      "\t---> Loss: 0.9000\n",
      "\t---> Accuracy: 0.6427\n",
      "\tClassification Report:\n",
      "              precision    recall  f1-score   support\n",
      "\n",
      "   Left Hand       0.64      0.75      0.69       648\n",
      "  Right Hand       0.57      0.67      0.61       648\n",
      "        Foot       0.67      0.58      0.62       648\n",
      "      Tongue       0.74      0.56      0.64       648\n",
      "\n",
      "    accuracy                           0.64      2592\n",
      "   macro avg       0.65      0.64      0.64      2592\n",
      "weighted avg       0.65      0.64      0.64      2592\n",
      "\n",
      "Model is saved to  /kaggle/working/eeg.pth\n"
     ]
    },
    {
     "name": "stderr",
     "output_type": "stream",
     "text": [
      "Training epoch [11/50]:   0%|          | 0/162 [00:00<?, ?batch/s]/opt/conda/lib/python3.10/site-packages/torch/nn/parallel/parallel_apply.py:79: FutureWarning: `torch.cuda.amp.autocast(args...)` is deprecated. Please use `torch.amp.autocast('cuda', args...)` instead.\n",
      "  with torch.cuda.device(device), torch.cuda.stream(stream), autocast(enabled=autocast_enabled):\n",
      "Training epoch [11/50]: 100%|██████████| 162/162 [00:02<00:00, 80.83batch/s]\n"
     ]
    },
    {
     "name": "stdout",
     "output_type": "stream",
     "text": [
      "\t---> Loss: 0.8547\n",
      "\t---> Accuracy: 0.6597\n"
     ]
    },
    {
     "name": "stderr",
     "output_type": "stream",
     "text": [
      "Evaluating:   0%|          | 0/162 [00:00<?, ?batch/s]/opt/conda/lib/python3.10/site-packages/torch/nn/parallel/parallel_apply.py:79: FutureWarning: `torch.cuda.amp.autocast(args...)` is deprecated. Please use `torch.amp.autocast('cuda', args...)` instead.\n",
      "  with torch.cuda.device(device), torch.cuda.stream(stream), autocast(enabled=autocast_enabled):\n",
      "Evaluating: 100%|██████████| 162/162 [00:01<00:00, 134.99batch/s]\n"
     ]
    },
    {
     "name": "stdout",
     "output_type": "stream",
     "text": [
      "\t---> Loss: 0.8810\n",
      "\t---> Accuracy: 0.6439\n",
      "\tClassification Report:\n",
      "              precision    recall  f1-score   support\n",
      "\n",
      "   Left Hand       0.70      0.63      0.66       648\n",
      "  Right Hand       0.63      0.61      0.62       648\n",
      "        Foot       0.57      0.71      0.63       648\n",
      "      Tongue       0.69      0.63      0.66       648\n",
      "\n",
      "    accuracy                           0.64      2592\n",
      "   macro avg       0.65      0.64      0.64      2592\n",
      "weighted avg       0.65      0.64      0.64      2592\n",
      "\n",
      "Model is saved to  /kaggle/working/eeg.pth\n"
     ]
    },
    {
     "name": "stderr",
     "output_type": "stream",
     "text": [
      "Training epoch [12/50]:   0%|          | 0/162 [00:00<?, ?batch/s]/opt/conda/lib/python3.10/site-packages/torch/nn/parallel/parallel_apply.py:79: FutureWarning: `torch.cuda.amp.autocast(args...)` is deprecated. Please use `torch.amp.autocast('cuda', args...)` instead.\n",
      "  with torch.cuda.device(device), torch.cuda.stream(stream), autocast(enabled=autocast_enabled):\n",
      "Training epoch [12/50]: 100%|██████████| 162/162 [00:01<00:00, 81.35batch/s]\n"
     ]
    },
    {
     "name": "stdout",
     "output_type": "stream",
     "text": [
      "\t---> Loss: 0.8886\n",
      "\t---> Accuracy: 0.6292\n"
     ]
    },
    {
     "name": "stderr",
     "output_type": "stream",
     "text": [
      "Evaluating:   0%|          | 0/162 [00:00<?, ?batch/s]/opt/conda/lib/python3.10/site-packages/torch/nn/parallel/parallel_apply.py:79: FutureWarning: `torch.cuda.amp.autocast(args...)` is deprecated. Please use `torch.amp.autocast('cuda', args...)` instead.\n",
      "  with torch.cuda.device(device), torch.cuda.stream(stream), autocast(enabled=autocast_enabled):\n",
      "Evaluating: 100%|██████████| 162/162 [00:01<00:00, 135.61batch/s]\n"
     ]
    },
    {
     "name": "stdout",
     "output_type": "stream",
     "text": [
      "\t---> Loss: 0.8867\n",
      "\t---> Accuracy: 0.6470\n",
      "\tClassification Report:\n",
      "              precision    recall  f1-score   support\n",
      "\n",
      "   Left Hand       0.69      0.71      0.70       648\n",
      "  Right Hand       0.55      0.71      0.62       648\n",
      "        Foot       0.67      0.60      0.63       648\n",
      "      Tongue       0.72      0.57      0.64       648\n",
      "\n",
      "    accuracy                           0.65      2592\n",
      "   macro avg       0.66      0.65      0.65      2592\n",
      "weighted avg       0.66      0.65      0.65      2592\n",
      "\n",
      "Model is saved to  /kaggle/working/eeg.pth\n"
     ]
    },
    {
     "name": "stderr",
     "output_type": "stream",
     "text": [
      "Training epoch [13/50]:   0%|          | 0/162 [00:00<?, ?batch/s]/opt/conda/lib/python3.10/site-packages/torch/nn/parallel/parallel_apply.py:79: FutureWarning: `torch.cuda.amp.autocast(args...)` is deprecated. Please use `torch.amp.autocast('cuda', args...)` instead.\n",
      "  with torch.cuda.device(device), torch.cuda.stream(stream), autocast(enabled=autocast_enabled):\n",
      "Training epoch [13/50]: 100%|██████████| 162/162 [00:02<00:00, 79.35batch/s]\n"
     ]
    },
    {
     "name": "stdout",
     "output_type": "stream",
     "text": [
      "\t---> Loss: 0.8723\n",
      "\t---> Accuracy: 0.6466\n"
     ]
    },
    {
     "name": "stderr",
     "output_type": "stream",
     "text": [
      "Evaluating:   0%|          | 0/162 [00:00<?, ?batch/s]/opt/conda/lib/python3.10/site-packages/torch/nn/parallel/parallel_apply.py:79: FutureWarning: `torch.cuda.amp.autocast(args...)` is deprecated. Please use `torch.amp.autocast('cuda', args...)` instead.\n",
      "  with torch.cuda.device(device), torch.cuda.stream(stream), autocast(enabled=autocast_enabled):\n",
      "Evaluating: 100%|██████████| 162/162 [00:01<00:00, 132.88batch/s]\n"
     ]
    },
    {
     "name": "stdout",
     "output_type": "stream",
     "text": [
      "\t---> Loss: 0.8846\n",
      "\t---> Accuracy: 0.6551\n",
      "\tClassification Report:\n",
      "              precision    recall  f1-score   support\n",
      "\n",
      "   Left Hand       0.60      0.80      0.69       648\n",
      "  Right Hand       0.65      0.62      0.64       648\n",
      "        Foot       0.71      0.51      0.59       648\n",
      "      Tongue       0.69      0.69      0.69       648\n",
      "\n",
      "    accuracy                           0.66      2592\n",
      "   macro avg       0.66      0.66      0.65      2592\n",
      "weighted avg       0.66      0.66      0.65      2592\n",
      "\n",
      "Model is saved to  /kaggle/working/eeg.pth\n"
     ]
    },
    {
     "name": "stderr",
     "output_type": "stream",
     "text": [
      "Training epoch [14/50]:   0%|          | 0/162 [00:00<?, ?batch/s]/opt/conda/lib/python3.10/site-packages/torch/nn/parallel/parallel_apply.py:79: FutureWarning: `torch.cuda.amp.autocast(args...)` is deprecated. Please use `torch.amp.autocast('cuda', args...)` instead.\n",
      "  with torch.cuda.device(device), torch.cuda.stream(stream), autocast(enabled=autocast_enabled):\n",
      "Training epoch [14/50]: 100%|██████████| 162/162 [00:01<00:00, 82.01batch/s]\n"
     ]
    },
    {
     "name": "stdout",
     "output_type": "stream",
     "text": [
      "\t---> Loss: 0.8216\n",
      "\t---> Accuracy: 0.6613\n"
     ]
    },
    {
     "name": "stderr",
     "output_type": "stream",
     "text": [
      "Evaluating:   0%|          | 0/162 [00:00<?, ?batch/s]/opt/conda/lib/python3.10/site-packages/torch/nn/parallel/parallel_apply.py:79: FutureWarning: `torch.cuda.amp.autocast(args...)` is deprecated. Please use `torch.amp.autocast('cuda', args...)` instead.\n",
      "  with torch.cuda.device(device), torch.cuda.stream(stream), autocast(enabled=autocast_enabled):\n",
      "Evaluating: 100%|██████████| 162/162 [00:01<00:00, 135.66batch/s]\n"
     ]
    },
    {
     "name": "stdout",
     "output_type": "stream",
     "text": [
      "\t---> Loss: 0.8640\n",
      "\t---> Accuracy: 0.6613\n",
      "\tClassification Report:\n",
      "              precision    recall  f1-score   support\n",
      "\n",
      "   Left Hand       0.64      0.77      0.70       648\n",
      "  Right Hand       0.69      0.56      0.62       648\n",
      "        Foot       0.61      0.71      0.66       648\n",
      "      Tongue       0.73      0.60      0.66       648\n",
      "\n",
      "    accuracy                           0.66      2592\n",
      "   macro avg       0.67      0.66      0.66      2592\n",
      "weighted avg       0.67      0.66      0.66      2592\n",
      "\n",
      "Model is saved to  /kaggle/working/eeg.pth\n"
     ]
    },
    {
     "name": "stderr",
     "output_type": "stream",
     "text": [
      "Training epoch [15/50]:   0%|          | 0/162 [00:00<?, ?batch/s]/opt/conda/lib/python3.10/site-packages/torch/nn/parallel/parallel_apply.py:79: FutureWarning: `torch.cuda.amp.autocast(args...)` is deprecated. Please use `torch.amp.autocast('cuda', args...)` instead.\n",
      "  with torch.cuda.device(device), torch.cuda.stream(stream), autocast(enabled=autocast_enabled):\n",
      "Training epoch [15/50]: 100%|██████████| 162/162 [00:01<00:00, 82.10batch/s]\n"
     ]
    },
    {
     "name": "stdout",
     "output_type": "stream",
     "text": [
      "\t---> Loss: 0.8280\n",
      "\t---> Accuracy: 0.6690\n"
     ]
    },
    {
     "name": "stderr",
     "output_type": "stream",
     "text": [
      "Evaluating:   0%|          | 0/162 [00:00<?, ?batch/s]/opt/conda/lib/python3.10/site-packages/torch/nn/parallel/parallel_apply.py:79: FutureWarning: `torch.cuda.amp.autocast(args...)` is deprecated. Please use `torch.amp.autocast('cuda', args...)` instead.\n",
      "  with torch.cuda.device(device), torch.cuda.stream(stream), autocast(enabled=autocast_enabled):\n",
      "Evaluating: 100%|██████████| 162/162 [00:01<00:00, 135.28batch/s]\n"
     ]
    },
    {
     "name": "stdout",
     "output_type": "stream",
     "text": [
      "\t---> Loss: 0.8447\n",
      "\t---> Accuracy: 0.6705\n",
      "\tClassification Report:\n",
      "              precision    recall  f1-score   support\n",
      "\n",
      "   Left Hand       0.72      0.68      0.70       648\n",
      "  Right Hand       0.63      0.67      0.65       648\n",
      "        Foot       0.64      0.65      0.65       648\n",
      "      Tongue       0.70      0.68      0.69       648\n",
      "\n",
      "    accuracy                           0.67      2592\n",
      "   macro avg       0.67      0.67      0.67      2592\n",
      "weighted avg       0.67      0.67      0.67      2592\n",
      "\n",
      "Model is saved to  /kaggle/working/eeg.pth\n"
     ]
    },
    {
     "name": "stderr",
     "output_type": "stream",
     "text": [
      "Training epoch [16/50]:   0%|          | 0/162 [00:00<?, ?batch/s]/opt/conda/lib/python3.10/site-packages/torch/nn/parallel/parallel_apply.py:79: FutureWarning: `torch.cuda.amp.autocast(args...)` is deprecated. Please use `torch.amp.autocast('cuda', args...)` instead.\n",
      "  with torch.cuda.device(device), torch.cuda.stream(stream), autocast(enabled=autocast_enabled):\n",
      "Training epoch [16/50]: 100%|██████████| 162/162 [00:02<00:00, 79.75batch/s]\n"
     ]
    },
    {
     "name": "stdout",
     "output_type": "stream",
     "text": [
      "\t---> Loss: 0.7970\n",
      "\t---> Accuracy: 0.6817\n"
     ]
    },
    {
     "name": "stderr",
     "output_type": "stream",
     "text": [
      "Evaluating:   0%|          | 0/162 [00:00<?, ?batch/s]/opt/conda/lib/python3.10/site-packages/torch/nn/parallel/parallel_apply.py:79: FutureWarning: `torch.cuda.amp.autocast(args...)` is deprecated. Please use `torch.amp.autocast('cuda', args...)` instead.\n",
      "  with torch.cuda.device(device), torch.cuda.stream(stream), autocast(enabled=autocast_enabled):\n",
      "Evaluating: 100%|██████████| 162/162 [00:01<00:00, 131.38batch/s]\n"
     ]
    },
    {
     "name": "stdout",
     "output_type": "stream",
     "text": [
      "\t---> Loss: 0.8463\n",
      "\t---> Accuracy: 0.6593\n",
      "\tClassification Report:\n",
      "              precision    recall  f1-score   support\n",
      "\n",
      "   Left Hand       0.70      0.64      0.67       648\n",
      "  Right Hand       0.61      0.71      0.66       648\n",
      "        Foot       0.62      0.70      0.66       648\n",
      "      Tongue       0.75      0.58      0.66       648\n",
      "\n",
      "    accuracy                           0.66      2592\n",
      "   macro avg       0.67      0.66      0.66      2592\n",
      "weighted avg       0.67      0.66      0.66      2592\n",
      "\n"
     ]
    },
    {
     "name": "stderr",
     "output_type": "stream",
     "text": [
      "Training epoch [17/50]:   0%|          | 0/162 [00:00<?, ?batch/s]/opt/conda/lib/python3.10/site-packages/torch/nn/parallel/parallel_apply.py:79: FutureWarning: `torch.cuda.amp.autocast(args...)` is deprecated. Please use `torch.amp.autocast('cuda', args...)` instead.\n",
      "  with torch.cuda.device(device), torch.cuda.stream(stream), autocast(enabled=autocast_enabled):\n",
      "Training epoch [17/50]: 100%|██████████| 162/162 [00:02<00:00, 73.31batch/s]\n"
     ]
    },
    {
     "name": "stdout",
     "output_type": "stream",
     "text": [
      "\t---> Loss: 0.8094\n",
      "\t---> Accuracy: 0.6863\n"
     ]
    },
    {
     "name": "stderr",
     "output_type": "stream",
     "text": [
      "Evaluating:   0%|          | 0/162 [00:00<?, ?batch/s]/opt/conda/lib/python3.10/site-packages/torch/nn/parallel/parallel_apply.py:79: FutureWarning: `torch.cuda.amp.autocast(args...)` is deprecated. Please use `torch.amp.autocast('cuda', args...)` instead.\n",
      "  with torch.cuda.device(device), torch.cuda.stream(stream), autocast(enabled=autocast_enabled):\n",
      "Evaluating: 100%|██████████| 162/162 [00:01<00:00, 132.96batch/s]\n"
     ]
    },
    {
     "name": "stdout",
     "output_type": "stream",
     "text": [
      "\t---> Loss: 0.8357\n",
      "\t---> Accuracy: 0.6755\n",
      "\tClassification Report:\n",
      "              precision    recall  f1-score   support\n",
      "\n",
      "   Left Hand       0.67      0.74      0.71       648\n",
      "  Right Hand       0.74      0.54      0.63       648\n",
      "        Foot       0.61      0.72      0.66       648\n",
      "      Tongue       0.70      0.69      0.70       648\n",
      "\n",
      "    accuracy                           0.68      2592\n",
      "   macro avg       0.68      0.68      0.67      2592\n",
      "weighted avg       0.68      0.68      0.67      2592\n",
      "\n",
      "Model is saved to  /kaggle/working/eeg.pth\n"
     ]
    },
    {
     "name": "stderr",
     "output_type": "stream",
     "text": [
      "Training epoch [18/50]:   0%|          | 0/162 [00:00<?, ?batch/s]/opt/conda/lib/python3.10/site-packages/torch/nn/parallel/parallel_apply.py:79: FutureWarning: `torch.cuda.amp.autocast(args...)` is deprecated. Please use `torch.amp.autocast('cuda', args...)` instead.\n",
      "  with torch.cuda.device(device), torch.cuda.stream(stream), autocast(enabled=autocast_enabled):\n",
      "Training epoch [18/50]: 100%|██████████| 162/162 [00:01<00:00, 82.89batch/s]\n"
     ]
    },
    {
     "name": "stdout",
     "output_type": "stream",
     "text": [
      "\t---> Loss: 0.8241\n",
      "\t---> Accuracy: 0.6644\n"
     ]
    },
    {
     "name": "stderr",
     "output_type": "stream",
     "text": [
      "Evaluating:   0%|          | 0/162 [00:00<?, ?batch/s]/opt/conda/lib/python3.10/site-packages/torch/nn/parallel/parallel_apply.py:79: FutureWarning: `torch.cuda.amp.autocast(args...)` is deprecated. Please use `torch.amp.autocast('cuda', args...)` instead.\n",
      "  with torch.cuda.device(device), torch.cuda.stream(stream), autocast(enabled=autocast_enabled):\n",
      "Evaluating: 100%|██████████| 162/162 [00:01<00:00, 136.78batch/s]\n"
     ]
    },
    {
     "name": "stdout",
     "output_type": "stream",
     "text": [
      "\t---> Loss: 0.8526\n",
      "\t---> Accuracy: 0.6678\n",
      "\tClassification Report:\n",
      "              precision    recall  f1-score   support\n",
      "\n",
      "   Left Hand       0.70      0.69      0.69       648\n",
      "  Right Hand       0.64      0.68      0.66       648\n",
      "        Foot       0.64      0.67      0.65       648\n",
      "      Tongue       0.70      0.64      0.67       648\n",
      "\n",
      "    accuracy                           0.67      2592\n",
      "   macro avg       0.67      0.67      0.67      2592\n",
      "weighted avg       0.67      0.67      0.67      2592\n",
      "\n"
     ]
    },
    {
     "name": "stderr",
     "output_type": "stream",
     "text": [
      "Training epoch [19/50]:   0%|          | 0/162 [00:00<?, ?batch/s]/opt/conda/lib/python3.10/site-packages/torch/nn/parallel/parallel_apply.py:79: FutureWarning: `torch.cuda.amp.autocast(args...)` is deprecated. Please use `torch.amp.autocast('cuda', args...)` instead.\n",
      "  with torch.cuda.device(device), torch.cuda.stream(stream), autocast(enabled=autocast_enabled):\n",
      "Training epoch [19/50]: 100%|██████████| 162/162 [00:01<00:00, 81.64batch/s]\n"
     ]
    },
    {
     "name": "stdout",
     "output_type": "stream",
     "text": [
      "\t---> Loss: 0.8072\n",
      "\t---> Accuracy: 0.6767\n"
     ]
    },
    {
     "name": "stderr",
     "output_type": "stream",
     "text": [
      "Evaluating:   0%|          | 0/162 [00:00<?, ?batch/s]/opt/conda/lib/python3.10/site-packages/torch/nn/parallel/parallel_apply.py:79: FutureWarning: `torch.cuda.amp.autocast(args...)` is deprecated. Please use `torch.amp.autocast('cuda', args...)` instead.\n",
      "  with torch.cuda.device(device), torch.cuda.stream(stream), autocast(enabled=autocast_enabled):\n",
      "Evaluating: 100%|██████████| 162/162 [00:01<00:00, 135.56batch/s]\n"
     ]
    },
    {
     "name": "stdout",
     "output_type": "stream",
     "text": [
      "\t---> Loss: 0.8148\n",
      "\t---> Accuracy: 0.6906\n",
      "\tClassification Report:\n",
      "              precision    recall  f1-score   support\n",
      "\n",
      "   Left Hand       0.67      0.80      0.73       648\n",
      "  Right Hand       0.68      0.65      0.67       648\n",
      "        Foot       0.71      0.61      0.66       648\n",
      "      Tongue       0.71      0.70      0.70       648\n",
      "\n",
      "    accuracy                           0.69      2592\n",
      "   macro avg       0.69      0.69      0.69      2592\n",
      "weighted avg       0.69      0.69      0.69      2592\n",
      "\n",
      "Model is saved to  /kaggle/working/eeg.pth\n"
     ]
    },
    {
     "name": "stderr",
     "output_type": "stream",
     "text": [
      "Training epoch [20/50]:   0%|          | 0/162 [00:00<?, ?batch/s]/opt/conda/lib/python3.10/site-packages/torch/nn/parallel/parallel_apply.py:79: FutureWarning: `torch.cuda.amp.autocast(args...)` is deprecated. Please use `torch.amp.autocast('cuda', args...)` instead.\n",
      "  with torch.cuda.device(device), torch.cuda.stream(stream), autocast(enabled=autocast_enabled):\n",
      "Training epoch [20/50]: 100%|██████████| 162/162 [00:01<00:00, 83.87batch/s]\n"
     ]
    },
    {
     "name": "stdout",
     "output_type": "stream",
     "text": [
      "\t---> Loss: 0.7708\n",
      "\t---> Accuracy: 0.6902\n"
     ]
    },
    {
     "name": "stderr",
     "output_type": "stream",
     "text": [
      "Evaluating:   0%|          | 0/162 [00:00<?, ?batch/s]/opt/conda/lib/python3.10/site-packages/torch/nn/parallel/parallel_apply.py:79: FutureWarning: `torch.cuda.amp.autocast(args...)` is deprecated. Please use `torch.amp.autocast('cuda', args...)` instead.\n",
      "  with torch.cuda.device(device), torch.cuda.stream(stream), autocast(enabled=autocast_enabled):\n",
      "Evaluating: 100%|██████████| 162/162 [00:01<00:00, 129.96batch/s]\n"
     ]
    },
    {
     "name": "stdout",
     "output_type": "stream",
     "text": [
      "\t---> Loss: 0.8295\n",
      "\t---> Accuracy: 0.6740\n",
      "\tClassification Report:\n",
      "              precision    recall  f1-score   support\n",
      "\n",
      "   Left Hand       0.59      0.83      0.69       648\n",
      "  Right Hand       0.72      0.63      0.67       648\n",
      "        Foot       0.70      0.59      0.64       648\n",
      "      Tongue       0.73      0.64      0.68       648\n",
      "\n",
      "    accuracy                           0.67      2592\n",
      "   macro avg       0.69      0.67      0.67      2592\n",
      "weighted avg       0.69      0.67      0.67      2592\n",
      "\n"
     ]
    },
    {
     "name": "stderr",
     "output_type": "stream",
     "text": [
      "Training epoch [21/50]:   0%|          | 0/162 [00:00<?, ?batch/s]/opt/conda/lib/python3.10/site-packages/torch/nn/parallel/parallel_apply.py:79: FutureWarning: `torch.cuda.amp.autocast(args...)` is deprecated. Please use `torch.amp.autocast('cuda', args...)` instead.\n",
      "  with torch.cuda.device(device), torch.cuda.stream(stream), autocast(enabled=autocast_enabled):\n",
      "Training epoch [21/50]: 100%|██████████| 162/162 [00:02<00:00, 80.72batch/s]\n"
     ]
    },
    {
     "name": "stdout",
     "output_type": "stream",
     "text": [
      "\t---> Loss: 0.7793\n",
      "\t---> Accuracy: 0.6879\n"
     ]
    },
    {
     "name": "stderr",
     "output_type": "stream",
     "text": [
      "Evaluating:   0%|          | 0/162 [00:00<?, ?batch/s]/opt/conda/lib/python3.10/site-packages/torch/nn/parallel/parallel_apply.py:79: FutureWarning: `torch.cuda.amp.autocast(args...)` is deprecated. Please use `torch.amp.autocast('cuda', args...)` instead.\n",
      "  with torch.cuda.device(device), torch.cuda.stream(stream), autocast(enabled=autocast_enabled):\n",
      "Evaluating: 100%|██████████| 162/162 [00:01<00:00, 134.78batch/s]\n"
     ]
    },
    {
     "name": "stdout",
     "output_type": "stream",
     "text": [
      "\t---> Loss: 0.8125\n",
      "\t---> Accuracy: 0.6809\n",
      "\tClassification Report:\n",
      "              precision    recall  f1-score   support\n",
      "\n",
      "   Left Hand       0.66      0.78      0.71       648\n",
      "  Right Hand       0.70      0.62      0.66       648\n",
      "        Foot       0.66      0.67      0.66       648\n",
      "      Tongue       0.72      0.65      0.68       648\n",
      "\n",
      "    accuracy                           0.68      2592\n",
      "   macro avg       0.68      0.68      0.68      2592\n",
      "weighted avg       0.68      0.68      0.68      2592\n",
      "\n"
     ]
    },
    {
     "name": "stderr",
     "output_type": "stream",
     "text": [
      "Training epoch [22/50]:   0%|          | 0/162 [00:00<?, ?batch/s]/opt/conda/lib/python3.10/site-packages/torch/nn/parallel/parallel_apply.py:79: FutureWarning: `torch.cuda.amp.autocast(args...)` is deprecated. Please use `torch.amp.autocast('cuda', args...)` instead.\n",
      "  with torch.cuda.device(device), torch.cuda.stream(stream), autocast(enabled=autocast_enabled):\n",
      "Training epoch [22/50]: 100%|██████████| 162/162 [00:02<00:00, 80.14batch/s]\n"
     ]
    },
    {
     "name": "stdout",
     "output_type": "stream",
     "text": [
      "\t---> Loss: 0.7639\n",
      "\t---> Accuracy: 0.7045\n"
     ]
    },
    {
     "name": "stderr",
     "output_type": "stream",
     "text": [
      "Evaluating:   0%|          | 0/162 [00:00<?, ?batch/s]/opt/conda/lib/python3.10/site-packages/torch/nn/parallel/parallel_apply.py:79: FutureWarning: `torch.cuda.amp.autocast(args...)` is deprecated. Please use `torch.amp.autocast('cuda', args...)` instead.\n",
      "  with torch.cuda.device(device), torch.cuda.stream(stream), autocast(enabled=autocast_enabled):\n",
      "Evaluating: 100%|██████████| 162/162 [00:01<00:00, 128.88batch/s]\n"
     ]
    },
    {
     "name": "stdout",
     "output_type": "stream",
     "text": [
      "\t---> Loss: 0.8157\n",
      "\t---> Accuracy: 0.6856\n",
      "\tClassification Report:\n",
      "              precision    recall  f1-score   support\n",
      "\n",
      "   Left Hand       0.65      0.75      0.70       648\n",
      "  Right Hand       0.71      0.66      0.68       648\n",
      "        Foot       0.67      0.67      0.67       648\n",
      "      Tongue       0.71      0.67      0.69       648\n",
      "\n",
      "    accuracy                           0.69      2592\n",
      "   macro avg       0.69      0.69      0.69      2592\n",
      "weighted avg       0.69      0.69      0.69      2592\n",
      "\n"
     ]
    },
    {
     "name": "stderr",
     "output_type": "stream",
     "text": [
      "Training epoch [23/50]:   0%|          | 0/162 [00:00<?, ?batch/s]/opt/conda/lib/python3.10/site-packages/torch/nn/parallel/parallel_apply.py:79: FutureWarning: `torch.cuda.amp.autocast(args...)` is deprecated. Please use `torch.amp.autocast('cuda', args...)` instead.\n",
      "  with torch.cuda.device(device), torch.cuda.stream(stream), autocast(enabled=autocast_enabled):\n",
      "Training epoch [23/50]: 100%|██████████| 162/162 [00:01<00:00, 83.70batch/s]\n"
     ]
    },
    {
     "name": "stdout",
     "output_type": "stream",
     "text": [
      "\t---> Loss: 0.7685\n",
      "\t---> Accuracy: 0.6968\n"
     ]
    },
    {
     "name": "stderr",
     "output_type": "stream",
     "text": [
      "Evaluating:   0%|          | 0/162 [00:00<?, ?batch/s]/opt/conda/lib/python3.10/site-packages/torch/nn/parallel/parallel_apply.py:79: FutureWarning: `torch.cuda.amp.autocast(args...)` is deprecated. Please use `torch.amp.autocast('cuda', args...)` instead.\n",
      "  with torch.cuda.device(device), torch.cuda.stream(stream), autocast(enabled=autocast_enabled):\n",
      "Evaluating: 100%|██████████| 162/162 [00:01<00:00, 133.60batch/s]\n"
     ]
    },
    {
     "name": "stdout",
     "output_type": "stream",
     "text": [
      "\t---> Loss: 0.8169\n",
      "\t---> Accuracy: 0.6817\n",
      "\tClassification Report:\n",
      "              precision    recall  f1-score   support\n",
      "\n",
      "   Left Hand       0.66      0.77      0.71       648\n",
      "  Right Hand       0.72      0.60      0.65       648\n",
      "        Foot       0.67      0.63      0.65       648\n",
      "      Tongue       0.69      0.73      0.71       648\n",
      "\n",
      "    accuracy                           0.68      2592\n",
      "   macro avg       0.68      0.68      0.68      2592\n",
      "weighted avg       0.68      0.68      0.68      2592\n",
      "\n"
     ]
    },
    {
     "name": "stderr",
     "output_type": "stream",
     "text": [
      "Training epoch [24/50]:   0%|          | 0/162 [00:00<?, ?batch/s]/opt/conda/lib/python3.10/site-packages/torch/nn/parallel/parallel_apply.py:79: FutureWarning: `torch.cuda.amp.autocast(args...)` is deprecated. Please use `torch.amp.autocast('cuda', args...)` instead.\n",
      "  with torch.cuda.device(device), torch.cuda.stream(stream), autocast(enabled=autocast_enabled):\n",
      "Training epoch [24/50]: 100%|██████████| 162/162 [00:01<00:00, 82.26batch/s]\n"
     ]
    },
    {
     "name": "stdout",
     "output_type": "stream",
     "text": [
      "\t---> Loss: 0.7566\n",
      "\t---> Accuracy: 0.6937\n"
     ]
    },
    {
     "name": "stderr",
     "output_type": "stream",
     "text": [
      "Evaluating:   0%|          | 0/162 [00:00<?, ?batch/s]/opt/conda/lib/python3.10/site-packages/torch/nn/parallel/parallel_apply.py:79: FutureWarning: `torch.cuda.amp.autocast(args...)` is deprecated. Please use `torch.amp.autocast('cuda', args...)` instead.\n",
      "  with torch.cuda.device(device), torch.cuda.stream(stream), autocast(enabled=autocast_enabled):\n",
      "Evaluating: 100%|██████████| 162/162 [00:01<00:00, 135.26batch/s]\n"
     ]
    },
    {
     "name": "stdout",
     "output_type": "stream",
     "text": [
      "\t---> Loss: 0.8797\n",
      "\t---> Accuracy: 0.6501\n",
      "\tClassification Report:\n",
      "              precision    recall  f1-score   support\n",
      "\n",
      "   Left Hand       0.75      0.58      0.65       648\n",
      "  Right Hand       0.57      0.75      0.64       648\n",
      "        Foot       0.74      0.49      0.59       648\n",
      "      Tongue       0.63      0.78      0.70       648\n",
      "\n",
      "    accuracy                           0.65      2592\n",
      "   macro avg       0.67      0.65      0.65      2592\n",
      "weighted avg       0.67      0.65      0.65      2592\n",
      "\n"
     ]
    },
    {
     "name": "stderr",
     "output_type": "stream",
     "text": [
      "Training epoch [25/50]:   0%|          | 0/162 [00:00<?, ?batch/s]/opt/conda/lib/python3.10/site-packages/torch/nn/parallel/parallel_apply.py:79: FutureWarning: `torch.cuda.amp.autocast(args...)` is deprecated. Please use `torch.amp.autocast('cuda', args...)` instead.\n",
      "  with torch.cuda.device(device), torch.cuda.stream(stream), autocast(enabled=autocast_enabled):\n",
      "Training epoch [25/50]: 100%|██████████| 162/162 [00:01<00:00, 82.86batch/s]\n"
     ]
    },
    {
     "name": "stdout",
     "output_type": "stream",
     "text": [
      "\t---> Loss: 0.7657\n",
      "\t---> Accuracy: 0.6941\n"
     ]
    },
    {
     "name": "stderr",
     "output_type": "stream",
     "text": [
      "Evaluating:   0%|          | 0/162 [00:00<?, ?batch/s]/opt/conda/lib/python3.10/site-packages/torch/nn/parallel/parallel_apply.py:79: FutureWarning: `torch.cuda.amp.autocast(args...)` is deprecated. Please use `torch.amp.autocast('cuda', args...)` instead.\n",
      "  with torch.cuda.device(device), torch.cuda.stream(stream), autocast(enabled=autocast_enabled):\n",
      "Evaluating: 100%|██████████| 162/162 [00:01<00:00, 130.21batch/s]\n"
     ]
    },
    {
     "name": "stdout",
     "output_type": "stream",
     "text": [
      "\t---> Loss: 0.8115\n",
      "\t---> Accuracy: 0.6825\n",
      "\tClassification Report:\n",
      "              precision    recall  f1-score   support\n",
      "\n",
      "   Left Hand       0.71      0.73      0.72       648\n",
      "  Right Hand       0.66      0.65      0.66       648\n",
      "        Foot       0.65      0.71      0.67       648\n",
      "      Tongue       0.72      0.64      0.67       648\n",
      "\n",
      "    accuracy                           0.68      2592\n",
      "   macro avg       0.68      0.68      0.68      2592\n",
      "weighted avg       0.68      0.68      0.68      2592\n",
      "\n"
     ]
    },
    {
     "name": "stderr",
     "output_type": "stream",
     "text": [
      "Training epoch [26/50]:   0%|          | 0/162 [00:00<?, ?batch/s]/opt/conda/lib/python3.10/site-packages/torch/nn/parallel/parallel_apply.py:79: FutureWarning: `torch.cuda.amp.autocast(args...)` is deprecated. Please use `torch.amp.autocast('cuda', args...)` instead.\n",
      "  with torch.cuda.device(device), torch.cuda.stream(stream), autocast(enabled=autocast_enabled):\n",
      "Training epoch [26/50]: 100%|██████████| 162/162 [00:01<00:00, 81.29batch/s]\n"
     ]
    },
    {
     "name": "stdout",
     "output_type": "stream",
     "text": [
      "\t---> Loss: 0.7573\n",
      "\t---> Accuracy: 0.6995\n"
     ]
    },
    {
     "name": "stderr",
     "output_type": "stream",
     "text": [
      "Evaluating:   0%|          | 0/162 [00:00<?, ?batch/s]/opt/conda/lib/python3.10/site-packages/torch/nn/parallel/parallel_apply.py:79: FutureWarning: `torch.cuda.amp.autocast(args...)` is deprecated. Please use `torch.amp.autocast('cuda', args...)` instead.\n",
      "  with torch.cuda.device(device), torch.cuda.stream(stream), autocast(enabled=autocast_enabled):\n",
      "Evaluating: 100%|██████████| 162/162 [00:01<00:00, 133.65batch/s]\n"
     ]
    },
    {
     "name": "stdout",
     "output_type": "stream",
     "text": [
      "\t---> Loss: 0.8285\n",
      "\t---> Accuracy: 0.6659\n",
      "\tClassification Report:\n",
      "              precision    recall  f1-score   support\n",
      "\n",
      "   Left Hand       0.72      0.69      0.71       648\n",
      "  Right Hand       0.72      0.59      0.65       648\n",
      "        Foot       0.55      0.76      0.64       648\n",
      "      Tongue       0.73      0.62      0.67       648\n",
      "\n",
      "    accuracy                           0.67      2592\n",
      "   macro avg       0.68      0.67      0.67      2592\n",
      "weighted avg       0.68      0.67      0.67      2592\n",
      "\n"
     ]
    },
    {
     "name": "stderr",
     "output_type": "stream",
     "text": [
      "Training epoch [27/50]:   0%|          | 0/162 [00:00<?, ?batch/s]/opt/conda/lib/python3.10/site-packages/torch/nn/parallel/parallel_apply.py:79: FutureWarning: `torch.cuda.amp.autocast(args...)` is deprecated. Please use `torch.amp.autocast('cuda', args...)` instead.\n",
      "  with torch.cuda.device(device), torch.cuda.stream(stream), autocast(enabled=autocast_enabled):\n",
      "Training epoch [27/50]: 100%|██████████| 162/162 [00:02<00:00, 76.01batch/s]\n"
     ]
    },
    {
     "name": "stdout",
     "output_type": "stream",
     "text": [
      "\t---> Loss: 0.7379\n",
      "\t---> Accuracy: 0.7064\n"
     ]
    },
    {
     "name": "stderr",
     "output_type": "stream",
     "text": [
      "Evaluating:   0%|          | 0/162 [00:00<?, ?batch/s]/opt/conda/lib/python3.10/site-packages/torch/nn/parallel/parallel_apply.py:79: FutureWarning: `torch.cuda.amp.autocast(args...)` is deprecated. Please use `torch.amp.autocast('cuda', args...)` instead.\n",
      "  with torch.cuda.device(device), torch.cuda.stream(stream), autocast(enabled=autocast_enabled):\n",
      "Evaluating: 100%|██████████| 162/162 [00:01<00:00, 135.93batch/s]\n"
     ]
    },
    {
     "name": "stdout",
     "output_type": "stream",
     "text": [
      "\t---> Loss: 0.8152\n",
      "\t---> Accuracy: 0.6701\n",
      "\tClassification Report:\n",
      "              precision    recall  f1-score   support\n",
      "\n",
      "   Left Hand       0.81      0.59      0.68       648\n",
      "  Right Hand       0.61      0.75      0.67       648\n",
      "        Foot       0.61      0.72      0.66       648\n",
      "      Tongue       0.72      0.61      0.66       648\n",
      "\n",
      "    accuracy                           0.67      2592\n",
      "   macro avg       0.69      0.67      0.67      2592\n",
      "weighted avg       0.69      0.67      0.67      2592\n",
      "\n"
     ]
    },
    {
     "name": "stderr",
     "output_type": "stream",
     "text": [
      "Training epoch [28/50]:   0%|          | 0/162 [00:00<?, ?batch/s]/opt/conda/lib/python3.10/site-packages/torch/nn/parallel/parallel_apply.py:79: FutureWarning: `torch.cuda.amp.autocast(args...)` is deprecated. Please use `torch.amp.autocast('cuda', args...)` instead.\n",
      "  with torch.cuda.device(device), torch.cuda.stream(stream), autocast(enabled=autocast_enabled):\n",
      "Training epoch [28/50]: 100%|██████████| 162/162 [00:01<00:00, 83.04batch/s]\n"
     ]
    },
    {
     "name": "stdout",
     "output_type": "stream",
     "text": [
      "\t---> Loss: 0.7411\n",
      "\t---> Accuracy: 0.7025\n"
     ]
    },
    {
     "name": "stderr",
     "output_type": "stream",
     "text": [
      "Evaluating:   0%|          | 0/162 [00:00<?, ?batch/s]/opt/conda/lib/python3.10/site-packages/torch/nn/parallel/parallel_apply.py:79: FutureWarning: `torch.cuda.amp.autocast(args...)` is deprecated. Please use `torch.amp.autocast('cuda', args...)` instead.\n",
      "  with torch.cuda.device(device), torch.cuda.stream(stream), autocast(enabled=autocast_enabled):\n",
      "Evaluating: 100%|██████████| 162/162 [00:01<00:00, 133.05batch/s]\n"
     ]
    },
    {
     "name": "stdout",
     "output_type": "stream",
     "text": [
      "\t---> Loss: 0.8008\n",
      "\t---> Accuracy: 0.6879\n",
      "\tClassification Report:\n",
      "              precision    recall  f1-score   support\n",
      "\n",
      "   Left Hand       0.67      0.79      0.73       648\n",
      "  Right Hand       0.71      0.61      0.66       648\n",
      "        Foot       0.64      0.70      0.67       648\n",
      "      Tongue       0.74      0.66      0.70       648\n",
      "\n",
      "    accuracy                           0.69      2592\n",
      "   macro avg       0.69      0.69      0.69      2592\n",
      "weighted avg       0.69      0.69      0.69      2592\n",
      "\n"
     ]
    },
    {
     "name": "stderr",
     "output_type": "stream",
     "text": [
      "Training epoch [29/50]:   0%|          | 0/162 [00:00<?, ?batch/s]/opt/conda/lib/python3.10/site-packages/torch/nn/parallel/parallel_apply.py:79: FutureWarning: `torch.cuda.amp.autocast(args...)` is deprecated. Please use `torch.amp.autocast('cuda', args...)` instead.\n",
      "  with torch.cuda.device(device), torch.cuda.stream(stream), autocast(enabled=autocast_enabled):\n",
      "Training epoch [29/50]: 100%|██████████| 162/162 [00:02<00:00, 80.73batch/s]\n"
     ]
    },
    {
     "name": "stdout",
     "output_type": "stream",
     "text": [
      "\t---> Loss: 0.7141\n",
      "\t---> Accuracy: 0.7149\n"
     ]
    },
    {
     "name": "stderr",
     "output_type": "stream",
     "text": [
      "Evaluating:   0%|          | 0/162 [00:00<?, ?batch/s]/opt/conda/lib/python3.10/site-packages/torch/nn/parallel/parallel_apply.py:79: FutureWarning: `torch.cuda.amp.autocast(args...)` is deprecated. Please use `torch.amp.autocast('cuda', args...)` instead.\n",
      "  with torch.cuda.device(device), torch.cuda.stream(stream), autocast(enabled=autocast_enabled):\n",
      "Evaluating: 100%|██████████| 162/162 [00:01<00:00, 132.20batch/s]\n"
     ]
    },
    {
     "name": "stdout",
     "output_type": "stream",
     "text": [
      "\t---> Loss: 0.7833\n",
      "\t---> Accuracy: 0.6971\n",
      "\tClassification Report:\n",
      "              precision    recall  f1-score   support\n",
      "\n",
      "   Left Hand       0.73      0.73      0.73       648\n",
      "  Right Hand       0.69      0.69      0.69       648\n",
      "        Foot       0.63      0.73      0.68       648\n",
      "      Tongue       0.76      0.64      0.70       648\n",
      "\n",
      "    accuracy                           0.70      2592\n",
      "   macro avg       0.70      0.70      0.70      2592\n",
      "weighted avg       0.70      0.70      0.70      2592\n",
      "\n",
      "Model is saved to  /kaggle/working/eeg.pth\n"
     ]
    },
    {
     "name": "stderr",
     "output_type": "stream",
     "text": [
      "Training epoch [30/50]:   0%|          | 0/162 [00:00<?, ?batch/s]/opt/conda/lib/python3.10/site-packages/torch/nn/parallel/parallel_apply.py:79: FutureWarning: `torch.cuda.amp.autocast(args...)` is deprecated. Please use `torch.amp.autocast('cuda', args...)` instead.\n",
      "  with torch.cuda.device(device), torch.cuda.stream(stream), autocast(enabled=autocast_enabled):\n",
      "Training epoch [30/50]: 100%|██████████| 162/162 [00:02<00:00, 80.84batch/s]\n"
     ]
    },
    {
     "name": "stdout",
     "output_type": "stream",
     "text": [
      "\t---> Loss: 0.7366\n",
      "\t---> Accuracy: 0.7037\n"
     ]
    },
    {
     "name": "stderr",
     "output_type": "stream",
     "text": [
      "Evaluating:   0%|          | 0/162 [00:00<?, ?batch/s]/opt/conda/lib/python3.10/site-packages/torch/nn/parallel/parallel_apply.py:79: FutureWarning: `torch.cuda.amp.autocast(args...)` is deprecated. Please use `torch.amp.autocast('cuda', args...)` instead.\n",
      "  with torch.cuda.device(device), torch.cuda.stream(stream), autocast(enabled=autocast_enabled):\n",
      "Evaluating: 100%|██████████| 162/162 [00:01<00:00, 131.06batch/s]\n"
     ]
    },
    {
     "name": "stdout",
     "output_type": "stream",
     "text": [
      "\t---> Loss: 0.7898\n",
      "\t---> Accuracy: 0.6948\n",
      "\tClassification Report:\n",
      "              precision    recall  f1-score   support\n",
      "\n",
      "   Left Hand       0.69      0.76      0.72       648\n",
      "  Right Hand       0.70      0.64      0.67       648\n",
      "        Foot       0.67      0.70      0.69       648\n",
      "      Tongue       0.72      0.68      0.70       648\n",
      "\n",
      "    accuracy                           0.69      2592\n",
      "   macro avg       0.70      0.69      0.69      2592\n",
      "weighted avg       0.70      0.69      0.69      2592\n",
      "\n"
     ]
    },
    {
     "name": "stderr",
     "output_type": "stream",
     "text": [
      "Training epoch [31/50]:   0%|          | 0/162 [00:00<?, ?batch/s]/opt/conda/lib/python3.10/site-packages/torch/nn/parallel/parallel_apply.py:79: FutureWarning: `torch.cuda.amp.autocast(args...)` is deprecated. Please use `torch.amp.autocast('cuda', args...)` instead.\n",
      "  with torch.cuda.device(device), torch.cuda.stream(stream), autocast(enabled=autocast_enabled):\n",
      "Training epoch [31/50]: 100%|██████████| 162/162 [00:02<00:00, 77.05batch/s]\n"
     ]
    },
    {
     "name": "stdout",
     "output_type": "stream",
     "text": [
      "\t---> Loss: 0.7288\n",
      "\t---> Accuracy: 0.7076\n"
     ]
    },
    {
     "name": "stderr",
     "output_type": "stream",
     "text": [
      "Evaluating:   0%|          | 0/162 [00:00<?, ?batch/s]/opt/conda/lib/python3.10/site-packages/torch/nn/parallel/parallel_apply.py:79: FutureWarning: `torch.cuda.amp.autocast(args...)` is deprecated. Please use `torch.amp.autocast('cuda', args...)` instead.\n",
      "  with torch.cuda.device(device), torch.cuda.stream(stream), autocast(enabled=autocast_enabled):\n",
      "Evaluating: 100%|██████████| 162/162 [00:01<00:00, 129.00batch/s]\n"
     ]
    },
    {
     "name": "stdout",
     "output_type": "stream",
     "text": [
      "\t---> Loss: 0.7794\n",
      "\t---> Accuracy: 0.7006\n",
      "\tClassification Report:\n",
      "              precision    recall  f1-score   support\n",
      "\n",
      "   Left Hand       0.71      0.77      0.74       648\n",
      "  Right Hand       0.71      0.66      0.68       648\n",
      "        Foot       0.66      0.70      0.68       648\n",
      "      Tongue       0.73      0.67      0.70       648\n",
      "\n",
      "    accuracy                           0.70      2592\n",
      "   macro avg       0.70      0.70      0.70      2592\n",
      "weighted avg       0.70      0.70      0.70      2592\n",
      "\n",
      "Model is saved to  /kaggle/working/eeg.pth\n"
     ]
    },
    {
     "name": "stderr",
     "output_type": "stream",
     "text": [
      "Training epoch [32/50]:   0%|          | 0/162 [00:00<?, ?batch/s]/opt/conda/lib/python3.10/site-packages/torch/nn/parallel/parallel_apply.py:79: FutureWarning: `torch.cuda.amp.autocast(args...)` is deprecated. Please use `torch.amp.autocast('cuda', args...)` instead.\n",
      "  with torch.cuda.device(device), torch.cuda.stream(stream), autocast(enabled=autocast_enabled):\n",
      "Training epoch [32/50]: 100%|██████████| 162/162 [00:01<00:00, 81.09batch/s]\n"
     ]
    },
    {
     "name": "stdout",
     "output_type": "stream",
     "text": [
      "\t---> Loss: 0.7508\n",
      "\t---> Accuracy: 0.7064\n"
     ]
    },
    {
     "name": "stderr",
     "output_type": "stream",
     "text": [
      "Evaluating:   0%|          | 0/162 [00:00<?, ?batch/s]/opt/conda/lib/python3.10/site-packages/torch/nn/parallel/parallel_apply.py:79: FutureWarning: `torch.cuda.amp.autocast(args...)` is deprecated. Please use `torch.amp.autocast('cuda', args...)` instead.\n",
      "  with torch.cuda.device(device), torch.cuda.stream(stream), autocast(enabled=autocast_enabled):\n",
      "Evaluating: 100%|██████████| 162/162 [00:01<00:00, 135.02batch/s]\n"
     ]
    },
    {
     "name": "stdout",
     "output_type": "stream",
     "text": [
      "\t---> Loss: 0.7838\n",
      "\t---> Accuracy: 0.6979\n",
      "\tClassification Report:\n",
      "              precision    recall  f1-score   support\n",
      "\n",
      "   Left Hand       0.68      0.81      0.74       648\n",
      "  Right Hand       0.69      0.67      0.68       648\n",
      "        Foot       0.71      0.63      0.67       648\n",
      "      Tongue       0.72      0.69      0.70       648\n",
      "\n",
      "    accuracy                           0.70      2592\n",
      "   macro avg       0.70      0.70      0.70      2592\n",
      "weighted avg       0.70      0.70      0.70      2592\n",
      "\n"
     ]
    },
    {
     "name": "stderr",
     "output_type": "stream",
     "text": [
      "Training epoch [33/50]:   0%|          | 0/162 [00:00<?, ?batch/s]/opt/conda/lib/python3.10/site-packages/torch/nn/parallel/parallel_apply.py:79: FutureWarning: `torch.cuda.amp.autocast(args...)` is deprecated. Please use `torch.amp.autocast('cuda', args...)` instead.\n",
      "  with torch.cuda.device(device), torch.cuda.stream(stream), autocast(enabled=autocast_enabled):\n",
      "Training epoch [33/50]: 100%|██████████| 162/162 [00:01<00:00, 83.29batch/s]\n"
     ]
    },
    {
     "name": "stdout",
     "output_type": "stream",
     "text": [
      "\t---> Loss: 0.7161\n",
      "\t---> Accuracy: 0.7079\n"
     ]
    },
    {
     "name": "stderr",
     "output_type": "stream",
     "text": [
      "Evaluating:   0%|          | 0/162 [00:00<?, ?batch/s]/opt/conda/lib/python3.10/site-packages/torch/nn/parallel/parallel_apply.py:79: FutureWarning: `torch.cuda.amp.autocast(args...)` is deprecated. Please use `torch.amp.autocast('cuda', args...)` instead.\n",
      "  with torch.cuda.device(device), torch.cuda.stream(stream), autocast(enabled=autocast_enabled):\n",
      "Evaluating: 100%|██████████| 162/162 [00:01<00:00, 128.95batch/s]\n"
     ]
    },
    {
     "name": "stdout",
     "output_type": "stream",
     "text": [
      "\t---> Loss: 0.8006\n",
      "\t---> Accuracy: 0.6875\n",
      "\tClassification Report:\n",
      "              precision    recall  f1-score   support\n",
      "\n",
      "   Left Hand       0.79      0.65      0.71       648\n",
      "  Right Hand       0.59      0.79      0.68       648\n",
      "        Foot       0.67      0.68      0.67       648\n",
      "      Tongue       0.76      0.64      0.69       648\n",
      "\n",
      "    accuracy                           0.69      2592\n",
      "   macro avg       0.70      0.69      0.69      2592\n",
      "weighted avg       0.70      0.69      0.69      2592\n",
      "\n"
     ]
    },
    {
     "name": "stderr",
     "output_type": "stream",
     "text": [
      "Training epoch [34/50]:   0%|          | 0/162 [00:00<?, ?batch/s]/opt/conda/lib/python3.10/site-packages/torch/nn/parallel/parallel_apply.py:79: FutureWarning: `torch.cuda.amp.autocast(args...)` is deprecated. Please use `torch.amp.autocast('cuda', args...)` instead.\n",
      "  with torch.cuda.device(device), torch.cuda.stream(stream), autocast(enabled=autocast_enabled):\n",
      "Training epoch [34/50]: 100%|██████████| 162/162 [00:02<00:00, 80.68batch/s]\n"
     ]
    },
    {
     "name": "stdout",
     "output_type": "stream",
     "text": [
      "\t---> Loss: 0.7140\n",
      "\t---> Accuracy: 0.7180\n"
     ]
    },
    {
     "name": "stderr",
     "output_type": "stream",
     "text": [
      "Evaluating:   0%|          | 0/162 [00:00<?, ?batch/s]/opt/conda/lib/python3.10/site-packages/torch/nn/parallel/parallel_apply.py:79: FutureWarning: `torch.cuda.amp.autocast(args...)` is deprecated. Please use `torch.amp.autocast('cuda', args...)` instead.\n",
      "  with torch.cuda.device(device), torch.cuda.stream(stream), autocast(enabled=autocast_enabled):\n",
      "Evaluating: 100%|██████████| 162/162 [00:01<00:00, 128.73batch/s]\n"
     ]
    },
    {
     "name": "stdout",
     "output_type": "stream",
     "text": [
      "\t---> Loss: 0.7705\n",
      "\t---> Accuracy: 0.7083\n",
      "\tClassification Report:\n",
      "              precision    recall  f1-score   support\n",
      "\n",
      "   Left Hand       0.76      0.70      0.73       648\n",
      "  Right Hand       0.65      0.77      0.71       648\n",
      "        Foot       0.74      0.63      0.68       648\n",
      "      Tongue       0.70      0.74      0.72       648\n",
      "\n",
      "    accuracy                           0.71      2592\n",
      "   macro avg       0.71      0.71      0.71      2592\n",
      "weighted avg       0.71      0.71      0.71      2592\n",
      "\n",
      "Model is saved to  /kaggle/working/eeg.pth\n"
     ]
    },
    {
     "name": "stderr",
     "output_type": "stream",
     "text": [
      "Training epoch [35/50]:   0%|          | 0/162 [00:00<?, ?batch/s]/opt/conda/lib/python3.10/site-packages/torch/nn/parallel/parallel_apply.py:79: FutureWarning: `torch.cuda.amp.autocast(args...)` is deprecated. Please use `torch.amp.autocast('cuda', args...)` instead.\n",
      "  with torch.cuda.device(device), torch.cuda.stream(stream), autocast(enabled=autocast_enabled):\n",
      "Training epoch [35/50]: 100%|██████████| 162/162 [00:02<00:00, 80.44batch/s]\n"
     ]
    },
    {
     "name": "stdout",
     "output_type": "stream",
     "text": [
      "\t---> Loss: 0.7217\n",
      "\t---> Accuracy: 0.7218\n"
     ]
    },
    {
     "name": "stderr",
     "output_type": "stream",
     "text": [
      "Evaluating:   0%|          | 0/162 [00:00<?, ?batch/s]/opt/conda/lib/python3.10/site-packages/torch/nn/parallel/parallel_apply.py:79: FutureWarning: `torch.cuda.amp.autocast(args...)` is deprecated. Please use `torch.amp.autocast('cuda', args...)` instead.\n",
      "  with torch.cuda.device(device), torch.cuda.stream(stream), autocast(enabled=autocast_enabled):\n",
      "Evaluating: 100%|██████████| 162/162 [00:01<00:00, 135.80batch/s]\n"
     ]
    },
    {
     "name": "stdout",
     "output_type": "stream",
     "text": [
      "\t---> Loss: 0.7758\n",
      "\t---> Accuracy: 0.6983\n",
      "\tClassification Report:\n",
      "              precision    recall  f1-score   support\n",
      "\n",
      "   Left Hand       0.78      0.69      0.73       648\n",
      "  Right Hand       0.66      0.73      0.70       648\n",
      "        Foot       0.67      0.68      0.67       648\n",
      "      Tongue       0.70      0.70      0.70       648\n",
      "\n",
      "    accuracy                           0.70      2592\n",
      "   macro avg       0.70      0.70      0.70      2592\n",
      "weighted avg       0.70      0.70      0.70      2592\n",
      "\n"
     ]
    },
    {
     "name": "stderr",
     "output_type": "stream",
     "text": [
      "Training epoch [36/50]:   0%|          | 0/162 [00:00<?, ?batch/s]/opt/conda/lib/python3.10/site-packages/torch/nn/parallel/parallel_apply.py:79: FutureWarning: `torch.cuda.amp.autocast(args...)` is deprecated. Please use `torch.amp.autocast('cuda', args...)` instead.\n",
      "  with torch.cuda.device(device), torch.cuda.stream(stream), autocast(enabled=autocast_enabled):\n",
      "Training epoch [36/50]: 100%|██████████| 162/162 [00:01<00:00, 81.66batch/s]\n"
     ]
    },
    {
     "name": "stdout",
     "output_type": "stream",
     "text": [
      "\t---> Loss: 0.7222\n",
      "\t---> Accuracy: 0.7110\n"
     ]
    },
    {
     "name": "stderr",
     "output_type": "stream",
     "text": [
      "Evaluating:   0%|          | 0/162 [00:00<?, ?batch/s]/opt/conda/lib/python3.10/site-packages/torch/nn/parallel/parallel_apply.py:79: FutureWarning: `torch.cuda.amp.autocast(args...)` is deprecated. Please use `torch.amp.autocast('cuda', args...)` instead.\n",
      "  with torch.cuda.device(device), torch.cuda.stream(stream), autocast(enabled=autocast_enabled):\n",
      "Evaluating: 100%|██████████| 162/162 [00:01<00:00, 114.01batch/s]\n"
     ]
    },
    {
     "name": "stdout",
     "output_type": "stream",
     "text": [
      "\t---> Loss: 0.8047\n",
      "\t---> Accuracy: 0.6890\n",
      "\tClassification Report:\n",
      "              precision    recall  f1-score   support\n",
      "\n",
      "   Left Hand       0.76      0.73      0.74       648\n",
      "  Right Hand       0.66      0.68      0.67       648\n",
      "        Foot       0.61      0.73      0.66       648\n",
      "      Tongue       0.77      0.62      0.69       648\n",
      "\n",
      "    accuracy                           0.69      2592\n",
      "   macro avg       0.70      0.69      0.69      2592\n",
      "weighted avg       0.70      0.69      0.69      2592\n",
      "\n"
     ]
    },
    {
     "name": "stderr",
     "output_type": "stream",
     "text": [
      "Training epoch [37/50]:   0%|          | 0/162 [00:00<?, ?batch/s]/opt/conda/lib/python3.10/site-packages/torch/nn/parallel/parallel_apply.py:79: FutureWarning: `torch.cuda.amp.autocast(args...)` is deprecated. Please use `torch.amp.autocast('cuda', args...)` instead.\n",
      "  with torch.cuda.device(device), torch.cuda.stream(stream), autocast(enabled=autocast_enabled):\n",
      "Training epoch [37/50]: 100%|██████████| 162/162 [00:02<00:00, 79.02batch/s]\n"
     ]
    },
    {
     "name": "stdout",
     "output_type": "stream",
     "text": [
      "\t---> Loss: 0.7174\n",
      "\t---> Accuracy: 0.7118\n"
     ]
    },
    {
     "name": "stderr",
     "output_type": "stream",
     "text": [
      "Evaluating:   0%|          | 0/162 [00:00<?, ?batch/s]/opt/conda/lib/python3.10/site-packages/torch/nn/parallel/parallel_apply.py:79: FutureWarning: `torch.cuda.amp.autocast(args...)` is deprecated. Please use `torch.amp.autocast('cuda', args...)` instead.\n",
      "  with torch.cuda.device(device), torch.cuda.stream(stream), autocast(enabled=autocast_enabled):\n",
      "Evaluating: 100%|██████████| 162/162 [00:01<00:00, 124.89batch/s]\n"
     ]
    },
    {
     "name": "stdout",
     "output_type": "stream",
     "text": [
      "\t---> Loss: 0.7699\n",
      "\t---> Accuracy: 0.7114\n",
      "\tClassification Report:\n",
      "              precision    recall  f1-score   support\n",
      "\n",
      "   Left Hand       0.73      0.78      0.75       648\n",
      "  Right Hand       0.69      0.73      0.71       648\n",
      "        Foot       0.72      0.62      0.67       648\n",
      "      Tongue       0.70      0.72      0.71       648\n",
      "\n",
      "    accuracy                           0.71      2592\n",
      "   macro avg       0.71      0.71      0.71      2592\n",
      "weighted avg       0.71      0.71      0.71      2592\n",
      "\n",
      "Model is saved to  /kaggle/working/eeg.pth\n"
     ]
    },
    {
     "name": "stderr",
     "output_type": "stream",
     "text": [
      "Training epoch [38/50]:   0%|          | 0/162 [00:00<?, ?batch/s]/opt/conda/lib/python3.10/site-packages/torch/nn/parallel/parallel_apply.py:79: FutureWarning: `torch.cuda.amp.autocast(args...)` is deprecated. Please use `torch.amp.autocast('cuda', args...)` instead.\n",
      "  with torch.cuda.device(device), torch.cuda.stream(stream), autocast(enabled=autocast_enabled):\n",
      "Training epoch [38/50]: 100%|██████████| 162/162 [00:02<00:00, 79.99batch/s]\n"
     ]
    },
    {
     "name": "stdout",
     "output_type": "stream",
     "text": [
      "\t---> Loss: 0.7107\n",
      "\t---> Accuracy: 0.7238\n"
     ]
    },
    {
     "name": "stderr",
     "output_type": "stream",
     "text": [
      "Evaluating:   0%|          | 0/162 [00:00<?, ?batch/s]/opt/conda/lib/python3.10/site-packages/torch/nn/parallel/parallel_apply.py:79: FutureWarning: `torch.cuda.amp.autocast(args...)` is deprecated. Please use `torch.amp.autocast('cuda', args...)` instead.\n",
      "  with torch.cuda.device(device), torch.cuda.stream(stream), autocast(enabled=autocast_enabled):\n",
      "Evaluating: 100%|██████████| 162/162 [00:01<00:00, 134.04batch/s]\n"
     ]
    },
    {
     "name": "stdout",
     "output_type": "stream",
     "text": [
      "\t---> Loss: 0.7808\n",
      "\t---> Accuracy: 0.6887\n",
      "\tClassification Report:\n",
      "              precision    recall  f1-score   support\n",
      "\n",
      "   Left Hand       0.74      0.73      0.73       648\n",
      "  Right Hand       0.63      0.73      0.68       648\n",
      "        Foot       0.69      0.61      0.65       648\n",
      "      Tongue       0.71      0.69      0.70       648\n",
      "\n",
      "    accuracy                           0.69      2592\n",
      "   macro avg       0.69      0.69      0.69      2592\n",
      "weighted avg       0.69      0.69      0.69      2592\n",
      "\n"
     ]
    },
    {
     "name": "stderr",
     "output_type": "stream",
     "text": [
      "Training epoch [39/50]:   0%|          | 0/162 [00:00<?, ?batch/s]/opt/conda/lib/python3.10/site-packages/torch/nn/parallel/parallel_apply.py:79: FutureWarning: `torch.cuda.amp.autocast(args...)` is deprecated. Please use `torch.amp.autocast('cuda', args...)` instead.\n",
      "  with torch.cuda.device(device), torch.cuda.stream(stream), autocast(enabled=autocast_enabled):\n",
      "Training epoch [39/50]: 100%|██████████| 162/162 [00:01<00:00, 83.05batch/s]\n"
     ]
    },
    {
     "name": "stdout",
     "output_type": "stream",
     "text": [
      "\t---> Loss: 0.7298\n",
      "\t---> Accuracy: 0.7172\n"
     ]
    },
    {
     "name": "stderr",
     "output_type": "stream",
     "text": [
      "Evaluating:   0%|          | 0/162 [00:00<?, ?batch/s]/opt/conda/lib/python3.10/site-packages/torch/nn/parallel/parallel_apply.py:79: FutureWarning: `torch.cuda.amp.autocast(args...)` is deprecated. Please use `torch.amp.autocast('cuda', args...)` instead.\n",
      "  with torch.cuda.device(device), torch.cuda.stream(stream), autocast(enabled=autocast_enabled):\n",
      "Evaluating: 100%|██████████| 162/162 [00:01<00:00, 133.02batch/s]\n"
     ]
    },
    {
     "name": "stdout",
     "output_type": "stream",
     "text": [
      "\t---> Loss: 0.7676\n",
      "\t---> Accuracy: 0.7072\n",
      "\tClassification Report:\n",
      "              precision    recall  f1-score   support\n",
      "\n",
      "   Left Hand       0.67      0.85      0.75       648\n",
      "  Right Hand       0.75      0.65      0.69       648\n",
      "        Foot       0.76      0.57      0.65       648\n",
      "      Tongue       0.68      0.77      0.72       648\n",
      "\n",
      "    accuracy                           0.71      2592\n",
      "   macro avg       0.72      0.71      0.70      2592\n",
      "weighted avg       0.72      0.71      0.70      2592\n",
      "\n"
     ]
    },
    {
     "name": "stderr",
     "output_type": "stream",
     "text": [
      "Training epoch [40/50]:   0%|          | 0/162 [00:00<?, ?batch/s]/opt/conda/lib/python3.10/site-packages/torch/nn/parallel/parallel_apply.py:79: FutureWarning: `torch.cuda.amp.autocast(args...)` is deprecated. Please use `torch.amp.autocast('cuda', args...)` instead.\n",
      "  with torch.cuda.device(device), torch.cuda.stream(stream), autocast(enabled=autocast_enabled):\n",
      "Training epoch [40/50]: 100%|██████████| 162/162 [00:01<00:00, 82.96batch/s]\n"
     ]
    },
    {
     "name": "stdout",
     "output_type": "stream",
     "text": [
      "\t---> Loss: 0.7221\n",
      "\t---> Accuracy: 0.7164\n"
     ]
    },
    {
     "name": "stderr",
     "output_type": "stream",
     "text": [
      "Evaluating:   0%|          | 0/162 [00:00<?, ?batch/s]/opt/conda/lib/python3.10/site-packages/torch/nn/parallel/parallel_apply.py:79: FutureWarning: `torch.cuda.amp.autocast(args...)` is deprecated. Please use `torch.amp.autocast('cuda', args...)` instead.\n",
      "  with torch.cuda.device(device), torch.cuda.stream(stream), autocast(enabled=autocast_enabled):\n",
      "Evaluating: 100%|██████████| 162/162 [00:01<00:00, 134.45batch/s]\n"
     ]
    },
    {
     "name": "stdout",
     "output_type": "stream",
     "text": [
      "\t---> Loss: 0.7799\n",
      "\t---> Accuracy: 0.7002\n",
      "\tClassification Report:\n",
      "              precision    recall  f1-score   support\n",
      "\n",
      "   Left Hand       0.65      0.85      0.74       648\n",
      "  Right Hand       0.76      0.62      0.68       648\n",
      "        Foot       0.72      0.61      0.66       648\n",
      "      Tongue       0.70      0.72      0.71       648\n",
      "\n",
      "    accuracy                           0.70      2592\n",
      "   macro avg       0.71      0.70      0.70      2592\n",
      "weighted avg       0.71      0.70      0.70      2592\n",
      "\n"
     ]
    },
    {
     "name": "stderr",
     "output_type": "stream",
     "text": [
      "Training epoch [41/50]:   0%|          | 0/162 [00:00<?, ?batch/s]/opt/conda/lib/python3.10/site-packages/torch/nn/parallel/parallel_apply.py:79: FutureWarning: `torch.cuda.amp.autocast(args...)` is deprecated. Please use `torch.amp.autocast('cuda', args...)` instead.\n",
      "  with torch.cuda.device(device), torch.cuda.stream(stream), autocast(enabled=autocast_enabled):\n",
      "Training epoch [41/50]: 100%|██████████| 162/162 [00:02<00:00, 80.57batch/s]\n"
     ]
    },
    {
     "name": "stdout",
     "output_type": "stream",
     "text": [
      "\t---> Loss: 0.7027\n",
      "\t---> Accuracy: 0.7203\n"
     ]
    },
    {
     "name": "stderr",
     "output_type": "stream",
     "text": [
      "Evaluating:   0%|          | 0/162 [00:00<?, ?batch/s]/opt/conda/lib/python3.10/site-packages/torch/nn/parallel/parallel_apply.py:79: FutureWarning: `torch.cuda.amp.autocast(args...)` is deprecated. Please use `torch.amp.autocast('cuda', args...)` instead.\n",
      "  with torch.cuda.device(device), torch.cuda.stream(stream), autocast(enabled=autocast_enabled):\n",
      "Evaluating: 100%|██████████| 162/162 [00:01<00:00, 133.35batch/s]\n"
     ]
    },
    {
     "name": "stdout",
     "output_type": "stream",
     "text": [
      "\t---> Loss: 0.7711\n",
      "\t---> Accuracy: 0.7037\n",
      "\tClassification Report:\n",
      "              precision    recall  f1-score   support\n",
      "\n",
      "   Left Hand       0.76      0.72      0.74       648\n",
      "  Right Hand       0.62      0.77      0.69       648\n",
      "        Foot       0.73      0.63      0.68       648\n",
      "      Tongue       0.73      0.70      0.71       648\n",
      "\n",
      "    accuracy                           0.70      2592\n",
      "   macro avg       0.71      0.70      0.70      2592\n",
      "weighted avg       0.71      0.70      0.70      2592\n",
      "\n"
     ]
    },
    {
     "name": "stderr",
     "output_type": "stream",
     "text": [
      "Training epoch [42/50]:   0%|          | 0/162 [00:00<?, ?batch/s]/opt/conda/lib/python3.10/site-packages/torch/nn/parallel/parallel_apply.py:79: FutureWarning: `torch.cuda.amp.autocast(args...)` is deprecated. Please use `torch.amp.autocast('cuda', args...)` instead.\n",
      "  with torch.cuda.device(device), torch.cuda.stream(stream), autocast(enabled=autocast_enabled):\n",
      "Training epoch [42/50]: 100%|██████████| 162/162 [00:01<00:00, 83.64batch/s]\n"
     ]
    },
    {
     "name": "stdout",
     "output_type": "stream",
     "text": [
      "\t---> Loss: 0.7138\n",
      "\t---> Accuracy: 0.7060\n"
     ]
    },
    {
     "name": "stderr",
     "output_type": "stream",
     "text": [
      "Evaluating:   0%|          | 0/162 [00:00<?, ?batch/s]/opt/conda/lib/python3.10/site-packages/torch/nn/parallel/parallel_apply.py:79: FutureWarning: `torch.cuda.amp.autocast(args...)` is deprecated. Please use `torch.amp.autocast('cuda', args...)` instead.\n",
      "  with torch.cuda.device(device), torch.cuda.stream(stream), autocast(enabled=autocast_enabled):\n",
      "Evaluating: 100%|██████████| 162/162 [00:01<00:00, 132.93batch/s]\n"
     ]
    },
    {
     "name": "stdout",
     "output_type": "stream",
     "text": [
      "\t---> Loss: 0.7745\n",
      "\t---> Accuracy: 0.6998\n",
      "\tClassification Report:\n",
      "              precision    recall  f1-score   support\n",
      "\n",
      "   Left Hand       0.78      0.71      0.75       648\n",
      "  Right Hand       0.63      0.79      0.70       648\n",
      "        Foot       0.69      0.67      0.68       648\n",
      "      Tongue       0.73      0.63      0.67       648\n",
      "\n",
      "    accuracy                           0.70      2592\n",
      "   macro avg       0.71      0.70      0.70      2592\n",
      "weighted avg       0.71      0.70      0.70      2592\n",
      "\n"
     ]
    },
    {
     "name": "stderr",
     "output_type": "stream",
     "text": [
      "Training epoch [43/50]:   0%|          | 0/162 [00:00<?, ?batch/s]/opt/conda/lib/python3.10/site-packages/torch/nn/parallel/parallel_apply.py:79: FutureWarning: `torch.cuda.amp.autocast(args...)` is deprecated. Please use `torch.amp.autocast('cuda', args...)` instead.\n",
      "  with torch.cuda.device(device), torch.cuda.stream(stream), autocast(enabled=autocast_enabled):\n",
      "Training epoch [43/50]: 100%|██████████| 162/162 [00:01<00:00, 81.25batch/s]\n"
     ]
    },
    {
     "name": "stdout",
     "output_type": "stream",
     "text": [
      "\t---> Loss: 0.6990\n",
      "\t---> Accuracy: 0.7172\n"
     ]
    },
    {
     "name": "stderr",
     "output_type": "stream",
     "text": [
      "Evaluating:   0%|          | 0/162 [00:00<?, ?batch/s]/opt/conda/lib/python3.10/site-packages/torch/nn/parallel/parallel_apply.py:79: FutureWarning: `torch.cuda.amp.autocast(args...)` is deprecated. Please use `torch.amp.autocast('cuda', args...)` instead.\n",
      "  with torch.cuda.device(device), torch.cuda.stream(stream), autocast(enabled=autocast_enabled):\n",
      "Evaluating: 100%|██████████| 162/162 [00:01<00:00, 136.71batch/s]\n"
     ]
    },
    {
     "name": "stdout",
     "output_type": "stream",
     "text": [
      "\t---> Loss: 0.7655\n",
      "\t---> Accuracy: 0.7037\n",
      "\tClassification Report:\n",
      "              precision    recall  f1-score   support\n",
      "\n",
      "   Left Hand       0.78      0.70      0.74       648\n",
      "  Right Hand       0.74      0.64      0.69       648\n",
      "        Foot       0.61      0.76      0.67       648\n",
      "      Tongue       0.72      0.71      0.72       648\n",
      "\n",
      "    accuracy                           0.70      2592\n",
      "   macro avg       0.71      0.70      0.70      2592\n",
      "weighted avg       0.71      0.70      0.70      2592\n",
      "\n"
     ]
    },
    {
     "name": "stderr",
     "output_type": "stream",
     "text": [
      "Training epoch [44/50]:   0%|          | 0/162 [00:00<?, ?batch/s]/opt/conda/lib/python3.10/site-packages/torch/nn/parallel/parallel_apply.py:79: FutureWarning: `torch.cuda.amp.autocast(args...)` is deprecated. Please use `torch.amp.autocast('cuda', args...)` instead.\n",
      "  with torch.cuda.device(device), torch.cuda.stream(stream), autocast(enabled=autocast_enabled):\n",
      "Training epoch [44/50]: 100%|██████████| 162/162 [00:01<00:00, 82.64batch/s]\n"
     ]
    },
    {
     "name": "stdout",
     "output_type": "stream",
     "text": [
      "\t---> Loss: 0.7230\n",
      "\t---> Accuracy: 0.7079\n"
     ]
    },
    {
     "name": "stderr",
     "output_type": "stream",
     "text": [
      "Evaluating:   0%|          | 0/162 [00:00<?, ?batch/s]/opt/conda/lib/python3.10/site-packages/torch/nn/parallel/parallel_apply.py:79: FutureWarning: `torch.cuda.amp.autocast(args...)` is deprecated. Please use `torch.amp.autocast('cuda', args...)` instead.\n",
      "  with torch.cuda.device(device), torch.cuda.stream(stream), autocast(enabled=autocast_enabled):\n",
      "Evaluating: 100%|██████████| 162/162 [00:01<00:00, 137.15batch/s]\n"
     ]
    },
    {
     "name": "stdout",
     "output_type": "stream",
     "text": [
      "\t---> Loss: 0.7782\n",
      "\t---> Accuracy: 0.6971\n",
      "\tClassification Report:\n",
      "              precision    recall  f1-score   support\n",
      "\n",
      "   Left Hand       0.74      0.72      0.73       648\n",
      "  Right Hand       0.72      0.63      0.67       648\n",
      "        Foot       0.64      0.74      0.69       648\n",
      "      Tongue       0.70      0.70      0.70       648\n",
      "\n",
      "    accuracy                           0.70      2592\n",
      "   macro avg       0.70      0.70      0.70      2592\n",
      "weighted avg       0.70      0.70      0.70      2592\n",
      "\n"
     ]
    },
    {
     "name": "stderr",
     "output_type": "stream",
     "text": [
      "Training epoch [45/50]:   0%|          | 0/162 [00:00<?, ?batch/s]/opt/conda/lib/python3.10/site-packages/torch/nn/parallel/parallel_apply.py:79: FutureWarning: `torch.cuda.amp.autocast(args...)` is deprecated. Please use `torch.amp.autocast('cuda', args...)` instead.\n",
      "  with torch.cuda.device(device), torch.cuda.stream(stream), autocast(enabled=autocast_enabled):\n",
      "Training epoch [45/50]: 100%|██████████| 162/162 [00:01<00:00, 85.21batch/s]\n"
     ]
    },
    {
     "name": "stdout",
     "output_type": "stream",
     "text": [
      "\t---> Loss: 0.6863\n",
      "\t---> Accuracy: 0.7191\n"
     ]
    },
    {
     "name": "stderr",
     "output_type": "stream",
     "text": [
      "Evaluating:   0%|          | 0/162 [00:00<?, ?batch/s]/opt/conda/lib/python3.10/site-packages/torch/nn/parallel/parallel_apply.py:79: FutureWarning: `torch.cuda.amp.autocast(args...)` is deprecated. Please use `torch.amp.autocast('cuda', args...)` instead.\n",
      "  with torch.cuda.device(device), torch.cuda.stream(stream), autocast(enabled=autocast_enabled):\n",
      "Evaluating: 100%|██████████| 162/162 [00:01<00:00, 132.66batch/s]\n"
     ]
    },
    {
     "name": "stdout",
     "output_type": "stream",
     "text": [
      "\t---> Loss: 0.7717\n",
      "\t---> Accuracy: 0.7103\n",
      "\tClassification Report:\n",
      "              precision    recall  f1-score   support\n",
      "\n",
      "   Left Hand       0.74      0.77      0.75       648\n",
      "  Right Hand       0.67      0.76      0.71       648\n",
      "        Foot       0.70      0.66      0.68       648\n",
      "      Tongue       0.73      0.66      0.69       648\n",
      "\n",
      "    accuracy                           0.71      2592\n",
      "   macro avg       0.71      0.71      0.71      2592\n",
      "weighted avg       0.71      0.71      0.71      2592\n",
      "\n"
     ]
    },
    {
     "name": "stderr",
     "output_type": "stream",
     "text": [
      "Training epoch [46/50]:   0%|          | 0/162 [00:00<?, ?batch/s]/opt/conda/lib/python3.10/site-packages/torch/nn/parallel/parallel_apply.py:79: FutureWarning: `torch.cuda.amp.autocast(args...)` is deprecated. Please use `torch.amp.autocast('cuda', args...)` instead.\n",
      "  with torch.cuda.device(device), torch.cuda.stream(stream), autocast(enabled=autocast_enabled):\n",
      "Training epoch [46/50]: 100%|██████████| 162/162 [00:02<00:00, 79.46batch/s]\n"
     ]
    },
    {
     "name": "stdout",
     "output_type": "stream",
     "text": [
      "\t---> Loss: 0.6879\n",
      "\t---> Accuracy: 0.7299\n"
     ]
    },
    {
     "name": "stderr",
     "output_type": "stream",
     "text": [
      "Evaluating:   0%|          | 0/162 [00:00<?, ?batch/s]/opt/conda/lib/python3.10/site-packages/torch/nn/parallel/parallel_apply.py:79: FutureWarning: `torch.cuda.amp.autocast(args...)` is deprecated. Please use `torch.amp.autocast('cuda', args...)` instead.\n",
      "  with torch.cuda.device(device), torch.cuda.stream(stream), autocast(enabled=autocast_enabled):\n",
      "Evaluating: 100%|██████████| 162/162 [00:01<00:00, 114.73batch/s]\n"
     ]
    },
    {
     "name": "stdout",
     "output_type": "stream",
     "text": [
      "\t---> Loss: 0.7794\n",
      "\t---> Accuracy: 0.6933\n",
      "\tClassification Report:\n",
      "              precision    recall  f1-score   support\n",
      "\n",
      "   Left Hand       0.76      0.73      0.74       648\n",
      "  Right Hand       0.64      0.75      0.69       648\n",
      "        Foot       0.68      0.64      0.66       648\n",
      "      Tongue       0.72      0.66      0.69       648\n",
      "\n",
      "    accuracy                           0.69      2592\n",
      "   macro avg       0.70      0.69      0.69      2592\n",
      "weighted avg       0.70      0.69      0.69      2592\n",
      "\n"
     ]
    },
    {
     "name": "stderr",
     "output_type": "stream",
     "text": [
      "Training epoch [47/50]:   0%|          | 0/162 [00:00<?, ?batch/s]/opt/conda/lib/python3.10/site-packages/torch/nn/parallel/parallel_apply.py:79: FutureWarning: `torch.cuda.amp.autocast(args...)` is deprecated. Please use `torch.amp.autocast('cuda', args...)` instead.\n",
      "  with torch.cuda.device(device), torch.cuda.stream(stream), autocast(enabled=autocast_enabled):\n",
      "Training epoch [47/50]: 100%|██████████| 162/162 [00:02<00:00, 80.96batch/s]\n"
     ]
    },
    {
     "name": "stdout",
     "output_type": "stream",
     "text": [
      "\t---> Loss: 0.7131\n",
      "\t---> Accuracy: 0.7168\n"
     ]
    },
    {
     "name": "stderr",
     "output_type": "stream",
     "text": [
      "Evaluating:   0%|          | 0/162 [00:00<?, ?batch/s]/opt/conda/lib/python3.10/site-packages/torch/nn/parallel/parallel_apply.py:79: FutureWarning: `torch.cuda.amp.autocast(args...)` is deprecated. Please use `torch.amp.autocast('cuda', args...)` instead.\n",
      "  with torch.cuda.device(device), torch.cuda.stream(stream), autocast(enabled=autocast_enabled):\n",
      "Evaluating: 100%|██████████| 162/162 [00:01<00:00, 137.47batch/s]\n"
     ]
    },
    {
     "name": "stdout",
     "output_type": "stream",
     "text": [
      "\t---> Loss: 0.7908\n",
      "\t---> Accuracy: 0.6917\n",
      "\tClassification Report:\n",
      "              precision    recall  f1-score   support\n",
      "\n",
      "   Left Hand       0.73      0.73      0.73       648\n",
      "  Right Hand       0.62      0.78      0.69       648\n",
      "        Foot       0.68      0.65      0.66       648\n",
      "      Tongue       0.77      0.60      0.68       648\n",
      "\n",
      "    accuracy                           0.69      2592\n",
      "   macro avg       0.70      0.69      0.69      2592\n",
      "weighted avg       0.70      0.69      0.69      2592\n",
      "\n"
     ]
    },
    {
     "name": "stderr",
     "output_type": "stream",
     "text": [
      "Training epoch [48/50]:   0%|          | 0/162 [00:00<?, ?batch/s]/opt/conda/lib/python3.10/site-packages/torch/nn/parallel/parallel_apply.py:79: FutureWarning: `torch.cuda.amp.autocast(args...)` is deprecated. Please use `torch.amp.autocast('cuda', args...)` instead.\n",
      "  with torch.cuda.device(device), torch.cuda.stream(stream), autocast(enabled=autocast_enabled):\n",
      "Training epoch [48/50]: 100%|██████████| 162/162 [00:01<00:00, 81.80batch/s]\n"
     ]
    },
    {
     "name": "stdout",
     "output_type": "stream",
     "text": [
      "\t---> Loss: 0.6982\n",
      "\t---> Accuracy: 0.7226\n"
     ]
    },
    {
     "name": "stderr",
     "output_type": "stream",
     "text": [
      "Evaluating:   0%|          | 0/162 [00:00<?, ?batch/s]/opt/conda/lib/python3.10/site-packages/torch/nn/parallel/parallel_apply.py:79: FutureWarning: `torch.cuda.amp.autocast(args...)` is deprecated. Please use `torch.amp.autocast('cuda', args...)` instead.\n",
      "  with torch.cuda.device(device), torch.cuda.stream(stream), autocast(enabled=autocast_enabled):\n",
      "Evaluating: 100%|██████████| 162/162 [00:01<00:00, 136.33batch/s]\n"
     ]
    },
    {
     "name": "stdout",
     "output_type": "stream",
     "text": [
      "\t---> Loss: 0.7839\n",
      "\t---> Accuracy: 0.6948\n",
      "\tClassification Report:\n",
      "              precision    recall  f1-score   support\n",
      "\n",
      "   Left Hand       0.75      0.69      0.72       648\n",
      "  Right Hand       0.77      0.62      0.69       648\n",
      "        Foot       0.60      0.75      0.66       648\n",
      "      Tongue       0.70      0.72      0.71       648\n",
      "\n",
      "    accuracy                           0.69      2592\n",
      "   macro avg       0.71      0.69      0.70      2592\n",
      "weighted avg       0.71      0.69      0.70      2592\n",
      "\n"
     ]
    },
    {
     "name": "stderr",
     "output_type": "stream",
     "text": [
      "Training epoch [49/50]:   0%|          | 0/162 [00:00<?, ?batch/s]/opt/conda/lib/python3.10/site-packages/torch/nn/parallel/parallel_apply.py:79: FutureWarning: `torch.cuda.amp.autocast(args...)` is deprecated. Please use `torch.amp.autocast('cuda', args...)` instead.\n",
      "  with torch.cuda.device(device), torch.cuda.stream(stream), autocast(enabled=autocast_enabled):\n",
      "Training epoch [49/50]: 100%|██████████| 162/162 [00:02<00:00, 77.63batch/s]\n"
     ]
    },
    {
     "name": "stdout",
     "output_type": "stream",
     "text": [
      "\t---> Loss: 0.6981\n",
      "\t---> Accuracy: 0.7284\n"
     ]
    },
    {
     "name": "stderr",
     "output_type": "stream",
     "text": [
      "Evaluating:   0%|          | 0/162 [00:00<?, ?batch/s]/opt/conda/lib/python3.10/site-packages/torch/nn/parallel/parallel_apply.py:79: FutureWarning: `torch.cuda.amp.autocast(args...)` is deprecated. Please use `torch.amp.autocast('cuda', args...)` instead.\n",
      "  with torch.cuda.device(device), torch.cuda.stream(stream), autocast(enabled=autocast_enabled):\n",
      "Evaluating: 100%|██████████| 162/162 [00:01<00:00, 134.01batch/s]\n"
     ]
    },
    {
     "name": "stdout",
     "output_type": "stream",
     "text": [
      "\t---> Loss: 0.7590\n",
      "\t---> Accuracy: 0.7114\n",
      "\tClassification Report:\n",
      "              precision    recall  f1-score   support\n",
      "\n",
      "   Left Hand       0.76      0.71      0.73       648\n",
      "  Right Hand       0.70      0.74      0.72       648\n",
      "        Foot       0.66      0.71      0.69       648\n",
      "      Tongue       0.73      0.69      0.71       648\n",
      "\n",
      "    accuracy                           0.71      2592\n",
      "   macro avg       0.71      0.71      0.71      2592\n",
      "weighted avg       0.71      0.71      0.71      2592\n",
      "\n"
     ]
    },
    {
     "name": "stderr",
     "output_type": "stream",
     "text": [
      "Training epoch [50/50]:   0%|          | 0/162 [00:00<?, ?batch/s]/opt/conda/lib/python3.10/site-packages/torch/nn/parallel/parallel_apply.py:79: FutureWarning: `torch.cuda.amp.autocast(args...)` is deprecated. Please use `torch.amp.autocast('cuda', args...)` instead.\n",
      "  with torch.cuda.device(device), torch.cuda.stream(stream), autocast(enabled=autocast_enabled):\n",
      "Training epoch [50/50]: 100%|██████████| 162/162 [00:02<00:00, 80.75batch/s]\n"
     ]
    },
    {
     "name": "stdout",
     "output_type": "stream",
     "text": [
      "\t---> Loss: 0.6943\n",
      "\t---> Accuracy: 0.7288\n"
     ]
    },
    {
     "name": "stderr",
     "output_type": "stream",
     "text": [
      "Evaluating:   0%|          | 0/162 [00:00<?, ?batch/s]/opt/conda/lib/python3.10/site-packages/torch/nn/parallel/parallel_apply.py:79: FutureWarning: `torch.cuda.amp.autocast(args...)` is deprecated. Please use `torch.amp.autocast('cuda', args...)` instead.\n",
      "  with torch.cuda.device(device), torch.cuda.stream(stream), autocast(enabled=autocast_enabled):\n",
      "Evaluating: 100%|██████████| 162/162 [00:01<00:00, 132.88batch/s]"
     ]
    },
    {
     "name": "stdout",
     "output_type": "stream",
     "text": [
      "\t---> Loss: 0.7881\n",
      "\t---> Accuracy: 0.6960\n",
      "\tClassification Report:\n",
      "              precision    recall  f1-score   support\n",
      "\n",
      "   Left Hand       0.74      0.70      0.72       648\n",
      "  Right Hand       0.71      0.68      0.69       648\n",
      "        Foot       0.62      0.74      0.68       648\n",
      "      Tongue       0.73      0.67      0.70       648\n",
      "\n",
      "    accuracy                           0.70      2592\n",
      "   macro avg       0.70      0.70      0.70      2592\n",
      "weighted avg       0.70      0.70      0.70      2592\n",
      "\n"
     ]
    },
    {
     "name": "stderr",
     "output_type": "stream",
     "text": [
      "\n"
     ]
    }
   ],
   "source": [
    "save_path = '/kaggle/working/eeg.pth'\n",
    "train_losses, train_acc, test_losses, test_acc = train_model(eeg_net, train_loader, test_loader, criterion, optimizer, save_path, device, epochs=50, wandb_writer=eeg_wan_writer)"
   ]
  },
  {
   "cell_type": "markdown",
   "metadata": {},
   "source": [
    "## 4.3. Visualize kết quả"
   ]
  },
  {
   "cell_type": "code",
   "execution_count": 17,
   "metadata": {
    "execution": {
     "iopub.execute_input": "2024-12-10T19:25:53.380538Z",
     "iopub.status.busy": "2024-12-10T19:25:53.380171Z",
     "iopub.status.idle": "2024-12-10T19:25:53.387950Z",
     "shell.execute_reply": "2024-12-10T19:25:53.387021Z",
     "shell.execute_reply.started": "2024-12-10T19:25:53.380491Z"
    },
    "trusted": true
   },
   "outputs": [],
   "source": [
    "def visualize(train_losses, test_losses, train_acc, test_acc):\n",
    "    plt.figure(figsize=(16, 5))\n",
    "    plt.subplot(2, 2, 1)\n",
    "    plt.plot(train_losses, label='Train')\n",
    "    plt.xlabel('Epoch')\n",
    "    plt.ylabel('Loss')\n",
    "    plt.legend()\n",
    "    \n",
    "    plt.subplot(2, 2, 2)\n",
    "    plt.plot(test_losses, label='Test')\n",
    "    plt.xlabel('Epoch')\n",
    "    plt.ylabel('Loss')\n",
    "    plt.legend()\n",
    "    \n",
    "    plt.subplot(2, 2, 3)\n",
    "    plt.plot(train_acc, label='Train')\n",
    "    plt.xlabel('Epoch')\n",
    "    plt.ylabel('Accuracy')\n",
    "    plt.legend()\n",
    "    \n",
    "    plt.subplot(2, 2, 4)\n",
    "    plt.plot(test_acc, label='Test')\n",
    "    plt.xlabel('Epoch')\n",
    "    plt.ylabel('Accuracy')\n",
    "    plt.legend()"
   ]
  },
  {
   "cell_type": "code",
   "execution_count": 18,
   "metadata": {
    "execution": {
     "iopub.execute_input": "2024-12-10T19:25:53.389522Z",
     "iopub.status.busy": "2024-12-10T19:25:53.389109Z",
     "iopub.status.idle": "2024-12-10T19:25:54.039273Z",
     "shell.execute_reply": "2024-12-10T19:25:54.038461Z",
     "shell.execute_reply.started": "2024-12-10T19:25:53.389486Z"
    },
    "trusted": true
   },
   "outputs": [
    {
     "data": {
      "image/png": "[encoded data removed]",
      "text/plain": [
       "<Figure size 1600x500 with 4 Axes>"
      ]
     },
     "metadata": {},
     "output_type": "display_data"
    }
   ],
   "source": [
    "visualize(train_losses, test_losses, train_acc, test_acc)"
   ]
  },
  {
   "cell_type": "markdown",
   "metadata": {},
   "source": [
    "# 5. Thêm một số cải tiến"
   ]
  },
  {
   "cell_type": "markdown",
   "metadata": {},
   "source": [
    "## 5.1. Tích hợp thêm các cơ chế\n",
    "1. **Spatial Attention**: Học trọng số giữa các kênh EEG.\n",
    "2. **Residual Connections**: Hỗ trợ truyền thông tin giữa các lớp.\n",
    "3. **Global Average Pooling (GAP)**: Thay thế Fully Connected để giảm số lượng tham số."
   ]
  },
  {
   "cell_type": "code",
   "execution_count": 99,
   "metadata": {
    "execution": {
     "iopub.execute_input": "2024-12-10T20:12:12.469569Z",
     "iopub.status.busy": "2024-12-10T20:12:12.469228Z",
     "iopub.status.idle": "2024-12-10T20:12:12.482114Z",
     "shell.execute_reply": "2024-12-10T20:12:12.481064Z",
     "shell.execute_reply.started": "2024-12-10T20:12:12.469542Z"
    },
    "trusted": true
   },
   "outputs": [],
   "source": [
    "class SpatialAttention(nn.Module):\n",
    "    \"\"\"Spatial Attention Layer.\"\"\"\n",
    "    def __init__(self, in_channels):\n",
    "        super(SpatialAttention, self).__init__()\n",
    "        self.conv1 = nn.Conv2d(in_channels, 1, kernel_size=1)\n",
    "        self.sigmoid = nn.Sigmoid()\n",
    "\n",
    "    def forward(self, x):\n",
    "        attention_map = self.sigmoid(self.conv1(x))\n",
    "        return x * attention_map\n",
    "\n",
    "class ResidualBlock(nn.Module):\n",
    "    \"\"\"Residual Block with two convolutional layers.\"\"\"\n",
    "    def __init__(self, in_channels, out_channels, kernel_size, padding):\n",
    "        super(ResidualBlock, self).__init__()\n",
    "        self.conv1 = nn.Conv2d(in_channels, out_channels, kernel_size, padding=padding, bias=False)\n",
    "        self.batchnorm1 = nn.BatchNorm2d(out_channels)\n",
    "        self.conv2 = nn.Conv2d(out_channels, out_channels, kernel_size, padding=padding, bias=False)\n",
    "        self.batchnorm2 = nn.BatchNorm2d(out_channels)\n",
    "\n",
    "    def forward(self, x):\n",
    "        residual = x\n",
    "        x = F.relu(self.batchnorm1(self.conv1(x)))\n",
    "        x = self.batchnorm2(self.conv2(x))\n",
    "        if residual.shape != x.shape:\n",
    "            residual = F.interpolate(residual, size=x.shape[2:])\n",
    "        x += residual\n",
    "        return F.relu(x)\n",
    "\n",
    "class EEGNetElite(nn.Module):\n",
    "    def __init__(self, num_classes, C=22, T=1875, F1=8, D=2, F2=16):\n",
    "        super(EEGNetElite, self).__init__()\n",
    "        \n",
    "        # Block 1: Temporal Convolution + Spatial Attention\n",
    "        self.conv1 = nn.Conv2d(1, F1, kernel_size=(1, 64), padding=(0, 32), bias=False)\n",
    "        self.batchnorm1 = nn.BatchNorm2d(F1)\n",
    "        self.depthwise_conv = nn.Conv2d(F1, F1 * D, kernel_size=(C, 1), groups=F1, bias=False)\n",
    "        self.batchnorm2 = nn.BatchNorm2d(F1 * D)\n",
    "        self.spatial_attention = SpatialAttention(F1 * D)\n",
    "        self.elu1 = nn.ELU()\n",
    "        self.pool1 = nn.AvgPool2d(kernel_size=(1, 4))\n",
    "        self.dropout1 = nn.Dropout(0.5)\n",
    "\n",
    "        # Block 2: Residual Convolutional Block\n",
    "        self.residual_block = ResidualBlock(F1 * D, F2, kernel_size=(1, 16), padding=(0, 8))\n",
    "\n",
    "        # Classification block\n",
    "        self.global_avg_pool = nn.AdaptiveAvgPool2d((1, 1))\n",
    "        self.fc = nn.Linear(F2, num_classes)\n",
    "\n",
    "    def forward(self, x):\n",
    "        # Block 1\n",
    "        x = self.conv1(x)\n",
    "        x = self.batchnorm1(x)\n",
    "        x = self.depthwise_conv(x)\n",
    "        x = self.batchnorm2(x)\n",
    "        x = self.spatial_attention(x)\n",
    "        x = self.elu1(x)\n",
    "        x = self.pool1(x)\n",
    "        x = self.dropout1(x)\n",
    "\n",
    "        # Block 2\n",
    "        x = self.residual_block(x)\n",
    "\n",
    "        # Classification\n",
    "        x = self.global_avg_pool(x)\n",
    "        x = x.view(x.size(0), -1)  # Flatten\n",
    "        x = self.fc(x)\n",
    "        return x"
   ]
  },
  {
   "cell_type": "code",
   "execution_count": 100,
   "metadata": {
    "execution": {
     "iopub.execute_input": "2024-12-10T20:12:12.484283Z",
     "iopub.status.busy": "2024-12-10T20:12:12.483687Z",
     "iopub.status.idle": "2024-12-10T20:12:12.500934Z",
     "shell.execute_reply": "2024-12-10T20:12:12.500130Z",
     "shell.execute_reply.started": "2024-12-10T20:12:12.484257Z"
    },
    "trusted": true
   },
   "outputs": [],
   "source": [
    "eeg_net_elite = EEGNetElite(num_classes=num_classes)\n",
    "eeg_net_elite = nn.DataParallel(eeg_net_elite)"
   ]
  },
  {
   "cell_type": "markdown",
   "metadata": {},
   "source": [
    "**Thực nghiệm mô hình**"
   ]
  },
  {
   "cell_type": "code",
   "execution_count": 101,
   "metadata": {
    "execution": {
     "iopub.execute_input": "2024-12-10T20:12:12.503091Z",
     "iopub.status.busy": "2024-12-10T20:12:12.502585Z",
     "iopub.status.idle": "2024-12-10T20:12:12.509659Z",
     "shell.execute_reply": "2024-12-10T20:12:12.508959Z",
     "shell.execute_reply.started": "2024-12-10T20:12:12.503034Z"
    },
    "trusted": true
   },
   "outputs": [],
   "source": [
    "lr = 0.003\n",
    "criterion = nn.CrossEntropyLoss()\n",
    "optimizer = torch.optim.Adam(eeg_net_elite.parameters(), lr=lr)"
   ]
  },
  {
   "cell_type": "code",
   "execution_count": 103,
   "metadata": {
    "execution": {
     "iopub.execute_input": "2024-12-10T20:12:18.348717Z",
     "iopub.status.busy": "2024-12-10T20:12:18.348386Z",
     "iopub.status.idle": "2024-12-10T20:12:19.625483Z",
     "shell.execute_reply": "2024-12-10T20:12:19.624788Z",
     "shell.execute_reply.started": "2024-12-10T20:12:18.348688Z"
    },
    "trusted": true
   },
   "outputs": [
    {
     "data": {
      "text/html": [
       "Tracking run with wandb version 0.18.7"
      ],
      "text/plain": [
       "<IPython.core.display.HTML object>"
      ]
     },
     "metadata": {},
     "output_type": "display_data"
    },
    {
     "data": {
      "text/html": [
       "Run data is saved locally in <code>/kaggle/working/wandb/run-20241210_201218-pt2qv2g7</code>"
      ],
      "text/plain": [
       "<IPython.core.display.HTML object>"
      ]
     },
     "metadata": {},
     "output_type": "display_data"
    },
    {
     "data": {
      "text/html": [
       "Syncing run <strong><a href='https://wandb.ai/longluv1605-institute-for-artificial-intelligence/motor%20imagery/runs/pt2qv2g7' target=\"_blank\">EEG-Net-Elite</a></strong> to <a href='https://wandb.ai/longluv1605-institute-for-artificial-intelligence/motor%20imagery' target=\"_blank\">Weights & Biases</a> (<a href='https://wandb.me/developer-guide' target=\"_blank\">docs</a>)<br/>"
      ],
      "text/plain": [
       "<IPython.core.display.HTML object>"
      ]
     },
     "metadata": {},
     "output_type": "display_data"
    },
    {
     "data": {
      "text/html": [
       " View project at <a href='https://wandb.ai/longluv1605-institute-for-artificial-intelligence/motor%20imagery' target=\"_blank\">https://wandb.ai/longluv1605-institute-for-artificial-intelligence/motor%20imagery</a>"
      ],
      "text/plain": [
       "<IPython.core.display.HTML object>"
      ]
     },
     "metadata": {},
     "output_type": "display_data"
    },
    {
     "data": {
      "text/html": [
       " View run at <a href='https://wandb.ai/longluv1605-institute-for-artificial-intelligence/motor%20imagery/runs/pt2qv2g7' target=\"_blank\">https://wandb.ai/longluv1605-institute-for-artificial-intelligence/motor%20imagery/runs/pt2qv2g7</a>"
      ],
      "text/plain": [
       "<IPython.core.display.HTML object>"
      ]
     },
     "metadata": {},
     "output_type": "display_data"
    }
   ],
   "source": [
    "eeg_elite_wan_writer = wandb.init(\n",
    "    project=\"motor imagery\",\n",
    "    name=\"EEG-Net-Elite\",\n",
    "    config={\n",
    "        \"learning_rate\": 0.003,\n",
    "        \"batch_size\": 16,\n",
    "        \"epochs\": 50,\n",
    "    }\n",
    ")"
   ]
  },
  {
   "cell_type": "code",
   "execution_count": 104,
   "metadata": {
    "execution": {
     "iopub.execute_input": "2024-12-10T20:12:22.413008Z",
     "iopub.status.busy": "2024-12-10T20:12:22.412203Z",
     "iopub.status.idle": "2024-12-10T20:15:58.219766Z",
     "shell.execute_reply": "2024-12-10T20:15:58.218840Z",
     "shell.execute_reply.started": "2024-12-10T20:12:22.412977Z"
    },
    "trusted": true
   },
   "outputs": [
    {
     "name": "stderr",
     "output_type": "stream",
     "text": [
      "Training epoch [1/50]: 100%|██████████| 162/162 [00:02<00:00, 56.48batch/s]\n"
     ]
    },
    {
     "name": "stdout",
     "output_type": "stream",
     "text": [
      "\t---> Loss: 1.3891\n",
      "\t---> Accuracy: 0.2492\n"
     ]
    },
    {
     "name": "stderr",
     "output_type": "stream",
     "text": [
      "Evaluating:   0%|          | 0/162 [00:00<?, ?batch/s]/opt/conda/lib/python3.10/site-packages/torch/nn/parallel/parallel_apply.py:79: FutureWarning: `torch.cuda.amp.autocast(args...)` is deprecated. Please use `torch.amp.autocast('cuda', args...)` instead.\n",
      "  with torch.cuda.device(device), torch.cuda.stream(stream), autocast(enabled=autocast_enabled):\n",
      "Evaluating: 100%|██████████| 162/162 [00:01<00:00, 91.09batch/s]\n"
     ]
    },
    {
     "name": "stdout",
     "output_type": "stream",
     "text": [
      "\t---> Loss: 1.3868\n",
      "\t---> Accuracy: 0.2616\n",
      "\tClassification Report:\n",
      "              precision    recall  f1-score   support\n",
      "\n",
      "   Left Hand       0.38      0.04      0.07       648\n",
      "  Right Hand       0.29      0.12      0.17       648\n",
      "        Foot       0.00      0.00      0.00       648\n",
      "      Tongue       0.26      0.88      0.40       648\n",
      "\n",
      "    accuracy                           0.26      2592\n",
      "   macro avg       0.23      0.26      0.16      2592\n",
      "weighted avg       0.23      0.26      0.16      2592\n",
      "\n",
      "Model is saved to  /kaggle/working/eeg_elite.pth\n"
     ]
    },
    {
     "name": "stderr",
     "output_type": "stream",
     "text": [
      "Training epoch [2/50]:   0%|          | 0/162 [00:00<?, ?batch/s]/opt/conda/lib/python3.10/site-packages/torch/nn/parallel/parallel_apply.py:79: FutureWarning: `torch.cuda.amp.autocast(args...)` is deprecated. Please use `torch.amp.autocast('cuda', args...)` instead.\n",
      "  with torch.cuda.device(device), torch.cuda.stream(stream), autocast(enabled=autocast_enabled):\n",
      "Training epoch [2/50]: 100%|██████████| 162/162 [00:02<00:00, 61.98batch/s]\n"
     ]
    },
    {
     "name": "stdout",
     "output_type": "stream",
     "text": [
      "\t---> Loss: 1.3804\n",
      "\t---> Accuracy: 0.2840\n"
     ]
    },
    {
     "name": "stderr",
     "output_type": "stream",
     "text": [
      "Evaluating:   0%|          | 0/162 [00:00<?, ?batch/s]/opt/conda/lib/python3.10/site-packages/torch/nn/parallel/parallel_apply.py:79: FutureWarning: `torch.cuda.amp.autocast(args...)` is deprecated. Please use `torch.amp.autocast('cuda', args...)` instead.\n",
      "  with torch.cuda.device(device), torch.cuda.stream(stream), autocast(enabled=autocast_enabled):\n",
      "Evaluating: 100%|██████████| 162/162 [00:01<00:00, 95.96batch/s]\n"
     ]
    },
    {
     "name": "stdout",
     "output_type": "stream",
     "text": [
      "\t---> Loss: 1.3862\n",
      "\t---> Accuracy: 0.2924\n",
      "\tClassification Report:\n",
      "              precision    recall  f1-score   support\n",
      "\n",
      "   Left Hand       0.32      0.04      0.08       648\n",
      "  Right Hand       0.31      0.13      0.18       648\n",
      "        Foot       0.30      0.21      0.25       648\n",
      "      Tongue       0.29      0.78      0.42       648\n",
      "\n",
      "    accuracy                           0.29      2592\n",
      "   macro avg       0.30      0.29      0.23      2592\n",
      "weighted avg       0.30      0.29      0.23      2592\n",
      "\n",
      "Model is saved to  /kaggle/working/eeg_elite.pth\n"
     ]
    },
    {
     "name": "stderr",
     "output_type": "stream",
     "text": [
      "Training epoch [3/50]:   0%|          | 0/162 [00:00<?, ?batch/s]/opt/conda/lib/python3.10/site-packages/torch/nn/parallel/parallel_apply.py:79: FutureWarning: `torch.cuda.amp.autocast(args...)` is deprecated. Please use `torch.amp.autocast('cuda', args...)` instead.\n",
      "  with torch.cuda.device(device), torch.cuda.stream(stream), autocast(enabled=autocast_enabled):\n",
      "Training epoch [3/50]: 100%|██████████| 162/162 [00:02<00:00, 62.24batch/s]\n"
     ]
    },
    {
     "name": "stdout",
     "output_type": "stream",
     "text": [
      "\t---> Loss: 1.3644\n",
      "\t---> Accuracy: 0.3218\n"
     ]
    },
    {
     "name": "stderr",
     "output_type": "stream",
     "text": [
      "Evaluating:   0%|          | 0/162 [00:00<?, ?batch/s]/opt/conda/lib/python3.10/site-packages/torch/nn/parallel/parallel_apply.py:79: FutureWarning: `torch.cuda.amp.autocast(args...)` is deprecated. Please use `torch.amp.autocast('cuda', args...)` instead.\n",
      "  with torch.cuda.device(device), torch.cuda.stream(stream), autocast(enabled=autocast_enabled):\n",
      "Evaluating: 100%|██████████| 162/162 [00:01<00:00, 94.47batch/s]\n"
     ]
    },
    {
     "name": "stdout",
     "output_type": "stream",
     "text": [
      "\t---> Loss: 1.3629\n",
      "\t---> Accuracy: 0.3202\n",
      "\tClassification Report:\n",
      "              precision    recall  f1-score   support\n",
      "\n",
      "   Left Hand       0.28      0.53      0.37       648\n",
      "  Right Hand       0.38      0.10      0.15       648\n",
      "        Foot       0.34      0.35      0.35       648\n",
      "      Tongue       0.36      0.30      0.33       648\n",
      "\n",
      "    accuracy                           0.32      2592\n",
      "   macro avg       0.34      0.32      0.30      2592\n",
      "weighted avg       0.34      0.32      0.30      2592\n",
      "\n",
      "Model is saved to  /kaggle/working/eeg_elite.pth\n"
     ]
    },
    {
     "name": "stderr",
     "output_type": "stream",
     "text": [
      "Training epoch [4/50]:   0%|          | 0/162 [00:00<?, ?batch/s]/opt/conda/lib/python3.10/site-packages/torch/nn/parallel/parallel_apply.py:79: FutureWarning: `torch.cuda.amp.autocast(args...)` is deprecated. Please use `torch.amp.autocast('cuda', args...)` instead.\n",
      "  with torch.cuda.device(device), torch.cuda.stream(stream), autocast(enabled=autocast_enabled):\n",
      "Training epoch [4/50]: 100%|██████████| 162/162 [00:02<00:00, 60.68batch/s]\n"
     ]
    },
    {
     "name": "stdout",
     "output_type": "stream",
     "text": [
      "\t---> Loss: 1.3525\n",
      "\t---> Accuracy: 0.3380\n"
     ]
    },
    {
     "name": "stderr",
     "output_type": "stream",
     "text": [
      "Evaluating:   0%|          | 0/162 [00:00<?, ?batch/s]/opt/conda/lib/python3.10/site-packages/torch/nn/parallel/parallel_apply.py:79: FutureWarning: `torch.cuda.amp.autocast(args...)` is deprecated. Please use `torch.amp.autocast('cuda', args...)` instead.\n",
      "  with torch.cuda.device(device), torch.cuda.stream(stream), autocast(enabled=autocast_enabled):\n",
      "Evaluating: 100%|██████████| 162/162 [00:01<00:00, 99.20batch/s] \n"
     ]
    },
    {
     "name": "stdout",
     "output_type": "stream",
     "text": [
      "\t---> Loss: 1.3662\n",
      "\t---> Accuracy: 0.3248\n",
      "\tClassification Report:\n",
      "              precision    recall  f1-score   support\n",
      "\n",
      "   Left Hand       0.28      0.63      0.39       648\n",
      "  Right Hand       0.32      0.27      0.29       648\n",
      "        Foot       0.44      0.19      0.27       648\n",
      "      Tongue       0.44      0.20      0.28       648\n",
      "\n",
      "    accuracy                           0.32      2592\n",
      "   macro avg       0.37      0.32      0.31      2592\n",
      "weighted avg       0.37      0.32      0.31      2592\n",
      "\n",
      "Model is saved to  /kaggle/working/eeg_elite.pth\n"
     ]
    },
    {
     "name": "stderr",
     "output_type": "stream",
     "text": [
      "Training epoch [5/50]:   0%|          | 0/162 [00:00<?, ?batch/s]/opt/conda/lib/python3.10/site-packages/torch/nn/parallel/parallel_apply.py:79: FutureWarning: `torch.cuda.amp.autocast(args...)` is deprecated. Please use `torch.amp.autocast('cuda', args...)` instead.\n",
      "  with torch.cuda.device(device), torch.cuda.stream(stream), autocast(enabled=autocast_enabled):\n",
      "Training epoch [5/50]: 100%|██████████| 162/162 [00:02<00:00, 61.42batch/s]\n"
     ]
    },
    {
     "name": "stdout",
     "output_type": "stream",
     "text": [
      "\t---> Loss: 1.3357\n",
      "\t---> Accuracy: 0.3611\n"
     ]
    },
    {
     "name": "stderr",
     "output_type": "stream",
     "text": [
      "Evaluating:   0%|          | 0/162 [00:00<?, ?batch/s]/opt/conda/lib/python3.10/site-packages/torch/nn/parallel/parallel_apply.py:79: FutureWarning: `torch.cuda.amp.autocast(args...)` is deprecated. Please use `torch.amp.autocast('cuda', args...)` instead.\n",
      "  with torch.cuda.device(device), torch.cuda.stream(stream), autocast(enabled=autocast_enabled):\n",
      "Evaluating: 100%|██████████| 162/162 [00:01<00:00, 98.49batch/s] \n"
     ]
    },
    {
     "name": "stdout",
     "output_type": "stream",
     "text": [
      "\t---> Loss: 1.3473\n",
      "\t---> Accuracy: 0.3310\n",
      "\tClassification Report:\n",
      "              precision    recall  f1-score   support\n",
      "\n",
      "   Left Hand       0.31      0.22      0.26       648\n",
      "  Right Hand       0.34      0.06      0.10       648\n",
      "        Foot       0.30      0.55      0.39       648\n",
      "      Tongue       0.39      0.50      0.44       648\n",
      "\n",
      "    accuracy                           0.33      2592\n",
      "   macro avg       0.34      0.33      0.29      2592\n",
      "weighted avg       0.34      0.33      0.29      2592\n",
      "\n",
      "Model is saved to  /kaggle/working/eeg_elite.pth\n"
     ]
    },
    {
     "name": "stderr",
     "output_type": "stream",
     "text": [
      "Training epoch [6/50]:   0%|          | 0/162 [00:00<?, ?batch/s]/opt/conda/lib/python3.10/site-packages/torch/nn/parallel/parallel_apply.py:79: FutureWarning: `torch.cuda.amp.autocast(args...)` is deprecated. Please use `torch.amp.autocast('cuda', args...)` instead.\n",
      "  with torch.cuda.device(device), torch.cuda.stream(stream), autocast(enabled=autocast_enabled):\n",
      "Training epoch [6/50]: 100%|██████████| 162/162 [00:02<00:00, 63.27batch/s]\n"
     ]
    },
    {
     "name": "stdout",
     "output_type": "stream",
     "text": [
      "\t---> Loss: 1.3208\n",
      "\t---> Accuracy: 0.3800\n"
     ]
    },
    {
     "name": "stderr",
     "output_type": "stream",
     "text": [
      "Evaluating:   0%|          | 0/162 [00:00<?, ?batch/s]/opt/conda/lib/python3.10/site-packages/torch/nn/parallel/parallel_apply.py:79: FutureWarning: `torch.cuda.amp.autocast(args...)` is deprecated. Please use `torch.amp.autocast('cuda', args...)` instead.\n",
      "  with torch.cuda.device(device), torch.cuda.stream(stream), autocast(enabled=autocast_enabled):\n",
      "Evaluating: 100%|██████████| 162/162 [00:01<00:00, 97.27batch/s] \n"
     ]
    },
    {
     "name": "stdout",
     "output_type": "stream",
     "text": [
      "\t---> Loss: 1.3501\n",
      "\t---> Accuracy: 0.3484\n",
      "\tClassification Report:\n",
      "              precision    recall  f1-score   support\n",
      "\n",
      "   Left Hand       0.31      0.08      0.13       648\n",
      "  Right Hand       0.30      0.58      0.40       648\n",
      "        Foot       0.36      0.47      0.41       648\n",
      "      Tongue       0.51      0.25      0.34       648\n",
      "\n",
      "    accuracy                           0.35      2592\n",
      "   macro avg       0.37      0.35      0.32      2592\n",
      "weighted avg       0.37      0.35      0.32      2592\n",
      "\n",
      "Model is saved to  /kaggle/working/eeg_elite.pth\n"
     ]
    },
    {
     "name": "stderr",
     "output_type": "stream",
     "text": [
      "Training epoch [7/50]:   0%|          | 0/162 [00:00<?, ?batch/s]/opt/conda/lib/python3.10/site-packages/torch/nn/parallel/parallel_apply.py:79: FutureWarning: `torch.cuda.amp.autocast(args...)` is deprecated. Please use `torch.amp.autocast('cuda', args...)` instead.\n",
      "  with torch.cuda.device(device), torch.cuda.stream(stream), autocast(enabled=autocast_enabled):\n",
      "Training epoch [7/50]: 100%|██████████| 162/162 [00:02<00:00, 61.83batch/s]\n"
     ]
    },
    {
     "name": "stdout",
     "output_type": "stream",
     "text": [
      "\t---> Loss: 1.3136\n",
      "\t---> Accuracy: 0.3796\n"
     ]
    },
    {
     "name": "stderr",
     "output_type": "stream",
     "text": [
      "Evaluating:   0%|          | 0/162 [00:00<?, ?batch/s]/opt/conda/lib/python3.10/site-packages/torch/nn/parallel/parallel_apply.py:79: FutureWarning: `torch.cuda.amp.autocast(args...)` is deprecated. Please use `torch.amp.autocast('cuda', args...)` instead.\n",
      "  with torch.cuda.device(device), torch.cuda.stream(stream), autocast(enabled=autocast_enabled):\n",
      "Evaluating: 100%|██████████| 162/162 [00:01<00:00, 97.62batch/s] \n"
     ]
    },
    {
     "name": "stdout",
     "output_type": "stream",
     "text": [
      "\t---> Loss: 1.3628\n",
      "\t---> Accuracy: 0.3283\n",
      "\tClassification Report:\n",
      "              precision    recall  f1-score   support\n",
      "\n",
      "   Left Hand       0.32      0.27      0.29       648\n",
      "  Right Hand       0.40      0.13      0.19       648\n",
      "        Foot       0.42      0.14      0.21       648\n",
      "      Tongue       0.31      0.77      0.44       648\n",
      "\n",
      "    accuracy                           0.33      2592\n",
      "   macro avg       0.36      0.33      0.29      2592\n",
      "weighted avg       0.36      0.33      0.29      2592\n",
      "\n"
     ]
    },
    {
     "name": "stderr",
     "output_type": "stream",
     "text": [
      "Training epoch [8/50]:   0%|          | 0/162 [00:00<?, ?batch/s]/opt/conda/lib/python3.10/site-packages/torch/nn/parallel/parallel_apply.py:79: FutureWarning: `torch.cuda.amp.autocast(args...)` is deprecated. Please use `torch.amp.autocast('cuda', args...)` instead.\n",
      "  with torch.cuda.device(device), torch.cuda.stream(stream), autocast(enabled=autocast_enabled):\n",
      "Training epoch [8/50]: 100%|██████████| 162/162 [00:02<00:00, 62.16batch/s]\n"
     ]
    },
    {
     "name": "stdout",
     "output_type": "stream",
     "text": [
      "\t---> Loss: 1.2980\n",
      "\t---> Accuracy: 0.3974\n"
     ]
    },
    {
     "name": "stderr",
     "output_type": "stream",
     "text": [
      "Evaluating:   0%|          | 0/162 [00:00<?, ?batch/s]/opt/conda/lib/python3.10/site-packages/torch/nn/parallel/parallel_apply.py:79: FutureWarning: `torch.cuda.amp.autocast(args...)` is deprecated. Please use `torch.amp.autocast('cuda', args...)` instead.\n",
      "  with torch.cuda.device(device), torch.cuda.stream(stream), autocast(enabled=autocast_enabled):\n",
      "Evaluating: 100%|██████████| 162/162 [00:01<00:00, 88.63batch/s]\n"
     ]
    },
    {
     "name": "stdout",
     "output_type": "stream",
     "text": [
      "\t---> Loss: 1.4674\n",
      "\t---> Accuracy: 0.2936\n",
      "\tClassification Report:\n",
      "              precision    recall  f1-score   support\n",
      "\n",
      "   Left Hand       0.45      0.06      0.10       648\n",
      "  Right Hand       0.38      0.10      0.16       648\n",
      "        Foot       0.43      0.09      0.15       648\n",
      "      Tongue       0.27      0.92      0.42       648\n",
      "\n",
      "    accuracy                           0.29      2592\n",
      "   macro avg       0.38      0.29      0.21      2592\n",
      "weighted avg       0.38      0.29      0.21      2592\n",
      "\n"
     ]
    },
    {
     "name": "stderr",
     "output_type": "stream",
     "text": [
      "Training epoch [9/50]:   0%|          | 0/162 [00:00<?, ?batch/s]/opt/conda/lib/python3.10/site-packages/torch/nn/parallel/parallel_apply.py:79: FutureWarning: `torch.cuda.amp.autocast(args...)` is deprecated. Please use `torch.amp.autocast('cuda', args...)` instead.\n",
      "  with torch.cuda.device(device), torch.cuda.stream(stream), autocast(enabled=autocast_enabled):\n",
      "Training epoch [9/50]: 100%|██████████| 162/162 [00:02<00:00, 60.92batch/s]\n"
     ]
    },
    {
     "name": "stdout",
     "output_type": "stream",
     "text": [
      "\t---> Loss: 1.2886\n",
      "\t---> Accuracy: 0.3989\n"
     ]
    },
    {
     "name": "stderr",
     "output_type": "stream",
     "text": [
      "Evaluating:   0%|          | 0/162 [00:00<?, ?batch/s]/opt/conda/lib/python3.10/site-packages/torch/nn/parallel/parallel_apply.py:79: FutureWarning: `torch.cuda.amp.autocast(args...)` is deprecated. Please use `torch.amp.autocast('cuda', args...)` instead.\n",
      "  with torch.cuda.device(device), torch.cuda.stream(stream), autocast(enabled=autocast_enabled):\n",
      "Evaluating: 100%|██████████| 162/162 [00:01<00:00, 94.60batch/s]\n"
     ]
    },
    {
     "name": "stdout",
     "output_type": "stream",
     "text": [
      "\t---> Loss: 1.3763\n",
      "\t---> Accuracy: 0.3144\n",
      "\tClassification Report:\n",
      "              precision    recall  f1-score   support\n",
      "\n",
      "   Left Hand       0.39      0.10      0.16       648\n",
      "  Right Hand       0.33      0.09      0.15       648\n",
      "        Foot       0.39      0.23      0.29       648\n",
      "      Tongue       0.29      0.83      0.43       648\n",
      "\n",
      "    accuracy                           0.31      2592\n",
      "   macro avg       0.35      0.31      0.26      2592\n",
      "weighted avg       0.35      0.31      0.26      2592\n",
      "\n"
     ]
    },
    {
     "name": "stderr",
     "output_type": "stream",
     "text": [
      "Training epoch [10/50]:   0%|          | 0/162 [00:00<?, ?batch/s]/opt/conda/lib/python3.10/site-packages/torch/nn/parallel/parallel_apply.py:79: FutureWarning: `torch.cuda.amp.autocast(args...)` is deprecated. Please use `torch.amp.autocast('cuda', args...)` instead.\n",
      "  with torch.cuda.device(device), torch.cuda.stream(stream), autocast(enabled=autocast_enabled):\n",
      "Training epoch [10/50]: 100%|██████████| 162/162 [00:02<00:00, 62.76batch/s]\n"
     ]
    },
    {
     "name": "stdout",
     "output_type": "stream",
     "text": [
      "\t---> Loss: 1.2893\n",
      "\t---> Accuracy: 0.4078\n"
     ]
    },
    {
     "name": "stderr",
     "output_type": "stream",
     "text": [
      "Evaluating:   0%|          | 0/162 [00:00<?, ?batch/s]/opt/conda/lib/python3.10/site-packages/torch/nn/parallel/parallel_apply.py:79: FutureWarning: `torch.cuda.amp.autocast(args...)` is deprecated. Please use `torch.amp.autocast('cuda', args...)` instead.\n",
      "  with torch.cuda.device(device), torch.cuda.stream(stream), autocast(enabled=autocast_enabled):\n",
      "Evaluating: 100%|██████████| 162/162 [00:01<00:00, 97.34batch/s]\n"
     ]
    },
    {
     "name": "stdout",
     "output_type": "stream",
     "text": [
      "\t---> Loss: 1.3095\n",
      "\t---> Accuracy: 0.3962\n",
      "\tClassification Report:\n",
      "              precision    recall  f1-score   support\n",
      "\n",
      "   Left Hand       0.45      0.08      0.14       648\n",
      "  Right Hand       0.35      0.57      0.44       648\n",
      "        Foot       0.40      0.42      0.41       648\n",
      "      Tongue       0.44      0.51      0.47       648\n",
      "\n",
      "    accuracy                           0.40      2592\n",
      "   macro avg       0.41      0.40      0.37      2592\n",
      "weighted avg       0.41      0.40      0.37      2592\n",
      "\n",
      "Model is saved to  /kaggle/working/eeg_elite.pth\n"
     ]
    },
    {
     "name": "stderr",
     "output_type": "stream",
     "text": [
      "Training epoch [11/50]:   0%|          | 0/162 [00:00<?, ?batch/s]/opt/conda/lib/python3.10/site-packages/torch/nn/parallel/parallel_apply.py:79: FutureWarning: `torch.cuda.amp.autocast(args...)` is deprecated. Please use `torch.amp.autocast('cuda', args...)` instead.\n",
      "  with torch.cuda.device(device), torch.cuda.stream(stream), autocast(enabled=autocast_enabled):\n",
      "Training epoch [11/50]: 100%|██████████| 162/162 [00:02<00:00, 61.89batch/s]\n"
     ]
    },
    {
     "name": "stdout",
     "output_type": "stream",
     "text": [
      "\t---> Loss: 1.2696\n",
      "\t---> Accuracy: 0.4178\n"
     ]
    },
    {
     "name": "stderr",
     "output_type": "stream",
     "text": [
      "Evaluating:   0%|          | 0/162 [00:00<?, ?batch/s]/opt/conda/lib/python3.10/site-packages/torch/nn/parallel/parallel_apply.py:79: FutureWarning: `torch.cuda.amp.autocast(args...)` is deprecated. Please use `torch.amp.autocast('cuda', args...)` instead.\n",
      "  with torch.cuda.device(device), torch.cuda.stream(stream), autocast(enabled=autocast_enabled):\n",
      "Evaluating: 100%|██████████| 162/162 [00:01<00:00, 94.16batch/s]\n"
     ]
    },
    {
     "name": "stdout",
     "output_type": "stream",
     "text": [
      "\t---> Loss: 1.3076\n",
      "\t---> Accuracy: 0.3885\n",
      "\tClassification Report:\n",
      "              precision    recall  f1-score   support\n",
      "\n",
      "   Left Hand       0.34      0.28      0.31       648\n",
      "  Right Hand       0.42      0.24      0.30       648\n",
      "        Foot       0.36      0.54      0.43       648\n",
      "      Tongue       0.44      0.50      0.47       648\n",
      "\n",
      "    accuracy                           0.39      2592\n",
      "   macro avg       0.39      0.39      0.38      2592\n",
      "weighted avg       0.39      0.39      0.38      2592\n",
      "\n"
     ]
    },
    {
     "name": "stderr",
     "output_type": "stream",
     "text": [
      "Training epoch [12/50]:   0%|          | 0/162 [00:00<?, ?batch/s]/opt/conda/lib/python3.10/site-packages/torch/nn/parallel/parallel_apply.py:79: FutureWarning: `torch.cuda.amp.autocast(args...)` is deprecated. Please use `torch.amp.autocast('cuda', args...)` instead.\n",
      "  with torch.cuda.device(device), torch.cuda.stream(stream), autocast(enabled=autocast_enabled):\n",
      "Training epoch [12/50]: 100%|██████████| 162/162 [00:02<00:00, 60.94batch/s]\n"
     ]
    },
    {
     "name": "stdout",
     "output_type": "stream",
     "text": [
      "\t---> Loss: 1.2549\n",
      "\t---> Accuracy: 0.4236\n"
     ]
    },
    {
     "name": "stderr",
     "output_type": "stream",
     "text": [
      "Evaluating:   0%|          | 0/162 [00:00<?, ?batch/s]/opt/conda/lib/python3.10/site-packages/torch/nn/parallel/parallel_apply.py:79: FutureWarning: `torch.cuda.amp.autocast(args...)` is deprecated. Please use `torch.amp.autocast('cuda', args...)` instead.\n",
      "  with torch.cuda.device(device), torch.cuda.stream(stream), autocast(enabled=autocast_enabled):\n",
      "Evaluating: 100%|██████████| 162/162 [00:01<00:00, 96.56batch/s]\n"
     ]
    },
    {
     "name": "stdout",
     "output_type": "stream",
     "text": [
      "\t---> Loss: 1.3135\n",
      "\t---> Accuracy: 0.3839\n",
      "\tClassification Report:\n",
      "              precision    recall  f1-score   support\n",
      "\n",
      "   Left Hand       0.37      0.24      0.29       648\n",
      "  Right Hand       0.42      0.24      0.30       648\n",
      "        Foot       0.39      0.39      0.39       648\n",
      "      Tongue       0.38      0.67      0.48       648\n",
      "\n",
      "    accuracy                           0.38      2592\n",
      "   macro avg       0.39      0.38      0.37      2592\n",
      "weighted avg       0.39      0.38      0.37      2592\n",
      "\n"
     ]
    },
    {
     "name": "stderr",
     "output_type": "stream",
     "text": [
      "Training epoch [13/50]:   0%|          | 0/162 [00:00<?, ?batch/s]/opt/conda/lib/python3.10/site-packages/torch/nn/parallel/parallel_apply.py:79: FutureWarning: `torch.cuda.amp.autocast(args...)` is deprecated. Please use `torch.amp.autocast('cuda', args...)` instead.\n",
      "  with torch.cuda.device(device), torch.cuda.stream(stream), autocast(enabled=autocast_enabled):\n",
      "Training epoch [13/50]: 100%|██████████| 162/162 [00:02<00:00, 62.05batch/s]\n"
     ]
    },
    {
     "name": "stdout",
     "output_type": "stream",
     "text": [
      "\t---> Loss: 1.2606\n",
      "\t---> Accuracy: 0.4113\n"
     ]
    },
    {
     "name": "stderr",
     "output_type": "stream",
     "text": [
      "Evaluating:   0%|          | 0/162 [00:00<?, ?batch/s]/opt/conda/lib/python3.10/site-packages/torch/nn/parallel/parallel_apply.py:79: FutureWarning: `torch.cuda.amp.autocast(args...)` is deprecated. Please use `torch.amp.autocast('cuda', args...)` instead.\n",
      "  with torch.cuda.device(device), torch.cuda.stream(stream), autocast(enabled=autocast_enabled):\n",
      "Evaluating: 100%|██████████| 162/162 [00:01<00:00, 96.50batch/s]\n"
     ]
    },
    {
     "name": "stdout",
     "output_type": "stream",
     "text": [
      "\t---> Loss: 1.2915\n",
      "\t---> Accuracy: 0.4016\n",
      "\tClassification Report:\n",
      "              precision    recall  f1-score   support\n",
      "\n",
      "   Left Hand       0.37      0.26      0.30       648\n",
      "  Right Hand       0.41      0.29      0.34       648\n",
      "        Foot       0.37      0.64      0.47       648\n",
      "      Tongue       0.48      0.42      0.44       648\n",
      "\n",
      "    accuracy                           0.40      2592\n",
      "   macro avg       0.41      0.40      0.39      2592\n",
      "weighted avg       0.41      0.40      0.39      2592\n",
      "\n",
      "Model is saved to  /kaggle/working/eeg_elite.pth\n"
     ]
    },
    {
     "name": "stderr",
     "output_type": "stream",
     "text": [
      "Training epoch [14/50]:   0%|          | 0/162 [00:00<?, ?batch/s]/opt/conda/lib/python3.10/site-packages/torch/nn/parallel/parallel_apply.py:79: FutureWarning: `torch.cuda.amp.autocast(args...)` is deprecated. Please use `torch.amp.autocast('cuda', args...)` instead.\n",
      "  with torch.cuda.device(device), torch.cuda.stream(stream), autocast(enabled=autocast_enabled):\n",
      "Training epoch [14/50]: 100%|██████████| 162/162 [00:02<00:00, 62.06batch/s]\n"
     ]
    },
    {
     "name": "stdout",
     "output_type": "stream",
     "text": [
      "\t---> Loss: 1.2506\n",
      "\t---> Accuracy: 0.4240\n"
     ]
    },
    {
     "name": "stderr",
     "output_type": "stream",
     "text": [
      "Evaluating:   0%|          | 0/162 [00:00<?, ?batch/s]/opt/conda/lib/python3.10/site-packages/torch/nn/parallel/parallel_apply.py:79: FutureWarning: `torch.cuda.amp.autocast(args...)` is deprecated. Please use `torch.amp.autocast('cuda', args...)` instead.\n",
      "  with torch.cuda.device(device), torch.cuda.stream(stream), autocast(enabled=autocast_enabled):\n",
      "Evaluating: 100%|██████████| 162/162 [00:01<00:00, 95.25batch/s]\n"
     ]
    },
    {
     "name": "stdout",
     "output_type": "stream",
     "text": [
      "\t---> Loss: 1.3072\n",
      "\t---> Accuracy: 0.4020\n",
      "\tClassification Report:\n",
      "              precision    recall  f1-score   support\n",
      "\n",
      "   Left Hand       0.37      0.24      0.29       648\n",
      "  Right Hand       0.41      0.30      0.34       648\n",
      "        Foot       0.46      0.39      0.42       648\n",
      "      Tongue       0.38      0.68      0.49       648\n",
      "\n",
      "    accuracy                           0.40      2592\n",
      "   macro avg       0.41      0.40      0.39      2592\n",
      "weighted avg       0.41      0.40      0.39      2592\n",
      "\n",
      "Model is saved to  /kaggle/working/eeg_elite.pth\n"
     ]
    },
    {
     "name": "stderr",
     "output_type": "stream",
     "text": [
      "Training epoch [15/50]:   0%|          | 0/162 [00:00<?, ?batch/s]/opt/conda/lib/python3.10/site-packages/torch/nn/parallel/parallel_apply.py:79: FutureWarning: `torch.cuda.amp.autocast(args...)` is deprecated. Please use `torch.amp.autocast('cuda', args...)` instead.\n",
      "  with torch.cuda.device(device), torch.cuda.stream(stream), autocast(enabled=autocast_enabled):\n",
      "Training epoch [15/50]: 100%|██████████| 162/162 [00:02<00:00, 62.46batch/s]\n"
     ]
    },
    {
     "name": "stdout",
     "output_type": "stream",
     "text": [
      "\t---> Loss: 1.2367\n",
      "\t---> Accuracy: 0.4456\n"
     ]
    },
    {
     "name": "stderr",
     "output_type": "stream",
     "text": [
      "Evaluating:   0%|          | 0/162 [00:00<?, ?batch/s]/opt/conda/lib/python3.10/site-packages/torch/nn/parallel/parallel_apply.py:79: FutureWarning: `torch.cuda.amp.autocast(args...)` is deprecated. Please use `torch.amp.autocast('cuda', args...)` instead.\n",
      "  with torch.cuda.device(device), torch.cuda.stream(stream), autocast(enabled=autocast_enabled):\n",
      "Evaluating: 100%|██████████| 162/162 [00:01<00:00, 99.02batch/s]\n"
     ]
    },
    {
     "name": "stdout",
     "output_type": "stream",
     "text": [
      "\t---> Loss: 1.3019\n",
      "\t---> Accuracy: 0.3981\n",
      "\tClassification Report:\n",
      "              precision    recall  f1-score   support\n",
      "\n",
      "   Left Hand       0.36      0.32      0.34       648\n",
      "  Right Hand       0.43      0.24      0.31       648\n",
      "        Foot       0.36      0.62      0.45       648\n",
      "      Tongue       0.50      0.41      0.45       648\n",
      "\n",
      "    accuracy                           0.40      2592\n",
      "   macro avg       0.41      0.40      0.39      2592\n",
      "weighted avg       0.41      0.40      0.39      2592\n",
      "\n"
     ]
    },
    {
     "name": "stderr",
     "output_type": "stream",
     "text": [
      "Training epoch [16/50]:   0%|          | 0/162 [00:00<?, ?batch/s]/opt/conda/lib/python3.10/site-packages/torch/nn/parallel/parallel_apply.py:79: FutureWarning: `torch.cuda.amp.autocast(args...)` is deprecated. Please use `torch.amp.autocast('cuda', args...)` instead.\n",
      "  with torch.cuda.device(device), torch.cuda.stream(stream), autocast(enabled=autocast_enabled):\n",
      "Training epoch [16/50]: 100%|██████████| 162/162 [00:02<00:00, 56.71batch/s]\n"
     ]
    },
    {
     "name": "stdout",
     "output_type": "stream",
     "text": [
      "\t---> Loss: 1.2328\n",
      "\t---> Accuracy: 0.4452\n"
     ]
    },
    {
     "name": "stderr",
     "output_type": "stream",
     "text": [
      "Evaluating:   0%|          | 0/162 [00:00<?, ?batch/s]/opt/conda/lib/python3.10/site-packages/torch/nn/parallel/parallel_apply.py:79: FutureWarning: `torch.cuda.amp.autocast(args...)` is deprecated. Please use `torch.amp.autocast('cuda', args...)` instead.\n",
      "  with torch.cuda.device(device), torch.cuda.stream(stream), autocast(enabled=autocast_enabled):\n",
      "Evaluating: 100%|██████████| 162/162 [00:01<00:00, 96.18batch/s] \n"
     ]
    },
    {
     "name": "stdout",
     "output_type": "stream",
     "text": [
      "\t---> Loss: 1.2893\n",
      "\t---> Accuracy: 0.4120\n",
      "\tClassification Report:\n",
      "              precision    recall  f1-score   support\n",
      "\n",
      "   Left Hand       0.38      0.29      0.33       648\n",
      "  Right Hand       0.46      0.24      0.31       648\n",
      "        Foot       0.42      0.52      0.46       648\n",
      "      Tongue       0.41      0.61      0.49       648\n",
      "\n",
      "    accuracy                           0.41      2592\n",
      "   macro avg       0.42      0.41      0.40      2592\n",
      "weighted avg       0.42      0.41      0.40      2592\n",
      "\n",
      "Model is saved to  /kaggle/working/eeg_elite.pth\n"
     ]
    },
    {
     "name": "stderr",
     "output_type": "stream",
     "text": [
      "Training epoch [17/50]:   0%|          | 0/162 [00:00<?, ?batch/s]/opt/conda/lib/python3.10/site-packages/torch/nn/parallel/parallel_apply.py:79: FutureWarning: `torch.cuda.amp.autocast(args...)` is deprecated. Please use `torch.amp.autocast('cuda', args...)` instead.\n",
      "  with torch.cuda.device(device), torch.cuda.stream(stream), autocast(enabled=autocast_enabled):\n",
      "Training epoch [17/50]: 100%|██████████| 162/162 [00:02<00:00, 61.69batch/s]\n"
     ]
    },
    {
     "name": "stdout",
     "output_type": "stream",
     "text": [
      "\t---> Loss: 1.2295\n",
      "\t---> Accuracy: 0.4452\n"
     ]
    },
    {
     "name": "stderr",
     "output_type": "stream",
     "text": [
      "Evaluating:   0%|          | 0/162 [00:00<?, ?batch/s]/opt/conda/lib/python3.10/site-packages/torch/nn/parallel/parallel_apply.py:79: FutureWarning: `torch.cuda.amp.autocast(args...)` is deprecated. Please use `torch.amp.autocast('cuda', args...)` instead.\n",
      "  with torch.cuda.device(device), torch.cuda.stream(stream), autocast(enabled=autocast_enabled):\n",
      "Evaluating: 100%|██████████| 162/162 [00:01<00:00, 99.94batch/s] \n"
     ]
    },
    {
     "name": "stdout",
     "output_type": "stream",
     "text": [
      "\t---> Loss: 1.2797\n",
      "\t---> Accuracy: 0.4163\n",
      "\tClassification Report:\n",
      "              precision    recall  f1-score   support\n",
      "\n",
      "   Left Hand       0.38      0.19      0.25       648\n",
      "  Right Hand       0.40      0.46      0.43       648\n",
      "        Foot       0.42      0.48      0.45       648\n",
      "      Tongue       0.44      0.54      0.48       648\n",
      "\n",
      "    accuracy                           0.42      2592\n",
      "   macro avg       0.41      0.42      0.40      2592\n",
      "weighted avg       0.41      0.42      0.40      2592\n",
      "\n",
      "Model is saved to  /kaggle/working/eeg_elite.pth\n"
     ]
    },
    {
     "name": "stderr",
     "output_type": "stream",
     "text": [
      "Training epoch [18/50]:   0%|          | 0/162 [00:00<?, ?batch/s]/opt/conda/lib/python3.10/site-packages/torch/nn/parallel/parallel_apply.py:79: FutureWarning: `torch.cuda.amp.autocast(args...)` is deprecated. Please use `torch.amp.autocast('cuda', args...)` instead.\n",
      "  with torch.cuda.device(device), torch.cuda.stream(stream), autocast(enabled=autocast_enabled):\n",
      "Training epoch [18/50]: 100%|██████████| 162/162 [00:02<00:00, 64.28batch/s]\n"
     ]
    },
    {
     "name": "stdout",
     "output_type": "stream",
     "text": [
      "\t---> Loss: 1.2225\n",
      "\t---> Accuracy: 0.4525\n"
     ]
    },
    {
     "name": "stderr",
     "output_type": "stream",
     "text": [
      "Evaluating:   0%|          | 0/162 [00:00<?, ?batch/s]/opt/conda/lib/python3.10/site-packages/torch/nn/parallel/parallel_apply.py:79: FutureWarning: `torch.cuda.amp.autocast(args...)` is deprecated. Please use `torch.amp.autocast('cuda', args...)` instead.\n",
      "  with torch.cuda.device(device), torch.cuda.stream(stream), autocast(enabled=autocast_enabled):\n",
      "Evaluating: 100%|██████████| 162/162 [00:01<00:00, 99.56batch/s]\n"
     ]
    },
    {
     "name": "stdout",
     "output_type": "stream",
     "text": [
      "\t---> Loss: 1.2802\n",
      "\t---> Accuracy: 0.4097\n",
      "\tClassification Report:\n",
      "              precision    recall  f1-score   support\n",
      "\n",
      "   Left Hand       0.37      0.31      0.34       648\n",
      "  Right Hand       0.46      0.22      0.30       648\n",
      "        Foot       0.37      0.65      0.48       648\n",
      "      Tongue       0.48      0.46      0.47       648\n",
      "\n",
      "    accuracy                           0.41      2592\n",
      "   macro avg       0.42      0.41      0.40      2592\n",
      "weighted avg       0.42      0.41      0.40      2592\n",
      "\n"
     ]
    },
    {
     "name": "stderr",
     "output_type": "stream",
     "text": [
      "Training epoch [19/50]:   0%|          | 0/162 [00:00<?, ?batch/s]/opt/conda/lib/python3.10/site-packages/torch/nn/parallel/parallel_apply.py:79: FutureWarning: `torch.cuda.amp.autocast(args...)` is deprecated. Please use `torch.amp.autocast('cuda', args...)` instead.\n",
      "  with torch.cuda.device(device), torch.cuda.stream(stream), autocast(enabled=autocast_enabled):\n",
      "Training epoch [19/50]: 100%|██████████| 162/162 [00:02<00:00, 61.76batch/s]\n"
     ]
    },
    {
     "name": "stdout",
     "output_type": "stream",
     "text": [
      "\t---> Loss: 1.2165\n",
      "\t---> Accuracy: 0.4587\n"
     ]
    },
    {
     "name": "stderr",
     "output_type": "stream",
     "text": [
      "Evaluating:   0%|          | 0/162 [00:00<?, ?batch/s]/opt/conda/lib/python3.10/site-packages/torch/nn/parallel/parallel_apply.py:79: FutureWarning: `torch.cuda.amp.autocast(args...)` is deprecated. Please use `torch.amp.autocast('cuda', args...)` instead.\n",
      "  with torch.cuda.device(device), torch.cuda.stream(stream), autocast(enabled=autocast_enabled):\n",
      "Evaluating: 100%|██████████| 162/162 [00:01<00:00, 96.52batch/s] \n"
     ]
    },
    {
     "name": "stdout",
     "output_type": "stream",
     "text": [
      "\t---> Loss: 1.2832\n",
      "\t---> Accuracy: 0.4205\n",
      "\tClassification Report:\n",
      "              precision    recall  f1-score   support\n",
      "\n",
      "   Left Hand       0.38      0.41      0.40       648\n",
      "  Right Hand       0.45      0.29      0.35       648\n",
      "        Foot       0.51      0.38      0.43       648\n",
      "      Tongue       0.40      0.61      0.48       648\n",
      "\n",
      "    accuracy                           0.42      2592\n",
      "   macro avg       0.43      0.42      0.41      2592\n",
      "weighted avg       0.43      0.42      0.41      2592\n",
      "\n",
      "Model is saved to  /kaggle/working/eeg_elite.pth\n"
     ]
    },
    {
     "name": "stderr",
     "output_type": "stream",
     "text": [
      "Training epoch [20/50]:   0%|          | 0/162 [00:00<?, ?batch/s]/opt/conda/lib/python3.10/site-packages/torch/nn/parallel/parallel_apply.py:79: FutureWarning: `torch.cuda.amp.autocast(args...)` is deprecated. Please use `torch.amp.autocast('cuda', args...)` instead.\n",
      "  with torch.cuda.device(device), torch.cuda.stream(stream), autocast(enabled=autocast_enabled):\n",
      "Training epoch [20/50]: 100%|██████████| 162/162 [00:02<00:00, 62.11batch/s]\n"
     ]
    },
    {
     "name": "stdout",
     "output_type": "stream",
     "text": [
      "\t---> Loss: 1.2033\n",
      "\t---> Accuracy: 0.4583\n"
     ]
    },
    {
     "name": "stderr",
     "output_type": "stream",
     "text": [
      "Evaluating:   0%|          | 0/162 [00:00<?, ?batch/s]/opt/conda/lib/python3.10/site-packages/torch/nn/parallel/parallel_apply.py:79: FutureWarning: `torch.cuda.amp.autocast(args...)` is deprecated. Please use `torch.amp.autocast('cuda', args...)` instead.\n",
      "  with torch.cuda.device(device), torch.cuda.stream(stream), autocast(enabled=autocast_enabled):\n",
      "Evaluating: 100%|██████████| 162/162 [00:01<00:00, 96.71batch/s]\n"
     ]
    },
    {
     "name": "stdout",
     "output_type": "stream",
     "text": [
      "\t---> Loss: 1.2457\n",
      "\t---> Accuracy: 0.4448\n",
      "\tClassification Report:\n",
      "              precision    recall  f1-score   support\n",
      "\n",
      "   Left Hand       0.53      0.14      0.22       648\n",
      "  Right Hand       0.42      0.58      0.49       648\n",
      "        Foot       0.43      0.52      0.47       648\n",
      "      Tongue       0.47      0.54      0.50       648\n",
      "\n",
      "    accuracy                           0.44      2592\n",
      "   macro avg       0.46      0.44      0.42      2592\n",
      "weighted avg       0.46      0.44      0.42      2592\n",
      "\n",
      "Model is saved to  /kaggle/working/eeg_elite.pth\n"
     ]
    },
    {
     "name": "stderr",
     "output_type": "stream",
     "text": [
      "Training epoch [21/50]:   0%|          | 0/162 [00:00<?, ?batch/s]/opt/conda/lib/python3.10/site-packages/torch/nn/parallel/parallel_apply.py:79: FutureWarning: `torch.cuda.amp.autocast(args...)` is deprecated. Please use `torch.amp.autocast('cuda', args...)` instead.\n",
      "  with torch.cuda.device(device), torch.cuda.stream(stream), autocast(enabled=autocast_enabled):\n",
      "Training epoch [21/50]: 100%|██████████| 162/162 [00:02<00:00, 60.91batch/s]\n"
     ]
    },
    {
     "name": "stdout",
     "output_type": "stream",
     "text": [
      "\t---> Loss: 1.1999\n",
      "\t---> Accuracy: 0.4676\n"
     ]
    },
    {
     "name": "stderr",
     "output_type": "stream",
     "text": [
      "Evaluating:   0%|          | 0/162 [00:00<?, ?batch/s]/opt/conda/lib/python3.10/site-packages/torch/nn/parallel/parallel_apply.py:79: FutureWarning: `torch.cuda.amp.autocast(args...)` is deprecated. Please use `torch.amp.autocast('cuda', args...)` instead.\n",
      "  with torch.cuda.device(device), torch.cuda.stream(stream), autocast(enabled=autocast_enabled):\n",
      "Evaluating: 100%|██████████| 162/162 [00:01<00:00, 99.82batch/s] \n"
     ]
    },
    {
     "name": "stdout",
     "output_type": "stream",
     "text": [
      "\t---> Loss: 1.2908\n",
      "\t---> Accuracy: 0.4008\n",
      "\tClassification Report:\n",
      "              precision    recall  f1-score   support\n",
      "\n",
      "   Left Hand       0.44      0.21      0.29       648\n",
      "  Right Hand       0.47      0.21      0.29       648\n",
      "        Foot       0.48      0.38      0.42       648\n",
      "      Tongue       0.35      0.81      0.49       648\n",
      "\n",
      "    accuracy                           0.40      2592\n",
      "   macro avg       0.44      0.40      0.37      2592\n",
      "weighted avg       0.44      0.40      0.37      2592\n",
      "\n"
     ]
    },
    {
     "name": "stderr",
     "output_type": "stream",
     "text": [
      "Training epoch [22/50]:   0%|          | 0/162 [00:00<?, ?batch/s]/opt/conda/lib/python3.10/site-packages/torch/nn/parallel/parallel_apply.py:79: FutureWarning: `torch.cuda.amp.autocast(args...)` is deprecated. Please use `torch.amp.autocast('cuda', args...)` instead.\n",
      "  with torch.cuda.device(device), torch.cuda.stream(stream), autocast(enabled=autocast_enabled):\n",
      "Training epoch [22/50]: 100%|██████████| 162/162 [00:02<00:00, 62.61batch/s]\n"
     ]
    },
    {
     "name": "stdout",
     "output_type": "stream",
     "text": [
      "\t---> Loss: 1.1960\n",
      "\t---> Accuracy: 0.4653\n"
     ]
    },
    {
     "name": "stderr",
     "output_type": "stream",
     "text": [
      "Evaluating:   0%|          | 0/162 [00:00<?, ?batch/s]/opt/conda/lib/python3.10/site-packages/torch/nn/parallel/parallel_apply.py:79: FutureWarning: `torch.cuda.amp.autocast(args...)` is deprecated. Please use `torch.amp.autocast('cuda', args...)` instead.\n",
      "  with torch.cuda.device(device), torch.cuda.stream(stream), autocast(enabled=autocast_enabled):\n",
      "Evaluating: 100%|██████████| 162/162 [00:01<00:00, 97.45batch/s] \n"
     ]
    },
    {
     "name": "stdout",
     "output_type": "stream",
     "text": [
      "\t---> Loss: 1.2567\n",
      "\t---> Accuracy: 0.4329\n",
      "\tClassification Report:\n",
      "              precision    recall  f1-score   support\n",
      "\n",
      "   Left Hand       0.36      0.42      0.39       648\n",
      "  Right Hand       0.46      0.39      0.42       648\n",
      "        Foot       0.50      0.41      0.45       648\n",
      "      Tongue       0.44      0.51      0.48       648\n",
      "\n",
      "    accuracy                           0.43      2592\n",
      "   macro avg       0.44      0.43      0.43      2592\n",
      "weighted avg       0.44      0.43      0.43      2592\n",
      "\n"
     ]
    },
    {
     "name": "stderr",
     "output_type": "stream",
     "text": [
      "Training epoch [23/50]:   0%|          | 0/162 [00:00<?, ?batch/s]/opt/conda/lib/python3.10/site-packages/torch/nn/parallel/parallel_apply.py:79: FutureWarning: `torch.cuda.amp.autocast(args...)` is deprecated. Please use `torch.amp.autocast('cuda', args...)` instead.\n",
      "  with torch.cuda.device(device), torch.cuda.stream(stream), autocast(enabled=autocast_enabled):\n",
      "Training epoch [23/50]: 100%|██████████| 162/162 [00:02<00:00, 61.77batch/s]\n"
     ]
    },
    {
     "name": "stdout",
     "output_type": "stream",
     "text": [
      "\t---> Loss: 1.1776\n",
      "\t---> Accuracy: 0.4668\n"
     ]
    },
    {
     "name": "stderr",
     "output_type": "stream",
     "text": [
      "Evaluating:   0%|          | 0/162 [00:00<?, ?batch/s]/opt/conda/lib/python3.10/site-packages/torch/nn/parallel/parallel_apply.py:79: FutureWarning: `torch.cuda.amp.autocast(args...)` is deprecated. Please use `torch.amp.autocast('cuda', args...)` instead.\n",
      "  with torch.cuda.device(device), torch.cuda.stream(stream), autocast(enabled=autocast_enabled):\n",
      "Evaluating: 100%|██████████| 162/162 [00:01<00:00, 86.40batch/s]\n"
     ]
    },
    {
     "name": "stdout",
     "output_type": "stream",
     "text": [
      "\t---> Loss: 1.2862\n",
      "\t---> Accuracy: 0.4306\n",
      "\tClassification Report:\n",
      "              precision    recall  f1-score   support\n",
      "\n",
      "   Left Hand       0.43      0.29      0.35       648\n",
      "  Right Hand       0.44      0.42      0.43       648\n",
      "        Foot       0.54      0.29      0.38       648\n",
      "      Tongue       0.39      0.72      0.51       648\n",
      "\n",
      "    accuracy                           0.43      2592\n",
      "   macro avg       0.45      0.43      0.42      2592\n",
      "weighted avg       0.45      0.43      0.42      2592\n",
      "\n"
     ]
    },
    {
     "name": "stderr",
     "output_type": "stream",
     "text": [
      "Training epoch [24/50]:   0%|          | 0/162 [00:00<?, ?batch/s]/opt/conda/lib/python3.10/site-packages/torch/nn/parallel/parallel_apply.py:79: FutureWarning: `torch.cuda.amp.autocast(args...)` is deprecated. Please use `torch.amp.autocast('cuda', args...)` instead.\n",
      "  with torch.cuda.device(device), torch.cuda.stream(stream), autocast(enabled=autocast_enabled):\n",
      "Training epoch [24/50]: 100%|██████████| 162/162 [00:02<00:00, 63.26batch/s]\n"
     ]
    },
    {
     "name": "stdout",
     "output_type": "stream",
     "text": [
      "\t---> Loss: 1.1701\n",
      "\t---> Accuracy: 0.4796\n"
     ]
    },
    {
     "name": "stderr",
     "output_type": "stream",
     "text": [
      "Evaluating:   0%|          | 0/162 [00:00<?, ?batch/s]/opt/conda/lib/python3.10/site-packages/torch/nn/parallel/parallel_apply.py:79: FutureWarning: `torch.cuda.amp.autocast(args...)` is deprecated. Please use `torch.amp.autocast('cuda', args...)` instead.\n",
      "  with torch.cuda.device(device), torch.cuda.stream(stream), autocast(enabled=autocast_enabled):\n",
      "Evaluating: 100%|██████████| 162/162 [00:01<00:00, 95.44batch/s] \n"
     ]
    },
    {
     "name": "stdout",
     "output_type": "stream",
     "text": [
      "\t---> Loss: 1.2931\n",
      "\t---> Accuracy: 0.4317\n",
      "\tClassification Report:\n",
      "              precision    recall  f1-score   support\n",
      "\n",
      "   Left Hand       0.40      0.27      0.32       648\n",
      "  Right Hand       0.57      0.31      0.40       648\n",
      "        Foot       0.47      0.44      0.45       648\n",
      "      Tongue       0.38      0.71      0.50       648\n",
      "\n",
      "    accuracy                           0.43      2592\n",
      "   macro avg       0.46      0.43      0.42      2592\n",
      "weighted avg       0.46      0.43      0.42      2592\n",
      "\n"
     ]
    },
    {
     "name": "stderr",
     "output_type": "stream",
     "text": [
      "Training epoch [25/50]:   0%|          | 0/162 [00:00<?, ?batch/s]/opt/conda/lib/python3.10/site-packages/torch/nn/parallel/parallel_apply.py:79: FutureWarning: `torch.cuda.amp.autocast(args...)` is deprecated. Please use `torch.amp.autocast('cuda', args...)` instead.\n",
      "  with torch.cuda.device(device), torch.cuda.stream(stream), autocast(enabled=autocast_enabled):\n",
      "Training epoch [25/50]: 100%|██████████| 162/162 [00:02<00:00, 63.17batch/s]\n"
     ]
    },
    {
     "name": "stdout",
     "output_type": "stream",
     "text": [
      "\t---> Loss: 1.1637\n",
      "\t---> Accuracy: 0.4938\n"
     ]
    },
    {
     "name": "stderr",
     "output_type": "stream",
     "text": [
      "Evaluating:   0%|          | 0/162 [00:00<?, ?batch/s]/opt/conda/lib/python3.10/site-packages/torch/nn/parallel/parallel_apply.py:79: FutureWarning: `torch.cuda.amp.autocast(args...)` is deprecated. Please use `torch.amp.autocast('cuda', args...)` instead.\n",
      "  with torch.cuda.device(device), torch.cuda.stream(stream), autocast(enabled=autocast_enabled):\n",
      "Evaluating: 100%|██████████| 162/162 [00:01<00:00, 98.55batch/s] \n"
     ]
    },
    {
     "name": "stdout",
     "output_type": "stream",
     "text": [
      "\t---> Loss: 1.3167\n",
      "\t---> Accuracy: 0.4367\n",
      "\tClassification Report:\n",
      "              precision    recall  f1-score   support\n",
      "\n",
      "   Left Hand       0.41      0.32      0.36       648\n",
      "  Right Hand       0.40      0.61      0.48       648\n",
      "        Foot       0.48      0.42      0.44       648\n",
      "      Tongue       0.48      0.40      0.44       648\n",
      "\n",
      "    accuracy                           0.44      2592\n",
      "   macro avg       0.44      0.44      0.43      2592\n",
      "weighted avg       0.44      0.44      0.43      2592\n",
      "\n"
     ]
    },
    {
     "name": "stderr",
     "output_type": "stream",
     "text": [
      "Training epoch [26/50]:   0%|          | 0/162 [00:00<?, ?batch/s]/opt/conda/lib/python3.10/site-packages/torch/nn/parallel/parallel_apply.py:79: FutureWarning: `torch.cuda.amp.autocast(args...)` is deprecated. Please use `torch.amp.autocast('cuda', args...)` instead.\n",
      "  with torch.cuda.device(device), torch.cuda.stream(stream), autocast(enabled=autocast_enabled):\n",
      "Training epoch [26/50]: 100%|██████████| 162/162 [00:02<00:00, 62.27batch/s]\n"
     ]
    },
    {
     "name": "stdout",
     "output_type": "stream",
     "text": [
      "\t---> Loss: 1.1639\n",
      "\t---> Accuracy: 0.4726\n"
     ]
    },
    {
     "name": "stderr",
     "output_type": "stream",
     "text": [
      "Evaluating:   0%|          | 0/162 [00:00<?, ?batch/s]/opt/conda/lib/python3.10/site-packages/torch/nn/parallel/parallel_apply.py:79: FutureWarning: `torch.cuda.amp.autocast(args...)` is deprecated. Please use `torch.amp.autocast('cuda', args...)` instead.\n",
      "  with torch.cuda.device(device), torch.cuda.stream(stream), autocast(enabled=autocast_enabled):\n",
      "Evaluating: 100%|██████████| 162/162 [00:01<00:00, 98.25batch/s]\n"
     ]
    },
    {
     "name": "stdout",
     "output_type": "stream",
     "text": [
      "\t---> Loss: 1.2211\n",
      "\t---> Accuracy: 0.4568\n",
      "\tClassification Report:\n",
      "              precision    recall  f1-score   support\n",
      "\n",
      "   Left Hand       0.43      0.35      0.39       648\n",
      "  Right Hand       0.41      0.63      0.50       648\n",
      "        Foot       0.52      0.37      0.43       648\n",
      "      Tongue       0.51      0.47      0.49       648\n",
      "\n",
      "    accuracy                           0.46      2592\n",
      "   macro avg       0.47      0.46      0.45      2592\n",
      "weighted avg       0.47      0.46      0.45      2592\n",
      "\n",
      "Model is saved to  /kaggle/working/eeg_elite.pth\n"
     ]
    },
    {
     "name": "stderr",
     "output_type": "stream",
     "text": [
      "Training epoch [27/50]:   0%|          | 0/162 [00:00<?, ?batch/s]/opt/conda/lib/python3.10/site-packages/torch/nn/parallel/parallel_apply.py:79: FutureWarning: `torch.cuda.amp.autocast(args...)` is deprecated. Please use `torch.amp.autocast('cuda', args...)` instead.\n",
      "  with torch.cuda.device(device), torch.cuda.stream(stream), autocast(enabled=autocast_enabled):\n",
      "Training epoch [27/50]: 100%|██████████| 162/162 [00:02<00:00, 63.19batch/s]\n"
     ]
    },
    {
     "name": "stdout",
     "output_type": "stream",
     "text": [
      "\t---> Loss: 1.1526\n",
      "\t---> Accuracy: 0.4826\n"
     ]
    },
    {
     "name": "stderr",
     "output_type": "stream",
     "text": [
      "Evaluating:   0%|          | 0/162 [00:00<?, ?batch/s]/opt/conda/lib/python3.10/site-packages/torch/nn/parallel/parallel_apply.py:79: FutureWarning: `torch.cuda.amp.autocast(args...)` is deprecated. Please use `torch.amp.autocast('cuda', args...)` instead.\n",
      "  with torch.cuda.device(device), torch.cuda.stream(stream), autocast(enabled=autocast_enabled):\n",
      "Evaluating: 100%|██████████| 162/162 [00:01<00:00, 97.11batch/s]\n"
     ]
    },
    {
     "name": "stdout",
     "output_type": "stream",
     "text": [
      "\t---> Loss: 1.2370\n",
      "\t---> Accuracy: 0.4340\n",
      "\tClassification Report:\n",
      "              precision    recall  f1-score   support\n",
      "\n",
      "   Left Hand       0.43      0.23      0.30       648\n",
      "  Right Hand       0.52      0.28      0.37       648\n",
      "        Foot       0.40      0.63      0.49       648\n",
      "      Tongue       0.44      0.59      0.50       648\n",
      "\n",
      "    accuracy                           0.43      2592\n",
      "   macro avg       0.45      0.43      0.42      2592\n",
      "weighted avg       0.45      0.43      0.42      2592\n",
      "\n"
     ]
    },
    {
     "name": "stderr",
     "output_type": "stream",
     "text": [
      "Training epoch [28/50]:   0%|          | 0/162 [00:00<?, ?batch/s]/opt/conda/lib/python3.10/site-packages/torch/nn/parallel/parallel_apply.py:79: FutureWarning: `torch.cuda.amp.autocast(args...)` is deprecated. Please use `torch.amp.autocast('cuda', args...)` instead.\n",
      "  with torch.cuda.device(device), torch.cuda.stream(stream), autocast(enabled=autocast_enabled):\n",
      "Training epoch [28/50]: 100%|██████████| 162/162 [00:02<00:00, 62.24batch/s]\n"
     ]
    },
    {
     "name": "stdout",
     "output_type": "stream",
     "text": [
      "\t---> Loss: 1.1556\n",
      "\t---> Accuracy: 0.5004\n"
     ]
    },
    {
     "name": "stderr",
     "output_type": "stream",
     "text": [
      "Evaluating:   0%|          | 0/162 [00:00<?, ?batch/s]/opt/conda/lib/python3.10/site-packages/torch/nn/parallel/parallel_apply.py:79: FutureWarning: `torch.cuda.amp.autocast(args...)` is deprecated. Please use `torch.amp.autocast('cuda', args...)` instead.\n",
      "  with torch.cuda.device(device), torch.cuda.stream(stream), autocast(enabled=autocast_enabled):\n",
      "Evaluating: 100%|██████████| 162/162 [00:01<00:00, 97.82batch/s] \n"
     ]
    },
    {
     "name": "stdout",
     "output_type": "stream",
     "text": [
      "\t---> Loss: 1.2652\n",
      "\t---> Accuracy: 0.4456\n",
      "\tClassification Report:\n",
      "              precision    recall  f1-score   support\n",
      "\n",
      "   Left Hand       0.49      0.23      0.32       648\n",
      "  Right Hand       0.40      0.68      0.50       648\n",
      "        Foot       0.47      0.48      0.48       648\n",
      "      Tongue       0.48      0.39      0.43       648\n",
      "\n",
      "    accuracy                           0.45      2592\n",
      "   macro avg       0.46      0.45      0.43      2592\n",
      "weighted avg       0.46      0.45      0.43      2592\n",
      "\n"
     ]
    },
    {
     "name": "stderr",
     "output_type": "stream",
     "text": [
      "Training epoch [29/50]:   0%|          | 0/162 [00:00<?, ?batch/s]/opt/conda/lib/python3.10/site-packages/torch/nn/parallel/parallel_apply.py:79: FutureWarning: `torch.cuda.amp.autocast(args...)` is deprecated. Please use `torch.amp.autocast('cuda', args...)` instead.\n",
      "  with torch.cuda.device(device), torch.cuda.stream(stream), autocast(enabled=autocast_enabled):\n",
      "Training epoch [29/50]: 100%|██████████| 162/162 [00:02<00:00, 63.50batch/s]\n"
     ]
    },
    {
     "name": "stdout",
     "output_type": "stream",
     "text": [
      "\t---> Loss: 1.1524\n",
      "\t---> Accuracy: 0.4938\n"
     ]
    },
    {
     "name": "stderr",
     "output_type": "stream",
     "text": [
      "Evaluating:   0%|          | 0/162 [00:00<?, ?batch/s]/opt/conda/lib/python3.10/site-packages/torch/nn/parallel/parallel_apply.py:79: FutureWarning: `torch.cuda.amp.autocast(args...)` is deprecated. Please use `torch.amp.autocast('cuda', args...)` instead.\n",
      "  with torch.cuda.device(device), torch.cuda.stream(stream), autocast(enabled=autocast_enabled):\n",
      "Evaluating: 100%|██████████| 162/162 [00:01<00:00, 96.81batch/s]\n"
     ]
    },
    {
     "name": "stdout",
     "output_type": "stream",
     "text": [
      "\t---> Loss: 1.2371\n",
      "\t---> Accuracy: 0.4541\n",
      "\tClassification Report:\n",
      "              precision    recall  f1-score   support\n",
      "\n",
      "   Left Hand       0.45      0.35      0.39       648\n",
      "  Right Hand       0.50      0.36      0.42       648\n",
      "        Foot       0.42      0.60      0.50       648\n",
      "      Tongue       0.47      0.51      0.49       648\n",
      "\n",
      "    accuracy                           0.45      2592\n",
      "   macro avg       0.46      0.45      0.45      2592\n",
      "weighted avg       0.46      0.45      0.45      2592\n",
      "\n"
     ]
    },
    {
     "name": "stderr",
     "output_type": "stream",
     "text": [
      "Training epoch [30/50]:   0%|          | 0/162 [00:00<?, ?batch/s]/opt/conda/lib/python3.10/site-packages/torch/nn/parallel/parallel_apply.py:79: FutureWarning: `torch.cuda.amp.autocast(args...)` is deprecated. Please use `torch.amp.autocast('cuda', args...)` instead.\n",
      "  with torch.cuda.device(device), torch.cuda.stream(stream), autocast(enabled=autocast_enabled):\n",
      "Training epoch [30/50]: 100%|██████████| 162/162 [00:02<00:00, 64.38batch/s]\n"
     ]
    },
    {
     "name": "stdout",
     "output_type": "stream",
     "text": [
      "\t---> Loss: 1.1405\n",
      "\t---> Accuracy: 0.4942\n"
     ]
    },
    {
     "name": "stderr",
     "output_type": "stream",
     "text": [
      "Evaluating:   0%|          | 0/162 [00:00<?, ?batch/s]/opt/conda/lib/python3.10/site-packages/torch/nn/parallel/parallel_apply.py:79: FutureWarning: `torch.cuda.amp.autocast(args...)` is deprecated. Please use `torch.amp.autocast('cuda', args...)` instead.\n",
      "  with torch.cuda.device(device), torch.cuda.stream(stream), autocast(enabled=autocast_enabled):\n",
      "Evaluating: 100%|██████████| 162/162 [00:01<00:00, 92.57batch/s]\n"
     ]
    },
    {
     "name": "stdout",
     "output_type": "stream",
     "text": [
      "\t---> Loss: 1.2195\n",
      "\t---> Accuracy: 0.4657\n",
      "\tClassification Report:\n",
      "              precision    recall  f1-score   support\n",
      "\n",
      "   Left Hand       0.49      0.28      0.36       648\n",
      "  Right Hand       0.46      0.50      0.48       648\n",
      "        Foot       0.45      0.54      0.49       648\n",
      "      Tongue       0.47      0.53      0.50       648\n",
      "\n",
      "    accuracy                           0.47      2592\n",
      "   macro avg       0.47      0.47      0.46      2592\n",
      "weighted avg       0.47      0.47      0.46      2592\n",
      "\n",
      "Model is saved to  /kaggle/working/eeg_elite.pth\n"
     ]
    },
    {
     "name": "stderr",
     "output_type": "stream",
     "text": [
      "Training epoch [31/50]:   0%|          | 0/162 [00:00<?, ?batch/s]/opt/conda/lib/python3.10/site-packages/torch/nn/parallel/parallel_apply.py:79: FutureWarning: `torch.cuda.amp.autocast(args...)` is deprecated. Please use `torch.amp.autocast('cuda', args...)` instead.\n",
      "  with torch.cuda.device(device), torch.cuda.stream(stream), autocast(enabled=autocast_enabled):\n",
      "Training epoch [31/50]: 100%|██████████| 162/162 [00:02<00:00, 58.57batch/s]\n"
     ]
    },
    {
     "name": "stdout",
     "output_type": "stream",
     "text": [
      "\t---> Loss: 1.1183\n",
      "\t---> Accuracy: 0.5096\n"
     ]
    },
    {
     "name": "stderr",
     "output_type": "stream",
     "text": [
      "Evaluating:   0%|          | 0/162 [00:00<?, ?batch/s]/opt/conda/lib/python3.10/site-packages/torch/nn/parallel/parallel_apply.py:79: FutureWarning: `torch.cuda.amp.autocast(args...)` is deprecated. Please use `torch.amp.autocast('cuda', args...)` instead.\n",
      "  with torch.cuda.device(device), torch.cuda.stream(stream), autocast(enabled=autocast_enabled):\n",
      "Evaluating: 100%|██████████| 162/162 [00:01<00:00, 99.45batch/s] \n"
     ]
    },
    {
     "name": "stdout",
     "output_type": "stream",
     "text": [
      "\t---> Loss: 1.2485\n",
      "\t---> Accuracy: 0.4514\n",
      "\tClassification Report:\n",
      "              precision    recall  f1-score   support\n",
      "\n",
      "   Left Hand       0.42      0.37      0.39       648\n",
      "  Right Hand       0.61      0.31      0.41       648\n",
      "        Foot       0.42      0.62      0.50       648\n",
      "      Tongue       0.44      0.51      0.47       648\n",
      "\n",
      "    accuracy                           0.45      2592\n",
      "   macro avg       0.47      0.45      0.44      2592\n",
      "weighted avg       0.47      0.45      0.44      2592\n",
      "\n"
     ]
    },
    {
     "name": "stderr",
     "output_type": "stream",
     "text": [
      "Training epoch [32/50]:   0%|          | 0/162 [00:00<?, ?batch/s]/opt/conda/lib/python3.10/site-packages/torch/nn/parallel/parallel_apply.py:79: FutureWarning: `torch.cuda.amp.autocast(args...)` is deprecated. Please use `torch.amp.autocast('cuda', args...)` instead.\n",
      "  with torch.cuda.device(device), torch.cuda.stream(stream), autocast(enabled=autocast_enabled):\n",
      "Training epoch [32/50]: 100%|██████████| 162/162 [00:02<00:00, 63.70batch/s]\n"
     ]
    },
    {
     "name": "stdout",
     "output_type": "stream",
     "text": [
      "\t---> Loss: 1.1372\n",
      "\t---> Accuracy: 0.5012\n"
     ]
    },
    {
     "name": "stderr",
     "output_type": "stream",
     "text": [
      "Evaluating:   0%|          | 0/162 [00:00<?, ?batch/s]/opt/conda/lib/python3.10/site-packages/torch/nn/parallel/parallel_apply.py:79: FutureWarning: `torch.cuda.amp.autocast(args...)` is deprecated. Please use `torch.amp.autocast('cuda', args...)` instead.\n",
      "  with torch.cuda.device(device), torch.cuda.stream(stream), autocast(enabled=autocast_enabled):\n",
      "Evaluating: 100%|██████████| 162/162 [00:01<00:00, 100.40batch/s]\n"
     ]
    },
    {
     "name": "stdout",
     "output_type": "stream",
     "text": [
      "\t---> Loss: 1.2053\n",
      "\t---> Accuracy: 0.4684\n",
      "\tClassification Report:\n",
      "              precision    recall  f1-score   support\n",
      "\n",
      "   Left Hand       0.52      0.28      0.37       648\n",
      "  Right Hand       0.47      0.54      0.50       648\n",
      "        Foot       0.42      0.60      0.50       648\n",
      "      Tongue       0.51      0.45      0.48       648\n",
      "\n",
      "    accuracy                           0.47      2592\n",
      "   macro avg       0.48      0.47      0.46      2592\n",
      "weighted avg       0.48      0.47      0.46      2592\n",
      "\n",
      "Model is saved to  /kaggle/working/eeg_elite.pth\n"
     ]
    },
    {
     "name": "stderr",
     "output_type": "stream",
     "text": [
      "Training epoch [33/50]:   0%|          | 0/162 [00:00<?, ?batch/s]/opt/conda/lib/python3.10/site-packages/torch/nn/parallel/parallel_apply.py:79: FutureWarning: `torch.cuda.amp.autocast(args...)` is deprecated. Please use `torch.amp.autocast('cuda', args...)` instead.\n",
      "  with torch.cuda.device(device), torch.cuda.stream(stream), autocast(enabled=autocast_enabled):\n",
      "Training epoch [33/50]: 100%|██████████| 162/162 [00:02<00:00, 60.96batch/s]\n"
     ]
    },
    {
     "name": "stdout",
     "output_type": "stream",
     "text": [
      "\t---> Loss: 1.1102\n",
      "\t---> Accuracy: 0.5193\n"
     ]
    },
    {
     "name": "stderr",
     "output_type": "stream",
     "text": [
      "Evaluating:   0%|          | 0/162 [00:00<?, ?batch/s]/opt/conda/lib/python3.10/site-packages/torch/nn/parallel/parallel_apply.py:79: FutureWarning: `torch.cuda.amp.autocast(args...)` is deprecated. Please use `torch.amp.autocast('cuda', args...)` instead.\n",
      "  with torch.cuda.device(device), torch.cuda.stream(stream), autocast(enabled=autocast_enabled):\n",
      "Evaluating: 100%|██████████| 162/162 [00:01<00:00, 96.98batch/s] \n"
     ]
    },
    {
     "name": "stdout",
     "output_type": "stream",
     "text": [
      "\t---> Loss: 1.2577\n",
      "\t---> Accuracy: 0.4533\n",
      "\tClassification Report:\n",
      "              precision    recall  f1-score   support\n",
      "\n",
      "   Left Hand       0.44      0.43      0.43       648\n",
      "  Right Hand       0.67      0.25      0.36       648\n",
      "        Foot       0.41      0.61      0.49       648\n",
      "      Tongue       0.45      0.53      0.48       648\n",
      "\n",
      "    accuracy                           0.45      2592\n",
      "   macro avg       0.49      0.45      0.44      2592\n",
      "weighted avg       0.49      0.45      0.44      2592\n",
      "\n"
     ]
    },
    {
     "name": "stderr",
     "output_type": "stream",
     "text": [
      "Training epoch [34/50]:   0%|          | 0/162 [00:00<?, ?batch/s]/opt/conda/lib/python3.10/site-packages/torch/nn/parallel/parallel_apply.py:79: FutureWarning: `torch.cuda.amp.autocast(args...)` is deprecated. Please use `torch.amp.autocast('cuda', args...)` instead.\n",
      "  with torch.cuda.device(device), torch.cuda.stream(stream), autocast(enabled=autocast_enabled):\n",
      "Training epoch [34/50]: 100%|██████████| 162/162 [00:02<00:00, 63.51batch/s]\n"
     ]
    },
    {
     "name": "stdout",
     "output_type": "stream",
     "text": [
      "\t---> Loss: 1.0962\n",
      "\t---> Accuracy: 0.5204\n"
     ]
    },
    {
     "name": "stderr",
     "output_type": "stream",
     "text": [
      "Evaluating:   0%|          | 0/162 [00:00<?, ?batch/s]/opt/conda/lib/python3.10/site-packages/torch/nn/parallel/parallel_apply.py:79: FutureWarning: `torch.cuda.amp.autocast(args...)` is deprecated. Please use `torch.amp.autocast('cuda', args...)` instead.\n",
      "  with torch.cuda.device(device), torch.cuda.stream(stream), autocast(enabled=autocast_enabled):\n",
      "Evaluating: 100%|██████████| 162/162 [00:01<00:00, 98.56batch/s]\n"
     ]
    },
    {
     "name": "stdout",
     "output_type": "stream",
     "text": [
      "\t---> Loss: 1.2012\n",
      "\t---> Accuracy: 0.4823\n",
      "\tClassification Report:\n",
      "              precision    recall  f1-score   support\n",
      "\n",
      "   Left Hand       0.44      0.50      0.47       648\n",
      "  Right Hand       0.48      0.51      0.49       648\n",
      "        Foot       0.45      0.55      0.50       648\n",
      "      Tongue       0.63      0.38      0.47       648\n",
      "\n",
      "    accuracy                           0.48      2592\n",
      "   macro avg       0.50      0.48      0.48      2592\n",
      "weighted avg       0.50      0.48      0.48      2592\n",
      "\n",
      "Model is saved to  /kaggle/working/eeg_elite.pth\n"
     ]
    },
    {
     "name": "stderr",
     "output_type": "stream",
     "text": [
      "Training epoch [35/50]:   0%|          | 0/162 [00:00<?, ?batch/s]/opt/conda/lib/python3.10/site-packages/torch/nn/parallel/parallel_apply.py:79: FutureWarning: `torch.cuda.amp.autocast(args...)` is deprecated. Please use `torch.amp.autocast('cuda', args...)` instead.\n",
      "  with torch.cuda.device(device), torch.cuda.stream(stream), autocast(enabled=autocast_enabled):\n",
      "Training epoch [35/50]: 100%|██████████| 162/162 [00:02<00:00, 61.01batch/s]\n"
     ]
    },
    {
     "name": "stdout",
     "output_type": "stream",
     "text": [
      "\t---> Loss: 1.1258\n",
      "\t---> Accuracy: 0.5035\n"
     ]
    },
    {
     "name": "stderr",
     "output_type": "stream",
     "text": [
      "Evaluating:   0%|          | 0/162 [00:00<?, ?batch/s]/opt/conda/lib/python3.10/site-packages/torch/nn/parallel/parallel_apply.py:79: FutureWarning: `torch.cuda.amp.autocast(args...)` is deprecated. Please use `torch.amp.autocast('cuda', args...)` instead.\n",
      "  with torch.cuda.device(device), torch.cuda.stream(stream), autocast(enabled=autocast_enabled):\n",
      "Evaluating: 100%|██████████| 162/162 [00:01<00:00, 97.94batch/s] \n"
     ]
    },
    {
     "name": "stdout",
     "output_type": "stream",
     "text": [
      "\t---> Loss: 1.1842\n",
      "\t---> Accuracy: 0.4819\n",
      "\tClassification Report:\n",
      "              precision    recall  f1-score   support\n",
      "\n",
      "   Left Hand       0.54      0.30      0.39       648\n",
      "  Right Hand       0.49      0.52      0.51       648\n",
      "        Foot       0.49      0.49      0.49       648\n",
      "      Tongue       0.44      0.61      0.51       648\n",
      "\n",
      "    accuracy                           0.48      2592\n",
      "   macro avg       0.49      0.48      0.47      2592\n",
      "weighted avg       0.49      0.48      0.47      2592\n",
      "\n"
     ]
    },
    {
     "name": "stderr",
     "output_type": "stream",
     "text": [
      "Training epoch [36/50]:   0%|          | 0/162 [00:00<?, ?batch/s]/opt/conda/lib/python3.10/site-packages/torch/nn/parallel/parallel_apply.py:79: FutureWarning: `torch.cuda.amp.autocast(args...)` is deprecated. Please use `torch.amp.autocast('cuda', args...)` instead.\n",
      "  with torch.cuda.device(device), torch.cuda.stream(stream), autocast(enabled=autocast_enabled):\n",
      "Training epoch [36/50]: 100%|██████████| 162/162 [00:02<00:00, 64.02batch/s]\n"
     ]
    },
    {
     "name": "stdout",
     "output_type": "stream",
     "text": [
      "\t---> Loss: 1.0888\n",
      "\t---> Accuracy: 0.5251\n"
     ]
    },
    {
     "name": "stderr",
     "output_type": "stream",
     "text": [
      "Evaluating:   0%|          | 0/162 [00:00<?, ?batch/s]/opt/conda/lib/python3.10/site-packages/torch/nn/parallel/parallel_apply.py:79: FutureWarning: `torch.cuda.amp.autocast(args...)` is deprecated. Please use `torch.amp.autocast('cuda', args...)` instead.\n",
      "  with torch.cuda.device(device), torch.cuda.stream(stream), autocast(enabled=autocast_enabled):\n",
      "Evaluating: 100%|██████████| 162/162 [00:01<00:00, 96.64batch/s]\n"
     ]
    },
    {
     "name": "stdout",
     "output_type": "stream",
     "text": [
      "\t---> Loss: 1.1782\n",
      "\t---> Accuracy: 0.4838\n",
      "\tClassification Report:\n",
      "              precision    recall  f1-score   support\n",
      "\n",
      "   Left Hand       0.47      0.39      0.43       648\n",
      "  Right Hand       0.48      0.48      0.48       648\n",
      "        Foot       0.47      0.51      0.49       648\n",
      "      Tongue       0.50      0.55      0.53       648\n",
      "\n",
      "    accuracy                           0.48      2592\n",
      "   macro avg       0.48      0.48      0.48      2592\n",
      "weighted avg       0.48      0.48      0.48      2592\n",
      "\n",
      "Model is saved to  /kaggle/working/eeg_elite.pth\n"
     ]
    },
    {
     "name": "stderr",
     "output_type": "stream",
     "text": [
      "Training epoch [37/50]:   0%|          | 0/162 [00:00<?, ?batch/s]/opt/conda/lib/python3.10/site-packages/torch/nn/parallel/parallel_apply.py:79: FutureWarning: `torch.cuda.amp.autocast(args...)` is deprecated. Please use `torch.amp.autocast('cuda', args...)` instead.\n",
      "  with torch.cuda.device(device), torch.cuda.stream(stream), autocast(enabled=autocast_enabled):\n",
      "Training epoch [37/50]: 100%|██████████| 162/162 [00:02<00:00, 61.23batch/s]\n"
     ]
    },
    {
     "name": "stdout",
     "output_type": "stream",
     "text": [
      "\t---> Loss: 1.1082\n",
      "\t---> Accuracy: 0.5046\n"
     ]
    },
    {
     "name": "stderr",
     "output_type": "stream",
     "text": [
      "Evaluating:   0%|          | 0/162 [00:00<?, ?batch/s]/opt/conda/lib/python3.10/site-packages/torch/nn/parallel/parallel_apply.py:79: FutureWarning: `torch.cuda.amp.autocast(args...)` is deprecated. Please use `torch.amp.autocast('cuda', args...)` instead.\n",
      "  with torch.cuda.device(device), torch.cuda.stream(stream), autocast(enabled=autocast_enabled):\n",
      "Evaluating: 100%|██████████| 162/162 [00:01<00:00, 97.19batch/s] \n"
     ]
    },
    {
     "name": "stdout",
     "output_type": "stream",
     "text": [
      "\t---> Loss: 1.1735\n",
      "\t---> Accuracy: 0.4884\n",
      "\tClassification Report:\n",
      "              precision    recall  f1-score   support\n",
      "\n",
      "   Left Hand       0.50      0.38      0.43       648\n",
      "  Right Hand       0.50      0.50      0.50       648\n",
      "        Foot       0.48      0.46      0.47       648\n",
      "      Tongue       0.48      0.61      0.54       648\n",
      "\n",
      "    accuracy                           0.49      2592\n",
      "   macro avg       0.49      0.49      0.48      2592\n",
      "weighted avg       0.49      0.49      0.48      2592\n",
      "\n",
      "Model is saved to  /kaggle/working/eeg_elite.pth\n"
     ]
    },
    {
     "name": "stderr",
     "output_type": "stream",
     "text": [
      "Training epoch [38/50]:   0%|          | 0/162 [00:00<?, ?batch/s]/opt/conda/lib/python3.10/site-packages/torch/nn/parallel/parallel_apply.py:79: FutureWarning: `torch.cuda.amp.autocast(args...)` is deprecated. Please use `torch.amp.autocast('cuda', args...)` instead.\n",
      "  with torch.cuda.device(device), torch.cuda.stream(stream), autocast(enabled=autocast_enabled):\n",
      "Training epoch [38/50]: 100%|██████████| 162/162 [00:02<00:00, 56.71batch/s]\n"
     ]
    },
    {
     "name": "stdout",
     "output_type": "stream",
     "text": [
      "\t---> Loss: 1.0933\n",
      "\t---> Accuracy: 0.5189\n"
     ]
    },
    {
     "name": "stderr",
     "output_type": "stream",
     "text": [
      "Evaluating:   0%|          | 0/162 [00:00<?, ?batch/s]/opt/conda/lib/python3.10/site-packages/torch/nn/parallel/parallel_apply.py:79: FutureWarning: `torch.cuda.amp.autocast(args...)` is deprecated. Please use `torch.amp.autocast('cuda', args...)` instead.\n",
      "  with torch.cuda.device(device), torch.cuda.stream(stream), autocast(enabled=autocast_enabled):\n",
      "Evaluating: 100%|██████████| 162/162 [00:01<00:00, 91.82batch/s]\n"
     ]
    },
    {
     "name": "stdout",
     "output_type": "stream",
     "text": [
      "\t---> Loss: 1.2104\n",
      "\t---> Accuracy: 0.4684\n",
      "\tClassification Report:\n",
      "              precision    recall  f1-score   support\n",
      "\n",
      "   Left Hand       0.47      0.41      0.44       648\n",
      "  Right Hand       0.49      0.39      0.44       648\n",
      "        Foot       0.47      0.51      0.49       648\n",
      "      Tongue       0.45      0.56      0.50       648\n",
      "\n",
      "    accuracy                           0.47      2592\n",
      "   macro avg       0.47      0.47      0.47      2592\n",
      "weighted avg       0.47      0.47      0.47      2592\n",
      "\n"
     ]
    },
    {
     "name": "stderr",
     "output_type": "stream",
     "text": [
      "Training epoch [39/50]:   0%|          | 0/162 [00:00<?, ?batch/s]/opt/conda/lib/python3.10/site-packages/torch/nn/parallel/parallel_apply.py:79: FutureWarning: `torch.cuda.amp.autocast(args...)` is deprecated. Please use `torch.amp.autocast('cuda', args...)` instead.\n",
      "  with torch.cuda.device(device), torch.cuda.stream(stream), autocast(enabled=autocast_enabled):\n",
      "Training epoch [39/50]: 100%|██████████| 162/162 [00:02<00:00, 62.61batch/s]\n"
     ]
    },
    {
     "name": "stdout",
     "output_type": "stream",
     "text": [
      "\t---> Loss: 1.0839\n",
      "\t---> Accuracy: 0.5285\n"
     ]
    },
    {
     "name": "stderr",
     "output_type": "stream",
     "text": [
      "Evaluating:   0%|          | 0/162 [00:00<?, ?batch/s]/opt/conda/lib/python3.10/site-packages/torch/nn/parallel/parallel_apply.py:79: FutureWarning: `torch.cuda.amp.autocast(args...)` is deprecated. Please use `torch.amp.autocast('cuda', args...)` instead.\n",
      "  with torch.cuda.device(device), torch.cuda.stream(stream), autocast(enabled=autocast_enabled):\n",
      "Evaluating: 100%|██████████| 162/162 [00:01<00:00, 97.88batch/s]\n"
     ]
    },
    {
     "name": "stdout",
     "output_type": "stream",
     "text": [
      "\t---> Loss: 1.2844\n",
      "\t---> Accuracy: 0.4456\n",
      "\tClassification Report:\n",
      "              precision    recall  f1-score   support\n",
      "\n",
      "   Left Hand       0.57      0.22      0.32       648\n",
      "  Right Hand       0.58      0.30      0.39       648\n",
      "        Foot       0.41      0.64      0.50       648\n",
      "      Tongue       0.40      0.62      0.49       648\n",
      "\n",
      "    accuracy                           0.45      2592\n",
      "   macro avg       0.49      0.45      0.43      2592\n",
      "weighted avg       0.49      0.45      0.43      2592\n",
      "\n"
     ]
    },
    {
     "name": "stderr",
     "output_type": "stream",
     "text": [
      "Training epoch [40/50]:   0%|          | 0/162 [00:00<?, ?batch/s]/opt/conda/lib/python3.10/site-packages/torch/nn/parallel/parallel_apply.py:79: FutureWarning: `torch.cuda.amp.autocast(args...)` is deprecated. Please use `torch.amp.autocast('cuda', args...)` instead.\n",
      "  with torch.cuda.device(device), torch.cuda.stream(stream), autocast(enabled=autocast_enabled):\n",
      "Training epoch [40/50]: 100%|██████████| 162/162 [00:02<00:00, 60.36batch/s]\n"
     ]
    },
    {
     "name": "stdout",
     "output_type": "stream",
     "text": [
      "\t---> Loss: 1.0711\n",
      "\t---> Accuracy: 0.5347\n"
     ]
    },
    {
     "name": "stderr",
     "output_type": "stream",
     "text": [
      "Evaluating:   0%|          | 0/162 [00:00<?, ?batch/s]/opt/conda/lib/python3.10/site-packages/torch/nn/parallel/parallel_apply.py:79: FutureWarning: `torch.cuda.amp.autocast(args...)` is deprecated. Please use `torch.amp.autocast('cuda', args...)` instead.\n",
      "  with torch.cuda.device(device), torch.cuda.stream(stream), autocast(enabled=autocast_enabled):\n",
      "Evaluating: 100%|██████████| 162/162 [00:01<00:00, 97.91batch/s]\n"
     ]
    },
    {
     "name": "stdout",
     "output_type": "stream",
     "text": [
      "\t---> Loss: 1.2156\n",
      "\t---> Accuracy: 0.4757\n",
      "\tClassification Report:\n",
      "              precision    recall  f1-score   support\n",
      "\n",
      "   Left Hand       0.50      0.38      0.43       648\n",
      "  Right Hand       0.61      0.35      0.44       648\n",
      "        Foot       0.40      0.71      0.51       648\n",
      "      Tongue       0.52      0.47      0.49       648\n",
      "\n",
      "    accuracy                           0.48      2592\n",
      "   macro avg       0.51      0.48      0.47      2592\n",
      "weighted avg       0.51      0.48      0.47      2592\n",
      "\n"
     ]
    },
    {
     "name": "stderr",
     "output_type": "stream",
     "text": [
      "Training epoch [41/50]:   0%|          | 0/162 [00:00<?, ?batch/s]/opt/conda/lib/python3.10/site-packages/torch/nn/parallel/parallel_apply.py:79: FutureWarning: `torch.cuda.amp.autocast(args...)` is deprecated. Please use `torch.amp.autocast('cuda', args...)` instead.\n",
      "  with torch.cuda.device(device), torch.cuda.stream(stream), autocast(enabled=autocast_enabled):\n",
      "Training epoch [41/50]: 100%|██████████| 162/162 [00:02<00:00, 63.39batch/s]\n"
     ]
    },
    {
     "name": "stdout",
     "output_type": "stream",
     "text": [
      "\t---> Loss: 1.0815\n",
      "\t---> Accuracy: 0.5285\n"
     ]
    },
    {
     "name": "stderr",
     "output_type": "stream",
     "text": [
      "Evaluating:   0%|          | 0/162 [00:00<?, ?batch/s]/opt/conda/lib/python3.10/site-packages/torch/nn/parallel/parallel_apply.py:79: FutureWarning: `torch.cuda.amp.autocast(args...)` is deprecated. Please use `torch.amp.autocast('cuda', args...)` instead.\n",
      "  with torch.cuda.device(device), torch.cuda.stream(stream), autocast(enabled=autocast_enabled):\n",
      "Evaluating: 100%|██████████| 162/162 [00:01<00:00, 98.96batch/s] \n"
     ]
    },
    {
     "name": "stdout",
     "output_type": "stream",
     "text": [
      "\t---> Loss: 1.2253\n",
      "\t---> Accuracy: 0.4637\n",
      "\tClassification Report:\n",
      "              precision    recall  f1-score   support\n",
      "\n",
      "   Left Hand       0.56      0.27      0.36       648\n",
      "  Right Hand       0.51      0.43      0.47       648\n",
      "        Foot       0.38      0.72      0.50       648\n",
      "      Tongue       0.56      0.43      0.49       648\n",
      "\n",
      "    accuracy                           0.46      2592\n",
      "   macro avg       0.50      0.46      0.45      2592\n",
      "weighted avg       0.50      0.46      0.45      2592\n",
      "\n"
     ]
    },
    {
     "name": "stderr",
     "output_type": "stream",
     "text": [
      "Training epoch [42/50]:   0%|          | 0/162 [00:00<?, ?batch/s]/opt/conda/lib/python3.10/site-packages/torch/nn/parallel/parallel_apply.py:79: FutureWarning: `torch.cuda.amp.autocast(args...)` is deprecated. Please use `torch.amp.autocast('cuda', args...)` instead.\n",
      "  with torch.cuda.device(device), torch.cuda.stream(stream), autocast(enabled=autocast_enabled):\n",
      "Training epoch [42/50]: 100%|██████████| 162/162 [00:02<00:00, 61.76batch/s]\n"
     ]
    },
    {
     "name": "stdout",
     "output_type": "stream",
     "text": [
      "\t---> Loss: 1.0694\n",
      "\t---> Accuracy: 0.5482\n"
     ]
    },
    {
     "name": "stderr",
     "output_type": "stream",
     "text": [
      "Evaluating:   0%|          | 0/162 [00:00<?, ?batch/s]/opt/conda/lib/python3.10/site-packages/torch/nn/parallel/parallel_apply.py:79: FutureWarning: `torch.cuda.amp.autocast(args...)` is deprecated. Please use `torch.amp.autocast('cuda', args...)` instead.\n",
      "  with torch.cuda.device(device), torch.cuda.stream(stream), autocast(enabled=autocast_enabled):\n",
      "Evaluating: 100%|██████████| 162/162 [00:01<00:00, 99.03batch/s] \n"
     ]
    },
    {
     "name": "stdout",
     "output_type": "stream",
     "text": [
      "\t---> Loss: 1.1570\n",
      "\t---> Accuracy: 0.4973\n",
      "\tClassification Report:\n",
      "              precision    recall  f1-score   support\n",
      "\n",
      "   Left Hand       0.53      0.46      0.49       648\n",
      "  Right Hand       0.49      0.48      0.48       648\n",
      "        Foot       0.45      0.61      0.52       648\n",
      "      Tongue       0.55      0.44      0.49       648\n",
      "\n",
      "    accuracy                           0.50      2592\n",
      "   macro avg       0.50      0.50      0.50      2592\n",
      "weighted avg       0.50      0.50      0.50      2592\n",
      "\n",
      "Model is saved to  /kaggle/working/eeg_elite.pth\n"
     ]
    },
    {
     "name": "stderr",
     "output_type": "stream",
     "text": [
      "Training epoch [43/50]:   0%|          | 0/162 [00:00<?, ?batch/s]/opt/conda/lib/python3.10/site-packages/torch/nn/parallel/parallel_apply.py:79: FutureWarning: `torch.cuda.amp.autocast(args...)` is deprecated. Please use `torch.amp.autocast('cuda', args...)` instead.\n",
      "  with torch.cuda.device(device), torch.cuda.stream(stream), autocast(enabled=autocast_enabled):\n",
      "Training epoch [43/50]: 100%|██████████| 162/162 [00:02<00:00, 64.06batch/s]\n"
     ]
    },
    {
     "name": "stdout",
     "output_type": "stream",
     "text": [
      "\t---> Loss: 1.0771\n",
      "\t---> Accuracy: 0.5471\n"
     ]
    },
    {
     "name": "stderr",
     "output_type": "stream",
     "text": [
      "Evaluating:   0%|          | 0/162 [00:00<?, ?batch/s]/opt/conda/lib/python3.10/site-packages/torch/nn/parallel/parallel_apply.py:79: FutureWarning: `torch.cuda.amp.autocast(args...)` is deprecated. Please use `torch.amp.autocast('cuda', args...)` instead.\n",
      "  with torch.cuda.device(device), torch.cuda.stream(stream), autocast(enabled=autocast_enabled):\n",
      "Evaluating: 100%|██████████| 162/162 [00:01<00:00, 100.36batch/s]\n"
     ]
    },
    {
     "name": "stdout",
     "output_type": "stream",
     "text": [
      "\t---> Loss: 1.2235\n",
      "\t---> Accuracy: 0.4780\n",
      "\tClassification Report:\n",
      "              precision    recall  f1-score   support\n",
      "\n",
      "   Left Hand       0.53      0.36      0.43       648\n",
      "  Right Hand       0.46      0.54      0.50       648\n",
      "        Foot       0.48      0.45      0.47       648\n",
      "      Tongue       0.46      0.56      0.50       648\n",
      "\n",
      "    accuracy                           0.48      2592\n",
      "   macro avg       0.48      0.48      0.47      2592\n",
      "weighted avg       0.48      0.48      0.47      2592\n",
      "\n"
     ]
    },
    {
     "name": "stderr",
     "output_type": "stream",
     "text": [
      "Training epoch [44/50]:   0%|          | 0/162 [00:00<?, ?batch/s]/opt/conda/lib/python3.10/site-packages/torch/nn/parallel/parallel_apply.py:79: FutureWarning: `torch.cuda.amp.autocast(args...)` is deprecated. Please use `torch.amp.autocast('cuda', args...)` instead.\n",
      "  with torch.cuda.device(device), torch.cuda.stream(stream), autocast(enabled=autocast_enabled):\n",
      "Training epoch [44/50]: 100%|██████████| 162/162 [00:02<00:00, 65.10batch/s]\n"
     ]
    },
    {
     "name": "stdout",
     "output_type": "stream",
     "text": [
      "\t---> Loss: 1.0729\n",
      "\t---> Accuracy: 0.5312\n"
     ]
    },
    {
     "name": "stderr",
     "output_type": "stream",
     "text": [
      "Evaluating:   0%|          | 0/162 [00:00<?, ?batch/s]/opt/conda/lib/python3.10/site-packages/torch/nn/parallel/parallel_apply.py:79: FutureWarning: `torch.cuda.amp.autocast(args...)` is deprecated. Please use `torch.amp.autocast('cuda', args...)` instead.\n",
      "  with torch.cuda.device(device), torch.cuda.stream(stream), autocast(enabled=autocast_enabled):\n",
      "Evaluating: 100%|██████████| 162/162 [00:01<00:00, 96.94batch/s] \n"
     ]
    },
    {
     "name": "stdout",
     "output_type": "stream",
     "text": [
      "\t---> Loss: 1.2075\n",
      "\t---> Accuracy: 0.4722\n",
      "\tClassification Report:\n",
      "              precision    recall  f1-score   support\n",
      "\n",
      "   Left Hand       0.56      0.30      0.39       648\n",
      "  Right Hand       0.44      0.61      0.51       648\n",
      "        Foot       0.46      0.52      0.49       648\n",
      "      Tongue       0.48      0.47      0.47       648\n",
      "\n",
      "    accuracy                           0.47      2592\n",
      "   macro avg       0.49      0.47      0.47      2592\n",
      "weighted avg       0.49      0.47      0.47      2592\n",
      "\n"
     ]
    },
    {
     "name": "stderr",
     "output_type": "stream",
     "text": [
      "Training epoch [45/50]:   0%|          | 0/162 [00:00<?, ?batch/s]/opt/conda/lib/python3.10/site-packages/torch/nn/parallel/parallel_apply.py:79: FutureWarning: `torch.cuda.amp.autocast(args...)` is deprecated. Please use `torch.amp.autocast('cuda', args...)` instead.\n",
      "  with torch.cuda.device(device), torch.cuda.stream(stream), autocast(enabled=autocast_enabled):\n",
      "Training epoch [45/50]: 100%|██████████| 162/162 [00:02<00:00, 62.61batch/s]\n"
     ]
    },
    {
     "name": "stdout",
     "output_type": "stream",
     "text": [
      "\t---> Loss: 1.0837\n",
      "\t---> Accuracy: 0.5316\n"
     ]
    },
    {
     "name": "stderr",
     "output_type": "stream",
     "text": [
      "Evaluating:   0%|          | 0/162 [00:00<?, ?batch/s]/opt/conda/lib/python3.10/site-packages/torch/nn/parallel/parallel_apply.py:79: FutureWarning: `torch.cuda.amp.autocast(args...)` is deprecated. Please use `torch.amp.autocast('cuda', args...)` instead.\n",
      "  with torch.cuda.device(device), torch.cuda.stream(stream), autocast(enabled=autocast_enabled):\n",
      "Evaluating: 100%|██████████| 162/162 [00:01<00:00, 88.03batch/s]\n"
     ]
    },
    {
     "name": "stdout",
     "output_type": "stream",
     "text": [
      "\t---> Loss: 1.3333\n",
      "\t---> Accuracy: 0.4333\n",
      "\tClassification Report:\n",
      "              precision    recall  f1-score   support\n",
      "\n",
      "   Left Hand       0.60      0.15      0.24       648\n",
      "  Right Hand       0.54      0.44      0.48       648\n",
      "        Foot       0.54      0.31      0.39       648\n",
      "      Tongue       0.35      0.84      0.50       648\n",
      "\n",
      "    accuracy                           0.43      2592\n",
      "   macro avg       0.51      0.43      0.40      2592\n",
      "weighted avg       0.51      0.43      0.40      2592\n",
      "\n"
     ]
    },
    {
     "name": "stderr",
     "output_type": "stream",
     "text": [
      "Training epoch [46/50]:   0%|          | 0/162 [00:00<?, ?batch/s]/opt/conda/lib/python3.10/site-packages/torch/nn/parallel/parallel_apply.py:79: FutureWarning: `torch.cuda.amp.autocast(args...)` is deprecated. Please use `torch.amp.autocast('cuda', args...)` instead.\n",
      "  with torch.cuda.device(device), torch.cuda.stream(stream), autocast(enabled=autocast_enabled):\n",
      "Training epoch [46/50]: 100%|██████████| 162/162 [00:02<00:00, 60.82batch/s]\n"
     ]
    },
    {
     "name": "stdout",
     "output_type": "stream",
     "text": [
      "\t---> Loss: 1.0734\n",
      "\t---> Accuracy: 0.5390\n"
     ]
    },
    {
     "name": "stderr",
     "output_type": "stream",
     "text": [
      "Evaluating:   0%|          | 0/162 [00:00<?, ?batch/s]/opt/conda/lib/python3.10/site-packages/torch/nn/parallel/parallel_apply.py:79: FutureWarning: `torch.cuda.amp.autocast(args...)` is deprecated. Please use `torch.amp.autocast('cuda', args...)` instead.\n",
      "  with torch.cuda.device(device), torch.cuda.stream(stream), autocast(enabled=autocast_enabled):\n",
      "Evaluating: 100%|██████████| 162/162 [00:01<00:00, 98.32batch/s]\n"
     ]
    },
    {
     "name": "stdout",
     "output_type": "stream",
     "text": [
      "\t---> Loss: 1.1888\n",
      "\t---> Accuracy: 0.4904\n",
      "\tClassification Report:\n",
      "              precision    recall  f1-score   support\n",
      "\n",
      "   Left Hand       0.48      0.58      0.52       648\n",
      "  Right Hand       0.48      0.53      0.51       648\n",
      "        Foot       0.49      0.41      0.45       648\n",
      "      Tongue       0.53      0.44      0.48       648\n",
      "\n",
      "    accuracy                           0.49      2592\n",
      "   macro avg       0.49      0.49      0.49      2592\n",
      "weighted avg       0.49      0.49      0.49      2592\n",
      "\n"
     ]
    },
    {
     "name": "stderr",
     "output_type": "stream",
     "text": [
      "Training epoch [47/50]:   0%|          | 0/162 [00:00<?, ?batch/s]/opt/conda/lib/python3.10/site-packages/torch/nn/parallel/parallel_apply.py:79: FutureWarning: `torch.cuda.amp.autocast(args...)` is deprecated. Please use `torch.amp.autocast('cuda', args...)` instead.\n",
      "  with torch.cuda.device(device), torch.cuda.stream(stream), autocast(enabled=autocast_enabled):\n",
      "Training epoch [47/50]: 100%|██████████| 162/162 [00:02<00:00, 62.62batch/s]\n"
     ]
    },
    {
     "name": "stdout",
     "output_type": "stream",
     "text": [
      "\t---> Loss: 1.0694\n",
      "\t---> Accuracy: 0.5374\n"
     ]
    },
    {
     "name": "stderr",
     "output_type": "stream",
     "text": [
      "Evaluating:   0%|          | 0/162 [00:00<?, ?batch/s]/opt/conda/lib/python3.10/site-packages/torch/nn/parallel/parallel_apply.py:79: FutureWarning: `torch.cuda.amp.autocast(args...)` is deprecated. Please use `torch.amp.autocast('cuda', args...)` instead.\n",
      "  with torch.cuda.device(device), torch.cuda.stream(stream), autocast(enabled=autocast_enabled):\n",
      "Evaluating: 100%|██████████| 162/162 [00:01<00:00, 99.94batch/s]\n"
     ]
    },
    {
     "name": "stdout",
     "output_type": "stream",
     "text": [
      "\t---> Loss: 1.1436\n",
      "\t---> Accuracy: 0.4969\n",
      "\tClassification Report:\n",
      "              precision    recall  f1-score   support\n",
      "\n",
      "   Left Hand       0.50      0.54      0.52       648\n",
      "  Right Hand       0.52      0.46      0.49       648\n",
      "        Foot       0.44      0.58      0.50       648\n",
      "      Tongue       0.57      0.41      0.47       648\n",
      "\n",
      "    accuracy                           0.50      2592\n",
      "   macro avg       0.51      0.50      0.50      2592\n",
      "weighted avg       0.51      0.50      0.50      2592\n",
      "\n"
     ]
    },
    {
     "name": "stderr",
     "output_type": "stream",
     "text": [
      "Training epoch [48/50]:   0%|          | 0/162 [00:00<?, ?batch/s]/opt/conda/lib/python3.10/site-packages/torch/nn/parallel/parallel_apply.py:79: FutureWarning: `torch.cuda.amp.autocast(args...)` is deprecated. Please use `torch.amp.autocast('cuda', args...)` instead.\n",
      "  with torch.cuda.device(device), torch.cuda.stream(stream), autocast(enabled=autocast_enabled):\n",
      "Training epoch [48/50]: 100%|██████████| 162/162 [00:02<00:00, 62.04batch/s]\n"
     ]
    },
    {
     "name": "stdout",
     "output_type": "stream",
     "text": [
      "\t---> Loss: 1.0707\n",
      "\t---> Accuracy: 0.5355\n"
     ]
    },
    {
     "name": "stderr",
     "output_type": "stream",
     "text": [
      "Evaluating:   0%|          | 0/162 [00:00<?, ?batch/s]/opt/conda/lib/python3.10/site-packages/torch/nn/parallel/parallel_apply.py:79: FutureWarning: `torch.cuda.amp.autocast(args...)` is deprecated. Please use `torch.amp.autocast('cuda', args...)` instead.\n",
      "  with torch.cuda.device(device), torch.cuda.stream(stream), autocast(enabled=autocast_enabled):\n",
      "Evaluating: 100%|██████████| 162/162 [00:01<00:00, 98.58batch/s] \n"
     ]
    },
    {
     "name": "stdout",
     "output_type": "stream",
     "text": [
      "\t---> Loss: 1.2378\n",
      "\t---> Accuracy: 0.4707\n",
      "\tClassification Report:\n",
      "              precision    recall  f1-score   support\n",
      "\n",
      "   Left Hand       0.66      0.16      0.26       648\n",
      "  Right Hand       0.49      0.56      0.52       648\n",
      "        Foot       0.43      0.56      0.49       648\n",
      "      Tongue       0.45      0.61      0.52       648\n",
      "\n",
      "    accuracy                           0.47      2592\n",
      "   macro avg       0.51      0.47      0.45      2592\n",
      "weighted avg       0.51      0.47      0.45      2592\n",
      "\n"
     ]
    },
    {
     "name": "stderr",
     "output_type": "stream",
     "text": [
      "Training epoch [49/50]:   0%|          | 0/162 [00:00<?, ?batch/s]/opt/conda/lib/python3.10/site-packages/torch/nn/parallel/parallel_apply.py:79: FutureWarning: `torch.cuda.amp.autocast(args...)` is deprecated. Please use `torch.amp.autocast('cuda', args...)` instead.\n",
      "  with torch.cuda.device(device), torch.cuda.stream(stream), autocast(enabled=autocast_enabled):\n",
      "Training epoch [49/50]: 100%|██████████| 162/162 [00:02<00:00, 62.27batch/s]\n"
     ]
    },
    {
     "name": "stdout",
     "output_type": "stream",
     "text": [
      "\t---> Loss: 1.0688\n",
      "\t---> Accuracy: 0.5444\n"
     ]
    },
    {
     "name": "stderr",
     "output_type": "stream",
     "text": [
      "Evaluating:   0%|          | 0/162 [00:00<?, ?batch/s]/opt/conda/lib/python3.10/site-packages/torch/nn/parallel/parallel_apply.py:79: FutureWarning: `torch.cuda.amp.autocast(args...)` is deprecated. Please use `torch.amp.autocast('cuda', args...)` instead.\n",
      "  with torch.cuda.device(device), torch.cuda.stream(stream), autocast(enabled=autocast_enabled):\n",
      "Evaluating: 100%|██████████| 162/162 [00:01<00:00, 99.01batch/s] \n"
     ]
    },
    {
     "name": "stdout",
     "output_type": "stream",
     "text": [
      "\t---> Loss: 1.1575\n",
      "\t---> Accuracy: 0.5096\n",
      "\tClassification Report:\n",
      "              precision    recall  f1-score   support\n",
      "\n",
      "   Left Hand       0.48      0.60      0.53       648\n",
      "  Right Hand       0.48      0.56      0.52       648\n",
      "        Foot       0.52      0.44      0.48       648\n",
      "      Tongue       0.59      0.44      0.50       648\n",
      "\n",
      "    accuracy                           0.51      2592\n",
      "   macro avg       0.52      0.51      0.51      2592\n",
      "weighted avg       0.52      0.51      0.51      2592\n",
      "\n",
      "Model is saved to  /kaggle/working/eeg_elite.pth\n"
     ]
    },
    {
     "name": "stderr",
     "output_type": "stream",
     "text": [
      "Training epoch [50/50]:   0%|          | 0/162 [00:00<?, ?batch/s]/opt/conda/lib/python3.10/site-packages/torch/nn/parallel/parallel_apply.py:79: FutureWarning: `torch.cuda.amp.autocast(args...)` is deprecated. Please use `torch.amp.autocast('cuda', args...)` instead.\n",
      "  with torch.cuda.device(device), torch.cuda.stream(stream), autocast(enabled=autocast_enabled):\n",
      "Training epoch [50/50]: 100%|██████████| 162/162 [00:02<00:00, 63.83batch/s]\n"
     ]
    },
    {
     "name": "stdout",
     "output_type": "stream",
     "text": [
      "\t---> Loss: 1.0431\n",
      "\t---> Accuracy: 0.5552\n"
     ]
    },
    {
     "name": "stderr",
     "output_type": "stream",
     "text": [
      "Evaluating:   0%|          | 0/162 [00:00<?, ?batch/s]/opt/conda/lib/python3.10/site-packages/torch/nn/parallel/parallel_apply.py:79: FutureWarning: `torch.cuda.amp.autocast(args...)` is deprecated. Please use `torch.amp.autocast('cuda', args...)` instead.\n",
      "  with torch.cuda.device(device), torch.cuda.stream(stream), autocast(enabled=autocast_enabled):\n",
      "Evaluating: 100%|██████████| 162/162 [00:01<00:00, 100.07batch/s]"
     ]
    },
    {
     "name": "stdout",
     "output_type": "stream",
     "text": [
      "\t---> Loss: 1.1758\n",
      "\t---> Accuracy: 0.4892\n",
      "\tClassification Report:\n",
      "              precision    recall  f1-score   support\n",
      "\n",
      "   Left Hand       0.54      0.39      0.45       648\n",
      "  Right Hand       0.51      0.49      0.50       648\n",
      "        Foot       0.43      0.64      0.51       648\n",
      "      Tongue       0.54      0.43      0.48       648\n",
      "\n",
      "    accuracy                           0.49      2592\n",
      "   macro avg       0.50      0.49      0.49      2592\n",
      "weighted avg       0.50      0.49      0.49      2592\n",
      "\n"
     ]
    },
    {
     "name": "stderr",
     "output_type": "stream",
     "text": [
      "\n"
     ]
    }
   ],
   "source": [
    "save_path = '/kaggle/working/eeg_elite.pth'\n",
    "train_losses, train_acc, test_losses, test_acc = train_model(eeg_net_elite, train_loader, test_loader, criterion, optimizer, save_path, device, epochs=50, wandb_writer=eeg_elite_wan_writer)"
   ]
  },
  {
   "cell_type": "code",
   "execution_count": 105,
   "metadata": {
    "execution": {
     "iopub.execute_input": "2024-12-10T20:16:13.286668Z",
     "iopub.status.busy": "2024-12-10T20:16:13.285700Z",
     "iopub.status.idle": "2024-12-10T20:16:13.877559Z",
     "shell.execute_reply": "2024-12-10T20:16:13.876738Z",
     "shell.execute_reply.started": "2024-12-10T20:16:13.286633Z"
    },
    "trusted": true
   },
   "outputs": [
    {
     "data": {
      "image/png": "[encoded data removed]",
      "text/plain": [
       "<Figure size 1600x500 with 4 Axes>"
      ]
     },
     "metadata": {},
     "output_type": "display_data"
    }
   ],
   "source": [
    "visualize(train_losses, test_losses, train_acc, test_acc)"
   ]
  },
  {
   "cell_type": "markdown",
   "metadata": {},
   "source": [
    "## 5.2. Tích hợp thêm các cơ chế khác\n",
    "1. **Spatial Attention**: Học trọng số giữa các kênh EEG.\n",
    "2. **Residual Connections**: Hỗ trợ truyền thông tin giữa các lớp.\n",
    "3. **Global Average Pooling (GAP)**: Thay thế Fully Connected để giảm số lượng tham số.\n",
    "4. **DropBlock**: để thay thế Dropout.\n",
    "5. **Layer Normalization**: thay thế Batch Normalization.\n",
    "6. **Multi-Head Attention**: để học mối quan hệ không gian-thời gian phức tạp."
   ]
  },
  {
   "cell_type": "code",
   "execution_count": null,
   "metadata": {
    "execution": {
     "iopub.status.busy": "2024-12-10T20:21:42.343015Z",
     "iopub.status.idle": "2024-12-10T20:21:42.343364Z",
     "shell.execute_reply": "2024-12-10T20:21:42.343228Z",
     "shell.execute_reply.started": "2024-12-10T20:21:42.343211Z"
    },
    "trusted": true
   },
   "outputs": [],
   "source": [
    "class DropBlock2D(nn.Module):\n",
    "    \"\"\"DropBlock layer.\"\"\"\n",
    "    def __init__(self, block_size, drop_prob):\n",
    "        super(DropBlock2D, self).__init__()\n",
    "        self.block_size = block_size\n",
    "        self.drop_prob = drop_prob\n",
    "\n",
    "    def forward(self, x):\n",
    "        if not self.training or self.drop_prob == 0:\n",
    "            return x\n",
    "        gamma = self.drop_prob / (self.block_size ** 2)\n",
    "        mask = (torch.rand_like(x) < gamma).float()\n",
    "        mask = F.max_pool2d(mask, self.block_size, stride=1, padding=self.block_size // 2)\n",
    "        mask = 1 - mask\n",
    "        return x * mask\n",
    "\n",
    "class EEGNetHero(nn.Module):\n",
    "    def __init__(self, num_classes, C=22, T=1875, F1=8, D=2, F2=16, num_heads=4):\n",
    "        super(EEGNetHero, self).__init__()\n",
    "        \n",
    "        # Block 1: Temporal Convolution + Spatial Attention\n",
    "        self.conv1 = nn.Conv2d(1, F1, kernel_size=(1, 64), padding=(0, 32), bias=False)\n",
    "        self.layernorm1 = nn.LayerNorm([F1, C, T])\n",
    "        self.depthwise_conv = nn.Conv2d(F1, F1 * D, kernel_size=(C, 1), groups=F1, bias=False)\n",
    "        self.layernorm2 = nn.LayerNorm([F1 * D, 1, T])\n",
    "        self.spatial_attention = SpatialAttention(F1 * D)\n",
    "        self.elu1 = nn.ELU()\n",
    "        self.pool1 = nn.AvgPool2d(kernel_size=(1, 4))\n",
    "        self.dropblock1 = DropBlock2D(block_size=3, drop_prob=0.5)\n",
    "\n",
    "        # Block 2: Multi-Head Attention\n",
    "        self.multihead_attn = nn.MultiheadAttention(embed_dim=F1 * D, num_heads=num_heads)\n",
    "\n",
    "        # Block 3: Separable Convolution\n",
    "        self.separable_conv = nn.Conv2d(F1 * D, F2, kernel_size=(1, 16), padding=(0, 8), bias=False)\n",
    "        self.layernorm3 = nn.LayerNorm([F2, 1, T // 4])\n",
    "        self.elu2 = nn.ELU()\n",
    "        self.pool2 = nn.AvgPool2d(kernel_size=(1, 8))\n",
    "        self.dropblock2 = DropBlock2D(block_size=3, drop_prob=0.5)\n",
    "\n",
    "        # Classification block\n",
    "        self.global_avg_pool = nn.AdaptiveAvgPool2d((1, 1))\n",
    "        self.fc = nn.Linear(F2, num_classes)\n",
    "\n",
    "    def forward(self, x):\n",
    "        # Block 1\n",
    "        x = self.conv1(x)\n",
    "        x = self.layernorm1(x)\n",
    "        x = self.depthwise_conv(x)\n",
    "        x = self.layernorm2(x)\n",
    "        x = self.spatial_attention(x)\n",
    "        x = self.elu1(x)\n",
    "        x = self.pool1(x)\n",
    "        x = self.dropblock1(x)\n",
    "\n",
    "        # Block 2\n",
    "        x = x.flatten(start_dim=2).permute(2, 0, 1)  # (batch, channel, time) -> (time, batch, channel)\n",
    "        x, _ = self.multihead_attn(x, x, x)\n",
    "        x = x.permute(1, 2, 0).view(x.size(1), -1, T // 4)\n",
    "\n",
    "        # Block 3\n",
    "        x = self.separable_conv(x)\n",
    "        x = self.layernorm3(x)\n",
    "        x = self.elu2(x)\n",
    "        x = self.pool2(x)\n",
    "        x = self.dropblock2(x)\n",
    "\n",
    "        # Classification\n",
    "        x = self.global_avg_pool(x)\n",
    "        x = x.view(x.size(0), -1)  # Flatten\n",
    "        x = self.fc(x)\n",
    "        return x\n"
   ]
  },
  {
   "cell_type": "markdown",
   "metadata": {},
   "source": [
    "**Thử nghiệm mô hình**"
   ]
  },
  {
   "cell_type": "code",
   "execution_count": 117,
   "metadata": {
    "execution": {
     "iopub.execute_input": "2024-12-10T20:21:44.987375Z",
     "iopub.status.busy": "2024-12-10T20:21:44.986523Z",
     "iopub.status.idle": "2024-12-10T20:21:44.993926Z",
     "shell.execute_reply": "2024-12-10T20:21:44.993096Z",
     "shell.execute_reply.started": "2024-12-10T20:21:44.987333Z"
    },
    "trusted": true
   },
   "outputs": [],
   "source": [
    "eeg_net_hero = EEGNetHero(num_classes=num_classes)\n",
    "eeg_net_hero = nn.DataParallel(eeg_net_hero)"
   ]
  },
  {
   "cell_type": "code",
   "execution_count": 118,
   "metadata": {
    "execution": {
     "iopub.execute_input": "2024-12-10T20:21:46.609865Z",
     "iopub.status.busy": "2024-12-10T20:21:46.609535Z",
     "iopub.status.idle": "2024-12-10T20:21:46.614548Z",
     "shell.execute_reply": "2024-12-10T20:21:46.613548Z",
     "shell.execute_reply.started": "2024-12-10T20:21:46.609836Z"
    },
    "trusted": true
   },
   "outputs": [],
   "source": [
    "lr = 0.003\n",
    "criterion = nn.CrossEntropyLoss()\n",
    "optimizer = torch.optim.Adam(eeg_net_hero.parameters(), lr=lr)"
   ]
  },
  {
   "cell_type": "code",
   "execution_count": null,
   "metadata": {
    "collapsed": true,
    "execution": {
     "iopub.execute_input": "2024-12-10T20:22:55.615646Z",
     "iopub.status.busy": "2024-12-10T20:22:55.615305Z",
     "iopub.status.idle": "2024-12-10T20:23:08.793415Z",
     "shell.execute_reply": "2024-12-10T20:23:08.792142Z",
     "shell.execute_reply.started": "2024-12-10T20:22:55.615611Z"
    },
    "jupyter": {
     "outputs_hidden": true
    },
    "trusted": true
   },
   "outputs": [],
   "source": [
    "eeg_hero_wan_writer = wandb.init(\n",
    "    project=\"motor imagery\",\n",
    "    name=\"EEG-Net-Hero\",\n",
    "    config={\n",
    "        \"learning_rate\": 0.003,\n",
    "        \"batch_size\": 16,\n",
    "        \"epochs\": 50,\n",
    "    }\n",
    ")"
   ]
  },
  {
   "cell_type": "code",
   "execution_count": 125,
   "metadata": {
    "execution": {
     "iopub.execute_input": "2024-12-10T20:25:03.183916Z",
     "iopub.status.busy": "2024-12-10T20:25:03.182971Z",
     "iopub.status.idle": "2024-12-10T20:28:40.297891Z",
     "shell.execute_reply": "2024-12-10T20:28:40.296898Z",
     "shell.execute_reply.started": "2024-12-10T20:25:03.183867Z"
    },
    "trusted": true
   },
   "outputs": [
    {
     "name": "stderr",
     "output_type": "stream",
     "text": [
      "Training epoch [1/50]:   0%|          | 0/162 [00:00<?, ?batch/s]/opt/conda/lib/python3.10/site-packages/torch/nn/parallel/parallel_apply.py:79: FutureWarning: `torch.cuda.amp.autocast(args...)` is deprecated. Please use `torch.amp.autocast('cuda', args...)` instead.\n",
      "  with torch.cuda.device(device), torch.cuda.stream(stream), autocast(enabled=autocast_enabled):\n",
      "Training epoch [1/50]: 100%|██████████| 162/162 [00:02<00:00, 58.55batch/s]\n"
     ]
    },
    {
     "name": "stdout",
     "output_type": "stream",
     "text": [
      "\t---> Loss: 1.0210\n",
      "\t---> Accuracy: 0.5818\n"
     ]
    },
    {
     "name": "stderr",
     "output_type": "stream",
     "text": [
      "Evaluating:   0%|          | 0/162 [00:00<?, ?batch/s]/opt/conda/lib/python3.10/site-packages/torch/nn/parallel/parallel_apply.py:79: FutureWarning: `torch.cuda.amp.autocast(args...)` is deprecated. Please use `torch.amp.autocast('cuda', args...)` instead.\n",
      "  with torch.cuda.device(device), torch.cuda.stream(stream), autocast(enabled=autocast_enabled):\n",
      "Evaluating: 100%|██████████| 162/162 [00:01<00:00, 100.23batch/s]\n"
     ]
    },
    {
     "name": "stdout",
     "output_type": "stream",
     "text": [
      "\t---> Loss: 1.1618\n",
      "\t---> Accuracy: 0.4946\n",
      "\tClassification Report:\n",
      "              precision    recall  f1-score   support\n",
      "\n",
      "   Left Hand       0.55      0.38      0.45       648\n",
      "  Right Hand       0.48      0.52      0.50       648\n",
      "        Foot       0.45      0.58      0.51       648\n",
      "      Tongue       0.53      0.50      0.52       648\n",
      "\n",
      "    accuracy                           0.49      2592\n",
      "   macro avg       0.50      0.49      0.49      2592\n",
      "weighted avg       0.50      0.49      0.49      2592\n",
      "\n",
      "Model is saved to  /kaggle/working/eeg_hero.pth\n"
     ]
    },
    {
     "name": "stderr",
     "output_type": "stream",
     "text": [
      "Training epoch [2/50]:   0%|          | 0/162 [00:00<?, ?batch/s]/opt/conda/lib/python3.10/site-packages/torch/nn/parallel/parallel_apply.py:79: FutureWarning: `torch.cuda.amp.autocast(args...)` is deprecated. Please use `torch.amp.autocast('cuda', args...)` instead.\n",
      "  with torch.cuda.device(device), torch.cuda.stream(stream), autocast(enabled=autocast_enabled):\n",
      "Training epoch [2/50]: 100%|██████████| 162/162 [00:02<00:00, 60.70batch/s]\n"
     ]
    },
    {
     "name": "stdout",
     "output_type": "stream",
     "text": [
      "\t---> Loss: 1.0043\n",
      "\t---> Accuracy: 0.5833\n"
     ]
    },
    {
     "name": "stderr",
     "output_type": "stream",
     "text": [
      "Evaluating:   0%|          | 0/162 [00:00<?, ?batch/s]/opt/conda/lib/python3.10/site-packages/torch/nn/parallel/parallel_apply.py:79: FutureWarning: `torch.cuda.amp.autocast(args...)` is deprecated. Please use `torch.amp.autocast('cuda', args...)` instead.\n",
      "  with torch.cuda.device(device), torch.cuda.stream(stream), autocast(enabled=autocast_enabled):\n",
      "Evaluating: 100%|██████████| 162/162 [00:01<00:00, 94.50batch/s]\n"
     ]
    },
    {
     "name": "stdout",
     "output_type": "stream",
     "text": [
      "\t---> Loss: 1.1610\n",
      "\t---> Accuracy: 0.4988\n",
      "\tClassification Report:\n",
      "              precision    recall  f1-score   support\n",
      "\n",
      "   Left Hand       0.56      0.38      0.45       648\n",
      "  Right Hand       0.48      0.52      0.50       648\n",
      "        Foot       0.45      0.60      0.52       648\n",
      "      Tongue       0.54      0.49      0.52       648\n",
      "\n",
      "    accuracy                           0.50      2592\n",
      "   macro avg       0.51      0.50      0.50      2592\n",
      "weighted avg       0.51      0.50      0.50      2592\n",
      "\n",
      "Model is saved to  /kaggle/working/eeg_hero.pth\n"
     ]
    },
    {
     "name": "stderr",
     "output_type": "stream",
     "text": [
      "Training epoch [3/50]:   0%|          | 0/162 [00:00<?, ?batch/s]/opt/conda/lib/python3.10/site-packages/torch/nn/parallel/parallel_apply.py:79: FutureWarning: `torch.cuda.amp.autocast(args...)` is deprecated. Please use `torch.amp.autocast('cuda', args...)` instead.\n",
      "  with torch.cuda.device(device), torch.cuda.stream(stream), autocast(enabled=autocast_enabled):\n",
      "Training epoch [3/50]: 100%|██████████| 162/162 [00:02<00:00, 62.09batch/s]\n"
     ]
    },
    {
     "name": "stdout",
     "output_type": "stream",
     "text": [
      "\t---> Loss: 1.0165\n",
      "\t---> Accuracy: 0.5748\n"
     ]
    },
    {
     "name": "stderr",
     "output_type": "stream",
     "text": [
      "Evaluating:   0%|          | 0/162 [00:00<?, ?batch/s]/opt/conda/lib/python3.10/site-packages/torch/nn/parallel/parallel_apply.py:79: FutureWarning: `torch.cuda.amp.autocast(args...)` is deprecated. Please use `torch.amp.autocast('cuda', args...)` instead.\n",
      "  with torch.cuda.device(device), torch.cuda.stream(stream), autocast(enabled=autocast_enabled):\n",
      "Evaluating: 100%|██████████| 162/162 [00:01<00:00, 99.63batch/s] \n"
     ]
    },
    {
     "name": "stdout",
     "output_type": "stream",
     "text": [
      "\t---> Loss: 1.1628\n",
      "\t---> Accuracy: 0.4973\n",
      "\tClassification Report:\n",
      "              precision    recall  f1-score   support\n",
      "\n",
      "   Left Hand       0.54      0.39      0.45       648\n",
      "  Right Hand       0.51      0.48      0.49       648\n",
      "        Foot       0.44      0.61      0.51       648\n",
      "      Tongue       0.53      0.52      0.53       648\n",
      "\n",
      "    accuracy                           0.50      2592\n",
      "   macro avg       0.51      0.50      0.50      2592\n",
      "weighted avg       0.51      0.50      0.50      2592\n",
      "\n"
     ]
    },
    {
     "name": "stderr",
     "output_type": "stream",
     "text": [
      "Training epoch [4/50]:   0%|          | 0/162 [00:00<?, ?batch/s]/opt/conda/lib/python3.10/site-packages/torch/nn/parallel/parallel_apply.py:79: FutureWarning: `torch.cuda.amp.autocast(args...)` is deprecated. Please use `torch.amp.autocast('cuda', args...)` instead.\n",
      "  with torch.cuda.device(device), torch.cuda.stream(stream), autocast(enabled=autocast_enabled):\n",
      "Training epoch [4/50]: 100%|██████████| 162/162 [00:02<00:00, 62.43batch/s]\n"
     ]
    },
    {
     "name": "stdout",
     "output_type": "stream",
     "text": [
      "\t---> Loss: 1.0214\n",
      "\t---> Accuracy: 0.5741\n"
     ]
    },
    {
     "name": "stderr",
     "output_type": "stream",
     "text": [
      "Evaluating:   0%|          | 0/162 [00:00<?, ?batch/s]/opt/conda/lib/python3.10/site-packages/torch/nn/parallel/parallel_apply.py:79: FutureWarning: `torch.cuda.amp.autocast(args...)` is deprecated. Please use `torch.amp.autocast('cuda', args...)` instead.\n",
      "  with torch.cuda.device(device), torch.cuda.stream(stream), autocast(enabled=autocast_enabled):\n",
      "Evaluating: 100%|██████████| 162/162 [00:01<00:00, 98.45batch/s] \n"
     ]
    },
    {
     "name": "stdout",
     "output_type": "stream",
     "text": [
      "\t---> Loss: 1.1653\n",
      "\t---> Accuracy: 0.4942\n",
      "\tClassification Report:\n",
      "              precision    recall  f1-score   support\n",
      "\n",
      "   Left Hand       0.54      0.39      0.45       648\n",
      "  Right Hand       0.48      0.52      0.50       648\n",
      "        Foot       0.45      0.59      0.51       648\n",
      "      Tongue       0.54      0.48      0.51       648\n",
      "\n",
      "    accuracy                           0.49      2592\n",
      "   macro avg       0.50      0.49      0.49      2592\n",
      "weighted avg       0.50      0.49      0.49      2592\n",
      "\n"
     ]
    },
    {
     "name": "stderr",
     "output_type": "stream",
     "text": [
      "Training epoch [5/50]:   0%|          | 0/162 [00:00<?, ?batch/s]/opt/conda/lib/python3.10/site-packages/torch/nn/parallel/parallel_apply.py:79: FutureWarning: `torch.cuda.amp.autocast(args...)` is deprecated. Please use `torch.amp.autocast('cuda', args...)` instead.\n",
      "  with torch.cuda.device(device), torch.cuda.stream(stream), autocast(enabled=autocast_enabled):\n",
      "Training epoch [5/50]: 100%|██████████| 162/162 [00:02<00:00, 61.48batch/s]\n"
     ]
    },
    {
     "name": "stdout",
     "output_type": "stream",
     "text": [
      "\t---> Loss: 1.0117\n",
      "\t---> Accuracy: 0.5733\n"
     ]
    },
    {
     "name": "stderr",
     "output_type": "stream",
     "text": [
      "Evaluating:   0%|          | 0/162 [00:00<?, ?batch/s]/opt/conda/lib/python3.10/site-packages/torch/nn/parallel/parallel_apply.py:79: FutureWarning: `torch.cuda.amp.autocast(args...)` is deprecated. Please use `torch.amp.autocast('cuda', args...)` instead.\n",
      "  with torch.cuda.device(device), torch.cuda.stream(stream), autocast(enabled=autocast_enabled):\n",
      "Evaluating: 100%|██████████| 162/162 [00:01<00:00, 95.03batch/s]\n"
     ]
    },
    {
     "name": "stdout",
     "output_type": "stream",
     "text": [
      "\t---> Loss: 1.1561\n",
      "\t---> Accuracy: 0.5004\n",
      "\tClassification Report:\n",
      "              precision    recall  f1-score   support\n",
      "\n",
      "   Left Hand       0.53      0.43      0.47       648\n",
      "  Right Hand       0.46      0.59      0.52       648\n",
      "        Foot       0.48      0.50      0.49       648\n",
      "      Tongue       0.56      0.49      0.52       648\n",
      "\n",
      "    accuracy                           0.50      2592\n",
      "   macro avg       0.51      0.50      0.50      2592\n",
      "weighted avg       0.51      0.50      0.50      2592\n",
      "\n",
      "Model is saved to  /kaggle/working/eeg_hero.pth\n"
     ]
    },
    {
     "name": "stderr",
     "output_type": "stream",
     "text": [
      "Training epoch [6/50]:   0%|          | 0/162 [00:00<?, ?batch/s]/opt/conda/lib/python3.10/site-packages/torch/nn/parallel/parallel_apply.py:79: FutureWarning: `torch.cuda.amp.autocast(args...)` is deprecated. Please use `torch.amp.autocast('cuda', args...)` instead.\n",
      "  with torch.cuda.device(device), torch.cuda.stream(stream), autocast(enabled=autocast_enabled):\n",
      "Training epoch [6/50]: 100%|██████████| 162/162 [00:02<00:00, 62.06batch/s]\n"
     ]
    },
    {
     "name": "stdout",
     "output_type": "stream",
     "text": [
      "\t---> Loss: 1.0101\n",
      "\t---> Accuracy: 0.5791\n"
     ]
    },
    {
     "name": "stderr",
     "output_type": "stream",
     "text": [
      "Evaluating:   0%|          | 0/162 [00:00<?, ?batch/s]/opt/conda/lib/python3.10/site-packages/torch/nn/parallel/parallel_apply.py:79: FutureWarning: `torch.cuda.amp.autocast(args...)` is deprecated. Please use `torch.amp.autocast('cuda', args...)` instead.\n",
      "  with torch.cuda.device(device), torch.cuda.stream(stream), autocast(enabled=autocast_enabled):\n",
      "Evaluating: 100%|██████████| 162/162 [00:01<00:00, 97.01batch/s]\n"
     ]
    },
    {
     "name": "stdout",
     "output_type": "stream",
     "text": [
      "\t---> Loss: 1.1506\n",
      "\t---> Accuracy: 0.5004\n",
      "\tClassification Report:\n",
      "              precision    recall  f1-score   support\n",
      "\n",
      "   Left Hand       0.51      0.46      0.48       648\n",
      "  Right Hand       0.49      0.50      0.50       648\n",
      "        Foot       0.47      0.53      0.50       648\n",
      "      Tongue       0.54      0.51      0.52       648\n",
      "\n",
      "    accuracy                           0.50      2592\n",
      "   macro avg       0.50      0.50      0.50      2592\n",
      "weighted avg       0.50      0.50      0.50      2592\n",
      "\n"
     ]
    },
    {
     "name": "stderr",
     "output_type": "stream",
     "text": [
      "Training epoch [7/50]:   0%|          | 0/162 [00:00<?, ?batch/s]/opt/conda/lib/python3.10/site-packages/torch/nn/parallel/parallel_apply.py:79: FutureWarning: `torch.cuda.amp.autocast(args...)` is deprecated. Please use `torch.amp.autocast('cuda', args...)` instead.\n",
      "  with torch.cuda.device(device), torch.cuda.stream(stream), autocast(enabled=autocast_enabled):\n",
      "Training epoch [7/50]: 100%|██████████| 162/162 [00:02<00:00, 62.46batch/s]\n"
     ]
    },
    {
     "name": "stdout",
     "output_type": "stream",
     "text": [
      "\t---> Loss: 0.9908\n",
      "\t---> Accuracy: 0.5880\n"
     ]
    },
    {
     "name": "stderr",
     "output_type": "stream",
     "text": [
      "Evaluating:   0%|          | 0/162 [00:00<?, ?batch/s]/opt/conda/lib/python3.10/site-packages/torch/nn/parallel/parallel_apply.py:79: FutureWarning: `torch.cuda.amp.autocast(args...)` is deprecated. Please use `torch.amp.autocast('cuda', args...)` instead.\n",
      "  with torch.cuda.device(device), torch.cuda.stream(stream), autocast(enabled=autocast_enabled):\n",
      "Evaluating: 100%|██████████| 162/162 [00:01<00:00, 96.57batch/s]\n"
     ]
    },
    {
     "name": "stdout",
     "output_type": "stream",
     "text": [
      "\t---> Loss: 1.1500\n",
      "\t---> Accuracy: 0.4969\n",
      "\tClassification Report:\n",
      "              precision    recall  f1-score   support\n",
      "\n",
      "   Left Hand       0.54      0.41      0.46       648\n",
      "  Right Hand       0.48      0.53      0.50       648\n",
      "        Foot       0.46      0.55      0.50       648\n",
      "      Tongue       0.54      0.50      0.52       648\n",
      "\n",
      "    accuracy                           0.50      2592\n",
      "   macro avg       0.50      0.50      0.50      2592\n",
      "weighted avg       0.50      0.50      0.50      2592\n",
      "\n"
     ]
    },
    {
     "name": "stderr",
     "output_type": "stream",
     "text": [
      "Training epoch [8/50]:   0%|          | 0/162 [00:00<?, ?batch/s]/opt/conda/lib/python3.10/site-packages/torch/nn/parallel/parallel_apply.py:79: FutureWarning: `torch.cuda.amp.autocast(args...)` is deprecated. Please use `torch.amp.autocast('cuda', args...)` instead.\n",
      "  with torch.cuda.device(device), torch.cuda.stream(stream), autocast(enabled=autocast_enabled):\n",
      "Training epoch [8/50]: 100%|██████████| 162/162 [00:02<00:00, 58.26batch/s]\n"
     ]
    },
    {
     "name": "stdout",
     "output_type": "stream",
     "text": [
      "\t---> Loss: 1.0181\n",
      "\t---> Accuracy: 0.5656\n"
     ]
    },
    {
     "name": "stderr",
     "output_type": "stream",
     "text": [
      "Evaluating:   0%|          | 0/162 [00:00<?, ?batch/s]/opt/conda/lib/python3.10/site-packages/torch/nn/parallel/parallel_apply.py:79: FutureWarning: `torch.cuda.amp.autocast(args...)` is deprecated. Please use `torch.amp.autocast('cuda', args...)` instead.\n",
      "  with torch.cuda.device(device), torch.cuda.stream(stream), autocast(enabled=autocast_enabled):\n",
      "Evaluating: 100%|██████████| 162/162 [00:01<00:00, 95.32batch/s]\n"
     ]
    },
    {
     "name": "stdout",
     "output_type": "stream",
     "text": [
      "\t---> Loss: 1.1517\n",
      "\t---> Accuracy: 0.5042\n",
      "\tClassification Report:\n",
      "              precision    recall  f1-score   support\n",
      "\n",
      "   Left Hand       0.53      0.43      0.48       648\n",
      "  Right Hand       0.47      0.55      0.51       648\n",
      "        Foot       0.48      0.52      0.49       648\n",
      "      Tongue       0.55      0.52      0.53       648\n",
      "\n",
      "    accuracy                           0.50      2592\n",
      "   macro avg       0.51      0.50      0.50      2592\n",
      "weighted avg       0.51      0.50      0.50      2592\n",
      "\n",
      "Model is saved to  /kaggle/working/eeg_hero.pth\n"
     ]
    },
    {
     "name": "stderr",
     "output_type": "stream",
     "text": [
      "Training epoch [9/50]:   0%|          | 0/162 [00:00<?, ?batch/s]/opt/conda/lib/python3.10/site-packages/torch/nn/parallel/parallel_apply.py:79: FutureWarning: `torch.cuda.amp.autocast(args...)` is deprecated. Please use `torch.amp.autocast('cuda', args...)` instead.\n",
      "  with torch.cuda.device(device), torch.cuda.stream(stream), autocast(enabled=autocast_enabled):\n",
      "Training epoch [9/50]: 100%|██████████| 162/162 [00:02<00:00, 63.19batch/s]\n"
     ]
    },
    {
     "name": "stdout",
     "output_type": "stream",
     "text": [
      "\t---> Loss: 1.0155\n",
      "\t---> Accuracy: 0.5760\n"
     ]
    },
    {
     "name": "stderr",
     "output_type": "stream",
     "text": [
      "Evaluating:   0%|          | 0/162 [00:00<?, ?batch/s]/opt/conda/lib/python3.10/site-packages/torch/nn/parallel/parallel_apply.py:79: FutureWarning: `torch.cuda.amp.autocast(args...)` is deprecated. Please use `torch.amp.autocast('cuda', args...)` instead.\n",
      "  with torch.cuda.device(device), torch.cuda.stream(stream), autocast(enabled=autocast_enabled):\n",
      "Evaluating: 100%|██████████| 162/162 [00:01<00:00, 96.49batch/s]\n"
     ]
    },
    {
     "name": "stdout",
     "output_type": "stream",
     "text": [
      "\t---> Loss: 1.1495\n",
      "\t---> Accuracy: 0.5039\n",
      "\tClassification Report:\n",
      "              precision    recall  f1-score   support\n",
      "\n",
      "   Left Hand       0.51      0.47      0.49       648\n",
      "  Right Hand       0.52      0.47      0.49       648\n",
      "        Foot       0.47      0.54      0.50       648\n",
      "      Tongue       0.53      0.54      0.53       648\n",
      "\n",
      "    accuracy                           0.50      2592\n",
      "   macro avg       0.51      0.50      0.50      2592\n",
      "weighted avg       0.51      0.50      0.50      2592\n",
      "\n"
     ]
    },
    {
     "name": "stderr",
     "output_type": "stream",
     "text": [
      "Training epoch [10/50]:   0%|          | 0/162 [00:00<?, ?batch/s]/opt/conda/lib/python3.10/site-packages/torch/nn/parallel/parallel_apply.py:79: FutureWarning: `torch.cuda.amp.autocast(args...)` is deprecated. Please use `torch.amp.autocast('cuda', args...)` instead.\n",
      "  with torch.cuda.device(device), torch.cuda.stream(stream), autocast(enabled=autocast_enabled):\n",
      "Training epoch [10/50]: 100%|██████████| 162/162 [00:02<00:00, 62.39batch/s]\n"
     ]
    },
    {
     "name": "stdout",
     "output_type": "stream",
     "text": [
      "\t---> Loss: 1.0115\n",
      "\t---> Accuracy: 0.5822\n"
     ]
    },
    {
     "name": "stderr",
     "output_type": "stream",
     "text": [
      "Evaluating:   0%|          | 0/162 [00:00<?, ?batch/s]/opt/conda/lib/python3.10/site-packages/torch/nn/parallel/parallel_apply.py:79: FutureWarning: `torch.cuda.amp.autocast(args...)` is deprecated. Please use `torch.amp.autocast('cuda', args...)` instead.\n",
      "  with torch.cuda.device(device), torch.cuda.stream(stream), autocast(enabled=autocast_enabled):\n",
      "Evaluating: 100%|██████████| 162/162 [00:01<00:00, 98.26batch/s] \n"
     ]
    },
    {
     "name": "stdout",
     "output_type": "stream",
     "text": [
      "\t---> Loss: 1.1675\n",
      "\t---> Accuracy: 0.4973\n",
      "\tClassification Report:\n",
      "              precision    recall  f1-score   support\n",
      "\n",
      "   Left Hand       0.55      0.37      0.44       648\n",
      "  Right Hand       0.49      0.51      0.50       648\n",
      "        Foot       0.44      0.60      0.51       648\n",
      "      Tongue       0.55      0.50      0.52       648\n",
      "\n",
      "    accuracy                           0.50      2592\n",
      "   macro avg       0.51      0.50      0.49      2592\n",
      "weighted avg       0.51      0.50      0.49      2592\n",
      "\n"
     ]
    },
    {
     "name": "stderr",
     "output_type": "stream",
     "text": [
      "Training epoch [11/50]:   0%|          | 0/162 [00:00<?, ?batch/s]/opt/conda/lib/python3.10/site-packages/torch/nn/parallel/parallel_apply.py:79: FutureWarning: `torch.cuda.amp.autocast(args...)` is deprecated. Please use `torch.amp.autocast('cuda', args...)` instead.\n",
      "  with torch.cuda.device(device), torch.cuda.stream(stream), autocast(enabled=autocast_enabled):\n",
      "Training epoch [11/50]: 100%|██████████| 162/162 [00:02<00:00, 60.99batch/s]\n"
     ]
    },
    {
     "name": "stdout",
     "output_type": "stream",
     "text": [
      "\t---> Loss: 1.0131\n",
      "\t---> Accuracy: 0.5714\n"
     ]
    },
    {
     "name": "stderr",
     "output_type": "stream",
     "text": [
      "Evaluating:   0%|          | 0/162 [00:00<?, ?batch/s]/opt/conda/lib/python3.10/site-packages/torch/nn/parallel/parallel_apply.py:79: FutureWarning: `torch.cuda.amp.autocast(args...)` is deprecated. Please use `torch.amp.autocast('cuda', args...)` instead.\n",
      "  with torch.cuda.device(device), torch.cuda.stream(stream), autocast(enabled=autocast_enabled):\n",
      "Evaluating: 100%|██████████| 162/162 [00:01<00:00, 96.55batch/s]\n"
     ]
    },
    {
     "name": "stdout",
     "output_type": "stream",
     "text": [
      "\t---> Loss: 1.1556\n",
      "\t---> Accuracy: 0.5046\n",
      "\tClassification Report:\n",
      "              precision    recall  f1-score   support\n",
      "\n",
      "   Left Hand       0.54      0.41      0.47       648\n",
      "  Right Hand       0.50      0.50      0.50       648\n",
      "        Foot       0.46      0.56      0.51       648\n",
      "      Tongue       0.53      0.54      0.54       648\n",
      "\n",
      "    accuracy                           0.50      2592\n",
      "   macro avg       0.51      0.50      0.50      2592\n",
      "weighted avg       0.51      0.50      0.50      2592\n",
      "\n",
      "Model is saved to  /kaggle/working/eeg_hero.pth\n"
     ]
    },
    {
     "name": "stderr",
     "output_type": "stream",
     "text": [
      "Training epoch [12/50]:   0%|          | 0/162 [00:00<?, ?batch/s]/opt/conda/lib/python3.10/site-packages/torch/nn/parallel/parallel_apply.py:79: FutureWarning: `torch.cuda.amp.autocast(args...)` is deprecated. Please use `torch.amp.autocast('cuda', args...)` instead.\n",
      "  with torch.cuda.device(device), torch.cuda.stream(stream), autocast(enabled=autocast_enabled):\n",
      "Training epoch [12/50]: 100%|██████████| 162/162 [00:02<00:00, 60.52batch/s]\n"
     ]
    },
    {
     "name": "stdout",
     "output_type": "stream",
     "text": [
      "\t---> Loss: 1.0090\n",
      "\t---> Accuracy: 0.5826\n"
     ]
    },
    {
     "name": "stderr",
     "output_type": "stream",
     "text": [
      "Evaluating:   0%|          | 0/162 [00:00<?, ?batch/s]/opt/conda/lib/python3.10/site-packages/torch/nn/parallel/parallel_apply.py:79: FutureWarning: `torch.cuda.amp.autocast(args...)` is deprecated. Please use `torch.amp.autocast('cuda', args...)` instead.\n",
      "  with torch.cuda.device(device), torch.cuda.stream(stream), autocast(enabled=autocast_enabled):\n",
      "Evaluating: 100%|██████████| 162/162 [00:01<00:00, 97.17batch/s]\n"
     ]
    },
    {
     "name": "stdout",
     "output_type": "stream",
     "text": [
      "\t---> Loss: 1.1515\n",
      "\t---> Accuracy: 0.4977\n",
      "\tClassification Report:\n",
      "              precision    recall  f1-score   support\n",
      "\n",
      "   Left Hand       0.52      0.43      0.47       648\n",
      "  Right Hand       0.48      0.52      0.50       648\n",
      "        Foot       0.47      0.52      0.49       648\n",
      "      Tongue       0.53      0.52      0.53       648\n",
      "\n",
      "    accuracy                           0.50      2592\n",
      "   macro avg       0.50      0.50      0.50      2592\n",
      "weighted avg       0.50      0.50      0.50      2592\n",
      "\n"
     ]
    },
    {
     "name": "stderr",
     "output_type": "stream",
     "text": [
      "Training epoch [13/50]:   0%|          | 0/162 [00:00<?, ?batch/s]/opt/conda/lib/python3.10/site-packages/torch/nn/parallel/parallel_apply.py:79: FutureWarning: `torch.cuda.amp.autocast(args...)` is deprecated. Please use `torch.amp.autocast('cuda', args...)` instead.\n",
      "  with torch.cuda.device(device), torch.cuda.stream(stream), autocast(enabled=autocast_enabled):\n",
      "Training epoch [13/50]: 100%|██████████| 162/162 [00:02<00:00, 62.54batch/s]\n"
     ]
    },
    {
     "name": "stdout",
     "output_type": "stream",
     "text": [
      "\t---> Loss: 1.0145\n",
      "\t---> Accuracy: 0.5629\n"
     ]
    },
    {
     "name": "stderr",
     "output_type": "stream",
     "text": [
      "Evaluating:   0%|          | 0/162 [00:00<?, ?batch/s]/opt/conda/lib/python3.10/site-packages/torch/nn/parallel/parallel_apply.py:79: FutureWarning: `torch.cuda.amp.autocast(args...)` is deprecated. Please use `torch.amp.autocast('cuda', args...)` instead.\n",
      "  with torch.cuda.device(device), torch.cuda.stream(stream), autocast(enabled=autocast_enabled):\n",
      "Evaluating: 100%|██████████| 162/162 [00:01<00:00, 97.65batch/s]\n"
     ]
    },
    {
     "name": "stdout",
     "output_type": "stream",
     "text": [
      "\t---> Loss: 1.1427\n",
      "\t---> Accuracy: 0.5039\n",
      "\tClassification Report:\n",
      "              precision    recall  f1-score   support\n",
      "\n",
      "   Left Hand       0.52      0.45      0.48       648\n",
      "  Right Hand       0.48      0.54      0.51       648\n",
      "        Foot       0.51      0.45      0.48       648\n",
      "      Tongue       0.52      0.57      0.54       648\n",
      "\n",
      "    accuracy                           0.50      2592\n",
      "   macro avg       0.50      0.50      0.50      2592\n",
      "weighted avg       0.50      0.50      0.50      2592\n",
      "\n"
     ]
    },
    {
     "name": "stderr",
     "output_type": "stream",
     "text": [
      "Training epoch [14/50]:   0%|          | 0/162 [00:00<?, ?batch/s]/opt/conda/lib/python3.10/site-packages/torch/nn/parallel/parallel_apply.py:79: FutureWarning: `torch.cuda.amp.autocast(args...)` is deprecated. Please use `torch.amp.autocast('cuda', args...)` instead.\n",
      "  with torch.cuda.device(device), torch.cuda.stream(stream), autocast(enabled=autocast_enabled):\n",
      "Training epoch [14/50]: 100%|██████████| 162/162 [00:02<00:00, 61.43batch/s]\n"
     ]
    },
    {
     "name": "stdout",
     "output_type": "stream",
     "text": [
      "\t---> Loss: 1.0115\n",
      "\t---> Accuracy: 0.5718\n"
     ]
    },
    {
     "name": "stderr",
     "output_type": "stream",
     "text": [
      "Evaluating:   0%|          | 0/162 [00:00<?, ?batch/s]/opt/conda/lib/python3.10/site-packages/torch/nn/parallel/parallel_apply.py:79: FutureWarning: `torch.cuda.amp.autocast(args...)` is deprecated. Please use `torch.amp.autocast('cuda', args...)` instead.\n",
      "  with torch.cuda.device(device), torch.cuda.stream(stream), autocast(enabled=autocast_enabled):\n",
      "Evaluating: 100%|██████████| 162/162 [00:01<00:00, 99.22batch/s]\n"
     ]
    },
    {
     "name": "stdout",
     "output_type": "stream",
     "text": [
      "\t---> Loss: 1.1610\n",
      "\t---> Accuracy: 0.4973\n",
      "\tClassification Report:\n",
      "              precision    recall  f1-score   support\n",
      "\n",
      "   Left Hand       0.52      0.42      0.46       648\n",
      "  Right Hand       0.47      0.57      0.51       648\n",
      "        Foot       0.46      0.54      0.50       648\n",
      "      Tongue       0.57      0.46      0.51       648\n",
      "\n",
      "    accuracy                           0.50      2592\n",
      "   macro avg       0.51      0.50      0.50      2592\n",
      "weighted avg       0.51      0.50      0.50      2592\n",
      "\n"
     ]
    },
    {
     "name": "stderr",
     "output_type": "stream",
     "text": [
      "Training epoch [15/50]:   0%|          | 0/162 [00:00<?, ?batch/s]/opt/conda/lib/python3.10/site-packages/torch/nn/parallel/parallel_apply.py:79: FutureWarning: `torch.cuda.amp.autocast(args...)` is deprecated. Please use `torch.amp.autocast('cuda', args...)` instead.\n",
      "  with torch.cuda.device(device), torch.cuda.stream(stream), autocast(enabled=autocast_enabled):\n",
      "Training epoch [15/50]: 100%|██████████| 162/162 [00:02<00:00, 62.82batch/s]\n"
     ]
    },
    {
     "name": "stdout",
     "output_type": "stream",
     "text": [
      "\t---> Loss: 1.0281\n",
      "\t---> Accuracy: 0.5633\n"
     ]
    },
    {
     "name": "stderr",
     "output_type": "stream",
     "text": [
      "Evaluating:   0%|          | 0/162 [00:00<?, ?batch/s]/opt/conda/lib/python3.10/site-packages/torch/nn/parallel/parallel_apply.py:79: FutureWarning: `torch.cuda.amp.autocast(args...)` is deprecated. Please use `torch.amp.autocast('cuda', args...)` instead.\n",
      "  with torch.cuda.device(device), torch.cuda.stream(stream), autocast(enabled=autocast_enabled):\n",
      "Evaluating: 100%|██████████| 162/162 [00:01<00:00, 85.44batch/s]\n"
     ]
    },
    {
     "name": "stdout",
     "output_type": "stream",
     "text": [
      "\t---> Loss: 1.1807\n",
      "\t---> Accuracy: 0.4934\n",
      "\tClassification Report:\n",
      "              precision    recall  f1-score   support\n",
      "\n",
      "   Left Hand       0.58      0.33      0.42       648\n",
      "  Right Hand       0.47      0.56      0.51       648\n",
      "        Foot       0.44      0.60      0.51       648\n",
      "      Tongue       0.54      0.48      0.51       648\n",
      "\n",
      "    accuracy                           0.49      2592\n",
      "   macro avg       0.51      0.49      0.49      2592\n",
      "weighted avg       0.51      0.49      0.49      2592\n",
      "\n"
     ]
    },
    {
     "name": "stderr",
     "output_type": "stream",
     "text": [
      "Training epoch [16/50]:   0%|          | 0/162 [00:00<?, ?batch/s]/opt/conda/lib/python3.10/site-packages/torch/nn/parallel/parallel_apply.py:79: FutureWarning: `torch.cuda.amp.autocast(args...)` is deprecated. Please use `torch.amp.autocast('cuda', args...)` instead.\n",
      "  with torch.cuda.device(device), torch.cuda.stream(stream), autocast(enabled=autocast_enabled):\n",
      "Training epoch [16/50]: 100%|██████████| 162/162 [00:02<00:00, 62.79batch/s]\n"
     ]
    },
    {
     "name": "stdout",
     "output_type": "stream",
     "text": [
      "\t---> Loss: 1.0203\n",
      "\t---> Accuracy: 0.5540\n"
     ]
    },
    {
     "name": "stderr",
     "output_type": "stream",
     "text": [
      "Evaluating:   0%|          | 0/162 [00:00<?, ?batch/s]/opt/conda/lib/python3.10/site-packages/torch/nn/parallel/parallel_apply.py:79: FutureWarning: `torch.cuda.amp.autocast(args...)` is deprecated. Please use `torch.amp.autocast('cuda', args...)` instead.\n",
      "  with torch.cuda.device(device), torch.cuda.stream(stream), autocast(enabled=autocast_enabled):\n",
      "Evaluating: 100%|██████████| 162/162 [00:01<00:00, 95.49batch/s]\n"
     ]
    },
    {
     "name": "stdout",
     "output_type": "stream",
     "text": [
      "\t---> Loss: 1.1473\n",
      "\t---> Accuracy: 0.5015\n",
      "\tClassification Report:\n",
      "              precision    recall  f1-score   support\n",
      "\n",
      "   Left Hand       0.52      0.44      0.47       648\n",
      "  Right Hand       0.49      0.53      0.51       648\n",
      "        Foot       0.50      0.44      0.47       648\n",
      "      Tongue       0.50      0.60      0.55       648\n",
      "\n",
      "    accuracy                           0.50      2592\n",
      "   macro avg       0.50      0.50      0.50      2592\n",
      "weighted avg       0.50      0.50      0.50      2592\n",
      "\n"
     ]
    },
    {
     "name": "stderr",
     "output_type": "stream",
     "text": [
      "Training epoch [17/50]:   0%|          | 0/162 [00:00<?, ?batch/s]/opt/conda/lib/python3.10/site-packages/torch/nn/parallel/parallel_apply.py:79: FutureWarning: `torch.cuda.amp.autocast(args...)` is deprecated. Please use `torch.amp.autocast('cuda', args...)` instead.\n",
      "  with torch.cuda.device(device), torch.cuda.stream(stream), autocast(enabled=autocast_enabled):\n",
      "Training epoch [17/50]: 100%|██████████| 162/162 [00:02<00:00, 61.03batch/s]\n"
     ]
    },
    {
     "name": "stdout",
     "output_type": "stream",
     "text": [
      "\t---> Loss: 1.0147\n",
      "\t---> Accuracy: 0.5660\n"
     ]
    },
    {
     "name": "stderr",
     "output_type": "stream",
     "text": [
      "Evaluating:   0%|          | 0/162 [00:00<?, ?batch/s]/opt/conda/lib/python3.10/site-packages/torch/nn/parallel/parallel_apply.py:79: FutureWarning: `torch.cuda.amp.autocast(args...)` is deprecated. Please use `torch.amp.autocast('cuda', args...)` instead.\n",
      "  with torch.cuda.device(device), torch.cuda.stream(stream), autocast(enabled=autocast_enabled):\n",
      "Evaluating: 100%|██████████| 162/162 [00:01<00:00, 96.88batch/s]\n"
     ]
    },
    {
     "name": "stdout",
     "output_type": "stream",
     "text": [
      "\t---> Loss: 1.1563\n",
      "\t---> Accuracy: 0.5000\n",
      "\tClassification Report:\n",
      "              precision    recall  f1-score   support\n",
      "\n",
      "   Left Hand       0.53      0.43      0.47       648\n",
      "  Right Hand       0.48      0.52      0.50       648\n",
      "        Foot       0.46      0.56      0.51       648\n",
      "      Tongue       0.55      0.49      0.52       648\n",
      "\n",
      "    accuracy                           0.50      2592\n",
      "   macro avg       0.51      0.50      0.50      2592\n",
      "weighted avg       0.51      0.50      0.50      2592\n",
      "\n"
     ]
    },
    {
     "name": "stderr",
     "output_type": "stream",
     "text": [
      "Training epoch [18/50]:   0%|          | 0/162 [00:00<?, ?batch/s]/opt/conda/lib/python3.10/site-packages/torch/nn/parallel/parallel_apply.py:79: FutureWarning: `torch.cuda.amp.autocast(args...)` is deprecated. Please use `torch.amp.autocast('cuda', args...)` instead.\n",
      "  with torch.cuda.device(device), torch.cuda.stream(stream), autocast(enabled=autocast_enabled):\n",
      "Training epoch [18/50]: 100%|██████████| 162/162 [00:02<00:00, 62.53batch/s]\n"
     ]
    },
    {
     "name": "stdout",
     "output_type": "stream",
     "text": [
      "\t---> Loss: 1.0221\n",
      "\t---> Accuracy: 0.5683\n"
     ]
    },
    {
     "name": "stderr",
     "output_type": "stream",
     "text": [
      "Evaluating:   0%|          | 0/162 [00:00<?, ?batch/s]/opt/conda/lib/python3.10/site-packages/torch/nn/parallel/parallel_apply.py:79: FutureWarning: `torch.cuda.amp.autocast(args...)` is deprecated. Please use `torch.amp.autocast('cuda', args...)` instead.\n",
      "  with torch.cuda.device(device), torch.cuda.stream(stream), autocast(enabled=autocast_enabled):\n",
      "Evaluating: 100%|██████████| 162/162 [00:01<00:00, 97.92batch/s] \n"
     ]
    },
    {
     "name": "stdout",
     "output_type": "stream",
     "text": [
      "\t---> Loss: 1.1552\n",
      "\t---> Accuracy: 0.4907\n",
      "\tClassification Report:\n",
      "              precision    recall  f1-score   support\n",
      "\n",
      "   Left Hand       0.52      0.43      0.47       648\n",
      "  Right Hand       0.47      0.54      0.50       648\n",
      "        Foot       0.45      0.52      0.48       648\n",
      "      Tongue       0.55      0.47      0.51       648\n",
      "\n",
      "    accuracy                           0.49      2592\n",
      "   macro avg       0.50      0.49      0.49      2592\n",
      "weighted avg       0.50      0.49      0.49      2592\n",
      "\n"
     ]
    },
    {
     "name": "stderr",
     "output_type": "stream",
     "text": [
      "Training epoch [19/50]:   0%|          | 0/162 [00:00<?, ?batch/s]/opt/conda/lib/python3.10/site-packages/torch/nn/parallel/parallel_apply.py:79: FutureWarning: `torch.cuda.amp.autocast(args...)` is deprecated. Please use `torch.amp.autocast('cuda', args...)` instead.\n",
      "  with torch.cuda.device(device), torch.cuda.stream(stream), autocast(enabled=autocast_enabled):\n",
      "Training epoch [19/50]: 100%|██████████| 162/162 [00:02<00:00, 60.05batch/s]\n"
     ]
    },
    {
     "name": "stdout",
     "output_type": "stream",
     "text": [
      "\t---> Loss: 1.0195\n",
      "\t---> Accuracy: 0.5660\n"
     ]
    },
    {
     "name": "stderr",
     "output_type": "stream",
     "text": [
      "Evaluating:   0%|          | 0/162 [00:00<?, ?batch/s]/opt/conda/lib/python3.10/site-packages/torch/nn/parallel/parallel_apply.py:79: FutureWarning: `torch.cuda.amp.autocast(args...)` is deprecated. Please use `torch.amp.autocast('cuda', args...)` instead.\n",
      "  with torch.cuda.device(device), torch.cuda.stream(stream), autocast(enabled=autocast_enabled):\n",
      "Evaluating: 100%|██████████| 162/162 [00:01<00:00, 96.92batch/s]\n"
     ]
    },
    {
     "name": "stdout",
     "output_type": "stream",
     "text": [
      "\t---> Loss: 1.1502\n",
      "\t---> Accuracy: 0.5015\n",
      "\tClassification Report:\n",
      "              precision    recall  f1-score   support\n",
      "\n",
      "   Left Hand       0.51      0.45      0.48       648\n",
      "  Right Hand       0.51      0.48      0.50       648\n",
      "        Foot       0.46      0.56      0.50       648\n",
      "      Tongue       0.54      0.52      0.53       648\n",
      "\n",
      "    accuracy                           0.50      2592\n",
      "   macro avg       0.50      0.50      0.50      2592\n",
      "weighted avg       0.50      0.50      0.50      2592\n",
      "\n"
     ]
    },
    {
     "name": "stderr",
     "output_type": "stream",
     "text": [
      "Training epoch [20/50]:   0%|          | 0/162 [00:00<?, ?batch/s]/opt/conda/lib/python3.10/site-packages/torch/nn/parallel/parallel_apply.py:79: FutureWarning: `torch.cuda.amp.autocast(args...)` is deprecated. Please use `torch.amp.autocast('cuda', args...)` instead.\n",
      "  with torch.cuda.device(device), torch.cuda.stream(stream), autocast(enabled=autocast_enabled):\n",
      "Training epoch [20/50]: 100%|██████████| 162/162 [00:02<00:00, 62.57batch/s]\n"
     ]
    },
    {
     "name": "stdout",
     "output_type": "stream",
     "text": [
      "\t---> Loss: 1.0080\n",
      "\t---> Accuracy: 0.5610\n"
     ]
    },
    {
     "name": "stderr",
     "output_type": "stream",
     "text": [
      "Evaluating:   0%|          | 0/162 [00:00<?, ?batch/s]/opt/conda/lib/python3.10/site-packages/torch/nn/parallel/parallel_apply.py:79: FutureWarning: `torch.cuda.amp.autocast(args...)` is deprecated. Please use `torch.amp.autocast('cuda', args...)` instead.\n",
      "  with torch.cuda.device(device), torch.cuda.stream(stream), autocast(enabled=autocast_enabled):\n",
      "Evaluating: 100%|██████████| 162/162 [00:01<00:00, 94.08batch/s]\n"
     ]
    },
    {
     "name": "stdout",
     "output_type": "stream",
     "text": [
      "\t---> Loss: 1.1527\n",
      "\t---> Accuracy: 0.5031\n",
      "\tClassification Report:\n",
      "              precision    recall  f1-score   support\n",
      "\n",
      "   Left Hand       0.55      0.40      0.47       648\n",
      "  Right Hand       0.46      0.57      0.51       648\n",
      "        Foot       0.50      0.48      0.49       648\n",
      "      Tongue       0.52      0.57      0.54       648\n",
      "\n",
      "    accuracy                           0.50      2592\n",
      "   macro avg       0.51      0.50      0.50      2592\n",
      "weighted avg       0.51      0.50      0.50      2592\n",
      "\n"
     ]
    },
    {
     "name": "stderr",
     "output_type": "stream",
     "text": [
      "Training epoch [21/50]:   0%|          | 0/162 [00:00<?, ?batch/s]/opt/conda/lib/python3.10/site-packages/torch/nn/parallel/parallel_apply.py:79: FutureWarning: `torch.cuda.amp.autocast(args...)` is deprecated. Please use `torch.amp.autocast('cuda', args...)` instead.\n",
      "  with torch.cuda.device(device), torch.cuda.stream(stream), autocast(enabled=autocast_enabled):\n",
      "Training epoch [21/50]: 100%|██████████| 162/162 [00:02<00:00, 62.01batch/s]\n"
     ]
    },
    {
     "name": "stdout",
     "output_type": "stream",
     "text": [
      "\t---> Loss: 1.0273\n",
      "\t---> Accuracy: 0.5671\n"
     ]
    },
    {
     "name": "stderr",
     "output_type": "stream",
     "text": [
      "Evaluating:   0%|          | 0/162 [00:00<?, ?batch/s]/opt/conda/lib/python3.10/site-packages/torch/nn/parallel/parallel_apply.py:79: FutureWarning: `torch.cuda.amp.autocast(args...)` is deprecated. Please use `torch.amp.autocast('cuda', args...)` instead.\n",
      "  with torch.cuda.device(device), torch.cuda.stream(stream), autocast(enabled=autocast_enabled):\n",
      "Evaluating: 100%|██████████| 162/162 [00:01<00:00, 97.64batch/s]\n"
     ]
    },
    {
     "name": "stdout",
     "output_type": "stream",
     "text": [
      "\t---> Loss: 1.1552\n",
      "\t---> Accuracy: 0.4985\n",
      "\tClassification Report:\n",
      "              precision    recall  f1-score   support\n",
      "\n",
      "   Left Hand       0.54      0.40      0.46       648\n",
      "  Right Hand       0.47      0.56      0.51       648\n",
      "        Foot       0.47      0.52      0.49       648\n",
      "      Tongue       0.54      0.51      0.53       648\n",
      "\n",
      "    accuracy                           0.50      2592\n",
      "   macro avg       0.50      0.50      0.50      2592\n",
      "weighted avg       0.50      0.50      0.50      2592\n",
      "\n"
     ]
    },
    {
     "name": "stderr",
     "output_type": "stream",
     "text": [
      "Training epoch [22/50]:   0%|          | 0/162 [00:00<?, ?batch/s]/opt/conda/lib/python3.10/site-packages/torch/nn/parallel/parallel_apply.py:79: FutureWarning: `torch.cuda.amp.autocast(args...)` is deprecated. Please use `torch.amp.autocast('cuda', args...)` instead.\n",
      "  with torch.cuda.device(device), torch.cuda.stream(stream), autocast(enabled=autocast_enabled):\n",
      "Training epoch [22/50]: 100%|██████████| 162/162 [00:02<00:00, 60.87batch/s]\n"
     ]
    },
    {
     "name": "stdout",
     "output_type": "stream",
     "text": [
      "\t---> Loss: 1.0101\n",
      "\t---> Accuracy: 0.5714\n"
     ]
    },
    {
     "name": "stderr",
     "output_type": "stream",
     "text": [
      "Evaluating:   0%|          | 0/162 [00:00<?, ?batch/s]/opt/conda/lib/python3.10/site-packages/torch/nn/parallel/parallel_apply.py:79: FutureWarning: `torch.cuda.amp.autocast(args...)` is deprecated. Please use `torch.amp.autocast('cuda', args...)` instead.\n",
      "  with torch.cuda.device(device), torch.cuda.stream(stream), autocast(enabled=autocast_enabled):\n",
      "Evaluating: 100%|██████████| 162/162 [00:01<00:00, 95.28batch/s]\n"
     ]
    },
    {
     "name": "stdout",
     "output_type": "stream",
     "text": [
      "\t---> Loss: 1.1600\n",
      "\t---> Accuracy: 0.4981\n",
      "\tClassification Report:\n",
      "              precision    recall  f1-score   support\n",
      "\n",
      "   Left Hand       0.54      0.41      0.46       648\n",
      "  Right Hand       0.49      0.52      0.50       648\n",
      "        Foot       0.45      0.57      0.51       648\n",
      "      Tongue       0.54      0.50      0.52       648\n",
      "\n",
      "    accuracy                           0.50      2592\n",
      "   macro avg       0.50      0.50      0.50      2592\n",
      "weighted avg       0.50      0.50      0.50      2592\n",
      "\n"
     ]
    },
    {
     "name": "stderr",
     "output_type": "stream",
     "text": [
      "Training epoch [23/50]:   0%|          | 0/162 [00:00<?, ?batch/s]/opt/conda/lib/python3.10/site-packages/torch/nn/parallel/parallel_apply.py:79: FutureWarning: `torch.cuda.amp.autocast(args...)` is deprecated. Please use `torch.amp.autocast('cuda', args...)` instead.\n",
      "  with torch.cuda.device(device), torch.cuda.stream(stream), autocast(enabled=autocast_enabled):\n",
      "Training epoch [23/50]: 100%|██████████| 162/162 [00:02<00:00, 56.51batch/s]\n"
     ]
    },
    {
     "name": "stdout",
     "output_type": "stream",
     "text": [
      "\t---> Loss: 1.0143\n",
      "\t---> Accuracy: 0.5745\n"
     ]
    },
    {
     "name": "stderr",
     "output_type": "stream",
     "text": [
      "Evaluating:   0%|          | 0/162 [00:00<?, ?batch/s]/opt/conda/lib/python3.10/site-packages/torch/nn/parallel/parallel_apply.py:79: FutureWarning: `torch.cuda.amp.autocast(args...)` is deprecated. Please use `torch.amp.autocast('cuda', args...)` instead.\n",
      "  with torch.cuda.device(device), torch.cuda.stream(stream), autocast(enabled=autocast_enabled):\n",
      "Evaluating: 100%|██████████| 162/162 [00:01<00:00, 95.76batch/s]\n"
     ]
    },
    {
     "name": "stdout",
     "output_type": "stream",
     "text": [
      "\t---> Loss: 1.1557\n",
      "\t---> Accuracy: 0.4958\n",
      "\tClassification Report:\n",
      "              precision    recall  f1-score   support\n",
      "\n",
      "   Left Hand       0.54      0.40      0.46       648\n",
      "  Right Hand       0.47      0.54      0.50       648\n",
      "        Foot       0.46      0.52      0.49       648\n",
      "      Tongue       0.54      0.52      0.53       648\n",
      "\n",
      "    accuracy                           0.50      2592\n",
      "   macro avg       0.50      0.50      0.49      2592\n",
      "weighted avg       0.50      0.50      0.49      2592\n",
      "\n"
     ]
    },
    {
     "name": "stderr",
     "output_type": "stream",
     "text": [
      "Training epoch [24/50]:   0%|          | 0/162 [00:00<?, ?batch/s]/opt/conda/lib/python3.10/site-packages/torch/nn/parallel/parallel_apply.py:79: FutureWarning: `torch.cuda.amp.autocast(args...)` is deprecated. Please use `torch.amp.autocast('cuda', args...)` instead.\n",
      "  with torch.cuda.device(device), torch.cuda.stream(stream), autocast(enabled=autocast_enabled):\n",
      "Training epoch [24/50]: 100%|██████████| 162/162 [00:02<00:00, 62.69batch/s]\n"
     ]
    },
    {
     "name": "stdout",
     "output_type": "stream",
     "text": [
      "\t---> Loss: 1.0046\n",
      "\t---> Accuracy: 0.5876\n"
     ]
    },
    {
     "name": "stderr",
     "output_type": "stream",
     "text": [
      "Evaluating:   0%|          | 0/162 [00:00<?, ?batch/s]/opt/conda/lib/python3.10/site-packages/torch/nn/parallel/parallel_apply.py:79: FutureWarning: `torch.cuda.amp.autocast(args...)` is deprecated. Please use `torch.amp.autocast('cuda', args...)` instead.\n",
      "  with torch.cuda.device(device), torch.cuda.stream(stream), autocast(enabled=autocast_enabled):\n",
      "Evaluating: 100%|██████████| 162/162 [00:01<00:00, 97.82batch/s] \n"
     ]
    },
    {
     "name": "stdout",
     "output_type": "stream",
     "text": [
      "\t---> Loss: 1.1627\n",
      "\t---> Accuracy: 0.4946\n",
      "\tClassification Report:\n",
      "              precision    recall  f1-score   support\n",
      "\n",
      "   Left Hand       0.53      0.39      0.45       648\n",
      "  Right Hand       0.46      0.57      0.51       648\n",
      "        Foot       0.46      0.54      0.49       648\n",
      "      Tongue       0.56      0.48      0.52       648\n",
      "\n",
      "    accuracy                           0.49      2592\n",
      "   macro avg       0.50      0.49      0.49      2592\n",
      "weighted avg       0.50      0.49      0.49      2592\n",
      "\n"
     ]
    },
    {
     "name": "stderr",
     "output_type": "stream",
     "text": [
      "Training epoch [25/50]:   0%|          | 0/162 [00:00<?, ?batch/s]/opt/conda/lib/python3.10/site-packages/torch/nn/parallel/parallel_apply.py:79: FutureWarning: `torch.cuda.amp.autocast(args...)` is deprecated. Please use `torch.amp.autocast('cuda', args...)` instead.\n",
      "  with torch.cuda.device(device), torch.cuda.stream(stream), autocast(enabled=autocast_enabled):\n",
      "Training epoch [25/50]: 100%|██████████| 162/162 [00:02<00:00, 61.04batch/s]\n"
     ]
    },
    {
     "name": "stdout",
     "output_type": "stream",
     "text": [
      "\t---> Loss: 1.0106\n",
      "\t---> Accuracy: 0.5810\n"
     ]
    },
    {
     "name": "stderr",
     "output_type": "stream",
     "text": [
      "Evaluating:   0%|          | 0/162 [00:00<?, ?batch/s]/opt/conda/lib/python3.10/site-packages/torch/nn/parallel/parallel_apply.py:79: FutureWarning: `torch.cuda.amp.autocast(args...)` is deprecated. Please use `torch.amp.autocast('cuda', args...)` instead.\n",
      "  with torch.cuda.device(device), torch.cuda.stream(stream), autocast(enabled=autocast_enabled):\n",
      "Evaluating: 100%|██████████| 162/162 [00:01<00:00, 94.57batch/s]\n"
     ]
    },
    {
     "name": "stdout",
     "output_type": "stream",
     "text": [
      "\t---> Loss: 1.1579\n",
      "\t---> Accuracy: 0.4958\n",
      "\tClassification Report:\n",
      "              precision    recall  f1-score   support\n",
      "\n",
      "   Left Hand       0.54      0.40      0.46       648\n",
      "  Right Hand       0.49      0.50      0.50       648\n",
      "        Foot       0.44      0.59      0.51       648\n",
      "      Tongue       0.54      0.49      0.51       648\n",
      "\n",
      "    accuracy                           0.50      2592\n",
      "   macro avg       0.50      0.50      0.49      2592\n",
      "weighted avg       0.50      0.50      0.49      2592\n",
      "\n"
     ]
    },
    {
     "name": "stderr",
     "output_type": "stream",
     "text": [
      "Training epoch [26/50]:   0%|          | 0/162 [00:00<?, ?batch/s]/opt/conda/lib/python3.10/site-packages/torch/nn/parallel/parallel_apply.py:79: FutureWarning: `torch.cuda.amp.autocast(args...)` is deprecated. Please use `torch.amp.autocast('cuda', args...)` instead.\n",
      "  with torch.cuda.device(device), torch.cuda.stream(stream), autocast(enabled=autocast_enabled):\n",
      "Training epoch [26/50]: 100%|██████████| 162/162 [00:02<00:00, 61.72batch/s]\n"
     ]
    },
    {
     "name": "stdout",
     "output_type": "stream",
     "text": [
      "\t---> Loss: 1.0201\n",
      "\t---> Accuracy: 0.5571\n"
     ]
    },
    {
     "name": "stderr",
     "output_type": "stream",
     "text": [
      "Evaluating:   0%|          | 0/162 [00:00<?, ?batch/s]/opt/conda/lib/python3.10/site-packages/torch/nn/parallel/parallel_apply.py:79: FutureWarning: `torch.cuda.amp.autocast(args...)` is deprecated. Please use `torch.amp.autocast('cuda', args...)` instead.\n",
      "  with torch.cuda.device(device), torch.cuda.stream(stream), autocast(enabled=autocast_enabled):\n",
      "Evaluating: 100%|██████████| 162/162 [00:01<00:00, 95.77batch/s]\n"
     ]
    },
    {
     "name": "stdout",
     "output_type": "stream",
     "text": [
      "\t---> Loss: 1.1611\n",
      "\t---> Accuracy: 0.4992\n",
      "\tClassification Report:\n",
      "              precision    recall  f1-score   support\n",
      "\n",
      "   Left Hand       0.56      0.37      0.44       648\n",
      "  Right Hand       0.49      0.53      0.51       648\n",
      "        Foot       0.45      0.57      0.51       648\n",
      "      Tongue       0.53      0.52      0.53       648\n",
      "\n",
      "    accuracy                           0.50      2592\n",
      "   macro avg       0.51      0.50      0.50      2592\n",
      "weighted avg       0.51      0.50      0.50      2592\n",
      "\n"
     ]
    },
    {
     "name": "stderr",
     "output_type": "stream",
     "text": [
      "Training epoch [27/50]:   0%|          | 0/162 [00:00<?, ?batch/s]/opt/conda/lib/python3.10/site-packages/torch/nn/parallel/parallel_apply.py:79: FutureWarning: `torch.cuda.amp.autocast(args...)` is deprecated. Please use `torch.amp.autocast('cuda', args...)` instead.\n",
      "  with torch.cuda.device(device), torch.cuda.stream(stream), autocast(enabled=autocast_enabled):\n",
      "Training epoch [27/50]: 100%|██████████| 162/162 [00:02<00:00, 61.99batch/s]\n"
     ]
    },
    {
     "name": "stdout",
     "output_type": "stream",
     "text": [
      "\t---> Loss: 1.0275\n",
      "\t---> Accuracy: 0.5671\n"
     ]
    },
    {
     "name": "stderr",
     "output_type": "stream",
     "text": [
      "Evaluating:   0%|          | 0/162 [00:00<?, ?batch/s]/opt/conda/lib/python3.10/site-packages/torch/nn/parallel/parallel_apply.py:79: FutureWarning: `torch.cuda.amp.autocast(args...)` is deprecated. Please use `torch.amp.autocast('cuda', args...)` instead.\n",
      "  with torch.cuda.device(device), torch.cuda.stream(stream), autocast(enabled=autocast_enabled):\n",
      "Evaluating: 100%|██████████| 162/162 [00:01<00:00, 95.22batch/s]\n"
     ]
    },
    {
     "name": "stdout",
     "output_type": "stream",
     "text": [
      "\t---> Loss: 1.1535\n",
      "\t---> Accuracy: 0.5035\n",
      "\tClassification Report:\n",
      "              precision    recall  f1-score   support\n",
      "\n",
      "   Left Hand       0.54      0.42      0.47       648\n",
      "  Right Hand       0.50      0.51      0.50       648\n",
      "        Foot       0.46      0.54      0.50       648\n",
      "      Tongue       0.52      0.54      0.53       648\n",
      "\n",
      "    accuracy                           0.50      2592\n",
      "   macro avg       0.51      0.50      0.50      2592\n",
      "weighted avg       0.51      0.50      0.50      2592\n",
      "\n"
     ]
    },
    {
     "name": "stderr",
     "output_type": "stream",
     "text": [
      "Training epoch [28/50]:   0%|          | 0/162 [00:00<?, ?batch/s]/opt/conda/lib/python3.10/site-packages/torch/nn/parallel/parallel_apply.py:79: FutureWarning: `torch.cuda.amp.autocast(args...)` is deprecated. Please use `torch.amp.autocast('cuda', args...)` instead.\n",
      "  with torch.cuda.device(device), torch.cuda.stream(stream), autocast(enabled=autocast_enabled):\n",
      "Training epoch [28/50]: 100%|██████████| 162/162 [00:02<00:00, 62.01batch/s]\n"
     ]
    },
    {
     "name": "stdout",
     "output_type": "stream",
     "text": [
      "\t---> Loss: 1.0258\n",
      "\t---> Accuracy: 0.5644\n"
     ]
    },
    {
     "name": "stderr",
     "output_type": "stream",
     "text": [
      "Evaluating:   0%|          | 0/162 [00:00<?, ?batch/s]/opt/conda/lib/python3.10/site-packages/torch/nn/parallel/parallel_apply.py:79: FutureWarning: `torch.cuda.amp.autocast(args...)` is deprecated. Please use `torch.amp.autocast('cuda', args...)` instead.\n",
      "  with torch.cuda.device(device), torch.cuda.stream(stream), autocast(enabled=autocast_enabled):\n",
      "Evaluating: 100%|██████████| 162/162 [00:01<00:00, 97.41batch/s] \n"
     ]
    },
    {
     "name": "stdout",
     "output_type": "stream",
     "text": [
      "\t---> Loss: 1.1708\n",
      "\t---> Accuracy: 0.4946\n",
      "\tClassification Report:\n",
      "              precision    recall  f1-score   support\n",
      "\n",
      "   Left Hand       0.55      0.37      0.44       648\n",
      "  Right Hand       0.46      0.58      0.52       648\n",
      "        Foot       0.45      0.56      0.50       648\n",
      "      Tongue       0.56      0.46      0.51       648\n",
      "\n",
      "    accuracy                           0.49      2592\n",
      "   macro avg       0.51      0.49      0.49      2592\n",
      "weighted avg       0.51      0.49      0.49      2592\n",
      "\n"
     ]
    },
    {
     "name": "stderr",
     "output_type": "stream",
     "text": [
      "Training epoch [29/50]:   0%|          | 0/162 [00:00<?, ?batch/s]/opt/conda/lib/python3.10/site-packages/torch/nn/parallel/parallel_apply.py:79: FutureWarning: `torch.cuda.amp.autocast(args...)` is deprecated. Please use `torch.amp.autocast('cuda', args...)` instead.\n",
      "  with torch.cuda.device(device), torch.cuda.stream(stream), autocast(enabled=autocast_enabled):\n",
      "Training epoch [29/50]: 100%|██████████| 162/162 [00:02<00:00, 62.72batch/s]\n"
     ]
    },
    {
     "name": "stdout",
     "output_type": "stream",
     "text": [
      "\t---> Loss: 1.0005\n",
      "\t---> Accuracy: 0.5787\n"
     ]
    },
    {
     "name": "stderr",
     "output_type": "stream",
     "text": [
      "Evaluating:   0%|          | 0/162 [00:00<?, ?batch/s]/opt/conda/lib/python3.10/site-packages/torch/nn/parallel/parallel_apply.py:79: FutureWarning: `torch.cuda.amp.autocast(args...)` is deprecated. Please use `torch.amp.autocast('cuda', args...)` instead.\n",
      "  with torch.cuda.device(device), torch.cuda.stream(stream), autocast(enabled=autocast_enabled):\n",
      "Evaluating: 100%|██████████| 162/162 [00:01<00:00, 96.15batch/s]\n"
     ]
    },
    {
     "name": "stdout",
     "output_type": "stream",
     "text": [
      "\t---> Loss: 1.1676\n",
      "\t---> Accuracy: 0.4992\n",
      "\tClassification Report:\n",
      "              precision    recall  f1-score   support\n",
      "\n",
      "   Left Hand       0.58      0.36      0.44       648\n",
      "  Right Hand       0.48      0.55      0.51       648\n",
      "        Foot       0.45      0.59      0.51       648\n",
      "      Tongue       0.54      0.50      0.52       648\n",
      "\n",
      "    accuracy                           0.50      2592\n",
      "   macro avg       0.51      0.50      0.50      2592\n",
      "weighted avg       0.51      0.50      0.50      2592\n",
      "\n"
     ]
    },
    {
     "name": "stderr",
     "output_type": "stream",
     "text": [
      "Training epoch [30/50]:   0%|          | 0/162 [00:00<?, ?batch/s]/opt/conda/lib/python3.10/site-packages/torch/nn/parallel/parallel_apply.py:79: FutureWarning: `torch.cuda.amp.autocast(args...)` is deprecated. Please use `torch.amp.autocast('cuda', args...)` instead.\n",
      "  with torch.cuda.device(device), torch.cuda.stream(stream), autocast(enabled=autocast_enabled):\n",
      "Training epoch [30/50]: 100%|██████████| 162/162 [00:02<00:00, 58.04batch/s]\n"
     ]
    },
    {
     "name": "stdout",
     "output_type": "stream",
     "text": [
      "\t---> Loss: 1.0009\n",
      "\t---> Accuracy: 0.5748\n"
     ]
    },
    {
     "name": "stderr",
     "output_type": "stream",
     "text": [
      "Evaluating:   0%|          | 0/162 [00:00<?, ?batch/s]/opt/conda/lib/python3.10/site-packages/torch/nn/parallel/parallel_apply.py:79: FutureWarning: `torch.cuda.amp.autocast(args...)` is deprecated. Please use `torch.amp.autocast('cuda', args...)` instead.\n",
      "  with torch.cuda.device(device), torch.cuda.stream(stream), autocast(enabled=autocast_enabled):\n",
      "Evaluating: 100%|██████████| 162/162 [00:01<00:00, 94.67batch/s]\n"
     ]
    },
    {
     "name": "stdout",
     "output_type": "stream",
     "text": [
      "\t---> Loss: 1.1454\n",
      "\t---> Accuracy: 0.5027\n",
      "\tClassification Report:\n",
      "              precision    recall  f1-score   support\n",
      "\n",
      "   Left Hand       0.51      0.47      0.49       648\n",
      "  Right Hand       0.50      0.48      0.49       648\n",
      "        Foot       0.47      0.53      0.50       648\n",
      "      Tongue       0.53      0.54      0.53       648\n",
      "\n",
      "    accuracy                           0.50      2592\n",
      "   macro avg       0.50      0.50      0.50      2592\n",
      "weighted avg       0.50      0.50      0.50      2592\n",
      "\n"
     ]
    },
    {
     "name": "stderr",
     "output_type": "stream",
     "text": [
      "Training epoch [31/50]:   0%|          | 0/162 [00:00<?, ?batch/s]/opt/conda/lib/python3.10/site-packages/torch/nn/parallel/parallel_apply.py:79: FutureWarning: `torch.cuda.amp.autocast(args...)` is deprecated. Please use `torch.amp.autocast('cuda', args...)` instead.\n",
      "  with torch.cuda.device(device), torch.cuda.stream(stream), autocast(enabled=autocast_enabled):\n",
      "Training epoch [31/50]: 100%|██████████| 162/162 [00:02<00:00, 62.12batch/s]\n"
     ]
    },
    {
     "name": "stdout",
     "output_type": "stream",
     "text": [
      "\t---> Loss: 1.0178\n",
      "\t---> Accuracy: 0.5694\n"
     ]
    },
    {
     "name": "stderr",
     "output_type": "stream",
     "text": [
      "Evaluating:   0%|          | 0/162 [00:00<?, ?batch/s]/opt/conda/lib/python3.10/site-packages/torch/nn/parallel/parallel_apply.py:79: FutureWarning: `torch.cuda.amp.autocast(args...)` is deprecated. Please use `torch.amp.autocast('cuda', args...)` instead.\n",
      "  with torch.cuda.device(device), torch.cuda.stream(stream), autocast(enabled=autocast_enabled):\n",
      "Evaluating: 100%|██████████| 162/162 [00:01<00:00, 96.79batch/s]\n"
     ]
    },
    {
     "name": "stdout",
     "output_type": "stream",
     "text": [
      "\t---> Loss: 1.1466\n",
      "\t---> Accuracy: 0.5008\n",
      "\tClassification Report:\n",
      "              precision    recall  f1-score   support\n",
      "\n",
      "   Left Hand       0.53      0.42      0.47       648\n",
      "  Right Hand       0.49      0.51      0.50       648\n",
      "        Foot       0.47      0.50      0.49       648\n",
      "      Tongue       0.52      0.57      0.54       648\n",
      "\n",
      "    accuracy                           0.50      2592\n",
      "   macro avg       0.50      0.50      0.50      2592\n",
      "weighted avg       0.50      0.50      0.50      2592\n",
      "\n"
     ]
    },
    {
     "name": "stderr",
     "output_type": "stream",
     "text": [
      "Training epoch [32/50]:   0%|          | 0/162 [00:00<?, ?batch/s]/opt/conda/lib/python3.10/site-packages/torch/nn/parallel/parallel_apply.py:79: FutureWarning: `torch.cuda.amp.autocast(args...)` is deprecated. Please use `torch.amp.autocast('cuda', args...)` instead.\n",
      "  with torch.cuda.device(device), torch.cuda.stream(stream), autocast(enabled=autocast_enabled):\n",
      "Training epoch [32/50]: 100%|██████████| 162/162 [00:02<00:00, 62.67batch/s]\n"
     ]
    },
    {
     "name": "stdout",
     "output_type": "stream",
     "text": [
      "\t---> Loss: 0.9975\n",
      "\t---> Accuracy: 0.5849\n"
     ]
    },
    {
     "name": "stderr",
     "output_type": "stream",
     "text": [
      "Evaluating:   0%|          | 0/162 [00:00<?, ?batch/s]/opt/conda/lib/python3.10/site-packages/torch/nn/parallel/parallel_apply.py:79: FutureWarning: `torch.cuda.amp.autocast(args...)` is deprecated. Please use `torch.amp.autocast('cuda', args...)` instead.\n",
      "  with torch.cuda.device(device), torch.cuda.stream(stream), autocast(enabled=autocast_enabled):\n",
      "Evaluating: 100%|██████████| 162/162 [00:01<00:00, 95.81batch/s]\n"
     ]
    },
    {
     "name": "stdout",
     "output_type": "stream",
     "text": [
      "\t---> Loss: 1.1573\n",
      "\t---> Accuracy: 0.4954\n",
      "\tClassification Report:\n",
      "              precision    recall  f1-score   support\n",
      "\n",
      "   Left Hand       0.53      0.40      0.45       648\n",
      "  Right Hand       0.48      0.53      0.50       648\n",
      "        Foot       0.45      0.57      0.50       648\n",
      "      Tongue       0.55      0.49      0.52       648\n",
      "\n",
      "    accuracy                           0.50      2592\n",
      "   macro avg       0.50      0.50      0.49      2592\n",
      "weighted avg       0.50      0.50      0.49      2592\n",
      "\n"
     ]
    },
    {
     "name": "stderr",
     "output_type": "stream",
     "text": [
      "Training epoch [33/50]:   0%|          | 0/162 [00:00<?, ?batch/s]/opt/conda/lib/python3.10/site-packages/torch/nn/parallel/parallel_apply.py:79: FutureWarning: `torch.cuda.amp.autocast(args...)` is deprecated. Please use `torch.amp.autocast('cuda', args...)` instead.\n",
      "  with torch.cuda.device(device), torch.cuda.stream(stream), autocast(enabled=autocast_enabled):\n",
      "Training epoch [33/50]: 100%|██████████| 162/162 [00:02<00:00, 60.87batch/s]\n"
     ]
    },
    {
     "name": "stdout",
     "output_type": "stream",
     "text": [
      "\t---> Loss: 1.0027\n",
      "\t---> Accuracy: 0.5810\n"
     ]
    },
    {
     "name": "stderr",
     "output_type": "stream",
     "text": [
      "Evaluating:   0%|          | 0/162 [00:00<?, ?batch/s]/opt/conda/lib/python3.10/site-packages/torch/nn/parallel/parallel_apply.py:79: FutureWarning: `torch.cuda.amp.autocast(args...)` is deprecated. Please use `torch.amp.autocast('cuda', args...)` instead.\n",
      "  with torch.cuda.device(device), torch.cuda.stream(stream), autocast(enabled=autocast_enabled):\n",
      "Evaluating: 100%|██████████| 162/162 [00:01<00:00, 95.40batch/s] \n"
     ]
    },
    {
     "name": "stdout",
     "output_type": "stream",
     "text": [
      "\t---> Loss: 1.1445\n",
      "\t---> Accuracy: 0.5015\n",
      "\tClassification Report:\n",
      "              precision    recall  f1-score   support\n",
      "\n",
      "   Left Hand       0.52      0.45      0.48       648\n",
      "  Right Hand       0.48      0.53      0.50       648\n",
      "        Foot       0.49      0.49      0.49       648\n",
      "      Tongue       0.53      0.53      0.53       648\n",
      "\n",
      "    accuracy                           0.50      2592\n",
      "   macro avg       0.50      0.50      0.50      2592\n",
      "weighted avg       0.50      0.50      0.50      2592\n",
      "\n"
     ]
    },
    {
     "name": "stderr",
     "output_type": "stream",
     "text": [
      "Training epoch [34/50]:   0%|          | 0/162 [00:00<?, ?batch/s]/opt/conda/lib/python3.10/site-packages/torch/nn/parallel/parallel_apply.py:79: FutureWarning: `torch.cuda.amp.autocast(args...)` is deprecated. Please use `torch.amp.autocast('cuda', args...)` instead.\n",
      "  with torch.cuda.device(device), torch.cuda.stream(stream), autocast(enabled=autocast_enabled):\n",
      "Training epoch [34/50]: 100%|██████████| 162/162 [00:02<00:00, 61.57batch/s]\n"
     ]
    },
    {
     "name": "stdout",
     "output_type": "stream",
     "text": [
      "\t---> Loss: 1.0242\n",
      "\t---> Accuracy: 0.5752\n"
     ]
    },
    {
     "name": "stderr",
     "output_type": "stream",
     "text": [
      "Evaluating:   0%|          | 0/162 [00:00<?, ?batch/s]/opt/conda/lib/python3.10/site-packages/torch/nn/parallel/parallel_apply.py:79: FutureWarning: `torch.cuda.amp.autocast(args...)` is deprecated. Please use `torch.amp.autocast('cuda', args...)` instead.\n",
      "  with torch.cuda.device(device), torch.cuda.stream(stream), autocast(enabled=autocast_enabled):\n",
      "Evaluating: 100%|██████████| 162/162 [00:01<00:00, 96.64batch/s]\n"
     ]
    },
    {
     "name": "stdout",
     "output_type": "stream",
     "text": [
      "\t---> Loss: 1.1499\n",
      "\t---> Accuracy: 0.4977\n",
      "\tClassification Report:\n",
      "              precision    recall  f1-score   support\n",
      "\n",
      "   Left Hand       0.52      0.44      0.48       648\n",
      "  Right Hand       0.48      0.52      0.50       648\n",
      "        Foot       0.48      0.50      0.49       648\n",
      "      Tongue       0.52      0.54      0.53       648\n",
      "\n",
      "    accuracy                           0.50      2592\n",
      "   macro avg       0.50      0.50      0.50      2592\n",
      "weighted avg       0.50      0.50      0.50      2592\n",
      "\n"
     ]
    },
    {
     "name": "stderr",
     "output_type": "stream",
     "text": [
      "Training epoch [35/50]:   0%|          | 0/162 [00:00<?, ?batch/s]/opt/conda/lib/python3.10/site-packages/torch/nn/parallel/parallel_apply.py:79: FutureWarning: `torch.cuda.amp.autocast(args...)` is deprecated. Please use `torch.amp.autocast('cuda', args...)` instead.\n",
      "  with torch.cuda.device(device), torch.cuda.stream(stream), autocast(enabled=autocast_enabled):\n",
      "Training epoch [35/50]: 100%|██████████| 162/162 [00:02<00:00, 60.83batch/s]\n"
     ]
    },
    {
     "name": "stdout",
     "output_type": "stream",
     "text": [
      "\t---> Loss: 1.0245\n",
      "\t---> Accuracy: 0.5660\n"
     ]
    },
    {
     "name": "stderr",
     "output_type": "stream",
     "text": [
      "Evaluating:   0%|          | 0/162 [00:00<?, ?batch/s]/opt/conda/lib/python3.10/site-packages/torch/nn/parallel/parallel_apply.py:79: FutureWarning: `torch.cuda.amp.autocast(args...)` is deprecated. Please use `torch.amp.autocast('cuda', args...)` instead.\n",
      "  with torch.cuda.device(device), torch.cuda.stream(stream), autocast(enabled=autocast_enabled):\n",
      "Evaluating: 100%|██████████| 162/162 [00:01<00:00, 98.84batch/s] \n"
     ]
    },
    {
     "name": "stdout",
     "output_type": "stream",
     "text": [
      "\t---> Loss: 1.1485\n",
      "\t---> Accuracy: 0.5046\n",
      "\tClassification Report:\n",
      "              precision    recall  f1-score   support\n",
      "\n",
      "   Left Hand       0.52      0.44      0.47       648\n",
      "  Right Hand       0.49      0.52      0.50       648\n",
      "        Foot       0.49      0.49      0.49       648\n",
      "      Tongue       0.52      0.57      0.54       648\n",
      "\n",
      "    accuracy                           0.50      2592\n",
      "   macro avg       0.51      0.50      0.50      2592\n",
      "weighted avg       0.51      0.50      0.50      2592\n",
      "\n"
     ]
    },
    {
     "name": "stderr",
     "output_type": "stream",
     "text": [
      "Training epoch [36/50]:   0%|          | 0/162 [00:00<?, ?batch/s]/opt/conda/lib/python3.10/site-packages/torch/nn/parallel/parallel_apply.py:79: FutureWarning: `torch.cuda.amp.autocast(args...)` is deprecated. Please use `torch.amp.autocast('cuda', args...)` instead.\n",
      "  with torch.cuda.device(device), torch.cuda.stream(stream), autocast(enabled=autocast_enabled):\n",
      "Training epoch [36/50]: 100%|██████████| 162/162 [00:02<00:00, 62.25batch/s]\n"
     ]
    },
    {
     "name": "stdout",
     "output_type": "stream",
     "text": [
      "\t---> Loss: 1.0145\n",
      "\t---> Accuracy: 0.5729\n"
     ]
    },
    {
     "name": "stderr",
     "output_type": "stream",
     "text": [
      "Evaluating:   0%|          | 0/162 [00:00<?, ?batch/s]/opt/conda/lib/python3.10/site-packages/torch/nn/parallel/parallel_apply.py:79: FutureWarning: `torch.cuda.amp.autocast(args...)` is deprecated. Please use `torch.amp.autocast('cuda', args...)` instead.\n",
      "  with torch.cuda.device(device), torch.cuda.stream(stream), autocast(enabled=autocast_enabled):\n",
      "Evaluating: 100%|██████████| 162/162 [00:01<00:00, 98.06batch/s] \n"
     ]
    },
    {
     "name": "stdout",
     "output_type": "stream",
     "text": [
      "\t---> Loss: 1.1463\n",
      "\t---> Accuracy: 0.4961\n",
      "\tClassification Report:\n",
      "              precision    recall  f1-score   support\n",
      "\n",
      "   Left Hand       0.52      0.44      0.47       648\n",
      "  Right Hand       0.48      0.51      0.50       648\n",
      "        Foot       0.46      0.55      0.50       648\n",
      "      Tongue       0.54      0.48      0.51       648\n",
      "\n",
      "    accuracy                           0.50      2592\n",
      "   macro avg       0.50      0.50      0.50      2592\n",
      "weighted avg       0.50      0.50      0.50      2592\n",
      "\n"
     ]
    },
    {
     "name": "stderr",
     "output_type": "stream",
     "text": [
      "Training epoch [37/50]:   0%|          | 0/162 [00:00<?, ?batch/s]/opt/conda/lib/python3.10/site-packages/torch/nn/parallel/parallel_apply.py:79: FutureWarning: `torch.cuda.amp.autocast(args...)` is deprecated. Please use `torch.amp.autocast('cuda', args...)` instead.\n",
      "  with torch.cuda.device(device), torch.cuda.stream(stream), autocast(enabled=autocast_enabled):\n",
      "Training epoch [37/50]: 100%|██████████| 162/162 [00:02<00:00, 61.74batch/s]\n"
     ]
    },
    {
     "name": "stdout",
     "output_type": "stream",
     "text": [
      "\t---> Loss: 1.0151\n",
      "\t---> Accuracy: 0.5667\n"
     ]
    },
    {
     "name": "stderr",
     "output_type": "stream",
     "text": [
      "Evaluating:   0%|          | 0/162 [00:00<?, ?batch/s]/opt/conda/lib/python3.10/site-packages/torch/nn/parallel/parallel_apply.py:79: FutureWarning: `torch.cuda.amp.autocast(args...)` is deprecated. Please use `torch.amp.autocast('cuda', args...)` instead.\n",
      "  with torch.cuda.device(device), torch.cuda.stream(stream), autocast(enabled=autocast_enabled):\n",
      "Evaluating: 100%|██████████| 162/162 [00:01<00:00, 88.05batch/s]\n"
     ]
    },
    {
     "name": "stdout",
     "output_type": "stream",
     "text": [
      "\t---> Loss: 1.1504\n",
      "\t---> Accuracy: 0.5015\n",
      "\tClassification Report:\n",
      "              precision    recall  f1-score   support\n",
      "\n",
      "   Left Hand       0.52      0.43      0.47       648\n",
      "  Right Hand       0.49      0.52      0.50       648\n",
      "        Foot       0.49      0.49      0.49       648\n",
      "      Tongue       0.51      0.57      0.54       648\n",
      "\n",
      "    accuracy                           0.50      2592\n",
      "   macro avg       0.50      0.50      0.50      2592\n",
      "weighted avg       0.50      0.50      0.50      2592\n",
      "\n"
     ]
    },
    {
     "name": "stderr",
     "output_type": "stream",
     "text": [
      "Training epoch [38/50]:   0%|          | 0/162 [00:00<?, ?batch/s]/opt/conda/lib/python3.10/site-packages/torch/nn/parallel/parallel_apply.py:79: FutureWarning: `torch.cuda.amp.autocast(args...)` is deprecated. Please use `torch.amp.autocast('cuda', args...)` instead.\n",
      "  with torch.cuda.device(device), torch.cuda.stream(stream), autocast(enabled=autocast_enabled):\n",
      "Training epoch [38/50]: 100%|██████████| 162/162 [00:02<00:00, 61.36batch/s]\n"
     ]
    },
    {
     "name": "stdout",
     "output_type": "stream",
     "text": [
      "\t---> Loss: 1.0076\n",
      "\t---> Accuracy: 0.5764\n"
     ]
    },
    {
     "name": "stderr",
     "output_type": "stream",
     "text": [
      "Evaluating:   0%|          | 0/162 [00:00<?, ?batch/s]/opt/conda/lib/python3.10/site-packages/torch/nn/parallel/parallel_apply.py:79: FutureWarning: `torch.cuda.amp.autocast(args...)` is deprecated. Please use `torch.amp.autocast('cuda', args...)` instead.\n",
      "  with torch.cuda.device(device), torch.cuda.stream(stream), autocast(enabled=autocast_enabled):\n",
      "Evaluating: 100%|██████████| 162/162 [00:01<00:00, 95.30batch/s]\n"
     ]
    },
    {
     "name": "stdout",
     "output_type": "stream",
     "text": [
      "\t---> Loss: 1.1530\n",
      "\t---> Accuracy: 0.5000\n",
      "\tClassification Report:\n",
      "              precision    recall  f1-score   support\n",
      "\n",
      "   Left Hand       0.53      0.42      0.47       648\n",
      "  Right Hand       0.51      0.47      0.49       648\n",
      "        Foot       0.46      0.56      0.50       648\n",
      "      Tongue       0.52      0.56      0.54       648\n",
      "\n",
      "    accuracy                           0.50      2592\n",
      "   macro avg       0.50      0.50      0.50      2592\n",
      "weighted avg       0.50      0.50      0.50      2592\n",
      "\n"
     ]
    },
    {
     "name": "stderr",
     "output_type": "stream",
     "text": [
      "Training epoch [39/50]:   0%|          | 0/162 [00:00<?, ?batch/s]/opt/conda/lib/python3.10/site-packages/torch/nn/parallel/parallel_apply.py:79: FutureWarning: `torch.cuda.amp.autocast(args...)` is deprecated. Please use `torch.amp.autocast('cuda', args...)` instead.\n",
      "  with torch.cuda.device(device), torch.cuda.stream(stream), autocast(enabled=autocast_enabled):\n",
      "Training epoch [39/50]: 100%|██████████| 162/162 [00:02<00:00, 62.58batch/s]\n"
     ]
    },
    {
     "name": "stdout",
     "output_type": "stream",
     "text": [
      "\t---> Loss: 1.0136\n",
      "\t---> Accuracy: 0.5752\n"
     ]
    },
    {
     "name": "stderr",
     "output_type": "stream",
     "text": [
      "Evaluating:   0%|          | 0/162 [00:00<?, ?batch/s]/opt/conda/lib/python3.10/site-packages/torch/nn/parallel/parallel_apply.py:79: FutureWarning: `torch.cuda.amp.autocast(args...)` is deprecated. Please use `torch.amp.autocast('cuda', args...)` instead.\n",
      "  with torch.cuda.device(device), torch.cuda.stream(stream), autocast(enabled=autocast_enabled):\n",
      "Evaluating: 100%|██████████| 162/162 [00:01<00:00, 93.60batch/s]\n"
     ]
    },
    {
     "name": "stdout",
     "output_type": "stream",
     "text": [
      "\t---> Loss: 1.1445\n",
      "\t---> Accuracy: 0.5004\n",
      "\tClassification Report:\n",
      "              precision    recall  f1-score   support\n",
      "\n",
      "   Left Hand       0.54      0.41      0.47       648\n",
      "  Right Hand       0.48      0.54      0.51       648\n",
      "        Foot       0.48      0.49      0.48       648\n",
      "      Tongue       0.52      0.57      0.54       648\n",
      "\n",
      "    accuracy                           0.50      2592\n",
      "   macro avg       0.50      0.50      0.50      2592\n",
      "weighted avg       0.50      0.50      0.50      2592\n",
      "\n"
     ]
    },
    {
     "name": "stderr",
     "output_type": "stream",
     "text": [
      "Training epoch [40/50]:   0%|          | 0/162 [00:00<?, ?batch/s]/opt/conda/lib/python3.10/site-packages/torch/nn/parallel/parallel_apply.py:79: FutureWarning: `torch.cuda.amp.autocast(args...)` is deprecated. Please use `torch.amp.autocast('cuda', args...)` instead.\n",
      "  with torch.cuda.device(device), torch.cuda.stream(stream), autocast(enabled=autocast_enabled):\n",
      "Training epoch [40/50]: 100%|██████████| 162/162 [00:02<00:00, 62.95batch/s]\n"
     ]
    },
    {
     "name": "stdout",
     "output_type": "stream",
     "text": [
      "\t---> Loss: 1.0099\n",
      "\t---> Accuracy: 0.5783\n"
     ]
    },
    {
     "name": "stderr",
     "output_type": "stream",
     "text": [
      "Evaluating:   0%|          | 0/162 [00:00<?, ?batch/s]/opt/conda/lib/python3.10/site-packages/torch/nn/parallel/parallel_apply.py:79: FutureWarning: `torch.cuda.amp.autocast(args...)` is deprecated. Please use `torch.amp.autocast('cuda', args...)` instead.\n",
      "  with torch.cuda.device(device), torch.cuda.stream(stream), autocast(enabled=autocast_enabled):\n",
      "Evaluating: 100%|██████████| 162/162 [00:01<00:00, 97.38batch/s]\n"
     ]
    },
    {
     "name": "stdout",
     "output_type": "stream",
     "text": [
      "\t---> Loss: 1.1491\n",
      "\t---> Accuracy: 0.5031\n",
      "\tClassification Report:\n",
      "              precision    recall  f1-score   support\n",
      "\n",
      "   Left Hand       0.49      0.49      0.49       648\n",
      "  Right Hand       0.53      0.44      0.48       648\n",
      "        Foot       0.46      0.55      0.50       648\n",
      "      Tongue       0.54      0.53      0.53       648\n",
      "\n",
      "    accuracy                           0.50      2592\n",
      "   macro avg       0.51      0.50      0.50      2592\n",
      "weighted avg       0.51      0.50      0.50      2592\n",
      "\n"
     ]
    },
    {
     "name": "stderr",
     "output_type": "stream",
     "text": [
      "Training epoch [41/50]:   0%|          | 0/162 [00:00<?, ?batch/s]/opt/conda/lib/python3.10/site-packages/torch/nn/parallel/parallel_apply.py:79: FutureWarning: `torch.cuda.amp.autocast(args...)` is deprecated. Please use `torch.amp.autocast('cuda', args...)` instead.\n",
      "  with torch.cuda.device(device), torch.cuda.stream(stream), autocast(enabled=autocast_enabled):\n",
      "Training epoch [41/50]: 100%|██████████| 162/162 [00:02<00:00, 61.61batch/s]\n"
     ]
    },
    {
     "name": "stdout",
     "output_type": "stream",
     "text": [
      "\t---> Loss: 1.0180\n",
      "\t---> Accuracy: 0.5640\n"
     ]
    },
    {
     "name": "stderr",
     "output_type": "stream",
     "text": [
      "Evaluating:   0%|          | 0/162 [00:00<?, ?batch/s]/opt/conda/lib/python3.10/site-packages/torch/nn/parallel/parallel_apply.py:79: FutureWarning: `torch.cuda.amp.autocast(args...)` is deprecated. Please use `torch.amp.autocast('cuda', args...)` instead.\n",
      "  with torch.cuda.device(device), torch.cuda.stream(stream), autocast(enabled=autocast_enabled):\n",
      "Evaluating: 100%|██████████| 162/162 [00:01<00:00, 97.42batch/s]\n"
     ]
    },
    {
     "name": "stdout",
     "output_type": "stream",
     "text": [
      "\t---> Loss: 1.1518\n",
      "\t---> Accuracy: 0.5004\n",
      "\tClassification Report:\n",
      "              precision    recall  f1-score   support\n",
      "\n",
      "   Left Hand       0.53      0.43      0.47       648\n",
      "  Right Hand       0.51      0.49      0.50       648\n",
      "        Foot       0.45      0.56      0.50       648\n",
      "      Tongue       0.53      0.52      0.53       648\n",
      "\n",
      "    accuracy                           0.50      2592\n",
      "   macro avg       0.50      0.50      0.50      2592\n",
      "weighted avg       0.50      0.50      0.50      2592\n",
      "\n"
     ]
    },
    {
     "name": "stderr",
     "output_type": "stream",
     "text": [
      "Training epoch [42/50]:   0%|          | 0/162 [00:00<?, ?batch/s]/opt/conda/lib/python3.10/site-packages/torch/nn/parallel/parallel_apply.py:79: FutureWarning: `torch.cuda.amp.autocast(args...)` is deprecated. Please use `torch.amp.autocast('cuda', args...)` instead.\n",
      "  with torch.cuda.device(device), torch.cuda.stream(stream), autocast(enabled=autocast_enabled):\n",
      "Training epoch [42/50]: 100%|██████████| 162/162 [00:02<00:00, 61.82batch/s]\n"
     ]
    },
    {
     "name": "stdout",
     "output_type": "stream",
     "text": [
      "\t---> Loss: 1.0052\n",
      "\t---> Accuracy: 0.5772\n"
     ]
    },
    {
     "name": "stderr",
     "output_type": "stream",
     "text": [
      "Evaluating:   0%|          | 0/162 [00:00<?, ?batch/s]/opt/conda/lib/python3.10/site-packages/torch/nn/parallel/parallel_apply.py:79: FutureWarning: `torch.cuda.amp.autocast(args...)` is deprecated. Please use `torch.amp.autocast('cuda', args...)` instead.\n",
      "  with torch.cuda.device(device), torch.cuda.stream(stream), autocast(enabled=autocast_enabled):\n",
      "Evaluating: 100%|██████████| 162/162 [00:01<00:00, 94.78batch/s]\n"
     ]
    },
    {
     "name": "stdout",
     "output_type": "stream",
     "text": [
      "\t---> Loss: 1.1522\n",
      "\t---> Accuracy: 0.5000\n",
      "\tClassification Report:\n",
      "              precision    recall  f1-score   support\n",
      "\n",
      "   Left Hand       0.53      0.44      0.48       648\n",
      "  Right Hand       0.50      0.49      0.50       648\n",
      "        Foot       0.46      0.53      0.49       648\n",
      "      Tongue       0.52      0.54      0.53       648\n",
      "\n",
      "    accuracy                           0.50      2592\n",
      "   macro avg       0.50      0.50      0.50      2592\n",
      "weighted avg       0.50      0.50      0.50      2592\n",
      "\n"
     ]
    },
    {
     "name": "stderr",
     "output_type": "stream",
     "text": [
      "Training epoch [43/50]:   0%|          | 0/162 [00:00<?, ?batch/s]/opt/conda/lib/python3.10/site-packages/torch/nn/parallel/parallel_apply.py:79: FutureWarning: `torch.cuda.amp.autocast(args...)` is deprecated. Please use `torch.amp.autocast('cuda', args...)` instead.\n",
      "  with torch.cuda.device(device), torch.cuda.stream(stream), autocast(enabled=autocast_enabled):\n",
      "Training epoch [43/50]: 100%|██████████| 162/162 [00:02<00:00, 62.61batch/s]\n"
     ]
    },
    {
     "name": "stdout",
     "output_type": "stream",
     "text": [
      "\t---> Loss: 1.0161\n",
      "\t---> Accuracy: 0.5683\n"
     ]
    },
    {
     "name": "stderr",
     "output_type": "stream",
     "text": [
      "Evaluating:   0%|          | 0/162 [00:00<?, ?batch/s]/opt/conda/lib/python3.10/site-packages/torch/nn/parallel/parallel_apply.py:79: FutureWarning: `torch.cuda.amp.autocast(args...)` is deprecated. Please use `torch.amp.autocast('cuda', args...)` instead.\n",
      "  with torch.cuda.device(device), torch.cuda.stream(stream), autocast(enabled=autocast_enabled):\n",
      "Evaluating: 100%|██████████| 162/162 [00:01<00:00, 98.38batch/s] \n"
     ]
    },
    {
     "name": "stdout",
     "output_type": "stream",
     "text": [
      "\t---> Loss: 1.1535\n",
      "\t---> Accuracy: 0.4996\n",
      "\tClassification Report:\n",
      "              precision    recall  f1-score   support\n",
      "\n",
      "   Left Hand       0.53      0.44      0.48       648\n",
      "  Right Hand       0.51      0.47      0.49       648\n",
      "        Foot       0.45      0.57      0.50       648\n",
      "      Tongue       0.54      0.52      0.53       648\n",
      "\n",
      "    accuracy                           0.50      2592\n",
      "   macro avg       0.50      0.50      0.50      2592\n",
      "weighted avg       0.50      0.50      0.50      2592\n",
      "\n"
     ]
    },
    {
     "name": "stderr",
     "output_type": "stream",
     "text": [
      "Training epoch [44/50]:   0%|          | 0/162 [00:00<?, ?batch/s]/opt/conda/lib/python3.10/site-packages/torch/nn/parallel/parallel_apply.py:79: FutureWarning: `torch.cuda.amp.autocast(args...)` is deprecated. Please use `torch.amp.autocast('cuda', args...)` instead.\n",
      "  with torch.cuda.device(device), torch.cuda.stream(stream), autocast(enabled=autocast_enabled):\n",
      "Training epoch [44/50]: 100%|██████████| 162/162 [00:02<00:00, 61.01batch/s]\n"
     ]
    },
    {
     "name": "stdout",
     "output_type": "stream",
     "text": [
      "\t---> Loss: 1.0276\n",
      "\t---> Accuracy: 0.5656\n"
     ]
    },
    {
     "name": "stderr",
     "output_type": "stream",
     "text": [
      "Evaluating:   0%|          | 0/162 [00:00<?, ?batch/s]/opt/conda/lib/python3.10/site-packages/torch/nn/parallel/parallel_apply.py:79: FutureWarning: `torch.cuda.amp.autocast(args...)` is deprecated. Please use `torch.amp.autocast('cuda', args...)` instead.\n",
      "  with torch.cuda.device(device), torch.cuda.stream(stream), autocast(enabled=autocast_enabled):\n",
      "Evaluating: 100%|██████████| 162/162 [00:01<00:00, 98.04batch/s]\n"
     ]
    },
    {
     "name": "stdout",
     "output_type": "stream",
     "text": [
      "\t---> Loss: 1.1653\n",
      "\t---> Accuracy: 0.4973\n",
      "\tClassification Report:\n",
      "              precision    recall  f1-score   support\n",
      "\n",
      "   Left Hand       0.55      0.37      0.44       648\n",
      "  Right Hand       0.50      0.49      0.50       648\n",
      "        Foot       0.45      0.58      0.51       648\n",
      "      Tongue       0.51      0.55      0.53       648\n",
      "\n",
      "    accuracy                           0.50      2592\n",
      "   macro avg       0.50      0.50      0.49      2592\n",
      "weighted avg       0.50      0.50      0.49      2592\n",
      "\n"
     ]
    },
    {
     "name": "stderr",
     "output_type": "stream",
     "text": [
      "Training epoch [45/50]:   0%|          | 0/162 [00:00<?, ?batch/s]/opt/conda/lib/python3.10/site-packages/torch/nn/parallel/parallel_apply.py:79: FutureWarning: `torch.cuda.amp.autocast(args...)` is deprecated. Please use `torch.amp.autocast('cuda', args...)` instead.\n",
      "  with torch.cuda.device(device), torch.cuda.stream(stream), autocast(enabled=autocast_enabled):\n",
      "Training epoch [45/50]: 100%|██████████| 162/162 [00:02<00:00, 57.35batch/s]\n"
     ]
    },
    {
     "name": "stdout",
     "output_type": "stream",
     "text": [
      "\t---> Loss: 1.0143\n",
      "\t---> Accuracy: 0.5687\n"
     ]
    },
    {
     "name": "stderr",
     "output_type": "stream",
     "text": [
      "Evaluating:   0%|          | 0/162 [00:00<?, ?batch/s]/opt/conda/lib/python3.10/site-packages/torch/nn/parallel/parallel_apply.py:79: FutureWarning: `torch.cuda.amp.autocast(args...)` is deprecated. Please use `torch.amp.autocast('cuda', args...)` instead.\n",
      "  with torch.cuda.device(device), torch.cuda.stream(stream), autocast(enabled=autocast_enabled):\n",
      "Evaluating: 100%|██████████| 162/162 [00:01<00:00, 96.03batch/s]\n"
     ]
    },
    {
     "name": "stdout",
     "output_type": "stream",
     "text": [
      "\t---> Loss: 1.1503\n",
      "\t---> Accuracy: 0.4977\n",
      "\tClassification Report:\n",
      "              precision    recall  f1-score   support\n",
      "\n",
      "   Left Hand       0.56      0.41      0.47       648\n",
      "  Right Hand       0.44      0.60      0.51       648\n",
      "        Foot       0.50      0.46      0.48       648\n",
      "      Tongue       0.53      0.52      0.53       648\n",
      "\n",
      "    accuracy                           0.50      2592\n",
      "   macro avg       0.51      0.50      0.50      2592\n",
      "weighted avg       0.51      0.50      0.50      2592\n",
      "\n"
     ]
    },
    {
     "name": "stderr",
     "output_type": "stream",
     "text": [
      "Training epoch [46/50]:   0%|          | 0/162 [00:00<?, ?batch/s]/opt/conda/lib/python3.10/site-packages/torch/nn/parallel/parallel_apply.py:79: FutureWarning: `torch.cuda.amp.autocast(args...)` is deprecated. Please use `torch.amp.autocast('cuda', args...)` instead.\n",
      "  with torch.cuda.device(device), torch.cuda.stream(stream), autocast(enabled=autocast_enabled):\n",
      "Training epoch [46/50]: 100%|██████████| 162/162 [00:02<00:00, 59.04batch/s]\n"
     ]
    },
    {
     "name": "stdout",
     "output_type": "stream",
     "text": [
      "\t---> Loss: 1.0115\n",
      "\t---> Accuracy: 0.5791\n"
     ]
    },
    {
     "name": "stderr",
     "output_type": "stream",
     "text": [
      "Evaluating:   0%|          | 0/162 [00:00<?, ?batch/s]/opt/conda/lib/python3.10/site-packages/torch/nn/parallel/parallel_apply.py:79: FutureWarning: `torch.cuda.amp.autocast(args...)` is deprecated. Please use `torch.amp.autocast('cuda', args...)` instead.\n",
      "  with torch.cuda.device(device), torch.cuda.stream(stream), autocast(enabled=autocast_enabled):\n",
      "Evaluating: 100%|██████████| 162/162 [00:01<00:00, 95.45batch/s]\n"
     ]
    },
    {
     "name": "stdout",
     "output_type": "stream",
     "text": [
      "\t---> Loss: 1.1548\n",
      "\t---> Accuracy: 0.5015\n",
      "\tClassification Report:\n",
      "              precision    recall  f1-score   support\n",
      "\n",
      "   Left Hand       0.56      0.38      0.45       648\n",
      "  Right Hand       0.48      0.54      0.51       648\n",
      "        Foot       0.47      0.53      0.50       648\n",
      "      Tongue       0.52      0.55      0.53       648\n",
      "\n",
      "    accuracy                           0.50      2592\n",
      "   macro avg       0.51      0.50      0.50      2592\n",
      "weighted avg       0.51      0.50      0.50      2592\n",
      "\n"
     ]
    },
    {
     "name": "stderr",
     "output_type": "stream",
     "text": [
      "Training epoch [47/50]:   0%|          | 0/162 [00:00<?, ?batch/s]/opt/conda/lib/python3.10/site-packages/torch/nn/parallel/parallel_apply.py:79: FutureWarning: `torch.cuda.amp.autocast(args...)` is deprecated. Please use `torch.amp.autocast('cuda', args...)` instead.\n",
      "  with torch.cuda.device(device), torch.cuda.stream(stream), autocast(enabled=autocast_enabled):\n",
      "Training epoch [47/50]: 100%|██████████| 162/162 [00:02<00:00, 63.08batch/s]\n"
     ]
    },
    {
     "name": "stdout",
     "output_type": "stream",
     "text": [
      "\t---> Loss: 1.0207\n",
      "\t---> Accuracy: 0.5729\n"
     ]
    },
    {
     "name": "stderr",
     "output_type": "stream",
     "text": [
      "Evaluating:   0%|          | 0/162 [00:00<?, ?batch/s]/opt/conda/lib/python3.10/site-packages/torch/nn/parallel/parallel_apply.py:79: FutureWarning: `torch.cuda.amp.autocast(args...)` is deprecated. Please use `torch.amp.autocast('cuda', args...)` instead.\n",
      "  with torch.cuda.device(device), torch.cuda.stream(stream), autocast(enabled=autocast_enabled):\n",
      "Evaluating: 100%|██████████| 162/162 [00:01<00:00, 98.78batch/s]\n"
     ]
    },
    {
     "name": "stdout",
     "output_type": "stream",
     "text": [
      "\t---> Loss: 1.1570\n",
      "\t---> Accuracy: 0.4958\n",
      "\tClassification Report:\n",
      "              precision    recall  f1-score   support\n",
      "\n",
      "   Left Hand       0.50      0.47      0.48       648\n",
      "  Right Hand       0.53      0.43      0.48       648\n",
      "        Foot       0.44      0.57      0.50       648\n",
      "      Tongue       0.54      0.51      0.52       648\n",
      "\n",
      "    accuracy                           0.50      2592\n",
      "   macro avg       0.50      0.50      0.50      2592\n",
      "weighted avg       0.50      0.50      0.50      2592\n",
      "\n"
     ]
    },
    {
     "name": "stderr",
     "output_type": "stream",
     "text": [
      "Training epoch [48/50]:   0%|          | 0/162 [00:00<?, ?batch/s]/opt/conda/lib/python3.10/site-packages/torch/nn/parallel/parallel_apply.py:79: FutureWarning: `torch.cuda.amp.autocast(args...)` is deprecated. Please use `torch.amp.autocast('cuda', args...)` instead.\n",
      "  with torch.cuda.device(device), torch.cuda.stream(stream), autocast(enabled=autocast_enabled):\n",
      "Training epoch [48/50]: 100%|██████████| 162/162 [00:02<00:00, 61.79batch/s]\n"
     ]
    },
    {
     "name": "stdout",
     "output_type": "stream",
     "text": [
      "\t---> Loss: 1.0126\n",
      "\t---> Accuracy: 0.5714\n"
     ]
    },
    {
     "name": "stderr",
     "output_type": "stream",
     "text": [
      "Evaluating:   0%|          | 0/162 [00:00<?, ?batch/s]/opt/conda/lib/python3.10/site-packages/torch/nn/parallel/parallel_apply.py:79: FutureWarning: `torch.cuda.amp.autocast(args...)` is deprecated. Please use `torch.amp.autocast('cuda', args...)` instead.\n",
      "  with torch.cuda.device(device), torch.cuda.stream(stream), autocast(enabled=autocast_enabled):\n",
      "Evaluating: 100%|██████████| 162/162 [00:01<00:00, 93.62batch/s]\n"
     ]
    },
    {
     "name": "stdout",
     "output_type": "stream",
     "text": [
      "\t---> Loss: 1.1702\n",
      "\t---> Accuracy: 0.4942\n",
      "\tClassification Report:\n",
      "              precision    recall  f1-score   support\n",
      "\n",
      "   Left Hand       0.56      0.37      0.44       648\n",
      "  Right Hand       0.49      0.50      0.50       648\n",
      "        Foot       0.44      0.62      0.51       648\n",
      "      Tongue       0.54      0.49      0.51       648\n",
      "\n",
      "    accuracy                           0.49      2592\n",
      "   macro avg       0.51      0.49      0.49      2592\n",
      "weighted avg       0.51      0.49      0.49      2592\n",
      "\n"
     ]
    },
    {
     "name": "stderr",
     "output_type": "stream",
     "text": [
      "Training epoch [49/50]:   0%|          | 0/162 [00:00<?, ?batch/s]/opt/conda/lib/python3.10/site-packages/torch/nn/parallel/parallel_apply.py:79: FutureWarning: `torch.cuda.amp.autocast(args...)` is deprecated. Please use `torch.amp.autocast('cuda', args...)` instead.\n",
      "  with torch.cuda.device(device), torch.cuda.stream(stream), autocast(enabled=autocast_enabled):\n",
      "Training epoch [49/50]: 100%|██████████| 162/162 [00:02<00:00, 62.63batch/s]\n"
     ]
    },
    {
     "name": "stdout",
     "output_type": "stream",
     "text": [
      "\t---> Loss: 1.0000\n",
      "\t---> Accuracy: 0.5860\n"
     ]
    },
    {
     "name": "stderr",
     "output_type": "stream",
     "text": [
      "Evaluating:   0%|          | 0/162 [00:00<?, ?batch/s]/opt/conda/lib/python3.10/site-packages/torch/nn/parallel/parallel_apply.py:79: FutureWarning: `torch.cuda.amp.autocast(args...)` is deprecated. Please use `torch.amp.autocast('cuda', args...)` instead.\n",
      "  with torch.cuda.device(device), torch.cuda.stream(stream), autocast(enabled=autocast_enabled):\n",
      "Evaluating: 100%|██████████| 162/162 [00:01<00:00, 96.49batch/s]\n"
     ]
    },
    {
     "name": "stdout",
     "output_type": "stream",
     "text": [
      "\t---> Loss: 1.1496\n",
      "\t---> Accuracy: 0.5012\n",
      "\tClassification Report:\n",
      "              precision    recall  f1-score   support\n",
      "\n",
      "   Left Hand       0.53      0.43      0.47       648\n",
      "  Right Hand       0.49      0.51      0.50       648\n",
      "        Foot       0.46      0.54      0.50       648\n",
      "      Tongue       0.54      0.52      0.53       648\n",
      "\n",
      "    accuracy                           0.50      2592\n",
      "   macro avg       0.50      0.50      0.50      2592\n",
      "weighted avg       0.50      0.50      0.50      2592\n",
      "\n"
     ]
    },
    {
     "name": "stderr",
     "output_type": "stream",
     "text": [
      "Training epoch [50/50]:   0%|          | 0/162 [00:00<?, ?batch/s]/opt/conda/lib/python3.10/site-packages/torch/nn/parallel/parallel_apply.py:79: FutureWarning: `torch.cuda.amp.autocast(args...)` is deprecated. Please use `torch.amp.autocast('cuda', args...)` instead.\n",
      "  with torch.cuda.device(device), torch.cuda.stream(stream), autocast(enabled=autocast_enabled):\n",
      "Training epoch [50/50]: 100%|██████████| 162/162 [00:02<00:00, 62.47batch/s]\n"
     ]
    },
    {
     "name": "stdout",
     "output_type": "stream",
     "text": [
      "\t---> Loss: 1.0021\n",
      "\t---> Accuracy: 0.5833\n"
     ]
    },
    {
     "name": "stderr",
     "output_type": "stream",
     "text": [
      "Evaluating:   0%|          | 0/162 [00:00<?, ?batch/s]/opt/conda/lib/python3.10/site-packages/torch/nn/parallel/parallel_apply.py:79: FutureWarning: `torch.cuda.amp.autocast(args...)` is deprecated. Please use `torch.amp.autocast('cuda', args...)` instead.\n",
      "  with torch.cuda.device(device), torch.cuda.stream(stream), autocast(enabled=autocast_enabled):\n",
      "Evaluating: 100%|██████████| 162/162 [00:01<00:00, 97.90batch/s]"
     ]
    },
    {
     "name": "stdout",
     "output_type": "stream",
     "text": [
      "\t---> Loss: 1.1578\n",
      "\t---> Accuracy: 0.4988\n",
      "\tClassification Report:\n",
      "              precision    recall  f1-score   support\n",
      "\n",
      "   Left Hand       0.53      0.41      0.46       648\n",
      "  Right Hand       0.52      0.46      0.49       648\n",
      "        Foot       0.45      0.57      0.50       648\n",
      "      Tongue       0.51      0.56      0.54       648\n",
      "\n",
      "    accuracy                           0.50      2592\n",
      "   macro avg       0.50      0.50      0.50      2592\n",
      "weighted avg       0.50      0.50      0.50      2592\n",
      "\n"
     ]
    },
    {
     "name": "stderr",
     "output_type": "stream",
     "text": [
      "\n"
     ]
    }
   ],
   "source": [
    "save_path = '/kaggle/working/eeg_hero.pth'\n",
    "train_losses, train_acc, test_losses, test_acc = train_model(eeg_net_elite, train_loader, test_loader, criterion, optimizer, save_path, device, epochs=50)"
   ]
  },
  {
   "cell_type": "code",
   "execution_count": 126,
   "metadata": {
    "execution": {
     "iopub.execute_input": "2024-12-10T20:28:42.863561Z",
     "iopub.status.busy": "2024-12-10T20:28:42.863205Z",
     "iopub.status.idle": "2024-12-10T20:28:43.465427Z",
     "shell.execute_reply": "2024-12-10T20:28:43.464529Z",
     "shell.execute_reply.started": "2024-12-10T20:28:42.863532Z"
    },
    "trusted": true
   },
   "outputs": [
    {
     "data": {
      "image/png": "[encoded data removed]",
      "text/plain": [
       "<Figure size 1600x500 with 4 Axes>"
      ]
     },
     "metadata": {},
     "output_type": "display_data"
    }
   ],
   "source": [
    "visualize(train_losses, test_losses, train_acc, test_acc)"
   ]
  },
  {
   "cell_type": "markdown",
   "metadata": {},
   "source": [
    "# Mô hình khác"
   ]
  },
  {
   "cell_type": "code",
   "execution_count": 128,
   "metadata": {
    "execution": {
     "iopub.execute_input": "2024-12-10T20:31:54.783689Z",
     "iopub.status.busy": "2024-12-10T20:31:54.783049Z",
     "iopub.status.idle": "2024-12-10T20:31:54.791229Z",
     "shell.execute_reply": "2024-12-10T20:31:54.790126Z",
     "shell.execute_reply.started": "2024-12-10T20:31:54.783654Z"
    },
    "trusted": true
   },
   "outputs": [],
   "source": [
    "class HybridCNNLSTM(nn.Module):\n",
    "    def __init__(self, num_classes, C=22, T=1875, F1=16, F2=32, hidden_size=64, num_layers=2):\n",
    "        super(HybridCNNLSTM, self).__init__()\n",
    "        \n",
    "        # CNN Block\n",
    "        self.conv1 = nn.Conv2d(1, F1, kernel_size=(1, 64), padding=(0, 32), bias=False)\n",
    "        self.batchnorm1 = nn.BatchNorm2d(F1)\n",
    "        self.conv2 = nn.Conv2d(F1, F2, kernel_size=(C, 1), bias=False)\n",
    "        self.batchnorm2 = nn.BatchNorm2d(F2)\n",
    "        self.pool = nn.AvgPool2d(kernel_size=(1, 4))\n",
    "        \n",
    "        # LSTM Block\n",
    "        self.lstm = nn.LSTM(F2, hidden_size, num_layers=num_layers, batch_first=True, bidirectional=True)\n",
    "        \n",
    "        # Fully Connected Layer\n",
    "        self.fc = nn.Linear(hidden_size * 2, num_classes)  # Bi-LSTM => 2*hidden_size\n",
    "\n",
    "    def forward(self, x):\n",
    "        # CNN Block\n",
    "        x = F.relu(self.batchnorm1(self.conv1(x)))\n",
    "        x = F.relu(self.batchnorm2(self.conv2(x)))\n",
    "        x = self.pool(x)\n",
    "        x = x.squeeze(2)  # Remove channel dimension => (batch, F2, T')\n",
    "        \n",
    "        # LSTM Block\n",
    "        x = x.permute(0, 2, 1)  # (batch, T', F2)\n",
    "        x, _ = self.lstm(x)  # (batch, T', hidden_size * 2)\n",
    "        x = x[:, -1, :]  # Take the last time step\n",
    "        \n",
    "        # Fully Connected Layer\n",
    "        x = self.fc(x)\n",
    "        return x\n"
   ]
  },
  {
   "cell_type": "code",
   "execution_count": 129,
   "metadata": {
    "execution": {
     "iopub.execute_input": "2024-12-10T20:31:55.040008Z",
     "iopub.status.busy": "2024-12-10T20:31:55.039681Z",
     "iopub.status.idle": "2024-12-10T20:31:55.048652Z",
     "shell.execute_reply": "2024-12-10T20:31:55.047724Z",
     "shell.execute_reply.started": "2024-12-10T20:31:55.039977Z"
    },
    "trusted": true
   },
   "outputs": [],
   "source": [
    "hybrid_cnn_lstm = HybridCNNLSTM(num_classes=num_classes)\n",
    "hybrid_cnn_lstm = nn.DataParallel(hybrid_cnn_lstm)\n",
    "\n",
    "optimizer = torch.optim.Adam(hybrid_cnn_lstm.parameters(), lr=lr)"
   ]
  },
  {
   "cell_type": "code",
   "execution_count": 131,
   "metadata": {
    "execution": {
     "iopub.execute_input": "2024-12-10T20:32:10.834269Z",
     "iopub.status.busy": "2024-12-10T20:32:10.833595Z",
     "iopub.status.idle": "2024-12-10T20:32:30.364101Z",
     "shell.execute_reply": "2024-12-10T20:32:30.362809Z",
     "shell.execute_reply.started": "2024-12-10T20:32:10.834236Z"
    },
    "trusted": true
   },
   "outputs": [
    {
     "name": "stderr",
     "output_type": "stream",
     "text": [
      "Training epoch [1/50]: 100%|██████████| 162/162 [00:03<00:00, 44.68batch/s]\n"
     ]
    },
    {
     "name": "stdout",
     "output_type": "stream",
     "text": [
      "\t---> Loss: 1.3896\n",
      "\t---> Accuracy: 0.2539\n"
     ]
    },
    {
     "name": "stderr",
     "output_type": "stream",
     "text": [
      "Evaluating:   0%|          | 0/162 [00:00<?, ?batch/s]/opt/conda/lib/python3.10/site-packages/torch/nn/parallel/parallel_apply.py:79: FutureWarning: `torch.cuda.amp.autocast(args...)` is deprecated. Please use `torch.amp.autocast('cuda', args...)` instead.\n",
      "  with torch.cuda.device(device), torch.cuda.stream(stream), autocast(enabled=autocast_enabled):\n",
      "Evaluating: 100%|██████████| 162/162 [00:01<00:00, 91.10batch/s]\n"
     ]
    },
    {
     "name": "stdout",
     "output_type": "stream",
     "text": [
      "\t---> Loss: 1.3881\n",
      "\t---> Accuracy: 0.2481\n",
      "\tClassification Report:\n",
      "              precision    recall  f1-score   support\n",
      "\n",
      "   Left Hand       0.25      0.46      0.32       648\n",
      "  Right Hand       0.25      0.53      0.34       648\n",
      "        Foot       0.00      0.00      0.00       648\n",
      "      Tongue       0.00      0.00      0.00       648\n",
      "\n",
      "    accuracy                           0.25      2592\n",
      "   macro avg       0.12      0.25      0.17      2592\n",
      "weighted avg       0.12      0.25      0.17      2592\n",
      "\n",
      "Model is saved to  /kaggle/working/hybrid_cnn_lstm.pth\n"
     ]
    },
    {
     "name": "stderr",
     "output_type": "stream",
     "text": [
      "Training epoch [2/50]:   0%|          | 0/162 [00:00<?, ?batch/s]/opt/conda/lib/python3.10/site-packages/torch/nn/parallel/parallel_apply.py:79: FutureWarning: `torch.cuda.amp.autocast(args...)` is deprecated. Please use `torch.amp.autocast('cuda', args...)` instead.\n",
      "  with torch.cuda.device(device), torch.cuda.stream(stream), autocast(enabled=autocast_enabled):\n",
      "Training epoch [2/50]: 100%|██████████| 162/162 [00:03<00:00, 48.55batch/s]\n"
     ]
    },
    {
     "name": "stdout",
     "output_type": "stream",
     "text": [
      "\t---> Loss: 1.3864\n",
      "\t---> Accuracy: 0.2593\n"
     ]
    },
    {
     "name": "stderr",
     "output_type": "stream",
     "text": [
      "Evaluating:   0%|          | 0/162 [00:00<?, ?batch/s]/opt/conda/lib/python3.10/site-packages/torch/nn/parallel/parallel_apply.py:79: FutureWarning: `torch.cuda.amp.autocast(args...)` is deprecated. Please use `torch.amp.autocast('cuda', args...)` instead.\n",
      "  with torch.cuda.device(device), torch.cuda.stream(stream), autocast(enabled=autocast_enabled):\n",
      "Evaluating: 100%|██████████| 162/162 [00:01<00:00, 89.40batch/s]\n"
     ]
    },
    {
     "name": "stdout",
     "output_type": "stream",
     "text": [
      "\t---> Loss: 1.3911\n",
      "\t---> Accuracy: 0.2477\n",
      "\tClassification Report:\n",
      "              precision    recall  f1-score   support\n",
      "\n",
      "   Left Hand       0.33      0.00      0.01       648\n",
      "  Right Hand       0.24      0.06      0.09       648\n",
      "        Foot       0.25      0.40      0.30       648\n",
      "      Tongue       0.25      0.53      0.34       648\n",
      "\n",
      "    accuracy                           0.25      2592\n",
      "   macro avg       0.27      0.25      0.19      2592\n",
      "weighted avg       0.27      0.25      0.19      2592\n",
      "\n"
     ]
    },
    {
     "name": "stderr",
     "output_type": "stream",
     "text": [
      "Training epoch [3/50]:   0%|          | 0/162 [00:00<?, ?batch/s]/opt/conda/lib/python3.10/site-packages/torch/nn/parallel/parallel_apply.py:79: FutureWarning: `torch.cuda.amp.autocast(args...)` is deprecated. Please use `torch.amp.autocast('cuda', args...)` instead.\n",
      "  with torch.cuda.device(device), torch.cuda.stream(stream), autocast(enabled=autocast_enabled):\n",
      "Training epoch [3/50]: 100%|██████████| 162/162 [00:03<00:00, 48.22batch/s]\n"
     ]
    },
    {
     "name": "stdout",
     "output_type": "stream",
     "text": [
      "\t---> Loss: 1.3858\n",
      "\t---> Accuracy: 0.2589\n"
     ]
    },
    {
     "name": "stderr",
     "output_type": "stream",
     "text": [
      "Evaluating:   0%|          | 0/162 [00:00<?, ?batch/s]/opt/conda/lib/python3.10/site-packages/torch/nn/parallel/parallel_apply.py:79: FutureWarning: `torch.cuda.amp.autocast(args...)` is deprecated. Please use `torch.amp.autocast('cuda', args...)` instead.\n",
      "  with torch.cuda.device(device), torch.cuda.stream(stream), autocast(enabled=autocast_enabled):\n",
      "Evaluating: 100%|██████████| 162/162 [00:01<00:00, 91.46batch/s]\n"
     ]
    },
    {
     "name": "stdout",
     "output_type": "stream",
     "text": [
      "\t---> Loss: 1.3914\n",
      "\t---> Accuracy: 0.2473\n",
      "\tClassification Report:\n",
      "              precision    recall  f1-score   support\n",
      "\n",
      "   Left Hand       0.23      0.12      0.16       648\n",
      "  Right Hand       0.25      0.56      0.35       648\n",
      "        Foot       0.00      0.00      0.00       648\n",
      "      Tongue       0.25      0.30      0.27       648\n",
      "\n",
      "    accuracy                           0.25      2592\n",
      "   macro avg       0.18      0.25      0.20      2592\n",
      "weighted avg       0.18      0.25      0.20      2592\n",
      "\n"
     ]
    },
    {
     "name": "stderr",
     "output_type": "stream",
     "text": [
      "Training epoch [4/50]:   0%|          | 0/162 [00:00<?, ?batch/s]/opt/conda/lib/python3.10/site-packages/torch/nn/parallel/parallel_apply.py:79: FutureWarning: `torch.cuda.amp.autocast(args...)` is deprecated. Please use `torch.amp.autocast('cuda', args...)` instead.\n",
      "  with torch.cuda.device(device), torch.cuda.stream(stream), autocast(enabled=autocast_enabled):\n",
      "Training epoch [4/50]:  98%|█████████▊| 158/162 [00:03<00:00, 44.15batch/s]\n"
     ]
    },
    {
     "ename": "KeyboardInterrupt",
     "evalue": "",
     "output_type": "error",
     "traceback": [
      "\u001b[0;31m---------------------------------------------------------------------------\u001b[0m",
      "\u001b[0;31mKeyboardInterrupt\u001b[0m                         Traceback (most recent call last)",
      "Cell \u001b[0;32mIn[131], line 2\u001b[0m\n\u001b[1;32m      1\u001b[0m save_path \u001b[38;5;241m=\u001b[39m \u001b[38;5;124m'\u001b[39m\u001b[38;5;124m/kaggle/working/hybrid_cnn_lstm.pth\u001b[39m\u001b[38;5;124m'\u001b[39m\n\u001b[0;32m----> 2\u001b[0m train_losses, train_acc, test_losses, test_acc \u001b[38;5;241m=\u001b[39m \u001b[43mtrain_model\u001b[49m\u001b[43m(\u001b[49m\u001b[43mhybrid_cnn_lstm\u001b[49m\u001b[43m,\u001b[49m\u001b[43m \u001b[49m\u001b[43mtrain_loader\u001b[49m\u001b[43m,\u001b[49m\u001b[43m \u001b[49m\u001b[43mtest_loader\u001b[49m\u001b[43m,\u001b[49m\u001b[43m \u001b[49m\u001b[43mcriterion\u001b[49m\u001b[43m,\u001b[49m\u001b[43m \u001b[49m\u001b[43moptimizer\u001b[49m\u001b[43m,\u001b[49m\u001b[43m \u001b[49m\u001b[43msave_path\u001b[49m\u001b[43m,\u001b[49m\u001b[43m \u001b[49m\u001b[43mdevice\u001b[49m\u001b[43m,\u001b[49m\u001b[43m \u001b[49m\u001b[43mepochs\u001b[49m\u001b[38;5;241;43m=\u001b[39;49m\u001b[38;5;241;43m50\u001b[39;49m\u001b[43m)\u001b[49m\n",
      "Cell \u001b[0;32mIn[124], line 24\u001b[0m, in \u001b[0;36mtrain_model\u001b[0;34m(model, train_loader, test_loader, criterion, optimizer, save_path, device, epochs, wandb_writer)\u001b[0m\n\u001b[1;32m     22\u001b[0m outputs \u001b[38;5;241m=\u001b[39m model(images)\n\u001b[1;32m     23\u001b[0m loss \u001b[38;5;241m=\u001b[39m criterion(outputs, labels)\n\u001b[0;32m---> 24\u001b[0m \u001b[43mloss\u001b[49m\u001b[38;5;241;43m.\u001b[39;49m\u001b[43mbackward\u001b[49m\u001b[43m(\u001b[49m\u001b[43m)\u001b[49m\n\u001b[1;32m     25\u001b[0m optimizer\u001b[38;5;241m.\u001b[39mstep()\n\u001b[1;32m     26\u001b[0m running_loss \u001b[38;5;241m+\u001b[39m\u001b[38;5;241m=\u001b[39m loss\u001b[38;5;241m.\u001b[39mitem()\n",
      "File \u001b[0;32m/opt/conda/lib/python3.10/site-packages/torch/_tensor.py:521\u001b[0m, in \u001b[0;36mTensor.backward\u001b[0;34m(self, gradient, retain_graph, create_graph, inputs)\u001b[0m\n\u001b[1;32m    511\u001b[0m \u001b[38;5;28;01mif\u001b[39;00m has_torch_function_unary(\u001b[38;5;28mself\u001b[39m):\n\u001b[1;32m    512\u001b[0m     \u001b[38;5;28;01mreturn\u001b[39;00m handle_torch_function(\n\u001b[1;32m    513\u001b[0m         Tensor\u001b[38;5;241m.\u001b[39mbackward,\n\u001b[1;32m    514\u001b[0m         (\u001b[38;5;28mself\u001b[39m,),\n\u001b[0;32m   (...)\u001b[0m\n\u001b[1;32m    519\u001b[0m         inputs\u001b[38;5;241m=\u001b[39minputs,\n\u001b[1;32m    520\u001b[0m     )\n\u001b[0;32m--> 521\u001b[0m \u001b[43mtorch\u001b[49m\u001b[38;5;241;43m.\u001b[39;49m\u001b[43mautograd\u001b[49m\u001b[38;5;241;43m.\u001b[39;49m\u001b[43mbackward\u001b[49m\u001b[43m(\u001b[49m\n\u001b[1;32m    522\u001b[0m \u001b[43m    \u001b[49m\u001b[38;5;28;43mself\u001b[39;49m\u001b[43m,\u001b[49m\u001b[43m \u001b[49m\u001b[43mgradient\u001b[49m\u001b[43m,\u001b[49m\u001b[43m \u001b[49m\u001b[43mretain_graph\u001b[49m\u001b[43m,\u001b[49m\u001b[43m \u001b[49m\u001b[43mcreate_graph\u001b[49m\u001b[43m,\u001b[49m\u001b[43m \u001b[49m\u001b[43minputs\u001b[49m\u001b[38;5;241;43m=\u001b[39;49m\u001b[43minputs\u001b[49m\n\u001b[1;32m    523\u001b[0m \u001b[43m\u001b[49m\u001b[43m)\u001b[49m\n",
      "File \u001b[0;32m/opt/conda/lib/python3.10/site-packages/torch/autograd/__init__.py:289\u001b[0m, in \u001b[0;36mbackward\u001b[0;34m(tensors, grad_tensors, retain_graph, create_graph, grad_variables, inputs)\u001b[0m\n\u001b[1;32m    284\u001b[0m     retain_graph \u001b[38;5;241m=\u001b[39m create_graph\n\u001b[1;32m    286\u001b[0m \u001b[38;5;66;03m# The reason we repeat the same comment below is that\u001b[39;00m\n\u001b[1;32m    287\u001b[0m \u001b[38;5;66;03m# some Python versions print out the first line of a multi-line function\u001b[39;00m\n\u001b[1;32m    288\u001b[0m \u001b[38;5;66;03m# calls in the traceback and some print out the last line\u001b[39;00m\n\u001b[0;32m--> 289\u001b[0m \u001b[43m_engine_run_backward\u001b[49m\u001b[43m(\u001b[49m\n\u001b[1;32m    290\u001b[0m \u001b[43m    \u001b[49m\u001b[43mtensors\u001b[49m\u001b[43m,\u001b[49m\n\u001b[1;32m    291\u001b[0m \u001b[43m    \u001b[49m\u001b[43mgrad_tensors_\u001b[49m\u001b[43m,\u001b[49m\n\u001b[1;32m    292\u001b[0m \u001b[43m    \u001b[49m\u001b[43mretain_graph\u001b[49m\u001b[43m,\u001b[49m\n\u001b[1;32m    293\u001b[0m \u001b[43m    \u001b[49m\u001b[43mcreate_graph\u001b[49m\u001b[43m,\u001b[49m\n\u001b[1;32m    294\u001b[0m \u001b[43m    \u001b[49m\u001b[43minputs\u001b[49m\u001b[43m,\u001b[49m\n\u001b[1;32m    295\u001b[0m \u001b[43m    \u001b[49m\u001b[43mallow_unreachable\u001b[49m\u001b[38;5;241;43m=\u001b[39;49m\u001b[38;5;28;43;01mTrue\u001b[39;49;00m\u001b[43m,\u001b[49m\n\u001b[1;32m    296\u001b[0m \u001b[43m    \u001b[49m\u001b[43maccumulate_grad\u001b[49m\u001b[38;5;241;43m=\u001b[39;49m\u001b[38;5;28;43;01mTrue\u001b[39;49;00m\u001b[43m,\u001b[49m\n\u001b[1;32m    297\u001b[0m \u001b[43m\u001b[49m\u001b[43m)\u001b[49m\n",
      "File \u001b[0;32m/opt/conda/lib/python3.10/site-packages/torch/autograd/graph.py:768\u001b[0m, in \u001b[0;36m_engine_run_backward\u001b[0;34m(t_outputs, *args, **kwargs)\u001b[0m\n\u001b[1;32m    766\u001b[0m     unregister_hooks \u001b[38;5;241m=\u001b[39m _register_logging_hooks_on_whole_graph(t_outputs)\n\u001b[1;32m    767\u001b[0m \u001b[38;5;28;01mtry\u001b[39;00m:\n\u001b[0;32m--> 768\u001b[0m     \u001b[38;5;28;01mreturn\u001b[39;00m \u001b[43mVariable\u001b[49m\u001b[38;5;241;43m.\u001b[39;49m\u001b[43m_execution_engine\u001b[49m\u001b[38;5;241;43m.\u001b[39;49m\u001b[43mrun_backward\u001b[49m\u001b[43m(\u001b[49m\u001b[43m  \u001b[49m\u001b[38;5;66;43;03m# Calls into the C++ engine to run the backward pass\u001b[39;49;00m\n\u001b[1;32m    769\u001b[0m \u001b[43m        \u001b[49m\u001b[43mt_outputs\u001b[49m\u001b[43m,\u001b[49m\u001b[43m \u001b[49m\u001b[38;5;241;43m*\u001b[39;49m\u001b[43margs\u001b[49m\u001b[43m,\u001b[49m\u001b[43m \u001b[49m\u001b[38;5;241;43m*\u001b[39;49m\u001b[38;5;241;43m*\u001b[39;49m\u001b[43mkwargs\u001b[49m\n\u001b[1;32m    770\u001b[0m \u001b[43m    \u001b[49m\u001b[43m)\u001b[49m  \u001b[38;5;66;03m# Calls into the C++ engine to run the backward pass\u001b[39;00m\n\u001b[1;32m    771\u001b[0m \u001b[38;5;28;01mfinally\u001b[39;00m:\n\u001b[1;32m    772\u001b[0m     \u001b[38;5;28;01mif\u001b[39;00m attach_logging_hooks:\n",
      "\u001b[0;31mKeyboardInterrupt\u001b[0m: "
     ]
    }
   ],
   "source": [
    "save_path = '/kaggle/working/hybrid_cnn_lstm.pth'\n",
    "train_losses, train_acc, test_losses, test_acc = train_model(hybrid_cnn_lstm, train_loader, test_loader, criterion, optimizer, save_path, device, epochs=50)"
   ]
  },
  {
   "cell_type": "code",
   "execution_count": null,
   "metadata": {
    "trusted": true
   },
   "outputs": [],
   "source": []
  }
 ],
 "metadata": {
  "kaggle": {
   "accelerator": "nvidiaTeslaT4",
   "dataSources": [
    {
     "datasetId": 1492631,
     "sourceId": 2681658,
     "sourceType": "datasetVersion"
    }
   ],
   "dockerImageVersionId": 30805,
   "isGpuEnabled": true,
   "isInternetEnabled": true,
   "language": "python",
   "sourceType": "notebook"
  },
  "kernelspec": {
   "display_name": "Python 3",
   "language": "python",
   "name": "python3"
  },
  "language_info": {
   "codemirror_mode": {
    "name": "ipython",
    "version": 3
   },
   "file_extension": ".py",
   "mimetype": "text/x-python",
   "name": "python",
   "nbconvert_exporter": "python",
   "pygments_lexer": "ipython3",
   "version": "3.10.14"
  }
 },
 "nbformat": 4,
 "nbformat_minor": 4
}
